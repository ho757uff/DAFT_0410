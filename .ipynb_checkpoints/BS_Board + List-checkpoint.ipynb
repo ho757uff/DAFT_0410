{
 "cells": [
  {
   "cell_type": "code",
   "execution_count": 26,
   "id": "77da12b0",
   "metadata": {},
   "outputs": [
    {
     "name": "stdout",
     "output_type": "stream",
     "text": [
      "Please enter a position to place your ship: A1\n",
      "{'A1': 'x', 'A2': 'o', 'A3': 'o', 'A4': 'o', 'A5': 'o', 'B1': 'o', 'B2': 'o', 'B3': 'o', 'B4': 'o', 'B5': 'o', 'C1': 'o', 'C2': 'o', 'C3': 'o', 'C4': 'o', 'C5': 'o', 'D1': 'o', 'D2': 'o', 'D3': 'o', 'D4': 'o', 'D5': 'o', 'E1': 'o', 'E2': 'o', 'E3': 'o', 'E4': 'o', 'E5': 'o'}\n",
      "Pick a first position to fire at: A6\n",
      "['x', 'o', 'o', 'o', 'o', 'o', 'o', 'o', 'o', 'o', 'o', 'o', 'o', 'o', 'o', 'o', 'o', 'o', 'o', 'o', 'o', 'o', 'o', 'o', 'o']\n",
      "It’s a win! Congratz!\n"
     ]
    }
   ],
   "source": [
    "# Online Python compiler (interpreter) to run Python online.\n",
    "# Write Python 3 code in this online editor and run it.\n",
    "# Online Python compiler (interpreter) to run Python online.\n",
    "# Write Python 3 code in this online editor and run it.\n",
    "\n",
    "board = {\n",
    "    \"A1\": \"o\",\n",
    "    \"A2\": \"o\",\n",
    "    \"A3\": \"o\",\n",
    "    \"A4\": \"o\",\n",
    "    \"A5\": \"o\",\n",
    "    \"B1\": \"o\",\n",
    "    \"B2\": \"o\",\n",
    "    \"B3\": \"o\",\n",
    "    \"B4\": \"o\",\n",
    "    \"B5\": \"o\",\n",
    "    \"C1\": \"o\",\n",
    "    \"C2\": \"o\",\n",
    "    \"C3\": \"o\",\n",
    "    \"C4\": \"o\",\n",
    "    \"C5\": \"o\",\n",
    "    \"D1\": \"o\",\n",
    "    \"D2\": \"o\",\n",
    "    \"D3\": \"o\",\n",
    "    \"D4\": \"o\",\n",
    "    \"D5\": \"o\",\n",
    "    \"E1\": \"o\",\n",
    "    \"E2\": \"o\",\n",
    "    \"E3\": \"o\",\n",
    "    \"E4\": \"o\",\n",
    "    \"E5\": \"o\",\n",
    "}\n",
    "\n",
    "ship_position = input(\"Please enter a position to place your ship: \")\n",
    "for i in board:\n",
    "    board[ship_position] = 'x'\n",
    "print(board)\n",
    "\n",
    "win_condition = False\n",
    "# board_checker = 0\n",
    "\n",
    "turn_shoot = (input(\"Pick a first position to fire at: \"))\n",
    "\n",
    "while win_condition == False:\n",
    "    turn_board_list = list(board.values())\n",
    "    print(turn_board_list)\n",
    "    \n",
    "    for board_checker in board_list:\n",
    "#         board_checker = int(board_checker)\n",
    "        if board_list[0:] != \"x\" and win_condition == False:\n",
    "            win_condition = True\n",
    "            print(\"It’s a win! Congratz!\")\n",
    "            break\n",
    "        else:\n",
    "            input(\"Pick a position to fire at: \")\n",
    "            board_list\n",
    "        \n",
    "            print(board)\n",
    "    "
   ]
  },
  {
   "cell_type": "code",
   "execution_count": null,
   "id": "a83c2886",
   "metadata": {},
   "outputs": [],
   "source": []
  },
  {
   "cell_type": "code",
   "execution_count": null,
   "id": "29f750af",
   "metadata": {},
   "outputs": [],
   "source": []
  },
  {
   "cell_type": "code",
   "execution_count": null,
   "id": "f1cf6cb5",
   "metadata": {},
   "outputs": [],
   "source": []
  }
 ],
 "metadata": {
  "kernelspec": {
   "display_name": "Python 3 (ipykernel)",
   "language": "python",
   "name": "python3"
  },
  "language_info": {
   "codemirror_mode": {
    "name": "ipython",
    "version": 3
   },
   "file_extension": ".py",
   "mimetype": "text/x-python",
   "name": "python",
   "nbconvert_exporter": "python",
   "pygments_lexer": "ipython3",
   "version": "3.9.13"
  }
 },
 "nbformat": 4,
 "nbformat_minor": 5
}
