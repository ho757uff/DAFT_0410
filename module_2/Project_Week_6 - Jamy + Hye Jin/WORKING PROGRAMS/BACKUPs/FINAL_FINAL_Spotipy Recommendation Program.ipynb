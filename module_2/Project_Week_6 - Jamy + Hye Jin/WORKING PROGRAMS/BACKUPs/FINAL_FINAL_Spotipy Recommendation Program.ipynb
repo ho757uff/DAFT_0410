{
 "cells": [
  {
   "cell_type": "code",
   "execution_count": null,
   "metadata": {},
   "outputs": [],
   "source": [
    "#  For project clustering steps:\n",
    "# 1- Load the Pandas data frame songs of the audio features (at least 1000 songs as different as possible).🎹 ----DONE\n",
    "# 2- Standardize the data using Standardscaler ----DONE\n",
    "# 3- Save the scaler for future use on the new user input song, using Pickle. (tomorrow)\n",
    "# 4- Select the number of clusters k.\n",
    "# 5- Adjust k means cluster.\n",
    "# 6- Build the elbow graph to find the best k. (tomorrow)\n",
    "# 7- Use the model with the best k to assign each observation in your data frame to its cluster number using model.predict (add cluster columns to the pandas data frame).\n",
    "# 8- Save the model with the best k as your final model using pickle. (tomorrow)\n",
    "\n",
    "# 📍 For the final product tasks and the full scenario:\n",
    "# 1- Get the song name from the user as input ---------- DONE\n",
    "# 2- Play the input song in the music embed player. ---------- DONE\n",
    "# 3- Get the audio features for this song from the Spotify API using sp.audio_features(trackid). Be careful to keep only the audio features columns.---------- DONE\n",
    "# 4- Load the StandardScaler using Pickle and use it to scale the REQUESTED_SONG.(tomorrow)\n",
    "# 5- Use kmeans_model.predict(new scaled audio dataset for the REQUESTED_SONG) to predict the cluster (label) for the REQUESTED_SONG.\n",
    "# 6- Return a random song from the same cluster that the REQUESTED_SONG belongs to from your data frame and suggest it to the user.\n",
    "# 7- Play it using the built-in music player.\n",
    "# 8*- Try to Streamlit? ☀️ (optional) "
   ]
  },
  {
   "cell_type": "code",
   "execution_count": 1,
   "metadata": {},
   "outputs": [],
   "source": [
    "from stackapi import StackAPI\n",
    "from bs4 import BeautifulSoup\n",
    "import requests as re\n",
    "\n",
    "import pandas as pd\n",
    "import numpy as np\n",
    "\n",
    "from random import randint    \n",
    "from datetime import datetime, timedelta\n",
    "from time import sleep\n",
    "\n",
    "import json\n",
    "import os\n",
    "import spotipy\n",
    "from spotipy.oauth2 import SpotifyClientCredentials\n",
    "import pprint\n",
    "\n",
    "client_id = os.environ.get(\"SPOTIPY_CLIENT_ID\")\n",
    "client_secret = os.environ.get(\"SPOTIPY_CLIENT_SECRET\")\n",
    "\n",
    "sp = spotipy.Spotify(client_credentials_manager=SpotifyClientCredentials())\n",
    "\n",
    "from plotly import express as px\n",
    "from sklearn.cluster import KMeans\n",
    "from sklearn.preprocessing import OneHotEncoder\n",
    "from sklearn.decomposition import PCA\n",
    "from sklearn.preprocessing import StandardScaler\n",
    "from matplotlib import pyplot as plt"
   ]
  },
  {
   "attachments": {},
   "cell_type": "markdown",
   "metadata": {},
   "source": [
    "# ***************************** PART I *****************************"
   ]
  },
  {
   "attachments": {},
   "cell_type": "markdown",
   "metadata": {},
   "source": [
    "## Loading our Songs Database"
   ]
  },
  {
   "cell_type": "code",
   "execution_count": 3,
   "metadata": {},
   "outputs": [
    {
     "data": {
      "text/html": [
       "<div>\n",
       "<style scoped>\n",
       "    .dataframe tbody tr th:only-of-type {\n",
       "        vertical-align: middle;\n",
       "    }\n",
       "\n",
       "    .dataframe tbody tr th {\n",
       "        vertical-align: top;\n",
       "    }\n",
       "\n",
       "    .dataframe thead th {\n",
       "        text-align: right;\n",
       "    }\n",
       "</style>\n",
       "<table border=\"1\" class=\"dataframe\">\n",
       "  <thead>\n",
       "    <tr style=\"text-align: right;\">\n",
       "      <th></th>\n",
       "      <th>danceability</th>\n",
       "      <th>energy</th>\n",
       "      <th>loudness</th>\n",
       "      <th>speechiness</th>\n",
       "      <th>acousticness</th>\n",
       "      <th>instrumentalness</th>\n",
       "      <th>liveness</th>\n",
       "      <th>valence</th>\n",
       "      <th>tempo</th>\n",
       "      <th>id</th>\n",
       "      <th>duration_ms</th>\n",
       "    </tr>\n",
       "  </thead>\n",
       "  <tbody>\n",
       "    <tr>\n",
       "      <th>0</th>\n",
       "      <td>0.531</td>\n",
       "      <td>0.6220</td>\n",
       "      <td>-7.751</td>\n",
       "      <td>0.4470</td>\n",
       "      <td>0.60200</td>\n",
       "      <td>0.000000</td>\n",
       "      <td>0.1180</td>\n",
       "      <td>0.5930</td>\n",
       "      <td>167.758</td>\n",
       "      <td>3SgnYOV9ONL0bIHaAcOYE1</td>\n",
       "      <td>454533</td>\n",
       "    </tr>\n",
       "    <tr>\n",
       "      <th>1</th>\n",
       "      <td>0.634</td>\n",
       "      <td>0.6750</td>\n",
       "      <td>-7.351</td>\n",
       "      <td>0.0926</td>\n",
       "      <td>0.09900</td>\n",
       "      <td>0.000314</td>\n",
       "      <td>0.3620</td>\n",
       "      <td>0.6330</td>\n",
       "      <td>82.183</td>\n",
       "      <td>3IM7zXywZ6sRTtkRjRLxJ8</td>\n",
       "      <td>219866</td>\n",
       "    </tr>\n",
       "    <tr>\n",
       "      <th>2</th>\n",
       "      <td>0.826</td>\n",
       "      <td>0.4900</td>\n",
       "      <td>-10.477</td>\n",
       "      <td>0.0676</td>\n",
       "      <td>0.00916</td>\n",
       "      <td>0.000004</td>\n",
       "      <td>0.0415</td>\n",
       "      <td>0.6270</td>\n",
       "      <td>74.126</td>\n",
       "      <td>75FYqcxt1YEAtqDLrOeIJn</td>\n",
       "      <td>180267</td>\n",
       "    </tr>\n",
       "    <tr>\n",
       "      <th>3</th>\n",
       "      <td>0.525</td>\n",
       "      <td>0.6500</td>\n",
       "      <td>-6.961</td>\n",
       "      <td>0.0683</td>\n",
       "      <td>0.08520</td>\n",
       "      <td>0.133000</td>\n",
       "      <td>0.1330</td>\n",
       "      <td>0.7870</td>\n",
       "      <td>175.913</td>\n",
       "      <td>4p4hyqRFdoiw4EMbEsqBdA</td>\n",
       "      <td>289973</td>\n",
       "    </tr>\n",
       "    <tr>\n",
       "      <th>4</th>\n",
       "      <td>0.731</td>\n",
       "      <td>0.3120</td>\n",
       "      <td>-13.899</td>\n",
       "      <td>0.0816</td>\n",
       "      <td>0.68300</td>\n",
       "      <td>0.879000</td>\n",
       "      <td>0.1040</td>\n",
       "      <td>0.4500</td>\n",
       "      <td>78.001</td>\n",
       "      <td>2Kqb9yoRNsSiHZT26dg2zs</td>\n",
       "      <td>223223</td>\n",
       "    </tr>\n",
       "    <tr>\n",
       "      <th>...</th>\n",
       "      <td>...</td>\n",
       "      <td>...</td>\n",
       "      <td>...</td>\n",
       "      <td>...</td>\n",
       "      <td>...</td>\n",
       "      <td>...</td>\n",
       "      <td>...</td>\n",
       "      <td>...</td>\n",
       "      <td>...</td>\n",
       "      <td>...</td>\n",
       "      <td>...</td>\n",
       "    </tr>\n",
       "    <tr>\n",
       "      <th>8904</th>\n",
       "      <td>0.110</td>\n",
       "      <td>0.1280</td>\n",
       "      <td>-21.281</td>\n",
       "      <td>0.0458</td>\n",
       "      <td>0.97900</td>\n",
       "      <td>0.871000</td>\n",
       "      <td>0.3680</td>\n",
       "      <td>0.0398</td>\n",
       "      <td>81.059</td>\n",
       "      <td>0iEIVX3DPGPX3ESUEXNsQv</td>\n",
       "      <td>649200</td>\n",
       "    </tr>\n",
       "    <tr>\n",
       "      <th>8905</th>\n",
       "      <td>0.102</td>\n",
       "      <td>0.0259</td>\n",
       "      <td>-30.196</td>\n",
       "      <td>0.0444</td>\n",
       "      <td>0.96400</td>\n",
       "      <td>0.864000</td>\n",
       "      <td>0.0972</td>\n",
       "      <td>0.0319</td>\n",
       "      <td>90.128</td>\n",
       "      <td>02dVj5B3vXOjylEFYCCsYQ</td>\n",
       "      <td>644333</td>\n",
       "    </tr>\n",
       "    <tr>\n",
       "      <th>8906</th>\n",
       "      <td>0.106</td>\n",
       "      <td>0.2270</td>\n",
       "      <td>-15.286</td>\n",
       "      <td>0.0462</td>\n",
       "      <td>0.87700</td>\n",
       "      <td>0.738000</td>\n",
       "      <td>0.1120</td>\n",
       "      <td>0.0391</td>\n",
       "      <td>59.940</td>\n",
       "      <td>1t4F79zRBJTwZAzmbO1LI0</td>\n",
       "      <td>530280</td>\n",
       "    </tr>\n",
       "    <tr>\n",
       "      <th>8907</th>\n",
       "      <td>0.237</td>\n",
       "      <td>0.0606</td>\n",
       "      <td>-22.569</td>\n",
       "      <td>0.0374</td>\n",
       "      <td>0.91000</td>\n",
       "      <td>0.939000</td>\n",
       "      <td>0.1310</td>\n",
       "      <td>0.2560</td>\n",
       "      <td>136.284</td>\n",
       "      <td>07xafomqQcYmFJbr4jpfHa</td>\n",
       "      <td>179893</td>\n",
       "    </tr>\n",
       "    <tr>\n",
       "      <th>8908</th>\n",
       "      <td>0.375</td>\n",
       "      <td>0.1210</td>\n",
       "      <td>-23.440</td>\n",
       "      <td>0.0406</td>\n",
       "      <td>0.98400</td>\n",
       "      <td>0.871000</td>\n",
       "      <td>0.0984</td>\n",
       "      <td>0.4530</td>\n",
       "      <td>147.398</td>\n",
       "      <td>0Gh45IbIKOG9IucFfrZqLT</td>\n",
       "      <td>424307</td>\n",
       "    </tr>\n",
       "  </tbody>\n",
       "</table>\n",
       "<p>8909 rows × 11 columns</p>\n",
       "</div>"
      ],
      "text/plain": [
       "      danceability  energy  loudness  speechiness  acousticness  \\\n",
       "0            0.531  0.6220    -7.751       0.4470       0.60200   \n",
       "1            0.634  0.6750    -7.351       0.0926       0.09900   \n",
       "2            0.826  0.4900   -10.477       0.0676       0.00916   \n",
       "3            0.525  0.6500    -6.961       0.0683       0.08520   \n",
       "4            0.731  0.3120   -13.899       0.0816       0.68300   \n",
       "...            ...     ...       ...          ...           ...   \n",
       "8904         0.110  0.1280   -21.281       0.0458       0.97900   \n",
       "8905         0.102  0.0259   -30.196       0.0444       0.96400   \n",
       "8906         0.106  0.2270   -15.286       0.0462       0.87700   \n",
       "8907         0.237  0.0606   -22.569       0.0374       0.91000   \n",
       "8908         0.375  0.1210   -23.440       0.0406       0.98400   \n",
       "\n",
       "      instrumentalness  liveness  valence    tempo                      id  \\\n",
       "0             0.000000    0.1180   0.5930  167.758  3SgnYOV9ONL0bIHaAcOYE1   \n",
       "1             0.000314    0.3620   0.6330   82.183  3IM7zXywZ6sRTtkRjRLxJ8   \n",
       "2             0.000004    0.0415   0.6270   74.126  75FYqcxt1YEAtqDLrOeIJn   \n",
       "3             0.133000    0.1330   0.7870  175.913  4p4hyqRFdoiw4EMbEsqBdA   \n",
       "4             0.879000    0.1040   0.4500   78.001  2Kqb9yoRNsSiHZT26dg2zs   \n",
       "...                ...       ...      ...      ...                     ...   \n",
       "8904          0.871000    0.3680   0.0398   81.059  0iEIVX3DPGPX3ESUEXNsQv   \n",
       "8905          0.864000    0.0972   0.0319   90.128  02dVj5B3vXOjylEFYCCsYQ   \n",
       "8906          0.738000    0.1120   0.0391   59.940  1t4F79zRBJTwZAzmbO1LI0   \n",
       "8907          0.939000    0.1310   0.2560  136.284  07xafomqQcYmFJbr4jpfHa   \n",
       "8908          0.871000    0.0984   0.4530  147.398  0Gh45IbIKOG9IucFfrZqLT   \n",
       "\n",
       "      duration_ms  \n",
       "0          454533  \n",
       "1          219866  \n",
       "2          180267  \n",
       "3          289973  \n",
       "4          223223  \n",
       "...           ...  \n",
       "8904       649200  \n",
       "8905       644333  \n",
       "8906       530280  \n",
       "8907       179893  \n",
       "8908       424307  \n",
       "\n",
       "[8909 rows x 11 columns]"
      ]
     },
     "execution_count": 3,
     "metadata": {},
     "output_type": "execute_result"
    }
   ],
   "source": [
    "df = pd.read_csv('Songs_Database.csv', sep=';')\n",
    "# df.dropna(subset=[\"id\"], inplace=True)\n",
    "df"
   ]
  },
  {
   "cell_type": "code",
   "execution_count": 4,
   "metadata": {},
   "outputs": [
    {
     "data": {
      "text/html": [
       "<div>\n",
       "<style scoped>\n",
       "    .dataframe tbody tr th:only-of-type {\n",
       "        vertical-align: middle;\n",
       "    }\n",
       "\n",
       "    .dataframe tbody tr th {\n",
       "        vertical-align: top;\n",
       "    }\n",
       "\n",
       "    .dataframe thead th {\n",
       "        text-align: right;\n",
       "    }\n",
       "</style>\n",
       "<table border=\"1\" class=\"dataframe\">\n",
       "  <thead>\n",
       "    <tr style=\"text-align: right;\">\n",
       "      <th></th>\n",
       "      <th>danceability</th>\n",
       "      <th>energy</th>\n",
       "      <th>loudness</th>\n",
       "      <th>speechiness</th>\n",
       "      <th>acousticness</th>\n",
       "      <th>instrumentalness</th>\n",
       "      <th>liveness</th>\n",
       "      <th>valence</th>\n",
       "      <th>tempo</th>\n",
       "      <th>duration_ms</th>\n",
       "    </tr>\n",
       "  </thead>\n",
       "  <tbody>\n",
       "    <tr>\n",
       "      <th>0</th>\n",
       "      <td>0.531</td>\n",
       "      <td>0.622</td>\n",
       "      <td>-7.751</td>\n",
       "      <td>0.4470</td>\n",
       "      <td>0.60200</td>\n",
       "      <td>0.000000</td>\n",
       "      <td>0.1180</td>\n",
       "      <td>0.593</td>\n",
       "      <td>167.758</td>\n",
       "      <td>454533</td>\n",
       "    </tr>\n",
       "    <tr>\n",
       "      <th>1</th>\n",
       "      <td>0.634</td>\n",
       "      <td>0.675</td>\n",
       "      <td>-7.351</td>\n",
       "      <td>0.0926</td>\n",
       "      <td>0.09900</td>\n",
       "      <td>0.000314</td>\n",
       "      <td>0.3620</td>\n",
       "      <td>0.633</td>\n",
       "      <td>82.183</td>\n",
       "      <td>219866</td>\n",
       "    </tr>\n",
       "    <tr>\n",
       "      <th>2</th>\n",
       "      <td>0.826</td>\n",
       "      <td>0.490</td>\n",
       "      <td>-10.477</td>\n",
       "      <td>0.0676</td>\n",
       "      <td>0.00916</td>\n",
       "      <td>0.000004</td>\n",
       "      <td>0.0415</td>\n",
       "      <td>0.627</td>\n",
       "      <td>74.126</td>\n",
       "      <td>180267</td>\n",
       "    </tr>\n",
       "    <tr>\n",
       "      <th>3</th>\n",
       "      <td>0.525</td>\n",
       "      <td>0.650</td>\n",
       "      <td>-6.961</td>\n",
       "      <td>0.0683</td>\n",
       "      <td>0.08520</td>\n",
       "      <td>0.133000</td>\n",
       "      <td>0.1330</td>\n",
       "      <td>0.787</td>\n",
       "      <td>175.913</td>\n",
       "      <td>289973</td>\n",
       "    </tr>\n",
       "    <tr>\n",
       "      <th>4</th>\n",
       "      <td>0.731</td>\n",
       "      <td>0.312</td>\n",
       "      <td>-13.899</td>\n",
       "      <td>0.0816</td>\n",
       "      <td>0.68300</td>\n",
       "      <td>0.879000</td>\n",
       "      <td>0.1040</td>\n",
       "      <td>0.450</td>\n",
       "      <td>78.001</td>\n",
       "      <td>223223</td>\n",
       "    </tr>\n",
       "  </tbody>\n",
       "</table>\n",
       "</div>"
      ],
      "text/plain": [
       "   danceability  energy  loudness  speechiness  acousticness  \\\n",
       "0         0.531   0.622    -7.751       0.4470       0.60200   \n",
       "1         0.634   0.675    -7.351       0.0926       0.09900   \n",
       "2         0.826   0.490   -10.477       0.0676       0.00916   \n",
       "3         0.525   0.650    -6.961       0.0683       0.08520   \n",
       "4         0.731   0.312   -13.899       0.0816       0.68300   \n",
       "\n",
       "   instrumentalness  liveness  valence    tempo  duration_ms  \n",
       "0          0.000000    0.1180    0.593  167.758       454533  \n",
       "1          0.000314    0.3620    0.633   82.183       219866  \n",
       "2          0.000004    0.0415    0.627   74.126       180267  \n",
       "3          0.133000    0.1330    0.787  175.913       289973  \n",
       "4          0.879000    0.1040    0.450   78.001       223223  "
      ]
     },
     "execution_count": 4,
     "metadata": {},
     "output_type": "execute_result"
    }
   ],
   "source": [
    "data = df.drop([\"id\"], axis=1)\n",
    "data.head()"
   ]
  },
  {
   "attachments": {},
   "cell_type": "markdown",
   "metadata": {},
   "source": [
    "## Performing Scaling on our Songs_Database"
   ]
  },
  {
   "cell_type": "code",
   "execution_count": 5,
   "metadata": {},
   "outputs": [
    {
     "name": "stdout",
     "output_type": "stream",
     "text": [
      "Original data:\n"
     ]
    },
    {
     "data": {
      "text/html": [
       "<div>\n",
       "<style scoped>\n",
       "    .dataframe tbody tr th:only-of-type {\n",
       "        vertical-align: middle;\n",
       "    }\n",
       "\n",
       "    .dataframe tbody tr th {\n",
       "        vertical-align: top;\n",
       "    }\n",
       "\n",
       "    .dataframe thead th {\n",
       "        text-align: right;\n",
       "    }\n",
       "</style>\n",
       "<table border=\"1\" class=\"dataframe\">\n",
       "  <thead>\n",
       "    <tr style=\"text-align: right;\">\n",
       "      <th></th>\n",
       "      <th>danceability</th>\n",
       "      <th>energy</th>\n",
       "      <th>loudness</th>\n",
       "      <th>speechiness</th>\n",
       "      <th>acousticness</th>\n",
       "      <th>instrumentalness</th>\n",
       "      <th>liveness</th>\n",
       "      <th>valence</th>\n",
       "      <th>tempo</th>\n",
       "      <th>duration_ms</th>\n",
       "    </tr>\n",
       "  </thead>\n",
       "  <tbody>\n",
       "    <tr>\n",
       "      <th>0</th>\n",
       "      <td>0.531</td>\n",
       "      <td>0.622</td>\n",
       "      <td>-7.751</td>\n",
       "      <td>0.4470</td>\n",
       "      <td>0.60200</td>\n",
       "      <td>0.000000</td>\n",
       "      <td>0.1180</td>\n",
       "      <td>0.593</td>\n",
       "      <td>167.758</td>\n",
       "      <td>454533</td>\n",
       "    </tr>\n",
       "    <tr>\n",
       "      <th>1</th>\n",
       "      <td>0.634</td>\n",
       "      <td>0.675</td>\n",
       "      <td>-7.351</td>\n",
       "      <td>0.0926</td>\n",
       "      <td>0.09900</td>\n",
       "      <td>0.000314</td>\n",
       "      <td>0.3620</td>\n",
       "      <td>0.633</td>\n",
       "      <td>82.183</td>\n",
       "      <td>219866</td>\n",
       "    </tr>\n",
       "    <tr>\n",
       "      <th>2</th>\n",
       "      <td>0.826</td>\n",
       "      <td>0.490</td>\n",
       "      <td>-10.477</td>\n",
       "      <td>0.0676</td>\n",
       "      <td>0.00916</td>\n",
       "      <td>0.000004</td>\n",
       "      <td>0.0415</td>\n",
       "      <td>0.627</td>\n",
       "      <td>74.126</td>\n",
       "      <td>180267</td>\n",
       "    </tr>\n",
       "    <tr>\n",
       "      <th>3</th>\n",
       "      <td>0.525</td>\n",
       "      <td>0.650</td>\n",
       "      <td>-6.961</td>\n",
       "      <td>0.0683</td>\n",
       "      <td>0.08520</td>\n",
       "      <td>0.133000</td>\n",
       "      <td>0.1330</td>\n",
       "      <td>0.787</td>\n",
       "      <td>175.913</td>\n",
       "      <td>289973</td>\n",
       "    </tr>\n",
       "    <tr>\n",
       "      <th>4</th>\n",
       "      <td>0.731</td>\n",
       "      <td>0.312</td>\n",
       "      <td>-13.899</td>\n",
       "      <td>0.0816</td>\n",
       "      <td>0.68300</td>\n",
       "      <td>0.879000</td>\n",
       "      <td>0.1040</td>\n",
       "      <td>0.450</td>\n",
       "      <td>78.001</td>\n",
       "      <td>223223</td>\n",
       "    </tr>\n",
       "  </tbody>\n",
       "</table>\n",
       "</div>"
      ],
      "text/plain": [
       "   danceability  energy  loudness  speechiness  acousticness  \\\n",
       "0         0.531   0.622    -7.751       0.4470       0.60200   \n",
       "1         0.634   0.675    -7.351       0.0926       0.09900   \n",
       "2         0.826   0.490   -10.477       0.0676       0.00916   \n",
       "3         0.525   0.650    -6.961       0.0683       0.08520   \n",
       "4         0.731   0.312   -13.899       0.0816       0.68300   \n",
       "\n",
       "   instrumentalness  liveness  valence    tempo  duration_ms  \n",
       "0          0.000000    0.1180    0.593  167.758       454533  \n",
       "1          0.000314    0.3620    0.633   82.183       219866  \n",
       "2          0.000004    0.0415    0.627   74.126       180267  \n",
       "3          0.133000    0.1330    0.787  175.913       289973  \n",
       "4          0.879000    0.1040    0.450   78.001       223223  "
      ]
     },
     "metadata": {},
     "output_type": "display_data"
    },
    {
     "name": "stdout",
     "output_type": "stream",
     "text": [
      "\n",
      "Scaled data:\n"
     ]
    },
    {
     "data": {
      "text/html": [
       "<div>\n",
       "<style scoped>\n",
       "    .dataframe tbody tr th:only-of-type {\n",
       "        vertical-align: middle;\n",
       "    }\n",
       "\n",
       "    .dataframe tbody tr th {\n",
       "        vertical-align: top;\n",
       "    }\n",
       "\n",
       "    .dataframe thead th {\n",
       "        text-align: right;\n",
       "    }\n",
       "</style>\n",
       "<table border=\"1\" class=\"dataframe\">\n",
       "  <thead>\n",
       "    <tr style=\"text-align: right;\">\n",
       "      <th></th>\n",
       "      <th>danceability</th>\n",
       "      <th>energy</th>\n",
       "      <th>loudness</th>\n",
       "      <th>speechiness</th>\n",
       "      <th>acousticness</th>\n",
       "      <th>instrumentalness</th>\n",
       "      <th>liveness</th>\n",
       "      <th>valence</th>\n",
       "      <th>tempo</th>\n",
       "      <th>duration_ms</th>\n",
       "    </tr>\n",
       "  </thead>\n",
       "  <tbody>\n",
       "    <tr>\n",
       "      <th>0</th>\n",
       "      <td>-0.631182</td>\n",
       "      <td>-0.019248</td>\n",
       "      <td>0.031627</td>\n",
       "      <td>3.500481</td>\n",
       "      <td>1.063767</td>\n",
       "      <td>-0.418767</td>\n",
       "      <td>-0.441142</td>\n",
       "      <td>0.483101</td>\n",
       "      <td>1.752283</td>\n",
       "      <td>3.422998</td>\n",
       "    </tr>\n",
       "    <tr>\n",
       "      <th>1</th>\n",
       "      <td>-0.005719</td>\n",
       "      <td>0.202203</td>\n",
       "      <td>0.105814</td>\n",
       "      <td>-0.078552</td>\n",
       "      <td>-0.523765</td>\n",
       "      <td>-0.417627</td>\n",
       "      <td>1.357037</td>\n",
       "      <td>0.647785</td>\n",
       "      <td>-1.364378</td>\n",
       "      <td>-0.019602</td>\n",
       "    </tr>\n",
       "    <tr>\n",
       "      <th>2</th>\n",
       "      <td>1.160192</td>\n",
       "      <td>-0.570786</td>\n",
       "      <td>-0.473962</td>\n",
       "      <td>-0.331023</td>\n",
       "      <td>-0.807312</td>\n",
       "      <td>-0.418751</td>\n",
       "      <td>-1.004915</td>\n",
       "      <td>0.623082</td>\n",
       "      <td>-1.657816</td>\n",
       "      <td>-0.600526</td>\n",
       "    </tr>\n",
       "    <tr>\n",
       "      <th>3</th>\n",
       "      <td>-0.667617</td>\n",
       "      <td>0.097745</td>\n",
       "      <td>0.178147</td>\n",
       "      <td>-0.323954</td>\n",
       "      <td>-0.567320</td>\n",
       "      <td>0.064181</td>\n",
       "      <td>-0.330598</td>\n",
       "      <td>1.281818</td>\n",
       "      <td>2.049291</td>\n",
       "      <td>1.008878</td>\n",
       "    </tr>\n",
       "    <tr>\n",
       "      <th>4</th>\n",
       "      <td>0.583309</td>\n",
       "      <td>-1.314526</td>\n",
       "      <td>-1.108638</td>\n",
       "      <td>-0.189639</td>\n",
       "      <td>1.319413</td>\n",
       "      <td>2.773050</td>\n",
       "      <td>-0.544316</td>\n",
       "      <td>-0.105644</td>\n",
       "      <td>-1.516688</td>\n",
       "      <td>0.029645</td>\n",
       "    </tr>\n",
       "  </tbody>\n",
       "</table>\n",
       "</div>"
      ],
      "text/plain": [
       "   danceability    energy  loudness  speechiness  acousticness  \\\n",
       "0     -0.631182 -0.019248  0.031627     3.500481      1.063767   \n",
       "1     -0.005719  0.202203  0.105814    -0.078552     -0.523765   \n",
       "2      1.160192 -0.570786 -0.473962    -0.331023     -0.807312   \n",
       "3     -0.667617  0.097745  0.178147    -0.323954     -0.567320   \n",
       "4      0.583309 -1.314526 -1.108638    -0.189639      1.319413   \n",
       "\n",
       "   instrumentalness  liveness   valence     tempo  duration_ms  \n",
       "0         -0.418767 -0.441142  0.483101  1.752283     3.422998  \n",
       "1         -0.417627  1.357037  0.647785 -1.364378    -0.019602  \n",
       "2         -0.418751 -1.004915  0.623082 -1.657816    -0.600526  \n",
       "3          0.064181 -0.330598  1.281818  2.049291     1.008878  \n",
       "4          2.773050 -0.544316 -0.105644 -1.516688     0.029645  "
      ]
     },
     "execution_count": 5,
     "metadata": {},
     "output_type": "execute_result"
    }
   ],
   "source": [
    "# Create an instance of StandardScaler\n",
    "scaler = StandardScaler()\n",
    "\n",
    "# Standardize the data using StandardScaler\n",
    "X_normalized = scaler.fit_transform(data[[\"danceability\", \"energy\", \"loudness\", \"speechiness\", \"acousticness\", \"instrumentalness\",\"liveness\",\"valence\",\"tempo\",\"duration_ms\"]])\n",
    "\n",
    "# Print the original data\n",
    "print(\"Original data:\")\n",
    "# print(data.head().to_frame())\n",
    "display(data.head())\n",
    "\n",
    "# Create a DataFrame with the normalized data\n",
    "data_normalized = pd.DataFrame(X_normalized, columns=[\"danceability\", \"energy\", \"loudness\", \"speechiness\", \"acousticness\", \"instrumentalness\",\"liveness\",\"valence\",\"tempo\",\"duration_ms\"])\n",
    "\n",
    "# Print the scaled data\n",
    "print(\"\\nScaled data:\")\n",
    "data_normalized.head()"
   ]
  },
  {
   "cell_type": "code",
   "execution_count": 6,
   "metadata": {},
   "outputs": [
    {
     "name": "stdout",
     "output_type": "stream",
     "text": [
      "Explained variance ratio:\n",
      "[0.38527384 0.11899461 0.1013602  0.09535578 0.08611754 0.07390915\n",
      " 0.05513346 0.04776311 0.02488224 0.01121006]\n",
      "\n",
      "Cumulative variance ratio:\n",
      "[0.38527384 0.50426845 0.60562865 0.70098444 0.78710197 0.86101113\n",
      " 0.91614458 0.96390769 0.98878994 1.        ]\n"
     ]
    }
   ],
   "source": [
    "# Perform PCA on the normalized data\n",
    "pca = PCA(n_components=10)\n",
    "pca.fit(X_normalized)\n",
    "\n",
    "# Get the contribution of each principal component to the data variance\n",
    "# En utilisant pca.explained_variance_ratio_, on peut obtenir une idée de la contribution de chaque composante principale à la variance des données.\n",
    "# Cela peut aider à décider combien de composantes principales utiliser pour réduire la dimensionnalité ou pour d'autres analyses.\n",
    "pca.explained_variance_ratio_\n",
    "\n",
    "# Get the contribution of each principal component to the data variance\n",
    "explained_variance_ratio = pca.explained_variance_ratio_\n",
    "\n",
    "# Print the contribution of each principal component\n",
    "print(\"Explained variance ratio:\")\n",
    "print(explained_variance_ratio)\n",
    "\n",
    "# Calculate the cumulative sum of explained variance ratio\n",
    "# Déterminer combien de composantes principales tu souhaites conserver, en fonction du pourcentage de variance que tu souhaites préserver.\n",
    "# Par exemple, si la somme cumulative atteint 0,95, cela signifie que les composantes principales retenues capturent 95 % de la variance totale des données.\n",
    "np.cumsum(pca.explained_variance_ratio_)\n",
    "\n",
    "# Calculate the cumulative sum of explained variance ratio\n",
    "cumulative_variance_ratio = np.cumsum(explained_variance_ratio)\n",
    "\n",
    "# Print the cumulative sum of explained variance ratio\n",
    "print(\"\\nCumulative variance ratio:\")\n",
    "print(cumulative_variance_ratio)"
   ]
  },
  {
   "attachments": {},
   "cell_type": "markdown",
   "metadata": {},
   "source": [
    "## Save SCALER in file with PICKLE"
   ]
  },
  {
   "cell_type": "code",
   "execution_count": 7,
   "metadata": {},
   "outputs": [],
   "source": [
    "import pickle\n",
    "\n",
    "#Ici, nous ouvrons un fichier nommé \"scaler.pkl\" en mode d'écriture binaire ('wb'), puis nous utilisons pickle.dump() pour écrire l'objet scaler dans le fichier.\n",
    "with open('scaler.pkl', 'wb') as fichier:\n",
    "    pickle.dump(scaler, fichier)"
   ]
  },
  {
   "cell_type": "code",
   "execution_count": 8,
   "metadata": {},
   "outputs": [],
   "source": [
    "# with open(\"Songs_Database.csv\", \"rb\") as f: #don't forget the correct path\n",
    "#      scaler_new = pickle.load(fichier) "
   ]
  },
  {
   "attachments": {},
   "cell_type": "markdown",
   "metadata": {},
   "source": [
    "## Finding out the best number of Clusters to use"
   ]
  },
  {
   "cell_type": "code",
   "execution_count": 9,
   "metadata": {},
   "outputs": [
    {
     "name": "stdout",
     "output_type": "stream",
     "text": [
      "Training a K-Means model with 5 clusters! \n",
      "\n"
     ]
    },
    {
     "name": "stderr",
     "output_type": "stream",
     "text": [
      "c:\\Users\\theya\\anaconda3\\lib\\site-packages\\sklearn\\cluster\\_kmeans.py:870: FutureWarning: The default value of `n_init` will change from 10 to 'auto' in 1.4. Set the value of `n_init` explicitly to suppress the warning\n",
      "  warnings.warn(\n"
     ]
    },
    {
     "name": "stdout",
     "output_type": "stream",
     "text": [
      "Training a K-Means model with 6 clusters! \n",
      "\n"
     ]
    },
    {
     "name": "stderr",
     "output_type": "stream",
     "text": [
      "c:\\Users\\theya\\anaconda3\\lib\\site-packages\\sklearn\\cluster\\_kmeans.py:870: FutureWarning: The default value of `n_init` will change from 10 to 'auto' in 1.4. Set the value of `n_init` explicitly to suppress the warning\n",
      "  warnings.warn(\n"
     ]
    },
    {
     "name": "stdout",
     "output_type": "stream",
     "text": [
      "Training a K-Means model with 7 clusters! \n",
      "\n"
     ]
    },
    {
     "name": "stderr",
     "output_type": "stream",
     "text": [
      "c:\\Users\\theya\\anaconda3\\lib\\site-packages\\sklearn\\cluster\\_kmeans.py:870: FutureWarning: The default value of `n_init` will change from 10 to 'auto' in 1.4. Set the value of `n_init` explicitly to suppress the warning\n",
      "  warnings.warn(\n"
     ]
    },
    {
     "name": "stdout",
     "output_type": "stream",
     "text": [
      "Training a K-Means model with 8 clusters! \n",
      "\n"
     ]
    },
    {
     "name": "stderr",
     "output_type": "stream",
     "text": [
      "c:\\Users\\theya\\anaconda3\\lib\\site-packages\\sklearn\\cluster\\_kmeans.py:870: FutureWarning: The default value of `n_init` will change from 10 to 'auto' in 1.4. Set the value of `n_init` explicitly to suppress the warning\n",
      "  warnings.warn(\n"
     ]
    },
    {
     "name": "stdout",
     "output_type": "stream",
     "text": [
      "Training a K-Means model with 9 clusters! \n",
      "\n"
     ]
    },
    {
     "name": "stderr",
     "output_type": "stream",
     "text": [
      "c:\\Users\\theya\\anaconda3\\lib\\site-packages\\sklearn\\cluster\\_kmeans.py:870: FutureWarning: The default value of `n_init` will change from 10 to 'auto' in 1.4. Set the value of `n_init` explicitly to suppress the warning\n",
      "  warnings.warn(\n"
     ]
    },
    {
     "name": "stdout",
     "output_type": "stream",
     "text": [
      "Training a K-Means model with 10 clusters! \n",
      "\n"
     ]
    },
    {
     "name": "stderr",
     "output_type": "stream",
     "text": [
      "c:\\Users\\theya\\anaconda3\\lib\\site-packages\\sklearn\\cluster\\_kmeans.py:870: FutureWarning: The default value of `n_init` will change from 10 to 'auto' in 1.4. Set the value of `n_init` explicitly to suppress the warning\n",
      "  warnings.warn(\n"
     ]
    },
    {
     "name": "stdout",
     "output_type": "stream",
     "text": [
      "Training a K-Means model with 11 clusters! \n",
      "\n"
     ]
    },
    {
     "name": "stderr",
     "output_type": "stream",
     "text": [
      "c:\\Users\\theya\\anaconda3\\lib\\site-packages\\sklearn\\cluster\\_kmeans.py:870: FutureWarning: The default value of `n_init` will change from 10 to 'auto' in 1.4. Set the value of `n_init` explicitly to suppress the warning\n",
      "  warnings.warn(\n"
     ]
    },
    {
     "name": "stdout",
     "output_type": "stream",
     "text": [
      "Training a K-Means model with 12 clusters! \n",
      "\n"
     ]
    },
    {
     "name": "stderr",
     "output_type": "stream",
     "text": [
      "c:\\Users\\theya\\anaconda3\\lib\\site-packages\\sklearn\\cluster\\_kmeans.py:870: FutureWarning: The default value of `n_init` will change from 10 to 'auto' in 1.4. Set the value of `n_init` explicitly to suppress the warning\n",
      "  warnings.warn(\n"
     ]
    },
    {
     "name": "stdout",
     "output_type": "stream",
     "text": [
      "Training a K-Means model with 13 clusters! \n",
      "\n"
     ]
    },
    {
     "name": "stderr",
     "output_type": "stream",
     "text": [
      "c:\\Users\\theya\\anaconda3\\lib\\site-packages\\sklearn\\cluster\\_kmeans.py:870: FutureWarning: The default value of `n_init` will change from 10 to 'auto' in 1.4. Set the value of `n_init` explicitly to suppress the warning\n",
      "  warnings.warn(\n"
     ]
    },
    {
     "name": "stdout",
     "output_type": "stream",
     "text": [
      "Training a K-Means model with 14 clusters! \n",
      "\n"
     ]
    },
    {
     "name": "stderr",
     "output_type": "stream",
     "text": [
      "c:\\Users\\theya\\anaconda3\\lib\\site-packages\\sklearn\\cluster\\_kmeans.py:870: FutureWarning: The default value of `n_init` will change from 10 to 'auto' in 1.4. Set the value of `n_init` explicitly to suppress the warning\n",
      "  warnings.warn(\n"
     ]
    },
    {
     "name": "stdout",
     "output_type": "stream",
     "text": [
      "Training a K-Means model with 15 clusters! \n",
      "\n"
     ]
    },
    {
     "name": "stderr",
     "output_type": "stream",
     "text": [
      "c:\\Users\\theya\\anaconda3\\lib\\site-packages\\sklearn\\cluster\\_kmeans.py:870: FutureWarning: The default value of `n_init` will change from 10 to 'auto' in 1.4. Set the value of `n_init` explicitly to suppress the warning\n",
      "  warnings.warn(\n"
     ]
    },
    {
     "name": "stdout",
     "output_type": "stream",
     "text": [
      "Training a K-Means model with 16 clusters! \n",
      "\n"
     ]
    },
    {
     "name": "stderr",
     "output_type": "stream",
     "text": [
      "c:\\Users\\theya\\anaconda3\\lib\\site-packages\\sklearn\\cluster\\_kmeans.py:870: FutureWarning: The default value of `n_init` will change from 10 to 'auto' in 1.4. Set the value of `n_init` explicitly to suppress the warning\n",
      "  warnings.warn(\n"
     ]
    },
    {
     "name": "stdout",
     "output_type": "stream",
     "text": [
      "Training a K-Means model with 17 clusters! \n",
      "\n"
     ]
    },
    {
     "name": "stderr",
     "output_type": "stream",
     "text": [
      "c:\\Users\\theya\\anaconda3\\lib\\site-packages\\sklearn\\cluster\\_kmeans.py:870: FutureWarning: The default value of `n_init` will change from 10 to 'auto' in 1.4. Set the value of `n_init` explicitly to suppress the warning\n",
      "  warnings.warn(\n"
     ]
    },
    {
     "name": "stdout",
     "output_type": "stream",
     "text": [
      "Training a K-Means model with 18 clusters! \n",
      "\n"
     ]
    },
    {
     "name": "stderr",
     "output_type": "stream",
     "text": [
      "c:\\Users\\theya\\anaconda3\\lib\\site-packages\\sklearn\\cluster\\_kmeans.py:870: FutureWarning: The default value of `n_init` will change from 10 to 'auto' in 1.4. Set the value of `n_init` explicitly to suppress the warning\n",
      "  warnings.warn(\n"
     ]
    },
    {
     "name": "stdout",
     "output_type": "stream",
     "text": [
      "Training a K-Means model with 19 clusters! \n",
      "\n"
     ]
    },
    {
     "name": "stderr",
     "output_type": "stream",
     "text": [
      "c:\\Users\\theya\\anaconda3\\lib\\site-packages\\sklearn\\cluster\\_kmeans.py:870: FutureWarning: The default value of `n_init` will change from 10 to 'auto' in 1.4. Set the value of `n_init` explicitly to suppress the warning\n",
      "  warnings.warn(\n"
     ]
    },
    {
     "name": "stdout",
     "output_type": "stream",
     "text": [
      "Training a K-Means model with 20 clusters! \n",
      "\n"
     ]
    },
    {
     "name": "stderr",
     "output_type": "stream",
     "text": [
      "c:\\Users\\theya\\anaconda3\\lib\\site-packages\\sklearn\\cluster\\_kmeans.py:870: FutureWarning: The default value of `n_init` will change from 10 to 'auto' in 1.4. Set the value of `n_init` explicitly to suppress the warning\n",
      "  warnings.warn(\n"
     ]
    },
    {
     "name": "stdout",
     "output_type": "stream",
     "text": [
      "Training a K-Means model with 21 clusters! \n",
      "\n"
     ]
    },
    {
     "name": "stderr",
     "output_type": "stream",
     "text": [
      "c:\\Users\\theya\\anaconda3\\lib\\site-packages\\sklearn\\cluster\\_kmeans.py:870: FutureWarning: The default value of `n_init` will change from 10 to 'auto' in 1.4. Set the value of `n_init` explicitly to suppress the warning\n",
      "  warnings.warn(\n"
     ]
    },
    {
     "name": "stdout",
     "output_type": "stream",
     "text": [
      "Training a K-Means model with 22 clusters! \n",
      "\n"
     ]
    },
    {
     "name": "stderr",
     "output_type": "stream",
     "text": [
      "c:\\Users\\theya\\anaconda3\\lib\\site-packages\\sklearn\\cluster\\_kmeans.py:870: FutureWarning: The default value of `n_init` will change from 10 to 'auto' in 1.4. Set the value of `n_init` explicitly to suppress the warning\n",
      "  warnings.warn(\n"
     ]
    },
    {
     "name": "stdout",
     "output_type": "stream",
     "text": [
      "Training a K-Means model with 23 clusters! \n",
      "\n"
     ]
    },
    {
     "name": "stderr",
     "output_type": "stream",
     "text": [
      "c:\\Users\\theya\\anaconda3\\lib\\site-packages\\sklearn\\cluster\\_kmeans.py:870: FutureWarning: The default value of `n_init` will change from 10 to 'auto' in 1.4. Set the value of `n_init` explicitly to suppress the warning\n",
      "  warnings.warn(\n"
     ]
    },
    {
     "name": "stdout",
     "output_type": "stream",
     "text": [
      "Training a K-Means model with 24 clusters! \n",
      "\n"
     ]
    },
    {
     "name": "stderr",
     "output_type": "stream",
     "text": [
      "c:\\Users\\theya\\anaconda3\\lib\\site-packages\\sklearn\\cluster\\_kmeans.py:870: FutureWarning: The default value of `n_init` will change from 10 to 'auto' in 1.4. Set the value of `n_init` explicitly to suppress the warning\n",
      "  warnings.warn(\n"
     ]
    },
    {
     "name": "stdout",
     "output_type": "stream",
     "text": [
      "Training a K-Means model with 25 clusters! \n",
      "\n"
     ]
    },
    {
     "name": "stderr",
     "output_type": "stream",
     "text": [
      "c:\\Users\\theya\\anaconda3\\lib\\site-packages\\sklearn\\cluster\\_kmeans.py:870: FutureWarning: The default value of `n_init` will change from 10 to 'auto' in 1.4. Set the value of `n_init` explicitly to suppress the warning\n",
      "  warnings.warn(\n"
     ]
    },
    {
     "name": "stdout",
     "output_type": "stream",
     "text": [
      "Training a K-Means model with 26 clusters! \n",
      "\n"
     ]
    },
    {
     "name": "stderr",
     "output_type": "stream",
     "text": [
      "c:\\Users\\theya\\anaconda3\\lib\\site-packages\\sklearn\\cluster\\_kmeans.py:870: FutureWarning: The default value of `n_init` will change from 10 to 'auto' in 1.4. Set the value of `n_init` explicitly to suppress the warning\n",
      "  warnings.warn(\n"
     ]
    },
    {
     "name": "stdout",
     "output_type": "stream",
     "text": [
      "Training a K-Means model with 27 clusters! \n",
      "\n"
     ]
    },
    {
     "name": "stderr",
     "output_type": "stream",
     "text": [
      "c:\\Users\\theya\\anaconda3\\lib\\site-packages\\sklearn\\cluster\\_kmeans.py:870: FutureWarning: The default value of `n_init` will change from 10 to 'auto' in 1.4. Set the value of `n_init` explicitly to suppress the warning\n",
      "  warnings.warn(\n"
     ]
    },
    {
     "name": "stdout",
     "output_type": "stream",
     "text": [
      "Training a K-Means model with 28 clusters! \n",
      "\n"
     ]
    },
    {
     "name": "stderr",
     "output_type": "stream",
     "text": [
      "c:\\Users\\theya\\anaconda3\\lib\\site-packages\\sklearn\\cluster\\_kmeans.py:870: FutureWarning: The default value of `n_init` will change from 10 to 'auto' in 1.4. Set the value of `n_init` explicitly to suppress the warning\n",
      "  warnings.warn(\n"
     ]
    },
    {
     "name": "stdout",
     "output_type": "stream",
     "text": [
      "Training a K-Means model with 29 clusters! \n",
      "\n"
     ]
    },
    {
     "name": "stderr",
     "output_type": "stream",
     "text": [
      "c:\\Users\\theya\\anaconda3\\lib\\site-packages\\sklearn\\cluster\\_kmeans.py:870: FutureWarning: The default value of `n_init` will change from 10 to 'auto' in 1.4. Set the value of `n_init` explicitly to suppress the warning\n",
      "  warnings.warn(\n"
     ]
    },
    {
     "data": {
      "text/plain": [
       "Text(0.5, 1.0, 'Elbow Method showing the optimal k')"
      ]
     },
     "execution_count": 9,
     "metadata": {},
     "output_type": "execute_result"
    },
    {
     "data": {
      "image/png": "[encoded data removed]",
      "text/plain": [
       "<Figure size 1600x800 with 1 Axes>"
      ]
     },
     "metadata": {},
     "output_type": "display_data"
    }
   ],
   "source": [
    "K = range(5, 30) #range of the clusters\n",
    "inertia = []\n",
    "\n",
    "for k in K: #for every data in set build a inertia\n",
    "    print(\"Training a K-Means model with {} clusters! \".format(k))\n",
    "    print()\n",
    "    kmeans = KMeans(n_clusters=k,\n",
    "                    random_state=1234)\n",
    "    kmeans.fit(data)\n",
    "    inertia.append(kmeans.inertia_)\n",
    "\n",
    "import numpy as np\n",
    "import matplotlib.pyplot as plt\n",
    "%matplotlib inline\n",
    "\n",
    "plt.figure(figsize=(16,8))\n",
    "plt.plot(K, inertia, 'bx-')\n",
    "plt.xlabel('k')\n",
    "plt.ylabel('inertia')\n",
    "plt.xticks(np.arange(min(K), max(K)+1, 1.0)) #changing the scale\n",
    "plt.title('Elbow Method showing the optimal k') "
   ]
  },
  {
   "attachments": {},
   "cell_type": "markdown",
   "metadata": {},
   "source": [
    "## PCA and KMeans"
   ]
  },
  {
   "cell_type": "code",
   "execution_count": 49,
   "metadata": {},
   "outputs": [
    {
     "name": "stdout",
     "output_type": "stream",
     "text": [
      "\n",
      "Cluster IDs:\n",
      "[69 97 56 ... 84 47  6]\n",
      "\n",
      "Cluster distances:\n",
      "[[5.04860867 6.26687483 7.26796464 ... 6.27013873 6.22740947 5.62755103]\n",
      " [3.66246124 2.16490604 5.96787093 ... 1.042237   2.6547374  3.11938767]\n",
      " [3.83894429 2.21146051 5.84787443 ... 2.66136848 2.19359101 2.96659307]\n",
      " ...\n",
      " [8.61480067 8.23370789 5.31667761 ... 7.94352482 7.95350311 8.36168295]\n",
      " [6.80982753 7.2336223  2.21516621 ... 6.90234497 6.4193873  6.43444131]\n",
      " [6.99010886 7.45613278 3.35448071 ... 7.2974571  6.80305605 6.60515011]]\n"
     ]
    }
   ],
   "source": [
    "# Transform the normalized data using the principal components\n",
    "X_pca = pca.transform(X_normalized)\n",
    "\n",
    "# Apply K-means clustering to the transformed data\n",
    "kmeans = KMeans(n_clusters=100, n_init=12)\n",
    "kmeans.fit(X_pca)\n",
    "cluster_ids = kmeans.predict(X_pca)\n",
    "cluster_distances = kmeans.transform(X_pca)\n",
    "\n",
    "# Print the cluster IDs and distances\n",
    "print(\"\\nCluster IDs:\")\n",
    "print(cluster_ids)\n",
    "print(\"\\nCluster distances:\")\n",
    "print(cluster_distances)"
   ]
  },
  {
   "attachments": {},
   "cell_type": "markdown",
   "metadata": {},
   "source": [
    "## Assigning a cluster to each song"
   ]
  },
  {
   "cell_type": "code",
   "execution_count": 50,
   "metadata": {},
   "outputs": [
    {
     "data": {
      "text/html": [
       "<div>\n",
       "<style scoped>\n",
       "    .dataframe tbody tr th:only-of-type {\n",
       "        vertical-align: middle;\n",
       "    }\n",
       "\n",
       "    .dataframe tbody tr th {\n",
       "        vertical-align: top;\n",
       "    }\n",
       "\n",
       "    .dataframe thead th {\n",
       "        text-align: right;\n",
       "    }\n",
       "</style>\n",
       "<table border=\"1\" class=\"dataframe\">\n",
       "  <thead>\n",
       "    <tr style=\"text-align: right;\">\n",
       "      <th></th>\n",
       "      <th>danceability</th>\n",
       "      <th>energy</th>\n",
       "      <th>loudness</th>\n",
       "      <th>speechiness</th>\n",
       "      <th>acousticness</th>\n",
       "      <th>instrumentalness</th>\n",
       "      <th>liveness</th>\n",
       "      <th>valence</th>\n",
       "      <th>tempo</th>\n",
       "      <th>duration_ms</th>\n",
       "      <th>cluster</th>\n",
       "      <th>id</th>\n",
       "    </tr>\n",
       "  </thead>\n",
       "  <tbody>\n",
       "    <tr>\n",
       "      <th>0</th>\n",
       "      <td>-0.631182</td>\n",
       "      <td>-0.019248</td>\n",
       "      <td>0.031627</td>\n",
       "      <td>3.500481</td>\n",
       "      <td>1.063767</td>\n",
       "      <td>-0.418767</td>\n",
       "      <td>-0.441142</td>\n",
       "      <td>0.483101</td>\n",
       "      <td>1.752283</td>\n",
       "      <td>3.422998</td>\n",
       "      <td>69</td>\n",
       "      <td>3SgnYOV9ONL0bIHaAcOYE1</td>\n",
       "    </tr>\n",
       "    <tr>\n",
       "      <th>1</th>\n",
       "      <td>-0.005719</td>\n",
       "      <td>0.202203</td>\n",
       "      <td>0.105814</td>\n",
       "      <td>-0.078552</td>\n",
       "      <td>-0.523765</td>\n",
       "      <td>-0.417627</td>\n",
       "      <td>1.357037</td>\n",
       "      <td>0.647785</td>\n",
       "      <td>-1.364378</td>\n",
       "      <td>-0.019602</td>\n",
       "      <td>97</td>\n",
       "      <td>3IM7zXywZ6sRTtkRjRLxJ8</td>\n",
       "    </tr>\n",
       "    <tr>\n",
       "      <th>2</th>\n",
       "      <td>1.160192</td>\n",
       "      <td>-0.570786</td>\n",
       "      <td>-0.473962</td>\n",
       "      <td>-0.331023</td>\n",
       "      <td>-0.807312</td>\n",
       "      <td>-0.418751</td>\n",
       "      <td>-1.004915</td>\n",
       "      <td>0.623082</td>\n",
       "      <td>-1.657816</td>\n",
       "      <td>-0.600526</td>\n",
       "      <td>56</td>\n",
       "      <td>75FYqcxt1YEAtqDLrOeIJn</td>\n",
       "    </tr>\n",
       "    <tr>\n",
       "      <th>3</th>\n",
       "      <td>-0.667617</td>\n",
       "      <td>0.097745</td>\n",
       "      <td>0.178147</td>\n",
       "      <td>-0.323954</td>\n",
       "      <td>-0.567320</td>\n",
       "      <td>0.064181</td>\n",
       "      <td>-0.330598</td>\n",
       "      <td>1.281818</td>\n",
       "      <td>2.049291</td>\n",
       "      <td>1.008878</td>\n",
       "      <td>96</td>\n",
       "      <td>4p4hyqRFdoiw4EMbEsqBdA</td>\n",
       "    </tr>\n",
       "    <tr>\n",
       "      <th>4</th>\n",
       "      <td>0.583309</td>\n",
       "      <td>-1.314526</td>\n",
       "      <td>-1.108638</td>\n",
       "      <td>-0.189639</td>\n",
       "      <td>1.319413</td>\n",
       "      <td>2.773050</td>\n",
       "      <td>-0.544316</td>\n",
       "      <td>-0.105644</td>\n",
       "      <td>-1.516688</td>\n",
       "      <td>0.029645</td>\n",
       "      <td>50</td>\n",
       "      <td>2Kqb9yoRNsSiHZT26dg2zs</td>\n",
       "    </tr>\n",
       "    <tr>\n",
       "      <th>...</th>\n",
       "      <td>...</td>\n",
       "      <td>...</td>\n",
       "      <td>...</td>\n",
       "      <td>...</td>\n",
       "      <td>...</td>\n",
       "      <td>...</td>\n",
       "      <td>...</td>\n",
       "      <td>...</td>\n",
       "      <td>...</td>\n",
       "      <td>...</td>\n",
       "      <td>...</td>\n",
       "      <td>...</td>\n",
       "    </tr>\n",
       "    <tr>\n",
       "      <th>8904</th>\n",
       "      <td>-3.187685</td>\n",
       "      <td>-2.083336</td>\n",
       "      <td>-2.477771</td>\n",
       "      <td>-0.551178</td>\n",
       "      <td>2.253627</td>\n",
       "      <td>2.744001</td>\n",
       "      <td>1.401255</td>\n",
       "      <td>-1.794477</td>\n",
       "      <td>-1.405315</td>\n",
       "      <td>6.278792</td>\n",
       "      <td>48</td>\n",
       "      <td>0iEIVX3DPGPX3ESUEXNsQv</td>\n",
       "    </tr>\n",
       "    <tr>\n",
       "      <th>8905</th>\n",
       "      <td>-3.236265</td>\n",
       "      <td>-2.509941</td>\n",
       "      <td>-4.131229</td>\n",
       "      <td>-0.565316</td>\n",
       "      <td>2.206285</td>\n",
       "      <td>2.718582</td>\n",
       "      <td>-0.594429</td>\n",
       "      <td>-1.827002</td>\n",
       "      <td>-1.075020</td>\n",
       "      <td>6.207392</td>\n",
       "      <td>48</td>\n",
       "      <td>02dVj5B3vXOjylEFYCCsYQ</td>\n",
       "    </tr>\n",
       "    <tr>\n",
       "      <th>8906</th>\n",
       "      <td>-3.211975</td>\n",
       "      <td>-1.669682</td>\n",
       "      <td>-1.365884</td>\n",
       "      <td>-0.547139</td>\n",
       "      <td>1.931702</td>\n",
       "      <td>2.261052</td>\n",
       "      <td>-0.485359</td>\n",
       "      <td>-1.797359</td>\n",
       "      <td>-2.174474</td>\n",
       "      <td>4.534217</td>\n",
       "      <td>84</td>\n",
       "      <td>1t4F79zRBJTwZAzmbO1LI0</td>\n",
       "    </tr>\n",
       "    <tr>\n",
       "      <th>8907</th>\n",
       "      <td>-2.416483</td>\n",
       "      <td>-2.364954</td>\n",
       "      <td>-2.716656</td>\n",
       "      <td>-0.636008</td>\n",
       "      <td>2.035854</td>\n",
       "      <td>2.990922</td>\n",
       "      <td>-0.345337</td>\n",
       "      <td>-0.904361</td>\n",
       "      <td>0.605993</td>\n",
       "      <td>-0.606012</td>\n",
       "      <td>47</td>\n",
       "      <td>07xafomqQcYmFJbr4jpfHa</td>\n",
       "    </tr>\n",
       "    <tr>\n",
       "      <th>8908</th>\n",
       "      <td>-1.578485</td>\n",
       "      <td>-2.112584</td>\n",
       "      <td>-2.878199</td>\n",
       "      <td>-0.603692</td>\n",
       "      <td>2.269408</td>\n",
       "      <td>2.744001</td>\n",
       "      <td>-0.585586</td>\n",
       "      <td>-0.093293</td>\n",
       "      <td>1.010767</td>\n",
       "      <td>2.979578</td>\n",
       "      <td>6</td>\n",
       "      <td>0Gh45IbIKOG9IucFfrZqLT</td>\n",
       "    </tr>\n",
       "  </tbody>\n",
       "</table>\n",
       "<p>8909 rows × 12 columns</p>\n",
       "</div>"
      ],
      "text/plain": [
       "      danceability    energy  loudness  speechiness  acousticness  \\\n",
       "0        -0.631182 -0.019248  0.031627     3.500481      1.063767   \n",
       "1        -0.005719  0.202203  0.105814    -0.078552     -0.523765   \n",
       "2         1.160192 -0.570786 -0.473962    -0.331023     -0.807312   \n",
       "3        -0.667617  0.097745  0.178147    -0.323954     -0.567320   \n",
       "4         0.583309 -1.314526 -1.108638    -0.189639      1.319413   \n",
       "...            ...       ...       ...          ...           ...   \n",
       "8904     -3.187685 -2.083336 -2.477771    -0.551178      2.253627   \n",
       "8905     -3.236265 -2.509941 -4.131229    -0.565316      2.206285   \n",
       "8906     -3.211975 -1.669682 -1.365884    -0.547139      1.931702   \n",
       "8907     -2.416483 -2.364954 -2.716656    -0.636008      2.035854   \n",
       "8908     -1.578485 -2.112584 -2.878199    -0.603692      2.269408   \n",
       "\n",
       "      instrumentalness  liveness   valence     tempo  duration_ms  cluster  \\\n",
       "0            -0.418767 -0.441142  0.483101  1.752283     3.422998       69   \n",
       "1            -0.417627  1.357037  0.647785 -1.364378    -0.019602       97   \n",
       "2            -0.418751 -1.004915  0.623082 -1.657816    -0.600526       56   \n",
       "3             0.064181 -0.330598  1.281818  2.049291     1.008878       96   \n",
       "4             2.773050 -0.544316 -0.105644 -1.516688     0.029645       50   \n",
       "...                ...       ...       ...       ...          ...      ...   \n",
       "8904          2.744001  1.401255 -1.794477 -1.405315     6.278792       48   \n",
       "8905          2.718582 -0.594429 -1.827002 -1.075020     6.207392       48   \n",
       "8906          2.261052 -0.485359 -1.797359 -2.174474     4.534217       84   \n",
       "8907          2.990922 -0.345337 -0.904361  0.605993    -0.606012       47   \n",
       "8908          2.744001 -0.585586 -0.093293  1.010767     2.979578        6   \n",
       "\n",
       "                          id  \n",
       "0     3SgnYOV9ONL0bIHaAcOYE1  \n",
       "1     3IM7zXywZ6sRTtkRjRLxJ8  \n",
       "2     75FYqcxt1YEAtqDLrOeIJn  \n",
       "3     4p4hyqRFdoiw4EMbEsqBdA  \n",
       "4     2Kqb9yoRNsSiHZT26dg2zs  \n",
       "...                      ...  \n",
       "8904  0iEIVX3DPGPX3ESUEXNsQv  \n",
       "8905  02dVj5B3vXOjylEFYCCsYQ  \n",
       "8906  1t4F79zRBJTwZAzmbO1LI0  \n",
       "8907  07xafomqQcYmFJbr4jpfHa  \n",
       "8908  0Gh45IbIKOG9IucFfrZqLT  \n",
       "\n",
       "[8909 rows x 12 columns]"
      ]
     },
     "execution_count": 50,
     "metadata": {},
     "output_type": "execute_result"
    }
   ],
   "source": [
    "data_normalized['cluster'] = cluster_ids\n",
    "data_normalized"
   ]
  },
  {
   "cell_type": "code",
   "execution_count": 51,
   "metadata": {},
   "outputs": [
    {
     "data": {
      "text/html": [
       "<div>\n",
       "<style scoped>\n",
       "    .dataframe tbody tr th:only-of-type {\n",
       "        vertical-align: middle;\n",
       "    }\n",
       "\n",
       "    .dataframe tbody tr th {\n",
       "        vertical-align: top;\n",
       "    }\n",
       "\n",
       "    .dataframe thead th {\n",
       "        text-align: right;\n",
       "    }\n",
       "</style>\n",
       "<table border=\"1\" class=\"dataframe\">\n",
       "  <thead>\n",
       "    <tr style=\"text-align: right;\">\n",
       "      <th></th>\n",
       "      <th>danceability</th>\n",
       "      <th>energy</th>\n",
       "      <th>loudness</th>\n",
       "      <th>speechiness</th>\n",
       "      <th>acousticness</th>\n",
       "      <th>instrumentalness</th>\n",
       "      <th>liveness</th>\n",
       "      <th>valence</th>\n",
       "      <th>tempo</th>\n",
       "      <th>duration_ms</th>\n",
       "    </tr>\n",
       "  </thead>\n",
       "  <tbody>\n",
       "    <tr>\n",
       "      <th>0</th>\n",
       "      <td>0.531</td>\n",
       "      <td>0.622</td>\n",
       "      <td>-7.751</td>\n",
       "      <td>0.4470</td>\n",
       "      <td>0.60200</td>\n",
       "      <td>0.000000</td>\n",
       "      <td>0.1180</td>\n",
       "      <td>0.593</td>\n",
       "      <td>167.758</td>\n",
       "      <td>454533</td>\n",
       "    </tr>\n",
       "    <tr>\n",
       "      <th>1</th>\n",
       "      <td>0.634</td>\n",
       "      <td>0.675</td>\n",
       "      <td>-7.351</td>\n",
       "      <td>0.0926</td>\n",
       "      <td>0.09900</td>\n",
       "      <td>0.000314</td>\n",
       "      <td>0.3620</td>\n",
       "      <td>0.633</td>\n",
       "      <td>82.183</td>\n",
       "      <td>219866</td>\n",
       "    </tr>\n",
       "    <tr>\n",
       "      <th>2</th>\n",
       "      <td>0.826</td>\n",
       "      <td>0.490</td>\n",
       "      <td>-10.477</td>\n",
       "      <td>0.0676</td>\n",
       "      <td>0.00916</td>\n",
       "      <td>0.000004</td>\n",
       "      <td>0.0415</td>\n",
       "      <td>0.627</td>\n",
       "      <td>74.126</td>\n",
       "      <td>180267</td>\n",
       "    </tr>\n",
       "    <tr>\n",
       "      <th>3</th>\n",
       "      <td>0.525</td>\n",
       "      <td>0.650</td>\n",
       "      <td>-6.961</td>\n",
       "      <td>0.0683</td>\n",
       "      <td>0.08520</td>\n",
       "      <td>0.133000</td>\n",
       "      <td>0.1330</td>\n",
       "      <td>0.787</td>\n",
       "      <td>175.913</td>\n",
       "      <td>289973</td>\n",
       "    </tr>\n",
       "    <tr>\n",
       "      <th>4</th>\n",
       "      <td>0.731</td>\n",
       "      <td>0.312</td>\n",
       "      <td>-13.899</td>\n",
       "      <td>0.0816</td>\n",
       "      <td>0.68300</td>\n",
       "      <td>0.879000</td>\n",
       "      <td>0.1040</td>\n",
       "      <td>0.450</td>\n",
       "      <td>78.001</td>\n",
       "      <td>223223</td>\n",
       "    </tr>\n",
       "  </tbody>\n",
       "</table>\n",
       "</div>"
      ],
      "text/plain": [
       "   danceability  energy  loudness  speechiness  acousticness  \\\n",
       "0         0.531   0.622    -7.751       0.4470       0.60200   \n",
       "1         0.634   0.675    -7.351       0.0926       0.09900   \n",
       "2         0.826   0.490   -10.477       0.0676       0.00916   \n",
       "3         0.525   0.650    -6.961       0.0683       0.08520   \n",
       "4         0.731   0.312   -13.899       0.0816       0.68300   \n",
       "\n",
       "   instrumentalness  liveness  valence    tempo  duration_ms  \n",
       "0          0.000000    0.1180    0.593  167.758       454533  \n",
       "1          0.000314    0.3620    0.633   82.183       219866  \n",
       "2          0.000004    0.0415    0.627   74.126       180267  \n",
       "3          0.133000    0.1330    0.787  175.913       289973  \n",
       "4          0.879000    0.1040    0.450   78.001       223223  "
      ]
     },
     "execution_count": 51,
     "metadata": {},
     "output_type": "execute_result"
    }
   ],
   "source": [
    "data.head()"
   ]
  },
  {
   "cell_type": "code",
   "execution_count": 52,
   "metadata": {},
   "outputs": [
    {
     "data": {
      "text/html": [
       "<div>\n",
       "<style scoped>\n",
       "    .dataframe tbody tr th:only-of-type {\n",
       "        vertical-align: middle;\n",
       "    }\n",
       "\n",
       "    .dataframe tbody tr th {\n",
       "        vertical-align: top;\n",
       "    }\n",
       "\n",
       "    .dataframe thead th {\n",
       "        text-align: right;\n",
       "    }\n",
       "</style>\n",
       "<table border=\"1\" class=\"dataframe\">\n",
       "  <thead>\n",
       "    <tr style=\"text-align: right;\">\n",
       "      <th></th>\n",
       "      <th>danceability</th>\n",
       "      <th>energy</th>\n",
       "      <th>loudness</th>\n",
       "      <th>speechiness</th>\n",
       "      <th>acousticness</th>\n",
       "      <th>instrumentalness</th>\n",
       "      <th>liveness</th>\n",
       "      <th>valence</th>\n",
       "      <th>tempo</th>\n",
       "      <th>duration_ms</th>\n",
       "      <th>cluster</th>\n",
       "      <th>id</th>\n",
       "    </tr>\n",
       "  </thead>\n",
       "  <tbody>\n",
       "    <tr>\n",
       "      <th>0</th>\n",
       "      <td>-0.631182</td>\n",
       "      <td>-0.019248</td>\n",
       "      <td>0.031627</td>\n",
       "      <td>3.500481</td>\n",
       "      <td>1.063767</td>\n",
       "      <td>-0.418767</td>\n",
       "      <td>-0.441142</td>\n",
       "      <td>0.483101</td>\n",
       "      <td>1.752283</td>\n",
       "      <td>3.422998</td>\n",
       "      <td>69</td>\n",
       "      <td>3SgnYOV9ONL0bIHaAcOYE1</td>\n",
       "    </tr>\n",
       "    <tr>\n",
       "      <th>1</th>\n",
       "      <td>-0.005719</td>\n",
       "      <td>0.202203</td>\n",
       "      <td>0.105814</td>\n",
       "      <td>-0.078552</td>\n",
       "      <td>-0.523765</td>\n",
       "      <td>-0.417627</td>\n",
       "      <td>1.357037</td>\n",
       "      <td>0.647785</td>\n",
       "      <td>-1.364378</td>\n",
       "      <td>-0.019602</td>\n",
       "      <td>97</td>\n",
       "      <td>3IM7zXywZ6sRTtkRjRLxJ8</td>\n",
       "    </tr>\n",
       "    <tr>\n",
       "      <th>2</th>\n",
       "      <td>1.160192</td>\n",
       "      <td>-0.570786</td>\n",
       "      <td>-0.473962</td>\n",
       "      <td>-0.331023</td>\n",
       "      <td>-0.807312</td>\n",
       "      <td>-0.418751</td>\n",
       "      <td>-1.004915</td>\n",
       "      <td>0.623082</td>\n",
       "      <td>-1.657816</td>\n",
       "      <td>-0.600526</td>\n",
       "      <td>56</td>\n",
       "      <td>75FYqcxt1YEAtqDLrOeIJn</td>\n",
       "    </tr>\n",
       "    <tr>\n",
       "      <th>3</th>\n",
       "      <td>-0.667617</td>\n",
       "      <td>0.097745</td>\n",
       "      <td>0.178147</td>\n",
       "      <td>-0.323954</td>\n",
       "      <td>-0.567320</td>\n",
       "      <td>0.064181</td>\n",
       "      <td>-0.330598</td>\n",
       "      <td>1.281818</td>\n",
       "      <td>2.049291</td>\n",
       "      <td>1.008878</td>\n",
       "      <td>96</td>\n",
       "      <td>4p4hyqRFdoiw4EMbEsqBdA</td>\n",
       "    </tr>\n",
       "    <tr>\n",
       "      <th>4</th>\n",
       "      <td>0.583309</td>\n",
       "      <td>-1.314526</td>\n",
       "      <td>-1.108638</td>\n",
       "      <td>-0.189639</td>\n",
       "      <td>1.319413</td>\n",
       "      <td>2.773050</td>\n",
       "      <td>-0.544316</td>\n",
       "      <td>-0.105644</td>\n",
       "      <td>-1.516688</td>\n",
       "      <td>0.029645</td>\n",
       "      <td>50</td>\n",
       "      <td>2Kqb9yoRNsSiHZT26dg2zs</td>\n",
       "    </tr>\n",
       "    <tr>\n",
       "      <th>...</th>\n",
       "      <td>...</td>\n",
       "      <td>...</td>\n",
       "      <td>...</td>\n",
       "      <td>...</td>\n",
       "      <td>...</td>\n",
       "      <td>...</td>\n",
       "      <td>...</td>\n",
       "      <td>...</td>\n",
       "      <td>...</td>\n",
       "      <td>...</td>\n",
       "      <td>...</td>\n",
       "      <td>...</td>\n",
       "    </tr>\n",
       "    <tr>\n",
       "      <th>8904</th>\n",
       "      <td>-3.187685</td>\n",
       "      <td>-2.083336</td>\n",
       "      <td>-2.477771</td>\n",
       "      <td>-0.551178</td>\n",
       "      <td>2.253627</td>\n",
       "      <td>2.744001</td>\n",
       "      <td>1.401255</td>\n",
       "      <td>-1.794477</td>\n",
       "      <td>-1.405315</td>\n",
       "      <td>6.278792</td>\n",
       "      <td>48</td>\n",
       "      <td>0iEIVX3DPGPX3ESUEXNsQv</td>\n",
       "    </tr>\n",
       "    <tr>\n",
       "      <th>8905</th>\n",
       "      <td>-3.236265</td>\n",
       "      <td>-2.509941</td>\n",
       "      <td>-4.131229</td>\n",
       "      <td>-0.565316</td>\n",
       "      <td>2.206285</td>\n",
       "      <td>2.718582</td>\n",
       "      <td>-0.594429</td>\n",
       "      <td>-1.827002</td>\n",
       "      <td>-1.075020</td>\n",
       "      <td>6.207392</td>\n",
       "      <td>48</td>\n",
       "      <td>02dVj5B3vXOjylEFYCCsYQ</td>\n",
       "    </tr>\n",
       "    <tr>\n",
       "      <th>8906</th>\n",
       "      <td>-3.211975</td>\n",
       "      <td>-1.669682</td>\n",
       "      <td>-1.365884</td>\n",
       "      <td>-0.547139</td>\n",
       "      <td>1.931702</td>\n",
       "      <td>2.261052</td>\n",
       "      <td>-0.485359</td>\n",
       "      <td>-1.797359</td>\n",
       "      <td>-2.174474</td>\n",
       "      <td>4.534217</td>\n",
       "      <td>84</td>\n",
       "      <td>1t4F79zRBJTwZAzmbO1LI0</td>\n",
       "    </tr>\n",
       "    <tr>\n",
       "      <th>8907</th>\n",
       "      <td>-2.416483</td>\n",
       "      <td>-2.364954</td>\n",
       "      <td>-2.716656</td>\n",
       "      <td>-0.636008</td>\n",
       "      <td>2.035854</td>\n",
       "      <td>2.990922</td>\n",
       "      <td>-0.345337</td>\n",
       "      <td>-0.904361</td>\n",
       "      <td>0.605993</td>\n",
       "      <td>-0.606012</td>\n",
       "      <td>47</td>\n",
       "      <td>07xafomqQcYmFJbr4jpfHa</td>\n",
       "    </tr>\n",
       "    <tr>\n",
       "      <th>8908</th>\n",
       "      <td>-1.578485</td>\n",
       "      <td>-2.112584</td>\n",
       "      <td>-2.878199</td>\n",
       "      <td>-0.603692</td>\n",
       "      <td>2.269408</td>\n",
       "      <td>2.744001</td>\n",
       "      <td>-0.585586</td>\n",
       "      <td>-0.093293</td>\n",
       "      <td>1.010767</td>\n",
       "      <td>2.979578</td>\n",
       "      <td>6</td>\n",
       "      <td>0Gh45IbIKOG9IucFfrZqLT</td>\n",
       "    </tr>\n",
       "  </tbody>\n",
       "</table>\n",
       "<p>8909 rows × 12 columns</p>\n",
       "</div>"
      ],
      "text/plain": [
       "      danceability    energy  loudness  speechiness  acousticness  \\\n",
       "0        -0.631182 -0.019248  0.031627     3.500481      1.063767   \n",
       "1        -0.005719  0.202203  0.105814    -0.078552     -0.523765   \n",
       "2         1.160192 -0.570786 -0.473962    -0.331023     -0.807312   \n",
       "3        -0.667617  0.097745  0.178147    -0.323954     -0.567320   \n",
       "4         0.583309 -1.314526 -1.108638    -0.189639      1.319413   \n",
       "...            ...       ...       ...          ...           ...   \n",
       "8904     -3.187685 -2.083336 -2.477771    -0.551178      2.253627   \n",
       "8905     -3.236265 -2.509941 -4.131229    -0.565316      2.206285   \n",
       "8906     -3.211975 -1.669682 -1.365884    -0.547139      1.931702   \n",
       "8907     -2.416483 -2.364954 -2.716656    -0.636008      2.035854   \n",
       "8908     -1.578485 -2.112584 -2.878199    -0.603692      2.269408   \n",
       "\n",
       "      instrumentalness  liveness   valence     tempo  duration_ms  cluster  \\\n",
       "0            -0.418767 -0.441142  0.483101  1.752283     3.422998       69   \n",
       "1            -0.417627  1.357037  0.647785 -1.364378    -0.019602       97   \n",
       "2            -0.418751 -1.004915  0.623082 -1.657816    -0.600526       56   \n",
       "3             0.064181 -0.330598  1.281818  2.049291     1.008878       96   \n",
       "4             2.773050 -0.544316 -0.105644 -1.516688     0.029645       50   \n",
       "...                ...       ...       ...       ...          ...      ...   \n",
       "8904          2.744001  1.401255 -1.794477 -1.405315     6.278792       48   \n",
       "8905          2.718582 -0.594429 -1.827002 -1.075020     6.207392       48   \n",
       "8906          2.261052 -0.485359 -1.797359 -2.174474     4.534217       84   \n",
       "8907          2.990922 -0.345337 -0.904361  0.605993    -0.606012       47   \n",
       "8908          2.744001 -0.585586 -0.093293  1.010767     2.979578        6   \n",
       "\n",
       "                          id  \n",
       "0     3SgnYOV9ONL0bIHaAcOYE1  \n",
       "1     3IM7zXywZ6sRTtkRjRLxJ8  \n",
       "2     75FYqcxt1YEAtqDLrOeIJn  \n",
       "3     4p4hyqRFdoiw4EMbEsqBdA  \n",
       "4     2Kqb9yoRNsSiHZT26dg2zs  \n",
       "...                      ...  \n",
       "8904  0iEIVX3DPGPX3ESUEXNsQv  \n",
       "8905  02dVj5B3vXOjylEFYCCsYQ  \n",
       "8906  1t4F79zRBJTwZAzmbO1LI0  \n",
       "8907  07xafomqQcYmFJbr4jpfHa  \n",
       "8908  0Gh45IbIKOG9IucFfrZqLT  \n",
       "\n",
       "[8909 rows x 12 columns]"
      ]
     },
     "execution_count": 52,
     "metadata": {},
     "output_type": "execute_result"
    }
   ],
   "source": [
    "data_normalized.reset_index(drop=True, inplace=True)  # Restaurer l'index d'origine\n",
    "column = df.loc[:, \"id\"]\n",
    "data_normalized[\"id\"] = column\n",
    "\n",
    "data_normalized"
   ]
  },
  {
   "attachments": {},
   "cell_type": "markdown",
   "metadata": {},
   "source": [
    "## 8- Saving model with best K as final model using Pickle"
   ]
  },
  {
   "cell_type": "code",
   "execution_count": 53,
   "metadata": {},
   "outputs": [
    {
     "name": "stderr",
     "output_type": "stream",
     "text": [
      "c:\\Users\\theya\\anaconda3\\lib\\site-packages\\sklearn\\cluster\\_kmeans.py:870: FutureWarning: The default value of `n_init` will change from 10 to 'auto' in 1.4. Set the value of `n_init` explicitly to suppress the warning\n",
      "  warnings.warn(\n"
     ]
    }
   ],
   "source": [
    "meilleur_k = 14  # Remplacez par le meilleur k que vous avez sélectionné\n",
    "kmeans_final = KMeans(n_clusters=meilleur_k)\n",
    "\n",
    "kmeans_final.fit(X_pca)  # Remplacez X_pca par vos données normalisées\n",
    "\n",
    "# Définir le nom du fichier pour sauvegarder le modèle\n",
    "nom_fichier_modele = \"k_means_final_model.pkl\"\n",
    "\n",
    "# Sauvegarder le modèle avec Pickle\n",
    "with open(nom_fichier_modele, 'wb') as fichier:\n",
    "    pickle.dump(kmeans_final, fichier)"
   ]
  },
  {
   "cell_type": "code",
   "execution_count": 54,
   "metadata": {},
   "outputs": [
    {
     "data": {
      "image/png": "[encoded data removed]",
      "text/plain": [
       "<Figure size 640x480 with 1 Axes>"
      ]
     },
     "metadata": {},
     "output_type": "display_data"
    }
   ],
   "source": [
    "# Itèrer sur les identifiants uniques de cluster dans cluster_ids sur ces identifiants pour tracer un nuage de points pour chaque cluster.\n",
    "\n",
    "for c in np.unique(cluster_ids):\n",
    "    plt.scatter(X_pca[cluster_ids == c, 0], X_pca[cluster_ids == c, 1], marker='.', s=50)"
   ]
  },
  {
   "cell_type": "code",
   "execution_count": 55,
   "metadata": {},
   "outputs": [
    {
     "data": {
      "image/png": "[encoded data removed]",
      "text/plain": [
       "<Figure size 640x480 with 1 Axes>"
      ]
     },
     "metadata": {},
     "output_type": "display_data"
    }
   ],
   "source": [
    "#Utilisation de fit_predict de KMeans pour effectuer à la fois l'ajustement du modèle K-means \n",
    "# et la prédiction des clusters pour les données normalisées X_normalized.\n",
    "cluster_ids = KMeans(n_clusters=9, n_init=100).fit_predict(X_normalized)\n",
    "\n",
    "for c in np.unique(cluster_ids):\n",
    "    plt.scatter(X_normalized[cluster_ids == c, 0], X_normalized[cluster_ids == c, 1], marker='.', s=50)\n",
    "\n",
    "plt.show()"
   ]
  },
  {
   "cell_type": "code",
   "execution_count": 56,
   "metadata": {},
   "outputs": [
    {
     "data": {
      "image/png": "[encoded data removed]",
      "text/plain": [
       "<Figure size 640x480 with 1 Axes>"
      ]
     },
     "metadata": {},
     "output_type": "display_data"
    }
   ],
   "source": [
    "#Utilisation de fit_predict de KMeans pour effectuer à la fois l'ajustement du modèle K-means \n",
    "# et la prédiction des clusters pour les données normalisées X_normalized.\n",
    "\n",
    "cluster_ids = KMeans(n_clusters=14, n_init=100).fit_predict(X_normalized)\n",
    "\n",
    "for c in np.unique(cluster_ids):\n",
    "    plt.scatter(X_normalized[cluster_ids == c, 0], X_normalized[cluster_ids == c, 1], marker='.', s=50)\n",
    "\n",
    "plt.show()"
   ]
  },
  {
   "attachments": {},
   "cell_type": "markdown",
   "metadata": {},
   "source": [
    "# ***************************** PART II *****************************"
   ]
  },
  {
   "attachments": {},
   "cell_type": "markdown",
   "metadata": {},
   "source": [
    "# Getting the song from user"
   ]
  },
  {
   "cell_type": "code",
   "execution_count": 392,
   "metadata": {},
   "outputs": [],
   "source": [
    "x = str(input(\"Please enter the name of a song you'd like to listen to: \"))"
   ]
  },
  {
   "attachments": {},
   "cell_type": "markdown",
   "metadata": {},
   "source": [
    "# JSON operations"
   ]
  },
  {
   "attachments": {},
   "cell_type": "markdown",
   "metadata": {},
   "source": [
    "## Creating the JSON"
   ]
  },
  {
   "cell_type": "code",
   "execution_count": 393,
   "metadata": {},
   "outputs": [
    {
     "name": "stdout",
     "output_type": "stream",
     "text": [
      "{\"tracks\": {\"href\": \"https://api.spotify.com/v1/search?query=humble&type=track&market=FR&offset=0&limit=1\", \"items\": [{\"album\": {\"album_type\": \"album\", \"artists\": [{\"external_urls\": {\"spotify\": \"https://open.spotify.com/artist/2YZyLoL8N0Wb9xBt1NhZWg\"}, \"href\": \"https://api.spotify.com/v1/artists/2YZyLoL8N0Wb9xBt1NhZWg\", \"id\": \"2YZyLoL8N0Wb9xBt1NhZWg\", \"name\": \"Kendrick Lamar\", \"type\": \"artist\", \"uri\": \"spotify:artist:2YZyLoL8N0Wb9xBt1NhZWg\"}], \"external_urls\": {\"spotify\": \"https://open.spotify.com/album/4eLPsYPBmXABThSJ821sqY\"}, \"href\": \"https://api.spotify.com/v1/albums/4eLPsYPBmXABThSJ821sqY\", \"id\": \"4eLPsYPBmXABThSJ821sqY\", \"images\": [{\"height\": 640, \"url\": \"https://i.scdn.co/image/ab67616d0000b2738b52c6b9bc4e43d873869699\", \"width\": 640}, {\"height\": 300, \"url\": \"https://i.scdn.co/image/ab67616d00001e028b52c6b9bc4e43d873869699\", \"width\": 300}, {\"height\": 64, \"url\": \"https://i.scdn.co/image/ab67616d000048518b52c6b9bc4e43d873869699\", \"width\": 64}], \"is_playable\": true, \"name\": \"DAMN.\", \"release_date\": \"2017-04-14\", \"release_date_precision\": \"day\", \"total_tracks\": 14, \"type\": \"album\", \"uri\": \"spotify:album:4eLPsYPBmXABThSJ821sqY\"}, \"artists\": [{\"external_urls\": {\"spotify\": \"https://open.spotify.com/artist/2YZyLoL8N0Wb9xBt1NhZWg\"}, \"href\": \"https://api.spotify.com/v1/artists/2YZyLoL8N0Wb9xBt1NhZWg\", \"id\": \"2YZyLoL8N0Wb9xBt1NhZWg\", \"name\": \"Kendrick Lamar\", \"type\": \"artist\", \"uri\": \"spotify:artist:2YZyLoL8N0Wb9xBt1NhZWg\"}], \"disc_number\": 1, \"duration_ms\": 177000, \"explicit\": true, \"external_ids\": {\"isrc\": \"USUM71703085\"}, \"external_urls\": {\"spotify\": \"https://open.spotify.com/track/7KXjTSCq5nL1LoYtL7XAwS\"}, \"href\": \"https://api.spotify.com/v1/tracks/7KXjTSCq5nL1LoYtL7XAwS\", \"id\": \"7KXjTSCq5nL1LoYtL7XAwS\", \"is_local\": false, \"is_playable\": true, \"name\": \"HUMBLE.\", \"popularity\": 86, \"preview_url\": \"https://p.scdn.co/mp3-preview/4e6df1ccb505e0d8a8f79086c321762a2b84bfd8?cid=93af8f8aab0948589602740953dd0ca7\", \"track_number\": 8, \"type\": \"track\", \"uri\": \"spotify:track:7KXjTSCq5nL1LoYtL7XAwS\"}], \"limit\": 1, \"next\": \"https://api.spotify.com/v1/search?query=humble&type=track&market=FR&offset=1&limit=1\", \"offset\": 0, \"previous\": null, \"total\": 1000}}\n"
     ]
    }
   ],
   "source": [
    "results = sp.search(q= x, limit=1, market=\"FR\")\n",
    "\n",
    "json_results = json.dumps(results, ensure_ascii=True)\n",
    "print(json_results)"
   ]
  },
  {
   "attachments": {},
   "cell_type": "markdown",
   "metadata": {},
   "source": [
    "## Displaying JSON"
   ]
  },
  {
   "cell_type": "code",
   "execution_count": 394,
   "metadata": {},
   "outputs": [
    {
     "name": "stdout",
     "output_type": "stream",
     "text": [
      "{'album': {'album_type': 'album',\n",
      "           'artists': [{'external_urls': {'spotify': 'https://open.spotify.com/artist/2YZyLoL8N0Wb9xBt1NhZWg'},\n",
      "                        'href': 'https://api.spotify.com/v1/artists/2YZyLoL8N0Wb9xBt1NhZWg',\n",
      "                        'id': '2YZyLoL8N0Wb9xBt1NhZWg',\n",
      "                        'name': 'Kendrick Lamar',\n",
      "                        'type': 'artist',\n",
      "                        'uri': 'spotify:artist:2YZyLoL8N0Wb9xBt1NhZWg'}],\n",
      "           'external_urls': {'spotify': 'https://open.spotify.com/album/4eLPsYPBmXABThSJ821sqY'},\n",
      "           'href': 'https://api.spotify.com/v1/albums/4eLPsYPBmXABThSJ821sqY',\n",
      "           'id': '4eLPsYPBmXABThSJ821sqY',\n",
      "           'images': [{'height': 640,\n",
      "                       'url': 'https://i.scdn.co/image/ab67616d0000b2738b52c6b9bc4e43d873869699',\n",
      "                       'width': 640},\n",
      "                      {'height': 300,\n",
      "                       'url': 'https://i.scdn.co/image/ab67616d00001e028b52c6b9bc4e43d873869699',\n",
      "                       'width': 300},\n",
      "                      {'height': 64,\n",
      "                       'url': 'https://i.scdn.co/image/ab67616d000048518b52c6b9bc4e43d873869699',\n",
      "                       'width': 64}],\n",
      "           'is_playable': True,\n",
      "           'name': 'DAMN.',\n",
      "           'release_date': '2017-04-14',\n",
      "           'release_date_precision': 'day',\n",
      "           'total_tracks': 14,\n",
      "           'type': 'album',\n",
      "           'uri': 'spotify:album:4eLPsYPBmXABThSJ821sqY'},\n",
      " 'artists': [{'external_urls': {'spotify': 'https://open.spotify.com/artist/2YZyLoL8N0Wb9xBt1NhZWg'},\n",
      "              'href': 'https://api.spotify.com/v1/artists/2YZyLoL8N0Wb9xBt1NhZWg',\n",
      "              'id': '2YZyLoL8N0Wb9xBt1NhZWg',\n",
      "              'name': 'Kendrick Lamar',\n",
      "              'type': 'artist',\n",
      "              'uri': 'spotify:artist:2YZyLoL8N0Wb9xBt1NhZWg'}],\n",
      " 'disc_number': 1,\n",
      " 'duration_ms': 177000,\n",
      " 'explicit': True,\n",
      " 'external_ids': {'isrc': 'USUM71703085'},\n",
      " 'external_urls': {'spotify': 'https://open.spotify.com/track/7KXjTSCq5nL1LoYtL7XAwS'},\n",
      " 'href': 'https://api.spotify.com/v1/tracks/7KXjTSCq5nL1LoYtL7XAwS',\n",
      " 'id': '7KXjTSCq5nL1LoYtL7XAwS',\n",
      " 'is_local': False,\n",
      " 'is_playable': True,\n",
      " 'name': 'HUMBLE.',\n",
      " 'popularity': 86,\n",
      " 'preview_url': 'https://p.scdn.co/mp3-preview/4e6df1ccb505e0d8a8f79086c321762a2b84bfd8?cid=93af8f8aab0948589602740953dd0ca7',\n",
      " 'track_number': 8,\n",
      " 'type': 'track',\n",
      " 'uri': 'spotify:track:7KXjTSCq5nL1LoYtL7XAwS'}\n",
      "The name of song is: 'HUMBLE.' and the id is: 7KXjTSCq5nL1LoYtL7XAwS\n"
     ]
    }
   ],
   "source": [
    "results['tracks'][\"items\"][0].keys() # All the dictionary\n",
    "pprint.pprint(results['tracks']['items'][0])\n",
    "\n",
    "results['tracks']['items'][0]['id'] # Getting song ID\n",
    "\n",
    "for item in results['tracks']['items']:\n",
    "    print(\"The name of song is: '{}' and the id is: {}\".format(item['name'],item[\"id\"]))"
   ]
  },
  {
   "attachments": {},
   "cell_type": "markdown",
   "metadata": {},
   "source": [
    "## Understanding the JSON"
   ]
  },
  {
   "cell_type": "code",
   "execution_count": 395,
   "metadata": {},
   "outputs": [
    {
     "name": "stdout",
     "output_type": "stream",
     "text": [
      "The json file has the following keys:  ['tracks']\n",
      "The 'tracks' key has the following child keys:  ['href', 'items', 'limit', 'next', 'offset', 'previous', 'total']\n",
      "The query we made is:  https://api.spotify.com/v1/search?query=humble&type=track&market=FR&offset=0&limit=1\n",
      "The song's info is contained in:  [{'album': {'album_type': 'album', 'artists': [{'external_urls': {'spotify': 'https://open.spotify.com/artist/2YZyLoL8N0Wb9xBt1NhZWg'}, 'href': 'https://api.spotify.com/v1/artists/2YZyLoL8N0Wb9xBt1NhZWg', 'id': '2YZyLoL8N0Wb9xBt1NhZWg', 'name': 'Kendrick Lamar', 'type': 'artist', 'uri': 'spotify:artist:2YZyLoL8N0Wb9xBt1NhZWg'}], 'external_urls': {'spotify': 'https://open.spotify.com/album/4eLPsYPBmXABThSJ821sqY'}, 'href': 'https://api.spotify.com/v1/albums/4eLPsYPBmXABThSJ821sqY', 'id': '4eLPsYPBmXABThSJ821sqY', 'images': [{'height': 640, 'url': 'https://i.scdn.co/image/ab67616d0000b2738b52c6b9bc4e43d873869699', 'width': 640}, {'height': 300, 'url': 'https://i.scdn.co/image/ab67616d00001e028b52c6b9bc4e43d873869699', 'width': 300}, {'height': 64, 'url': 'https://i.scdn.co/image/ab67616d000048518b52c6b9bc4e43d873869699', 'width': 64}], 'is_playable': True, 'name': 'DAMN.', 'release_date': '2017-04-14', 'release_date_precision': 'day', 'total_tracks': 14, 'type': 'album', 'uri': 'spotify:album:4eLPsYPBmXABThSJ821sqY'}, 'artists': [{'external_urls': {'spotify': 'https://open.spotify.com/artist/2YZyLoL8N0Wb9xBt1NhZWg'}, 'href': 'https://api.spotify.com/v1/artists/2YZyLoL8N0Wb9xBt1NhZWg', 'id': '2YZyLoL8N0Wb9xBt1NhZWg', 'name': 'Kendrick Lamar', 'type': 'artist', 'uri': 'spotify:artist:2YZyLoL8N0Wb9xBt1NhZWg'}], 'disc_number': 1, 'duration_ms': 177000, 'explicit': True, 'external_ids': {'isrc': 'USUM71703085'}, 'external_urls': {'spotify': 'https://open.spotify.com/track/7KXjTSCq5nL1LoYtL7XAwS'}, 'href': 'https://api.spotify.com/v1/tracks/7KXjTSCq5nL1LoYtL7XAwS', 'id': '7KXjTSCq5nL1LoYtL7XAwS', 'is_local': False, 'is_playable': True, 'name': 'HUMBLE.', 'popularity': 86, 'preview_url': 'https://p.scdn.co/mp3-preview/4e6df1ccb505e0d8a8f79086c321762a2b84bfd8?cid=93af8f8aab0948589602740953dd0ca7', 'track_number': 8, 'type': 'track', 'uri': 'spotify:track:7KXjTSCq5nL1LoYtL7XAwS'}]\n",
      "The limit of the query we've made is:  1\n",
      "The next page if any:  https://api.spotify.com/v1/search?query=humble&type=track&market=FR&offset=1&limit=1\n",
      "The starting webpage:  0\n",
      "Starting webpage:  None\n",
      "Total number of results:  1000\n"
     ]
    }
   ],
   "source": [
    "print(\"The json file has the following keys: \", list(results.keys())) # We can see that we only have tracks\n",
    "print(\"The 'tracks' key has the following child keys: \", list(results[\"tracks\"].keys())) # Let's check the values\n",
    "print(\"The query we made is: \", results[\"tracks\"][\"href\"]) # Query we have searched \n",
    "print(\"The song's info is contained in: \", results[\"tracks\"][\"items\"]) # items (actual tracks)\n",
    "print(\"The limit of the query we've made is: \", results[\"tracks\"][\"limit\"]) # Limit we have chosen\n",
    "print(\"The next page if any: \", results[\"tracks\"][\"next\"]) # Link to the next page (next 50 tracks)\n",
    "print(\"The starting webpage: \", results[\"tracks\"][\"offset\"]) # Actual offset (starting point)\n",
    "print(\"Starting webpage: \", results[\"tracks\"][\"previous\"]) # Previous search\n",
    "print(\"Total number of results: \", results[\"tracks\"][\"total\"]) # Number of matches"
   ]
  },
  {
   "attachments": {},
   "cell_type": "markdown",
   "metadata": {},
   "source": [
    "## Other operations"
   ]
  },
  {
   "cell_type": "code",
   "execution_count": 396,
   "metadata": {},
   "outputs": [
    {
     "name": "stdout",
     "output_type": "stream",
     "text": [
      "Track infos\n",
      "[{'external_urls': {'spotify': 'https://open.spotify.com/artist/2YZyLoL8N0Wb9xBt1NhZWg'}, 'href': 'https://api.spotify.com/v1/artists/2YZyLoL8N0Wb9xBt1NhZWg', 'id': '2YZyLoL8N0Wb9xBt1NhZWg', 'name': 'Kendrick Lamar', 'type': 'artist', 'uri': 'spotify:artist:2YZyLoL8N0Wb9xBt1NhZWg'}]\n",
      "\n",
      "Track ID\n",
      "7KXjTSCq5nL1LoYtL7XAwS\n",
      "\n",
      "Track name\n",
      "HUMBLE.\n",
      "\n",
      "Popularity index\n",
      "86\n",
      "\n",
      "Basically ID\n",
      "spotify:track:7KXjTSCq5nL1LoYtL7XAwS\n"
     ]
    }
   ],
   "source": [
    "print(\"Track infos\")\n",
    "print(results[\"tracks\"][\"items\"][0][\"artists\"]) # Track artists\n",
    "\n",
    "# print(\"Track artists\")\n",
    "# print(results[\"tracks\"][\"items\"][0][\"artists\"][\"0\"][\"name\"]) # Track artists\n",
    "\n",
    "\n",
    "\n",
    "print(\"\\nTrack ID\")\n",
    "print(results[\"tracks\"][\"items\"][0][\"id\"]) # Track ID\n",
    "print(\"\\nTrack name\")\n",
    "print(results[\"tracks\"][\"items\"][0][\"name\"]) # Track name\n",
    "print(\"\\nPopularity index\")\n",
    "print(results[\"tracks\"][\"items\"][0][\"popularity\"]) # Popularity index\n",
    "print(\"\\nBasically ID\")\n",
    "print(results[\"tracks\"][\"items\"][0][\"uri\"]) # Basically ID\n"
   ]
  },
  {
   "attachments": {},
   "cell_type": "markdown",
   "metadata": {},
   "source": [
    "## Track ID of the Song"
   ]
  },
  {
   "cell_type": "code",
   "execution_count": 397,
   "metadata": {},
   "outputs": [
    {
     "data": {
      "text/plain": [
       "'7KXjTSCq5nL1LoYtL7XAwS'"
      ]
     },
     "execution_count": 397,
     "metadata": {},
     "output_type": "execute_result"
    }
   ],
   "source": [
    "song_id = results[\"tracks\"][\"items\"][0][\"id\"]\n",
    "song_id"
   ]
  },
  {
   "attachments": {},
   "cell_type": "markdown",
   "metadata": {},
   "source": [
    "# Playing the requested Song"
   ]
  },
  {
   "cell_type": "code",
   "execution_count": 398,
   "metadata": {},
   "outputs": [
    {
     "data": {
      "text/html": [
       "\n",
       "        <iframe\n",
       "            width=\"320\"\n",
       "            height=\"80\"\n",
       "            src=\"https://open.spotify.com/embed/track/7KXjTSCq5nL1LoYtL7XAwS?autoplay=1?frameborder=0&allowtransparency=true&allow=encrypted-media\"\n",
       "            frameborder=\"0\"\n",
       "            allowfullscreen\n",
       "            \n",
       "        ></iframe>\n",
       "        "
      ],
      "text/plain": [
       "<IPython.lib.display.IFrame at 0x15ebe44b2b0>"
      ]
     },
     "execution_count": 398,
     "metadata": {},
     "output_type": "execute_result"
    }
   ],
   "source": [
    "play_song(song_id)"
   ]
  },
  {
   "attachments": {},
   "cell_type": "markdown",
   "metadata": {},
   "source": [
    "# Getting features + Returning Random Song from same cluster"
   ]
  },
  {
   "attachments": {},
   "cell_type": "markdown",
   "metadata": {},
   "source": [
    "## Getting the audio features of the Requested Song"
   ]
  },
  {
   "cell_type": "code",
   "execution_count": 399,
   "metadata": {},
   "outputs": [
    {
     "name": "stdout",
     "output_type": "stream",
     "text": [
      "[{'danceability': 0.908, 'energy': 0.621, 'key': 1, 'loudness': -6.638, 'mode': 0, 'speechiness': 0.102, 'acousticness': 0.000282, 'instrumentalness': 5.39e-05, 'liveness': 0.0958, 'valence': 0.421, 'tempo': 150.011, 'type': 'audio_features', 'id': '7KXjTSCq5nL1LoYtL7XAwS', 'uri': 'spotify:track:7KXjTSCq5nL1LoYtL7XAwS', 'track_href': 'https://api.spotify.com/v1/tracks/7KXjTSCq5nL1LoYtL7XAwS', 'analysis_url': 'https://api.spotify.com/v1/audio-analysis/7KXjTSCq5nL1LoYtL7XAwS', 'duration_ms': 177000, 'time_signature': 4}]\n"
     ]
    }
   ],
   "source": [
    "print(sp.audio_features(song_id))"
   ]
  },
  {
   "attachments": {},
   "cell_type": "markdown",
   "metadata": {},
   "source": [
    "## Extract the Audio Features of the Requested Song in a Dataframe"
   ]
  },
  {
   "cell_type": "code",
   "execution_count": 400,
   "metadata": {},
   "outputs": [
    {
     "name": "stdout",
     "output_type": "stream",
     "text": [
      "[{'danceability': 0.908, 'energy': 0.621, 'key': 1, 'loudness': -6.638, 'mode': 0, 'speechiness': 0.102, 'acousticness': 0.000282, 'instrumentalness': 5.39e-05, 'liveness': 0.0958, 'valence': 0.421, 'tempo': 150.011, 'type': 'audio_features', 'id': '7KXjTSCq5nL1LoYtL7XAwS', 'uri': 'spotify:track:7KXjTSCq5nL1LoYtL7XAwS', 'track_href': 'https://api.spotify.com/v1/tracks/7KXjTSCq5nL1LoYtL7XAwS', 'analysis_url': 'https://api.spotify.com/v1/audio-analysis/7KXjTSCq5nL1LoYtL7XAwS', 'duration_ms': 177000, 'time_signature': 4}]\n"
     ]
    }
   ],
   "source": [
    "print(sp.audio_features(results[\"tracks\"][\"items\"][0][\"id\"]))"
   ]
  },
  {
   "cell_type": "code",
   "execution_count": 401,
   "metadata": {},
   "outputs": [
    {
     "data": {
      "text/html": [
       "<div>\n",
       "<style scoped>\n",
       "    .dataframe tbody tr th:only-of-type {\n",
       "        vertical-align: middle;\n",
       "    }\n",
       "\n",
       "    .dataframe tbody tr th {\n",
       "        vertical-align: top;\n",
       "    }\n",
       "\n",
       "    .dataframe thead th {\n",
       "        text-align: right;\n",
       "    }\n",
       "</style>\n",
       "<table border=\"1\" class=\"dataframe\">\n",
       "  <thead>\n",
       "    <tr style=\"text-align: right;\">\n",
       "      <th></th>\n",
       "      <th>danceability</th>\n",
       "      <th>energy</th>\n",
       "      <th>loudness</th>\n",
       "      <th>speechiness</th>\n",
       "      <th>acousticness</th>\n",
       "      <th>instrumentalness</th>\n",
       "      <th>liveness</th>\n",
       "      <th>valence</th>\n",
       "      <th>tempo</th>\n",
       "      <th>id</th>\n",
       "      <th>duration_ms</th>\n",
       "    </tr>\n",
       "  </thead>\n",
       "  <tbody>\n",
       "    <tr>\n",
       "      <th>0</th>\n",
       "      <td>0.908</td>\n",
       "      <td>0.621</td>\n",
       "      <td>-6.638</td>\n",
       "      <td>0.102</td>\n",
       "      <td>0.000282</td>\n",
       "      <td>0.000054</td>\n",
       "      <td>0.0958</td>\n",
       "      <td>0.421</td>\n",
       "      <td>150.011</td>\n",
       "      <td>7KXjTSCq5nL1LoYtL7XAwS</td>\n",
       "      <td>177000</td>\n",
       "    </tr>\n",
       "  </tbody>\n",
       "</table>\n",
       "</div>"
      ],
      "text/plain": [
       "   danceability  energy  loudness  speechiness  acousticness  \\\n",
       "0         0.908   0.621    -6.638        0.102      0.000282   \n",
       "\n",
       "   instrumentalness  liveness  valence    tempo                      id  \\\n",
       "0          0.000054    0.0958    0.421  150.011  7KXjTSCq5nL1LoYtL7XAwS   \n",
       "\n",
       "   duration_ms  \n",
       "0       177000  "
      ]
     },
     "execution_count": 401,
     "metadata": {},
     "output_type": "execute_result"
    }
   ],
   "source": [
    "requested_song_audio_features = pd.DataFrame(sp.audio_features(song_id))\n",
    "requested_song_audio_features = requested_song_audio_features[[\"danceability\",\"energy\",\"loudness\",\"speechiness\",\"acousticness\",\"instrumentalness\",\"liveness\",\"valence\",\"tempo\",\"id\",\"duration_ms\"]]\n",
    "\n",
    "requested_song_audio_features"
   ]
  },
  {
   "cell_type": "code",
   "execution_count": 402,
   "metadata": {},
   "outputs": [
    {
     "data": {
      "text/html": [
       "<div>\n",
       "<style scoped>\n",
       "    .dataframe tbody tr th:only-of-type {\n",
       "        vertical-align: middle;\n",
       "    }\n",
       "\n",
       "    .dataframe tbody tr th {\n",
       "        vertical-align: top;\n",
       "    }\n",
       "\n",
       "    .dataframe thead th {\n",
       "        text-align: right;\n",
       "    }\n",
       "</style>\n",
       "<table border=\"1\" class=\"dataframe\">\n",
       "  <thead>\n",
       "    <tr style=\"text-align: right;\">\n",
       "      <th></th>\n",
       "      <th>danceability</th>\n",
       "      <th>energy</th>\n",
       "      <th>loudness</th>\n",
       "      <th>speechiness</th>\n",
       "      <th>acousticness</th>\n",
       "      <th>instrumentalness</th>\n",
       "      <th>liveness</th>\n",
       "      <th>valence</th>\n",
       "      <th>tempo</th>\n",
       "      <th>duration_ms</th>\n",
       "    </tr>\n",
       "  </thead>\n",
       "  <tbody>\n",
       "    <tr>\n",
       "      <th>0</th>\n",
       "      <td>0.908</td>\n",
       "      <td>0.621</td>\n",
       "      <td>-6.638</td>\n",
       "      <td>0.102</td>\n",
       "      <td>0.000282</td>\n",
       "      <td>0.000054</td>\n",
       "      <td>0.0958</td>\n",
       "      <td>0.421</td>\n",
       "      <td>150.011</td>\n",
       "      <td>177000</td>\n",
       "    </tr>\n",
       "  </tbody>\n",
       "</table>\n",
       "</div>"
      ],
      "text/plain": [
       "   danceability  energy  loudness  speechiness  acousticness  \\\n",
       "0         0.908   0.621    -6.638        0.102      0.000282   \n",
       "\n",
       "   instrumentalness  liveness  valence    tempo  duration_ms  \n",
       "0          0.000054    0.0958    0.421  150.011       177000  "
      ]
     },
     "execution_count": 402,
     "metadata": {},
     "output_type": "execute_result"
    }
   ],
   "source": [
    "simple_requested_song_audio_features = requested_song_audio_features[[\"danceability\",\"energy\",\"loudness\",\"speechiness\",\"acousticness\",\"instrumentalness\",\"liveness\",\"valence\",\"tempo\",\"duration_ms\"]]\n",
    "\n",
    "simple_requested_song_audio_features"
   ]
  },
  {
   "attachments": {},
   "cell_type": "markdown",
   "metadata": {},
   "source": [
    "### 4- Load the StandardScaler using Pickle and use it to scale the REQUESTED_SONG."
   ]
  },
  {
   "attachments": {},
   "cell_type": "markdown",
   "metadata": {},
   "source": [
    "#### Load it:"
   ]
  },
  {
   "cell_type": "code",
   "execution_count": 403,
   "metadata": {},
   "outputs": [],
   "source": [
    "nom_fichier_scaler = \"scaler.pkl\"\n",
    "\n",
    "with open(nom_fichier_scaler, 'rb') as fichier:\n",
    "    scaler = pickle.load(fichier)"
   ]
  },
  {
   "attachments": {},
   "cell_type": "markdown",
   "metadata": {},
   "source": [
    "#### Scale it:"
   ]
  },
  {
   "cell_type": "code",
   "execution_count": 404,
   "metadata": {},
   "outputs": [
    {
     "name": "stdout",
     "output_type": "stream",
     "text": [
      "['danceability' 'energy' 'loudness' 'speechiness' 'acousticness'\n",
      " 'instrumentalness' 'liveness' 'valence' 'tempo' 'duration_ms']\n"
     ]
    }
   ],
   "source": [
    "print(scaler.get_feature_names_out())"
   ]
  },
  {
   "cell_type": "code",
   "execution_count": 405,
   "metadata": {},
   "outputs": [
    {
     "data": {
      "text/plain": [
       "array([[ 1.65813361, -0.02342644,  0.23805375,  0.01637739, -0.83533196,\n",
       "        -0.41857161, -0.60474673, -0.22503974,  1.10593352, -0.64845304]])"
      ]
     },
     "execution_count": 405,
     "metadata": {},
     "output_type": "execute_result"
    }
   ],
   "source": [
    "requested_song_scaled = scaler.transform(simple_requested_song_audio_features)\n",
    "requested_song_scaled"
   ]
  },
  {
   "attachments": {},
   "cell_type": "markdown",
   "metadata": {},
   "source": [
    "### 5- Use kmeans_model.predict (on the new scaled audio dataset for the REQUESTED_SONG) to predict the cluster (label) for the REQUESTED_SONG."
   ]
  },
  {
   "cell_type": "code",
   "execution_count": 406,
   "metadata": {},
   "outputs": [
    {
     "data": {
      "text/plain": [
       "array([10])"
      ]
     },
     "execution_count": 406,
     "metadata": {},
     "output_type": "execute_result"
    }
   ],
   "source": [
    "requested_song_cluster_label = kmeans_final.predict(requested_song_scaled)\n",
    "requested_song_cluster_label"
   ]
  },
  {
   "attachments": {},
   "cell_type": "markdown",
   "metadata": {},
   "source": [
    "## 6- Return a random song from the same cluster that the REQUESTED_SONG belongs to from your data frame and suggest it to the user.\n"
   ]
  },
  {
   "cell_type": "code",
   "execution_count": 407,
   "metadata": {},
   "outputs": [
    {
     "data": {
      "text/html": [
       "<div>\n",
       "<style scoped>\n",
       "    .dataframe tbody tr th:only-of-type {\n",
       "        vertical-align: middle;\n",
       "    }\n",
       "\n",
       "    .dataframe tbody tr th {\n",
       "        vertical-align: top;\n",
       "    }\n",
       "\n",
       "    .dataframe thead th {\n",
       "        text-align: right;\n",
       "    }\n",
       "</style>\n",
       "<table border=\"1\" class=\"dataframe\">\n",
       "  <thead>\n",
       "    <tr style=\"text-align: right;\">\n",
       "      <th></th>\n",
       "      <th>danceability</th>\n",
       "      <th>energy</th>\n",
       "      <th>loudness</th>\n",
       "      <th>speechiness</th>\n",
       "      <th>acousticness</th>\n",
       "      <th>instrumentalness</th>\n",
       "      <th>liveness</th>\n",
       "      <th>valence</th>\n",
       "      <th>tempo</th>\n",
       "      <th>duration_ms</th>\n",
       "      <th>cluster</th>\n",
       "      <th>id</th>\n",
       "    </tr>\n",
       "  </thead>\n",
       "  <tbody>\n",
       "    <tr>\n",
       "      <th>20</th>\n",
       "      <td>-0.345776</td>\n",
       "      <td>-1.899490</td>\n",
       "      <td>-1.068577</td>\n",
       "      <td>2.520893</td>\n",
       "      <td>1.950639</td>\n",
       "      <td>-0.418755</td>\n",
       "      <td>1.644451</td>\n",
       "      <td>-0.212688</td>\n",
       "      <td>0.694348</td>\n",
       "      <td>-2.012425</td>\n",
       "      <td>10</td>\n",
       "      <td>0v3o1OSYNOl0oswap6SoG6</td>\n",
       "    </tr>\n",
       "    <tr>\n",
       "      <th>23</th>\n",
       "      <td>1.117685</td>\n",
       "      <td>-1.410627</td>\n",
       "      <td>-0.346731</td>\n",
       "      <td>3.197516</td>\n",
       "      <td>2.114758</td>\n",
       "      <td>2.914667</td>\n",
       "      <td>-0.566425</td>\n",
       "      <td>-0.430895</td>\n",
       "      <td>-1.261054</td>\n",
       "      <td>-1.484593</td>\n",
       "      <td>10</td>\n",
       "      <td>4SPUVPV2Db8B5xDaFWg9rD</td>\n",
       "    </tr>\n",
       "    <tr>\n",
       "      <th>106</th>\n",
       "      <td>0.012498</td>\n",
       "      <td>-0.491398</td>\n",
       "      <td>-0.011773</td>\n",
       "      <td>2.823858</td>\n",
       "      <td>0.975395</td>\n",
       "      <td>-0.418767</td>\n",
       "      <td>-0.175837</td>\n",
       "      <td>-0.060356</td>\n",
       "      <td>-0.926644</td>\n",
       "      <td>-0.488064</td>\n",
       "      <td>10</td>\n",
       "      <td>5iVGN1Th2DqyWVNIBM8Vwk</td>\n",
       "    </tr>\n",
       "    <tr>\n",
       "      <th>128</th>\n",
       "      <td>-0.108951</td>\n",
       "      <td>-2.120940</td>\n",
       "      <td>-1.677843</td>\n",
       "      <td>2.228026</td>\n",
       "      <td>1.887516</td>\n",
       "      <td>-0.418767</td>\n",
       "      <td>-0.433772</td>\n",
       "      <td>0.478984</td>\n",
       "      <td>-0.619002</td>\n",
       "      <td>-1.455311</td>\n",
       "      <td>10</td>\n",
       "      <td>5KIIAIqQzGrfMmY2BuNyFR</td>\n",
       "    </tr>\n",
       "    <tr>\n",
       "      <th>196</th>\n",
       "      <td>-0.102878</td>\n",
       "      <td>-0.445436</td>\n",
       "      <td>-0.243053</td>\n",
       "      <td>2.692573</td>\n",
       "      <td>1.433034</td>\n",
       "      <td>-0.376282</td>\n",
       "      <td>-0.234793</td>\n",
       "      <td>0.915396</td>\n",
       "      <td>0.920591</td>\n",
       "      <td>-1.076953</td>\n",
       "      <td>10</td>\n",
       "      <td>14WC3aPKp9cGWMErF8lkza</td>\n",
       "    </tr>\n",
       "    <tr>\n",
       "      <th>201</th>\n",
       "      <td>0.704758</td>\n",
       "      <td>-0.629282</td>\n",
       "      <td>0.021240</td>\n",
       "      <td>2.046247</td>\n",
       "      <td>1.575060</td>\n",
       "      <td>-0.418767</td>\n",
       "      <td>1.769734</td>\n",
       "      <td>-0.336201</td>\n",
       "      <td>-1.770974</td>\n",
       "      <td>-0.499918</td>\n",
       "      <td>10</td>\n",
       "      <td>39chWt35fC3T8I8qxAiYuB</td>\n",
       "    </tr>\n",
       "    <tr>\n",
       "      <th>274</th>\n",
       "      <td>1.609554</td>\n",
       "      <td>-1.297812</td>\n",
       "      <td>-0.162374</td>\n",
       "      <td>2.339113</td>\n",
       "      <td>1.322570</td>\n",
       "      <td>-0.138802</td>\n",
       "      <td>-0.682127</td>\n",
       "      <td>1.516492</td>\n",
       "      <td>0.373996</td>\n",
       "      <td>-1.674234</td>\n",
       "      <td>10</td>\n",
       "      <td>39oeKRgsLeynDIbWuXyA47</td>\n",
       "    </tr>\n",
       "    <tr>\n",
       "      <th>876</th>\n",
       "      <td>0.959801</td>\n",
       "      <td>-0.725383</td>\n",
       "      <td>-0.576712</td>\n",
       "      <td>3.813546</td>\n",
       "      <td>1.183700</td>\n",
       "      <td>-0.418767</td>\n",
       "      <td>-0.441142</td>\n",
       "      <td>0.989504</td>\n",
       "      <td>-1.588800</td>\n",
       "      <td>-0.218456</td>\n",
       "      <td>10</td>\n",
       "      <td>4qpFTWOjbrKueLNSDdjigo</td>\n",
       "    </tr>\n",
       "    <tr>\n",
       "      <th>928</th>\n",
       "      <td>1.609554</td>\n",
       "      <td>-1.297812</td>\n",
       "      <td>-0.162374</td>\n",
       "      <td>2.339113</td>\n",
       "      <td>1.322570</td>\n",
       "      <td>-0.138802</td>\n",
       "      <td>-0.682127</td>\n",
       "      <td>1.516492</td>\n",
       "      <td>0.373996</td>\n",
       "      <td>-1.674234</td>\n",
       "      <td>10</td>\n",
       "      <td>39oeKRgsLeynDIbWuXyA47</td>\n",
       "    </tr>\n",
       "    <tr>\n",
       "      <th>1690</th>\n",
       "      <td>-0.157530</td>\n",
       "      <td>-1.038757</td>\n",
       "      <td>-0.353593</td>\n",
       "      <td>3.409592</td>\n",
       "      <td>1.799145</td>\n",
       "      <td>-0.418767</td>\n",
       "      <td>0.752731</td>\n",
       "      <td>0.161967</td>\n",
       "      <td>-0.700255</td>\n",
       "      <td>0.183638</td>\n",
       "      <td>10</td>\n",
       "      <td>50kpGaPAhYJ3sGmk6vplg0</td>\n",
       "    </tr>\n",
       "    <tr>\n",
       "      <th>2637</th>\n",
       "      <td>-0.030009</td>\n",
       "      <td>-0.579142</td>\n",
       "      <td>0.235457</td>\n",
       "      <td>1.551403</td>\n",
       "      <td>1.398317</td>\n",
       "      <td>-0.418767</td>\n",
       "      <td>0.723253</td>\n",
       "      <td>1.001855</td>\n",
       "      <td>-1.127173</td>\n",
       "      <td>-1.926707</td>\n",
       "      <td>10</td>\n",
       "      <td>7yoe9vbbzakNAXwb1UaWLS</td>\n",
       "    </tr>\n",
       "    <tr>\n",
       "      <th>4345</th>\n",
       "      <td>0.091440</td>\n",
       "      <td>-0.712848</td>\n",
       "      <td>-0.040521</td>\n",
       "      <td>2.601684</td>\n",
       "      <td>-0.040878</td>\n",
       "      <td>0.881199</td>\n",
       "      <td>-0.847943</td>\n",
       "      <td>1.055378</td>\n",
       "      <td>-0.925624</td>\n",
       "      <td>-1.946732</td>\n",
       "      <td>10</td>\n",
       "      <td>47Mr4aM41SGZSKpBtCGv8l</td>\n",
       "    </tr>\n",
       "    <tr>\n",
       "      <th>4953</th>\n",
       "      <td>1.287714</td>\n",
       "      <td>-0.746275</td>\n",
       "      <td>-0.411459</td>\n",
       "      <td>3.187417</td>\n",
       "      <td>1.720242</td>\n",
       "      <td>-0.418718</td>\n",
       "      <td>1.084363</td>\n",
       "      <td>0.050806</td>\n",
       "      <td>-1.444794</td>\n",
       "      <td>-1.484652</td>\n",
       "      <td>10</td>\n",
       "      <td>0j8ppsOOawdPCJnSTcXgOy</td>\n",
       "    </tr>\n",
       "    <tr>\n",
       "      <th>5096</th>\n",
       "      <td>1.652061</td>\n",
       "      <td>-0.700313</td>\n",
       "      <td>-0.521072</td>\n",
       "      <td>2.722870</td>\n",
       "      <td>1.148983</td>\n",
       "      <td>-0.418708</td>\n",
       "      <td>-0.659282</td>\n",
       "      <td>1.532961</td>\n",
       "      <td>-0.715333</td>\n",
       "      <td>-1.200476</td>\n",
       "      <td>10</td>\n",
       "      <td>2i2UzIpH1WrrzsiffWf0Bx</td>\n",
       "    </tr>\n",
       "    <tr>\n",
       "      <th>5199</th>\n",
       "      <td>0.486150</td>\n",
       "      <td>-0.320087</td>\n",
       "      <td>-0.439836</td>\n",
       "      <td>3.278307</td>\n",
       "      <td>1.218417</td>\n",
       "      <td>-0.417707</td>\n",
       "      <td>-0.043184</td>\n",
       "      <td>1.434151</td>\n",
       "      <td>-0.108390</td>\n",
       "      <td>-1.166852</td>\n",
       "      <td>10</td>\n",
       "      <td>10iTEeb8hoM5jBGh0OxBOO</td>\n",
       "    </tr>\n",
       "    <tr>\n",
       "      <th>5200</th>\n",
       "      <td>1.524540</td>\n",
       "      <td>-1.678039</td>\n",
       "      <td>-0.652013</td>\n",
       "      <td>3.601470</td>\n",
       "      <td>1.297321</td>\n",
       "      <td>-0.418767</td>\n",
       "      <td>-0.619486</td>\n",
       "      <td>-0.365021</td>\n",
       "      <td>0.016568</td>\n",
       "      <td>-0.134998</td>\n",
       "      <td>10</td>\n",
       "      <td>2Eb367lyxqaHt6sLNANyrr</td>\n",
       "    </tr>\n",
       "    <tr>\n",
       "      <th>5244</th>\n",
       "      <td>0.388991</td>\n",
       "      <td>-0.219807</td>\n",
       "      <td>-0.034771</td>\n",
       "      <td>1.268635</td>\n",
       "      <td>1.805457</td>\n",
       "      <td>-0.418487</td>\n",
       "      <td>-0.419033</td>\n",
       "      <td>0.203138</td>\n",
       "      <td>-2.079708</td>\n",
       "      <td>-2.065487</td>\n",
       "      <td>10</td>\n",
       "      <td>598B9RU1jZhObFSQJhisIa</td>\n",
       "    </tr>\n",
       "    <tr>\n",
       "      <th>5369</th>\n",
       "      <td>0.425425</td>\n",
       "      <td>-0.491398</td>\n",
       "      <td>-0.802985</td>\n",
       "      <td>3.116725</td>\n",
       "      <td>0.751310</td>\n",
       "      <td>-0.418755</td>\n",
       "      <td>0.413730</td>\n",
       "      <td>0.104328</td>\n",
       "      <td>0.191858</td>\n",
       "      <td>-0.400425</td>\n",
       "      <td>10</td>\n",
       "      <td>1DozKkvrqPPLYcXawVxIR2</td>\n",
       "    </tr>\n",
       "    <tr>\n",
       "      <th>5444</th>\n",
       "      <td>0.212889</td>\n",
       "      <td>-1.088897</td>\n",
       "      <td>-0.760327</td>\n",
       "      <td>1.298932</td>\n",
       "      <td>0.473571</td>\n",
       "      <td>-0.418767</td>\n",
       "      <td>1.172798</td>\n",
       "      <td>0.713658</td>\n",
       "      <td>-2.058803</td>\n",
       "      <td>-0.905665</td>\n",
       "      <td>10</td>\n",
       "      <td>0j2BydmlwcMqffV08hFDyI</td>\n",
       "    </tr>\n",
       "    <tr>\n",
       "      <th>5518</th>\n",
       "      <td>2.107495</td>\n",
       "      <td>-0.691957</td>\n",
       "      <td>-1.433394</td>\n",
       "      <td>3.793348</td>\n",
       "      <td>0.397824</td>\n",
       "      <td>2.965503</td>\n",
       "      <td>-0.463251</td>\n",
       "      <td>0.227841</td>\n",
       "      <td>-0.168229</td>\n",
       "      <td>-1.530569</td>\n",
       "      <td>10</td>\n",
       "      <td>0pu0vmfNzQOO2RdymmDNR6</td>\n",
       "    </tr>\n",
       "    <tr>\n",
       "      <th>5541</th>\n",
       "      <td>1.506322</td>\n",
       "      <td>-0.562429</td>\n",
       "      <td>-0.778317</td>\n",
       "      <td>2.561288</td>\n",
       "      <td>0.233705</td>\n",
       "      <td>-0.418767</td>\n",
       "      <td>-0.087402</td>\n",
       "      <td>0.470750</td>\n",
       "      <td>-0.899073</td>\n",
       "      <td>-1.095511</td>\n",
       "      <td>10</td>\n",
       "      <td>53yWQ1FObrwPlVYCZdR6es</td>\n",
       "    </tr>\n",
       "    <tr>\n",
       "      <th>5577</th>\n",
       "      <td>1.931394</td>\n",
       "      <td>-1.055470</td>\n",
       "      <td>-0.742707</td>\n",
       "      <td>2.924847</td>\n",
       "      <td>1.461439</td>\n",
       "      <td>-0.418767</td>\n",
       "      <td>0.679035</td>\n",
       "      <td>0.203138</td>\n",
       "      <td>-0.606291</td>\n",
       "      <td>-0.432993</td>\n",
       "      <td>10</td>\n",
       "      <td>3ZIc9JjtVQadMkew71IhLf</td>\n",
       "    </tr>\n",
       "    <tr>\n",
       "      <th>5805</th>\n",
       "      <td>0.449715</td>\n",
       "      <td>-0.328443</td>\n",
       "      <td>-0.105992</td>\n",
       "      <td>2.551189</td>\n",
       "      <td>1.215261</td>\n",
       "      <td>-0.418762</td>\n",
       "      <td>-0.330598</td>\n",
       "      <td>0.277246</td>\n",
       "      <td>-1.298385</td>\n",
       "      <td>-0.897846</td>\n",
       "      <td>10</td>\n",
       "      <td>1tkg4EHVoqnhR6iFEXb60y</td>\n",
       "    </tr>\n",
       "    <tr>\n",
       "      <th>5828</th>\n",
       "      <td>-0.297197</td>\n",
       "      <td>1.113075</td>\n",
       "      <td>-0.157737</td>\n",
       "      <td>3.419691</td>\n",
       "      <td>1.773896</td>\n",
       "      <td>1.912458</td>\n",
       "      <td>0.251599</td>\n",
       "      <td>0.717776</td>\n",
       "      <td>0.742168</td>\n",
       "      <td>-1.534090</td>\n",
       "      <td>10</td>\n",
       "      <td>1c5CllrZr45UBhWpIqM332</td>\n",
       "    </tr>\n",
       "    <tr>\n",
       "      <th>5898</th>\n",
       "      <td>0.674396</td>\n",
       "      <td>-0.825663</td>\n",
       "      <td>-0.597485</td>\n",
       "      <td>3.975127</td>\n",
       "      <td>2.272564</td>\n",
       "      <td>-0.418767</td>\n",
       "      <td>-0.212685</td>\n",
       "      <td>1.878797</td>\n",
       "      <td>-1.137480</td>\n",
       "      <td>-1.969588</td>\n",
       "      <td>10</td>\n",
       "      <td>1IdZvb2XK8NmsovQlV6CPn</td>\n",
       "    </tr>\n",
       "    <tr>\n",
       "      <th>5924</th>\n",
       "      <td>0.959801</td>\n",
       "      <td>-1.456588</td>\n",
       "      <td>-0.743635</td>\n",
       "      <td>3.288405</td>\n",
       "      <td>1.515093</td>\n",
       "      <td>-0.418751</td>\n",
       "      <td>-0.633488</td>\n",
       "      <td>-0.842604</td>\n",
       "      <td>0.385869</td>\n",
       "      <td>-2.025144</td>\n",
       "      <td>10</td>\n",
       "      <td>6hO0b9LAggdysS9RIn8VxH</td>\n",
       "    </tr>\n",
       "    <tr>\n",
       "      <th>5987</th>\n",
       "      <td>1.305931</td>\n",
       "      <td>-0.717027</td>\n",
       "      <td>-0.386977</td>\n",
       "      <td>2.167433</td>\n",
       "      <td>0.940678</td>\n",
       "      <td>-0.418306</td>\n",
       "      <td>-0.389555</td>\n",
       "      <td>0.915396</td>\n",
       "      <td>-1.007169</td>\n",
       "      <td>-0.451360</td>\n",
       "      <td>10</td>\n",
       "      <td>6L8vSnsUa7cg7VELDLxOFn</td>\n",
       "    </tr>\n",
       "    <tr>\n",
       "      <th>6692</th>\n",
       "      <td>1.287714</td>\n",
       "      <td>-0.746275</td>\n",
       "      <td>-0.411459</td>\n",
       "      <td>3.187417</td>\n",
       "      <td>1.720242</td>\n",
       "      <td>-0.418718</td>\n",
       "      <td>1.084363</td>\n",
       "      <td>0.050806</td>\n",
       "      <td>-1.444794</td>\n",
       "      <td>-1.484652</td>\n",
       "      <td>10</td>\n",
       "      <td>0j8ppsOOawdPCJnSTcXgOy</td>\n",
       "    </tr>\n",
       "    <tr>\n",
       "      <th>6971</th>\n",
       "      <td>-1.250572</td>\n",
       "      <td>-1.652969</td>\n",
       "      <td>-2.319937</td>\n",
       "      <td>3.046033</td>\n",
       "      <td>1.934858</td>\n",
       "      <td>-0.418767</td>\n",
       "      <td>0.745362</td>\n",
       "      <td>1.804689</td>\n",
       "      <td>-1.642556</td>\n",
       "      <td>-2.803014</td>\n",
       "      <td>10</td>\n",
       "      <td>4EmunTy7kNBYQivOa8F6b8</td>\n",
       "    </tr>\n",
       "    <tr>\n",
       "      <th>7156</th>\n",
       "      <td>1.500250</td>\n",
       "      <td>-0.253234</td>\n",
       "      <td>0.492703</td>\n",
       "      <td>3.086428</td>\n",
       "      <td>1.259447</td>\n",
       "      <td>-0.418767</td>\n",
       "      <td>0.111577</td>\n",
       "      <td>0.030220</td>\n",
       "      <td>-0.349528</td>\n",
       "      <td>-0.684322</td>\n",
       "      <td>10</td>\n",
       "      <td>37iVijLSSlIbjYbl4ycUge</td>\n",
       "    </tr>\n",
       "    <tr>\n",
       "      <th>7201</th>\n",
       "      <td>0.959801</td>\n",
       "      <td>-1.481658</td>\n",
       "      <td>-1.282237</td>\n",
       "      <td>3.379295</td>\n",
       "      <td>1.729710</td>\n",
       "      <td>-0.418623</td>\n",
       "      <td>-0.845732</td>\n",
       "      <td>0.071391</td>\n",
       "      <td>-1.698534</td>\n",
       "      <td>-0.996678</td>\n",
       "      <td>10</td>\n",
       "      <td>2WW6GimaaSQ2tZkgCS5l2u</td>\n",
       "    </tr>\n",
       "    <tr>\n",
       "      <th>7270</th>\n",
       "      <td>1.172337</td>\n",
       "      <td>0.507220</td>\n",
       "      <td>-0.079099</td>\n",
       "      <td>4.106413</td>\n",
       "      <td>1.180544</td>\n",
       "      <td>-0.418767</td>\n",
       "      <td>1.194906</td>\n",
       "      <td>0.429579</td>\n",
       "      <td>0.356478</td>\n",
       "      <td>-0.266325</td>\n",
       "      <td>10</td>\n",
       "      <td>1O4qKxSYi8Hs2nQEXrISZ4</td>\n",
       "    </tr>\n",
       "    <tr>\n",
       "      <th>7296</th>\n",
       "      <td>1.075178</td>\n",
       "      <td>-0.027605</td>\n",
       "      <td>0.114160</td>\n",
       "      <td>2.914748</td>\n",
       "      <td>0.940678</td>\n",
       "      <td>-0.418767</td>\n",
       "      <td>-0.234793</td>\n",
       "      <td>0.886577</td>\n",
       "      <td>0.366712</td>\n",
       "      <td>-1.770778</td>\n",
       "      <td>10</td>\n",
       "      <td>5qkZJKTLBjzGyk2GnNSmCB</td>\n",
       "    </tr>\n",
       "    <tr>\n",
       "      <th>7366</th>\n",
       "      <td>1.506322</td>\n",
       "      <td>-1.673861</td>\n",
       "      <td>-1.136273</td>\n",
       "      <td>1.531205</td>\n",
       "      <td>1.249979</td>\n",
       "      <td>-0.372651</td>\n",
       "      <td>-0.736662</td>\n",
       "      <td>1.602952</td>\n",
       "      <td>0.367586</td>\n",
       "      <td>-1.008165</td>\n",
       "      <td>10</td>\n",
       "      <td>4bf0YNnADKPCuj6KJtvqPO</td>\n",
       "    </tr>\n",
       "  </tbody>\n",
       "</table>\n",
       "</div>"
      ],
      "text/plain": [
       "      danceability    energy  loudness  speechiness  acousticness  \\\n",
       "20       -0.345776 -1.899490 -1.068577     2.520893      1.950639   \n",
       "23        1.117685 -1.410627 -0.346731     3.197516      2.114758   \n",
       "106       0.012498 -0.491398 -0.011773     2.823858      0.975395   \n",
       "128      -0.108951 -2.120940 -1.677843     2.228026      1.887516   \n",
       "196      -0.102878 -0.445436 -0.243053     2.692573      1.433034   \n",
       "201       0.704758 -0.629282  0.021240     2.046247      1.575060   \n",
       "274       1.609554 -1.297812 -0.162374     2.339113      1.322570   \n",
       "876       0.959801 -0.725383 -0.576712     3.813546      1.183700   \n",
       "928       1.609554 -1.297812 -0.162374     2.339113      1.322570   \n",
       "1690     -0.157530 -1.038757 -0.353593     3.409592      1.799145   \n",
       "2637     -0.030009 -0.579142  0.235457     1.551403      1.398317   \n",
       "4345      0.091440 -0.712848 -0.040521     2.601684     -0.040878   \n",
       "4953      1.287714 -0.746275 -0.411459     3.187417      1.720242   \n",
       "5096      1.652061 -0.700313 -0.521072     2.722870      1.148983   \n",
       "5199      0.486150 -0.320087 -0.439836     3.278307      1.218417   \n",
       "5200      1.524540 -1.678039 -0.652013     3.601470      1.297321   \n",
       "5244      0.388991 -0.219807 -0.034771     1.268635      1.805457   \n",
       "5369      0.425425 -0.491398 -0.802985     3.116725      0.751310   \n",
       "5444      0.212889 -1.088897 -0.760327     1.298932      0.473571   \n",
       "5518      2.107495 -0.691957 -1.433394     3.793348      0.397824   \n",
       "5541      1.506322 -0.562429 -0.778317     2.561288      0.233705   \n",
       "5577      1.931394 -1.055470 -0.742707     2.924847      1.461439   \n",
       "5805      0.449715 -0.328443 -0.105992     2.551189      1.215261   \n",
       "5828     -0.297197  1.113075 -0.157737     3.419691      1.773896   \n",
       "5898      0.674396 -0.825663 -0.597485     3.975127      2.272564   \n",
       "5924      0.959801 -1.456588 -0.743635     3.288405      1.515093   \n",
       "5987      1.305931 -0.717027 -0.386977     2.167433      0.940678   \n",
       "6692      1.287714 -0.746275 -0.411459     3.187417      1.720242   \n",
       "6971     -1.250572 -1.652969 -2.319937     3.046033      1.934858   \n",
       "7156      1.500250 -0.253234  0.492703     3.086428      1.259447   \n",
       "7201      0.959801 -1.481658 -1.282237     3.379295      1.729710   \n",
       "7270      1.172337  0.507220 -0.079099     4.106413      1.180544   \n",
       "7296      1.075178 -0.027605  0.114160     2.914748      0.940678   \n",
       "7366      1.506322 -1.673861 -1.136273     1.531205      1.249979   \n",
       "\n",
       "      instrumentalness  liveness   valence     tempo  duration_ms  cluster  \\\n",
       "20           -0.418755  1.644451 -0.212688  0.694348    -2.012425       10   \n",
       "23            2.914667 -0.566425 -0.430895 -1.261054    -1.484593       10   \n",
       "106          -0.418767 -0.175837 -0.060356 -0.926644    -0.488064       10   \n",
       "128          -0.418767 -0.433772  0.478984 -0.619002    -1.455311       10   \n",
       "196          -0.376282 -0.234793  0.915396  0.920591    -1.076953       10   \n",
       "201          -0.418767  1.769734 -0.336201 -1.770974    -0.499918       10   \n",
       "274          -0.138802 -0.682127  1.516492  0.373996    -1.674234       10   \n",
       "876          -0.418767 -0.441142  0.989504 -1.588800    -0.218456       10   \n",
       "928          -0.138802 -0.682127  1.516492  0.373996    -1.674234       10   \n",
       "1690         -0.418767  0.752731  0.161967 -0.700255     0.183638       10   \n",
       "2637         -0.418767  0.723253  1.001855 -1.127173    -1.926707       10   \n",
       "4345          0.881199 -0.847943  1.055378 -0.925624    -1.946732       10   \n",
       "4953         -0.418718  1.084363  0.050806 -1.444794    -1.484652       10   \n",
       "5096         -0.418708 -0.659282  1.532961 -0.715333    -1.200476       10   \n",
       "5199         -0.417707 -0.043184  1.434151 -0.108390    -1.166852       10   \n",
       "5200         -0.418767 -0.619486 -0.365021  0.016568    -0.134998       10   \n",
       "5244         -0.418487 -0.419033  0.203138 -2.079708    -2.065487       10   \n",
       "5369         -0.418755  0.413730  0.104328  0.191858    -0.400425       10   \n",
       "5444         -0.418767  1.172798  0.713658 -2.058803    -0.905665       10   \n",
       "5518          2.965503 -0.463251  0.227841 -0.168229    -1.530569       10   \n",
       "5541         -0.418767 -0.087402  0.470750 -0.899073    -1.095511       10   \n",
       "5577         -0.418767  0.679035  0.203138 -0.606291    -0.432993       10   \n",
       "5805         -0.418762 -0.330598  0.277246 -1.298385    -0.897846       10   \n",
       "5828          1.912458  0.251599  0.717776  0.742168    -1.534090       10   \n",
       "5898         -0.418767 -0.212685  1.878797 -1.137480    -1.969588       10   \n",
       "5924         -0.418751 -0.633488 -0.842604  0.385869    -2.025144       10   \n",
       "5987         -0.418306 -0.389555  0.915396 -1.007169    -0.451360       10   \n",
       "6692         -0.418718  1.084363  0.050806 -1.444794    -1.484652       10   \n",
       "6971         -0.418767  0.745362  1.804689 -1.642556    -2.803014       10   \n",
       "7156         -0.418767  0.111577  0.030220 -0.349528    -0.684322       10   \n",
       "7201         -0.418623 -0.845732  0.071391 -1.698534    -0.996678       10   \n",
       "7270         -0.418767  1.194906  0.429579  0.356478    -0.266325       10   \n",
       "7296         -0.418767 -0.234793  0.886577  0.366712    -1.770778       10   \n",
       "7366         -0.372651 -0.736662  1.602952  0.367586    -1.008165       10   \n",
       "\n",
       "                          id  \n",
       "20    0v3o1OSYNOl0oswap6SoG6  \n",
       "23    4SPUVPV2Db8B5xDaFWg9rD  \n",
       "106   5iVGN1Th2DqyWVNIBM8Vwk  \n",
       "128   5KIIAIqQzGrfMmY2BuNyFR  \n",
       "196   14WC3aPKp9cGWMErF8lkza  \n",
       "201   39chWt35fC3T8I8qxAiYuB  \n",
       "274   39oeKRgsLeynDIbWuXyA47  \n",
       "876   4qpFTWOjbrKueLNSDdjigo  \n",
       "928   39oeKRgsLeynDIbWuXyA47  \n",
       "1690  50kpGaPAhYJ3sGmk6vplg0  \n",
       "2637  7yoe9vbbzakNAXwb1UaWLS  \n",
       "4345  47Mr4aM41SGZSKpBtCGv8l  \n",
       "4953  0j8ppsOOawdPCJnSTcXgOy  \n",
       "5096  2i2UzIpH1WrrzsiffWf0Bx  \n",
       "5199  10iTEeb8hoM5jBGh0OxBOO  \n",
       "5200  2Eb367lyxqaHt6sLNANyrr  \n",
       "5244  598B9RU1jZhObFSQJhisIa  \n",
       "5369  1DozKkvrqPPLYcXawVxIR2  \n",
       "5444  0j2BydmlwcMqffV08hFDyI  \n",
       "5518  0pu0vmfNzQOO2RdymmDNR6  \n",
       "5541  53yWQ1FObrwPlVYCZdR6es  \n",
       "5577  3ZIc9JjtVQadMkew71IhLf  \n",
       "5805  1tkg4EHVoqnhR6iFEXb60y  \n",
       "5828  1c5CllrZr45UBhWpIqM332  \n",
       "5898  1IdZvb2XK8NmsovQlV6CPn  \n",
       "5924  6hO0b9LAggdysS9RIn8VxH  \n",
       "5987  6L8vSnsUa7cg7VELDLxOFn  \n",
       "6692  0j8ppsOOawdPCJnSTcXgOy  \n",
       "6971  4EmunTy7kNBYQivOa8F6b8  \n",
       "7156  37iVijLSSlIbjYbl4ycUge  \n",
       "7201  2WW6GimaaSQ2tZkgCS5l2u  \n",
       "7270  1O4qKxSYi8Hs2nQEXrISZ4  \n",
       "7296  5qkZJKTLBjzGyk2GnNSmCB  \n",
       "7366  4bf0YNnADKPCuj6KJtvqPO  "
      ]
     },
     "metadata": {},
     "output_type": "display_data"
    }
   ],
   "source": [
    "songs_same_cluster = data_normalized[data_normalized['cluster'] == requested_song_cluster_label[0]]\n",
    "display(songs_same_cluster)"
   ]
  },
  {
   "cell_type": "code",
   "execution_count": 408,
   "metadata": {},
   "outputs": [
    {
     "data": {
      "text/html": [
       "<div>\n",
       "<style scoped>\n",
       "    .dataframe tbody tr th:only-of-type {\n",
       "        vertical-align: middle;\n",
       "    }\n",
       "\n",
       "    .dataframe tbody tr th {\n",
       "        vertical-align: top;\n",
       "    }\n",
       "\n",
       "    .dataframe thead th {\n",
       "        text-align: right;\n",
       "    }\n",
       "</style>\n",
       "<table border=\"1\" class=\"dataframe\">\n",
       "  <thead>\n",
       "    <tr style=\"text-align: right;\">\n",
       "      <th></th>\n",
       "      <th>danceability</th>\n",
       "      <th>energy</th>\n",
       "      <th>loudness</th>\n",
       "      <th>speechiness</th>\n",
       "      <th>acousticness</th>\n",
       "      <th>instrumentalness</th>\n",
       "      <th>liveness</th>\n",
       "      <th>valence</th>\n",
       "      <th>tempo</th>\n",
       "      <th>duration_ms</th>\n",
       "      <th>cluster</th>\n",
       "      <th>id</th>\n",
       "    </tr>\n",
       "  </thead>\n",
       "  <tbody>\n",
       "    <tr>\n",
       "      <th>5898</th>\n",
       "      <td>0.674396</td>\n",
       "      <td>-0.825663</td>\n",
       "      <td>-0.597485</td>\n",
       "      <td>3.975127</td>\n",
       "      <td>2.272564</td>\n",
       "      <td>-0.418767</td>\n",
       "      <td>-0.212685</td>\n",
       "      <td>1.878797</td>\n",
       "      <td>-1.13748</td>\n",
       "      <td>-1.969588</td>\n",
       "      <td>10</td>\n",
       "      <td>1IdZvb2XK8NmsovQlV6CPn</td>\n",
       "    </tr>\n",
       "  </tbody>\n",
       "</table>\n",
       "</div>"
      ],
      "text/plain": [
       "      danceability    energy  loudness  speechiness  acousticness  \\\n",
       "5898      0.674396 -0.825663 -0.597485     3.975127      2.272564   \n",
       "\n",
       "      instrumentalness  liveness   valence    tempo  duration_ms  cluster  \\\n",
       "5898         -0.418767 -0.212685  1.878797 -1.13748    -1.969588       10   \n",
       "\n",
       "                          id  \n",
       "5898  1IdZvb2XK8NmsovQlV6CPn  "
      ]
     },
     "metadata": {},
     "output_type": "display_data"
    }
   ],
   "source": [
    "random_song = songs_same_cluster.sample(n=1)\n",
    "display(random_song)"
   ]
  },
  {
   "cell_type": "code",
   "execution_count": 409,
   "metadata": {},
   "outputs": [
    {
     "data": {
      "text/plain": [
       "'1IdZvb2XK8NmsovQlV6CPn'"
      ]
     },
     "execution_count": 409,
     "metadata": {},
     "output_type": "execute_result"
    }
   ],
   "source": [
    "random_song_id = random_song['id'].values[0]\n",
    "random_song_id"
   ]
  },
  {
   "attachments": {},
   "cell_type": "markdown",
   "metadata": {},
   "source": [
    "# Playing Recommended Song"
   ]
  },
  {
   "cell_type": "code",
   "execution_count": 410,
   "metadata": {},
   "outputs": [
    {
     "data": {
      "text/html": [
       "\n",
       "        <iframe\n",
       "            width=\"320\"\n",
       "            height=\"80\"\n",
       "            src=\"https://open.spotify.com/embed/track/1IdZvb2XK8NmsovQlV6CPn?autoplay=1?frameborder=0&allowtransparency=true&allow=encrypted-media\"\n",
       "            frameborder=\"0\"\n",
       "            allowfullscreen\n",
       "            \n",
       "        ></iframe>\n",
       "        "
      ],
      "text/plain": [
       "<IPython.lib.display.IFrame at 0x15ebe467ac0>"
      ]
     },
     "execution_count": 410,
     "metadata": {},
     "output_type": "execute_result"
    }
   ],
   "source": [
    "play_song(random_song_id)"
   ]
  },
  {
   "cell_type": "code",
   "execution_count": 411,
   "metadata": {},
   "outputs": [],
   "source": [
    "#  For project clustering steps:\n",
    "# 1- Load the Pandas data frame songs of the audio features (at least 1000 songs as different as possible).🎹 \n",
    "# 2- Standardize the data using Standardscaler\n",
    "# 3- Save the scaler for future use on the new user input song, using Pickle. (tomorrow)\n",
    "# 4- Select the number of clusters k.\n",
    "# 5- Adjust k means cluster.\n",
    "# 6- Build the elbow graph to find the best k. (tomorrow)\n",
    "# 7- Use the model with the best k to assign each observation in your data frame to its cluster number using model.predict (add cluster columns to the pandas data frame).\n",
    "# 8- Save the model with the best k as your final model using pickle. (tomorrow)\n",
    "\n",
    "# 📍 For the final product tasks and the full scenario:\n",
    "# 1- Get the song name from the user as input ---------- DONE\n",
    "# 2- Play the input song in the music embed player. ---------- DONE\n",
    "# 3- Get the audio features for this song from the Spotify API using sp.audio_features(trackid). Be careful to keep only the audio features columns.---------- DONE\n",
    "# 4- Load the StandardScaler using Pickle and use it to scale the REQUESTED_SONG.\n",
    "# 5- Use kmeans_model.predict(new scaled audio dataset for the REQUESTED_SONG) to predict the cluster (label) for the REQUESTED_SONG.\n",
    "# 6- Return a random song from the same cluster that the REQUESTED_SONG belongs to from your data frame and suggest it to the user.\n",
    "# 7- Play it using the built-in music player.\n",
    "# 8*- Try to Streamlit? ☀️ (optional) "
   ]
  }
 ],
 "metadata": {
  "kernelspec": {
   "display_name": "base",
   "language": "python",
   "name": "python3"
  },
  "language_info": {
   "codemirror_mode": {
    "name": "ipython",
    "version": 3
   },
   "file_extension": ".py",
   "mimetype": "text/x-python",
   "name": "python",
   "nbconvert_exporter": "python",
   "pygments_lexer": "ipython3",
   "version": "3.9.16"
  },
  "orig_nbformat": 4
 },
 "nbformat": 4,
 "nbformat_minor": 2
}
