{
 "cells": [
  {
   "cell_type": "code",
   "execution_count": null,
   "metadata": {},
   "outputs": [],
   "source": [
    "#  For project clustering steps:\n",
    "# 1- Load the Pandas data frame songs of the audio features (at least 1000 songs as different as possible).🎹 ----DONE\n",
    "# 2- Standardize the data using Standardscaler ----DONE\n",
    "# 3- Save the scaler for future use on the new user input song, using Pickle. (tomorrow)\n",
    "# 4- Select the number of clusters k.\n",
    "# 5- Adjust k means cluster.\n",
    "# 6- Build the elbow graph to find the best k. (tomorrow)\n",
    "# 7- Use the model with the best k to assign each observation in your data frame to its cluster number using model.predict (add cluster columns to the pandas data frame).\n",
    "# 8- Save the model with the best k as your final model using pickle. (tomorrow)\n",
    "\n",
    "# 📍 For the final product tasks and the full scenario:\n",
    "# 1- Get the song name from the user as input ---------- DONE\n",
    "# 2- Play the input song in the music embed player. ---------- DONE\n",
    "# 3- Get the audio features for this song from the Spotify API using sp.audio_features(trackid). Be careful to keep only the audio features columns.---------- DONE\n",
    "# 4- Load the StandardScaler using Pickle and use it to scale the REQUESTED_SONG.(tomorrow)\n",
    "# 5- Use kmeans_model.predict(new scaled audio dataset for the REQUESTED_SONG) to predict the cluster (label) for the REQUESTED_SONG.\n",
    "# 6- Return a random song from the same cluster that the REQUESTED_SONG belongs to from your data frame and suggest it to the user.\n",
    "# 7- Play it using the built-in music player.\n",
    "# 8*- Try to Streamlit? ☀️ (optional) "
   ]
  },
  {
   "cell_type": "code",
   "execution_count": null,
   "metadata": {},
   "outputs": [],
   "source": [
    "from stackapi import StackAPI\n",
    "from bs4 import BeautifulSoup\n",
    "import requests as re\n",
    "\n",
    "import pandas as pd\n",
    "import numpy as np\n",
    "\n",
    "from random import randint    \n",
    "from datetime import datetime, timedelta\n",
    "from time import sleep\n",
    "\n",
    "import json\n",
    "import os\n",
    "import spotipy\n",
    "from spotipy.oauth2 import SpotifyClientCredentials\n",
    "import pprint\n",
    "\n",
    "client_id = os.environ.get(\"SPOTIPY_CLIENT_ID\")\n",
    "client_secret = os.environ.get(\"SPOTIPY_CLIENT_SECRET\")\n",
    "\n",
    "sp = spotipy.Spotify(client_credentials_manager=SpotifyClientCredentials())\n",
    "\n",
    "from plotly import express as px\n",
    "from sklearn.cluster import KMeans\n",
    "from sklearn.preprocessing import OneHotEncoder\n",
    "from sklearn.decomposition import PCA\n",
    "from sklearn.preprocessing import StandardScaler\n",
    "from matplotlib import pyplot as plt"
   ]
  },
  {
   "attachments": {},
   "cell_type": "markdown",
   "metadata": {},
   "source": [
    "# ***************************** PART I *****************************"
   ]
  },
  {
   "attachments": {},
   "cell_type": "markdown",
   "metadata": {},
   "source": [
    "## Loading our Songs Database"
   ]
  },
  {
   "cell_type": "code",
   "execution_count": null,
   "metadata": {},
   "outputs": [],
   "source": [
    "df = pd.read_csv('Songs_Database.csv', sep=';')\n",
    "# df.dropna(subset=[\"id\"], inplace=True)\n",
    "df"
   ]
  },
  {
   "cell_type": "code",
   "execution_count": null,
   "metadata": {},
   "outputs": [],
   "source": [
    "data = df.drop([\"id\"], axis=1)\n",
    "data.head()"
   ]
  },
  {
   "attachments": {},
   "cell_type": "markdown",
   "metadata": {},
   "source": [
    "## Performing Scaling on our Songs_Database"
   ]
  },
  {
   "cell_type": "code",
   "execution_count": null,
   "metadata": {},
   "outputs": [],
   "source": [
    "# Create an instance of StandardScaler\n",
    "scaler = StandardScaler()\n",
    "\n",
    "# Standardize the data using StandardScaler\n",
    "X_normalized = scaler.fit_transform(data[[\"danceability\", \"energy\", \"loudness\", \"speechiness\", \"acousticness\", \"instrumentalness\",\"liveness\",\"valence\",\"tempo\",\"duration_ms\"]])\n",
    "\n",
    "# Print the original data\n",
    "print(\"Original data:\")\n",
    "# print(data.head().to_frame())\n",
    "display(data.head())\n",
    "\n",
    "# Create a DataFrame with the normalized data\n",
    "data_normalized = pd.DataFrame(X_normalized, columns=[\"danceability\", \"energy\", \"loudness\", \"speechiness\", \"acousticness\", \"instrumentalness\",\"liveness\",\"valence\",\"tempo\",\"duration_ms\"])\n",
    "\n",
    "# Print the scaled data\n",
    "print(\"\\nScaled data:\")\n",
    "data_normalized.head()"
   ]
  },
  {
   "cell_type": "code",
   "execution_count": null,
   "metadata": {},
   "outputs": [],
   "source": [
    "# Perform PCA on the normalized data\n",
    "pca = PCA(n_components=10)\n",
    "pca.fit(X_normalized)\n",
    "\n",
    "# Get the contribution of each principal component to the data variance\n",
    "# En utilisant pca.explained_variance_ratio_, on peut obtenir une idée de la contribution de chaque composante principale à la variance des données.\n",
    "# Cela peut aider à décider combien de composantes principales utiliser pour réduire la dimensionnalité ou pour d'autres analyses.\n",
    "pca.explained_variance_ratio_\n",
    "\n",
    "# Get the contribution of each principal component to the data variance\n",
    "explained_variance_ratio = pca.explained_variance_ratio_\n",
    "\n",
    "# Print the contribution of each principal component\n",
    "print(\"Explained variance ratio:\")\n",
    "print(explained_variance_ratio)\n",
    "\n",
    "# Calculate the cumulative sum of explained variance ratio\n",
    "# Déterminer combien de composantes principales tu souhaites conserver, en fonction du pourcentage de variance que tu souhaites préserver.\n",
    "# Par exemple, si la somme cumulative atteint 0,95, cela signifie que les composantes principales retenues capturent 95 % de la variance totale des données.\n",
    "np.cumsum(pca.explained_variance_ratio_)\n",
    "\n",
    "# Calculate the cumulative sum of explained variance ratio\n",
    "cumulative_variance_ratio = np.cumsum(explained_variance_ratio)\n",
    "\n",
    "# Print the cumulative sum of explained variance ratio\n",
    "print(\"\\nCumulative variance ratio:\")\n",
    "print(cumulative_variance_ratio)"
   ]
  },
  {
   "attachments": {},
   "cell_type": "markdown",
   "metadata": {},
   "source": [
    "## Save SCALER in file with PICKLE"
   ]
  },
  {
   "cell_type": "code",
   "execution_count": null,
   "metadata": {},
   "outputs": [],
   "source": [
    "import pickle\n",
    "\n",
    "#Ici, nous ouvrons un fichier nommé \"scaler.pkl\" en mode d'écriture binaire ('wb'), puis nous utilisons pickle.dump() pour écrire l'objet scaler dans le fichier.\n",
    "with open('scaler.pkl', 'wb') as fichier:\n",
    "    pickle.dump(scaler, fichier)"
   ]
  },
  {
   "cell_type": "code",
   "execution_count": null,
   "metadata": {},
   "outputs": [],
   "source": [
    "# with open(\"Songs_Database.csv\", \"rb\") as f: #don't forget the correct path\n",
    "#      scaler_new = pickle.load(fichier) "
   ]
  },
  {
   "attachments": {},
   "cell_type": "markdown",
   "metadata": {},
   "source": [
    "## Finding out the best number of Clusters to use"
   ]
  },
  {
   "cell_type": "code",
   "execution_count": null,
   "metadata": {},
   "outputs": [],
   "source": [
    "K = range(5, 30) #range of the clusters\n",
    "inertia = []\n",
    "\n",
    "for k in K: #for every data in set build a inertia\n",
    "    print(\"Training a K-Means model with {} clusters! \".format(k))\n",
    "    print()\n",
    "    kmeans = KMeans(n_clusters=k,\n",
    "                    random_state=1234)\n",
    "    kmeans.fit(data)\n",
    "    inertia.append(kmeans.inertia_)\n",
    "\n",
    "import numpy as np\n",
    "import matplotlib.pyplot as plt\n",
    "%matplotlib inline\n",
    "\n",
    "plt.figure(figsize=(16,8))\n",
    "plt.plot(K, inertia, 'bx-')\n",
    "plt.xlabel('k')\n",
    "plt.ylabel('inertia')\n",
    "plt.xticks(np.arange(min(K), max(K)+1, 1.0)) #changing the scale\n",
    "plt.title('Elbow Method showing the optimal k') "
   ]
  },
  {
   "attachments": {},
   "cell_type": "markdown",
   "metadata": {},
   "source": [
    "## PCA and KMeans"
   ]
  },
  {
   "cell_type": "code",
   "execution_count": null,
   "metadata": {},
   "outputs": [],
   "source": [
    "# Transform the normalized data using the principal components\n",
    "X_pca = pca.transform(X_normalized)\n",
    "\n",
    "# Apply K-means clustering to the transformed data\n",
    "kmeans = KMeans(n_clusters=14, n_init=12)\n",
    "kmeans.fit(X_pca)\n",
    "cluster_ids = kmeans.predict(X_pca)\n",
    "cluster_distances = kmeans.transform(X_pca)\n",
    "\n",
    "# Print the cluster IDs and distances\n",
    "print(\"\\nCluster IDs:\")\n",
    "print(cluster_ids)\n",
    "print(\"\\nCluster distances:\")\n",
    "print(cluster_distances)"
   ]
  },
  {
   "attachments": {},
   "cell_type": "markdown",
   "metadata": {},
   "source": [
    "## Assigning a cluster to each song"
   ]
  },
  {
   "cell_type": "code",
   "execution_count": null,
   "metadata": {},
   "outputs": [],
   "source": [
    "data_normalized['cluster'] = cluster_ids\n",
    "data_normalized"
   ]
  },
  {
   "cell_type": "code",
   "execution_count": null,
   "metadata": {},
   "outputs": [],
   "source": [
    "data.head()"
   ]
  },
  {
   "cell_type": "code",
   "execution_count": null,
   "metadata": {},
   "outputs": [],
   "source": [
    "data_normalized.reset_index(drop=True, inplace=True)  # Restaurer l'index d'origine\n",
    "column = df.loc[:, \"id\"]\n",
    "data_normalized[\"id\"] = column\n",
    "\n",
    "data_normalized"
   ]
  },
  {
   "attachments": {},
   "cell_type": "markdown",
   "metadata": {},
   "source": [
    "## 8- Saving model with best K as final model using Pickle"
   ]
  },
  {
   "cell_type": "code",
   "execution_count": null,
   "metadata": {},
   "outputs": [],
   "source": [
    "meilleur_k = 14  # Remplacez par le meilleur k que vous avez sélectionné\n",
    "kmeans_final = KMeans(n_clusters=meilleur_k)\n",
    "\n",
    "kmeans_final.fit(X_pca)  # Remplacez X_pca par vos données normalisées\n",
    "\n",
    "# Définir le nom du fichier pour sauvegarder le modèle\n",
    "nom_fichier_modele = \"k_means_final_model.pkl\"\n",
    "\n",
    "# Sauvegarder le modèle avec Pickle\n",
    "with open(nom_fichier_modele, 'wb') as fichier:\n",
    "    pickle.dump(kmeans_final, fichier)"
   ]
  },
  {
   "cell_type": "code",
   "execution_count": null,
   "metadata": {},
   "outputs": [],
   "source": [
    "#Obtenir les identifiants uniques de cluster dans cluster_ids,\n",
    "#puis il itère sur ces identifiants pour tracer un nuage de points pour chaque cluster.\n",
    "\n",
    "for c in np.unique(cluster_ids):\n",
    "    plt.scatter(X_pca[cluster_ids == c, 0], X_pca[cluster_ids == c, 1], marker='.', s=50)"
   ]
  },
  {
   "cell_type": "code",
   "execution_count": null,
   "metadata": {},
   "outputs": [],
   "source": [
    "#Utilisation de fit_predict de KMeans pour effectuer à la fois l'ajustement du modèle K-means \n",
    "# et la prédiction des clusters pour les données normalisées X_normalized.\n",
    "cluster_ids = KMeans(n_clusters=9, n_init=100).fit_predict(X_normalized)\n",
    "\n",
    "for c in np.unique(cluster_ids):\n",
    "    plt.scatter(X_normalized[cluster_ids == c, 0], X_normalized[cluster_ids == c, 1], marker='.', s=50)\n",
    "\n",
    "plt.show()"
   ]
  },
  {
   "cell_type": "code",
   "execution_count": null,
   "metadata": {},
   "outputs": [],
   "source": [
    "#Utilisation de fit_predict de KMeans pour effectuer à la fois l'ajustement du modèle K-means \n",
    "# et la prédiction des clusters pour les données normalisées X_normalized.\n",
    "\n",
    "cluster_ids = KMeans(n_clusters=14, n_init=100).fit_predict(X_normalized)\n",
    "\n",
    "for c in np.unique(cluster_ids):\n",
    "    plt.scatter(X_normalized[cluster_ids == c, 0], X_normalized[cluster_ids == c, 1], marker='.', s=50)\n",
    "\n",
    "plt.show()"
   ]
  },
  {
   "attachments": {},
   "cell_type": "markdown",
   "metadata": {},
   "source": [
    "# ***************************** PART II *****************************"
   ]
  },
  {
   "attachments": {},
   "cell_type": "markdown",
   "metadata": {},
   "source": [
    "## Getting the song from user"
   ]
  },
  {
   "cell_type": "code",
   "execution_count": 239,
   "metadata": {},
   "outputs": [],
   "source": [
    "x = str(input(\"Please enter the name of a song you'd like to listen to: \"))"
   ]
  },
  {
   "attachments": {},
   "cell_type": "markdown",
   "metadata": {},
   "source": [
    "## Creating the JSON"
   ]
  },
  {
   "cell_type": "code",
   "execution_count": 240,
   "metadata": {},
   "outputs": [
    {
     "name": "stdout",
     "output_type": "stream",
     "text": [
      "{\"tracks\": {\"href\": \"https://api.spotify.com/v1/search?query=Welcome+to+detroy&type=track&market=FR&offset=0&limit=1\", \"items\": [{\"album\": {\"album_type\": \"album\", \"artists\": [{\"external_urls\": {\"spotify\": \"https://open.spotify.com/artist/7tT5h21rKj9yFfQuqBYLqT\"}, \"href\": \"https://api.spotify.com/v1/artists/7tT5h21rKj9yFfQuqBYLqT\", \"id\": \"7tT5h21rKj9yFfQuqBYLqT\", \"name\": \"Trick Trick\", \"type\": \"artist\", \"uri\": \"spotify:artist:7tT5h21rKj9yFfQuqBYLqT\"}], \"external_urls\": {\"spotify\": \"https://open.spotify.com/album/0siKp9welK70TSwKHywPgM\"}, \"href\": \"https://api.spotify.com/v1/albums/0siKp9welK70TSwKHywPgM\", \"id\": \"0siKp9welK70TSwKHywPgM\", \"images\": [{\"height\": 640, \"url\": \"https://i.scdn.co/image/ab67616d0000b2738d8e053727a618a608be2f21\", \"width\": 640}, {\"height\": 300, \"url\": \"https://i.scdn.co/image/ab67616d00001e028d8e053727a618a608be2f21\", \"width\": 300}, {\"height\": 64, \"url\": \"https://i.scdn.co/image/ab67616d000048518d8e053727a618a608be2f21\", \"width\": 64}], \"is_playable\": true, \"name\": \"Featuring\", \"release_date\": \"2013-05-21\", \"release_date_precision\": \"day\", \"total_tracks\": 19, \"type\": \"album\", \"uri\": \"spotify:album:0siKp9welK70TSwKHywPgM\"}, \"artists\": [{\"external_urls\": {\"spotify\": \"https://open.spotify.com/artist/7tT5h21rKj9yFfQuqBYLqT\"}, \"href\": \"https://api.spotify.com/v1/artists/7tT5h21rKj9yFfQuqBYLqT\", \"id\": \"7tT5h21rKj9yFfQuqBYLqT\", \"name\": \"Trick Trick\", \"type\": \"artist\", \"uri\": \"spotify:artist:7tT5h21rKj9yFfQuqBYLqT\"}, {\"external_urls\": {\"spotify\": \"https://open.spotify.com/artist/7dGJo4pcD2V6oG8kP0tJRR\"}, \"href\": \"https://api.spotify.com/v1/artists/7dGJo4pcD2V6oG8kP0tJRR\", \"id\": \"7dGJo4pcD2V6oG8kP0tJRR\", \"name\": \"Eminem\", \"type\": \"artist\", \"uri\": \"spotify:artist:7dGJo4pcD2V6oG8kP0tJRR\"}], \"disc_number\": 1, \"duration_ms\": 286903, \"explicit\": true, \"external_ids\": {\"isrc\": \"TCABO1321492\"}, \"external_urls\": {\"spotify\": \"https://open.spotify.com/track/0ElQWopuhQ10wgGouWSVlR\"}, \"href\": \"https://api.spotify.com/v1/tracks/0ElQWopuhQ10wgGouWSVlR\", \"id\": \"0ElQWopuhQ10wgGouWSVlR\", \"is_local\": false, \"is_playable\": true, \"name\": \"Welcome to Detroit (feat. Eminem)\", \"popularity\": 44, \"preview_url\": \"https://p.scdn.co/mp3-preview/a5541a87c2f4443a1910229e01c3b2785dda6018?cid=93af8f8aab0948589602740953dd0ca7\", \"track_number\": 3, \"type\": \"track\", \"uri\": \"spotify:track:0ElQWopuhQ10wgGouWSVlR\"}], \"limit\": 1, \"next\": \"https://api.spotify.com/v1/search?query=Welcome+to+detroy&type=track&market=FR&offset=1&limit=1\", \"offset\": 0, \"previous\": null, \"total\": 1000}}\n"
     ]
    }
   ],
   "source": [
    "results = sp.search(q= x, limit=1, market=\"FR\")\n",
    "\n",
    "json_results = json.dumps(results, ensure_ascii=True)\n",
    "print(json_results)"
   ]
  },
  {
   "attachments": {},
   "cell_type": "markdown",
   "metadata": {},
   "source": [
    "## Displaying JSON"
   ]
  },
  {
   "cell_type": "code",
   "execution_count": 241,
   "metadata": {},
   "outputs": [
    {
     "name": "stdout",
     "output_type": "stream",
     "text": [
      "{'album': {'album_type': 'album',\n",
      "           'artists': [{'external_urls': {'spotify': 'https://open.spotify.com/artist/7tT5h21rKj9yFfQuqBYLqT'},\n",
      "                        'href': 'https://api.spotify.com/v1/artists/7tT5h21rKj9yFfQuqBYLqT',\n",
      "                        'id': '7tT5h21rKj9yFfQuqBYLqT',\n",
      "                        'name': 'Trick Trick',\n",
      "                        'type': 'artist',\n",
      "                        'uri': 'spotify:artist:7tT5h21rKj9yFfQuqBYLqT'}],\n",
      "           'external_urls': {'spotify': 'https://open.spotify.com/album/0siKp9welK70TSwKHywPgM'},\n",
      "           'href': 'https://api.spotify.com/v1/albums/0siKp9welK70TSwKHywPgM',\n",
      "           'id': '0siKp9welK70TSwKHywPgM',\n",
      "           'images': [{'height': 640,\n",
      "                       'url': 'https://i.scdn.co/image/ab67616d0000b2738d8e053727a618a608be2f21',\n",
      "                       'width': 640},\n",
      "                      {'height': 300,\n",
      "                       'url': 'https://i.scdn.co/image/ab67616d00001e028d8e053727a618a608be2f21',\n",
      "                       'width': 300},\n",
      "                      {'height': 64,\n",
      "                       'url': 'https://i.scdn.co/image/ab67616d000048518d8e053727a618a608be2f21',\n",
      "                       'width': 64}],\n",
      "           'is_playable': True,\n",
      "           'name': 'Featuring',\n",
      "           'release_date': '2013-05-21',\n",
      "           'release_date_precision': 'day',\n",
      "           'total_tracks': 19,\n",
      "           'type': 'album',\n",
      "           'uri': 'spotify:album:0siKp9welK70TSwKHywPgM'},\n",
      " 'artists': [{'external_urls': {'spotify': 'https://open.spotify.com/artist/7tT5h21rKj9yFfQuqBYLqT'},\n",
      "              'href': 'https://api.spotify.com/v1/artists/7tT5h21rKj9yFfQuqBYLqT',\n",
      "              'id': '7tT5h21rKj9yFfQuqBYLqT',\n",
      "              'name': 'Trick Trick',\n",
      "              'type': 'artist',\n",
      "              'uri': 'spotify:artist:7tT5h21rKj9yFfQuqBYLqT'},\n",
      "             {'external_urls': {'spotify': 'https://open.spotify.com/artist/7dGJo4pcD2V6oG8kP0tJRR'},\n",
      "              'href': 'https://api.spotify.com/v1/artists/7dGJo4pcD2V6oG8kP0tJRR',\n",
      "              'id': '7dGJo4pcD2V6oG8kP0tJRR',\n",
      "              'name': 'Eminem',\n",
      "              'type': 'artist',\n",
      "              'uri': 'spotify:artist:7dGJo4pcD2V6oG8kP0tJRR'}],\n",
      " 'disc_number': 1,\n",
      " 'duration_ms': 286903,\n",
      " 'explicit': True,\n",
      " 'external_ids': {'isrc': 'TCABO1321492'},\n",
      " 'external_urls': {'spotify': 'https://open.spotify.com/track/0ElQWopuhQ10wgGouWSVlR'},\n",
      " 'href': 'https://api.spotify.com/v1/tracks/0ElQWopuhQ10wgGouWSVlR',\n",
      " 'id': '0ElQWopuhQ10wgGouWSVlR',\n",
      " 'is_local': False,\n",
      " 'is_playable': True,\n",
      " 'name': 'Welcome to Detroit (feat. Eminem)',\n",
      " 'popularity': 44,\n",
      " 'preview_url': 'https://p.scdn.co/mp3-preview/a5541a87c2f4443a1910229e01c3b2785dda6018?cid=93af8f8aab0948589602740953dd0ca7',\n",
      " 'track_number': 3,\n",
      " 'type': 'track',\n",
      " 'uri': 'spotify:track:0ElQWopuhQ10wgGouWSVlR'}\n",
      "The name of song is: 'Welcome to Detroit (feat. Eminem)' and the id is: 0ElQWopuhQ10wgGouWSVlR\n"
     ]
    }
   ],
   "source": [
    "results['tracks'][\"items\"][0].keys() # All the dictionary\n",
    "pprint.pprint(results['tracks']['items'][0])\n",
    "\n",
    "results['tracks']['items'][0]['id'] # Getting song ID\n",
    "\n",
    "for item in results['tracks']['items']:\n",
    "    print(\"The name of song is: '{}' and the id is: {}\".format(item['name'],item[\"id\"]))"
   ]
  },
  {
   "attachments": {},
   "cell_type": "markdown",
   "metadata": {},
   "source": [
    "## Understanding the JSON"
   ]
  },
  {
   "cell_type": "code",
   "execution_count": 242,
   "metadata": {},
   "outputs": [
    {
     "name": "stdout",
     "output_type": "stream",
     "text": [
      "The json file has the following keys:  ['tracks']\n",
      "The 'tracks' key has the following child keys:  ['href', 'items', 'limit', 'next', 'offset', 'previous', 'total']\n",
      "The query we made is:  https://api.spotify.com/v1/search?query=Welcome+to+detroy&type=track&market=FR&offset=0&limit=1\n",
      "The song's info is contained in:  [{'album': {'album_type': 'album', 'artists': [{'external_urls': {'spotify': 'https://open.spotify.com/artist/7tT5h21rKj9yFfQuqBYLqT'}, 'href': 'https://api.spotify.com/v1/artists/7tT5h21rKj9yFfQuqBYLqT', 'id': '7tT5h21rKj9yFfQuqBYLqT', 'name': 'Trick Trick', 'type': 'artist', 'uri': 'spotify:artist:7tT5h21rKj9yFfQuqBYLqT'}], 'external_urls': {'spotify': 'https://open.spotify.com/album/0siKp9welK70TSwKHywPgM'}, 'href': 'https://api.spotify.com/v1/albums/0siKp9welK70TSwKHywPgM', 'id': '0siKp9welK70TSwKHywPgM', 'images': [{'height': 640, 'url': 'https://i.scdn.co/image/ab67616d0000b2738d8e053727a618a608be2f21', 'width': 640}, {'height': 300, 'url': 'https://i.scdn.co/image/ab67616d00001e028d8e053727a618a608be2f21', 'width': 300}, {'height': 64, 'url': 'https://i.scdn.co/image/ab67616d000048518d8e053727a618a608be2f21', 'width': 64}], 'is_playable': True, 'name': 'Featuring', 'release_date': '2013-05-21', 'release_date_precision': 'day', 'total_tracks': 19, 'type': 'album', 'uri': 'spotify:album:0siKp9welK70TSwKHywPgM'}, 'artists': [{'external_urls': {'spotify': 'https://open.spotify.com/artist/7tT5h21rKj9yFfQuqBYLqT'}, 'href': 'https://api.spotify.com/v1/artists/7tT5h21rKj9yFfQuqBYLqT', 'id': '7tT5h21rKj9yFfQuqBYLqT', 'name': 'Trick Trick', 'type': 'artist', 'uri': 'spotify:artist:7tT5h21rKj9yFfQuqBYLqT'}, {'external_urls': {'spotify': 'https://open.spotify.com/artist/7dGJo4pcD2V6oG8kP0tJRR'}, 'href': 'https://api.spotify.com/v1/artists/7dGJo4pcD2V6oG8kP0tJRR', 'id': '7dGJo4pcD2V6oG8kP0tJRR', 'name': 'Eminem', 'type': 'artist', 'uri': 'spotify:artist:7dGJo4pcD2V6oG8kP0tJRR'}], 'disc_number': 1, 'duration_ms': 286903, 'explicit': True, 'external_ids': {'isrc': 'TCABO1321492'}, 'external_urls': {'spotify': 'https://open.spotify.com/track/0ElQWopuhQ10wgGouWSVlR'}, 'href': 'https://api.spotify.com/v1/tracks/0ElQWopuhQ10wgGouWSVlR', 'id': '0ElQWopuhQ10wgGouWSVlR', 'is_local': False, 'is_playable': True, 'name': 'Welcome to Detroit (feat. Eminem)', 'popularity': 44, 'preview_url': 'https://p.scdn.co/mp3-preview/a5541a87c2f4443a1910229e01c3b2785dda6018?cid=93af8f8aab0948589602740953dd0ca7', 'track_number': 3, 'type': 'track', 'uri': 'spotify:track:0ElQWopuhQ10wgGouWSVlR'}]\n",
      "The limit of the query we've made is:  1\n",
      "The next page if any:  https://api.spotify.com/v1/search?query=Welcome+to+detroy&type=track&market=FR&offset=1&limit=1\n",
      "The starting webpage:  0\n",
      "Starting webpage:  None\n",
      "Total number of results:  1000\n"
     ]
    }
   ],
   "source": [
    "print(\"The json file has the following keys: \", list(results.keys())) # We can see that we only have tracks\n",
    "print(\"The 'tracks' key has the following child keys: \", list(results[\"tracks\"].keys())) # Let's check the values\n",
    "print(\"The query we made is: \", results[\"tracks\"][\"href\"]) # Query we have searched \n",
    "print(\"The song's info is contained in: \", results[\"tracks\"][\"items\"]) # items (actual tracks)\n",
    "print(\"The limit of the query we've made is: \", results[\"tracks\"][\"limit\"]) # Limit we have chosen\n",
    "print(\"The next page if any: \", results[\"tracks\"][\"next\"]) # Link to the next page (next 50 tracks)\n",
    "print(\"The starting webpage: \", results[\"tracks\"][\"offset\"]) # Actual offset (starting point)\n",
    "print(\"Starting webpage: \", results[\"tracks\"][\"previous\"]) # Previous search\n",
    "print(\"Total number of results: \", results[\"tracks\"][\"total\"]) # Number of matches"
   ]
  },
  {
   "attachments": {},
   "cell_type": "markdown",
   "metadata": {},
   "source": [
    "## Other Infos"
   ]
  },
  {
   "cell_type": "code",
   "execution_count": 243,
   "metadata": {},
   "outputs": [
    {
     "name": "stdout",
     "output_type": "stream",
     "text": [
      "Track infos\n",
      "[{'external_urls': {'spotify': 'https://open.spotify.com/artist/7tT5h21rKj9yFfQuqBYLqT'}, 'href': 'https://api.spotify.com/v1/artists/7tT5h21rKj9yFfQuqBYLqT', 'id': '7tT5h21rKj9yFfQuqBYLqT', 'name': 'Trick Trick', 'type': 'artist', 'uri': 'spotify:artist:7tT5h21rKj9yFfQuqBYLqT'}, {'external_urls': {'spotify': 'https://open.spotify.com/artist/7dGJo4pcD2V6oG8kP0tJRR'}, 'href': 'https://api.spotify.com/v1/artists/7dGJo4pcD2V6oG8kP0tJRR', 'id': '7dGJo4pcD2V6oG8kP0tJRR', 'name': 'Eminem', 'type': 'artist', 'uri': 'spotify:artist:7dGJo4pcD2V6oG8kP0tJRR'}]\n",
      "\n",
      "Track ID\n",
      "0ElQWopuhQ10wgGouWSVlR\n",
      "\n",
      "Track name\n",
      "Welcome to Detroit (feat. Eminem)\n",
      "\n",
      "Popularity index\n",
      "44\n",
      "\n",
      "Basically ID\n",
      "spotify:track:0ElQWopuhQ10wgGouWSVlR\n"
     ]
    }
   ],
   "source": [
    "print(\"Track infos\")\n",
    "print(results[\"tracks\"][\"items\"][0][\"artists\"]) # Track artists\n",
    "\n",
    "# print(\"Track artists\")\n",
    "# print(results[\"tracks\"][\"items\"][0][\"artists\"][\"0\"][\"name\"]) # Track artists\n",
    "\n",
    "\n",
    "\n",
    "print(\"\\nTrack ID\")\n",
    "print(results[\"tracks\"][\"items\"][0][\"id\"]) # Track ID\n",
    "print(\"\\nTrack name\")\n",
    "print(results[\"tracks\"][\"items\"][0][\"name\"]) # Track name\n",
    "print(\"\\nPopularity index\")\n",
    "print(results[\"tracks\"][\"items\"][0][\"popularity\"]) # Popularity index\n",
    "print(\"\\nBasically ID\")\n",
    "print(results[\"tracks\"][\"items\"][0][\"uri\"]) # Basically ID\n"
   ]
  },
  {
   "attachments": {},
   "cell_type": "markdown",
   "metadata": {},
   "source": [
    "## Playing the requested Song"
   ]
  },
  {
   "cell_type": "code",
   "execution_count": 244,
   "metadata": {},
   "outputs": [],
   "source": [
    "from IPython.display import IFrame\n",
    "\n",
    "track_id = results[\"tracks\"][\"items\"][0][\"id\"]\n",
    "\n",
    "def play_song(track_id):\n",
    "    return IFrame(src=\"https://open.spotify.com/embed/track/\"+track_id+\"?autoplay=1\",\n",
    "       width=\"320\",\n",
    "       height=\"80\",\n",
    "       frameborder=\"0\",\n",
    "       allowtransparency=\"true\",\n",
    "       allow=\"encrypted-media\",\n",
    "      )"
   ]
  },
  {
   "cell_type": "code",
   "execution_count": 245,
   "metadata": {},
   "outputs": [
    {
     "data": {
      "text/html": [
       "\n",
       "        <iframe\n",
       "            width=\"320\"\n",
       "            height=\"80\"\n",
       "            src=\"https://open.spotify.com/embed/track/0ElQWopuhQ10wgGouWSVlR?autoplay=1?frameborder=0&allowtransparency=true&allow=encrypted-media\"\n",
       "            frameborder=\"0\"\n",
       "            allowfullscreen\n",
       "            \n",
       "        ></iframe>\n",
       "        "
      ],
      "text/plain": [
       "<IPython.lib.display.IFrame at 0x14a9dc84ca0>"
      ]
     },
     "execution_count": 245,
     "metadata": {},
     "output_type": "execute_result"
    }
   ],
   "source": [
    "play_song(track_id)"
   ]
  },
  {
   "attachments": {},
   "cell_type": "markdown",
   "metadata": {},
   "source": [
    "## Track ID of the Song"
   ]
  },
  {
   "cell_type": "code",
   "execution_count": 246,
   "metadata": {},
   "outputs": [
    {
     "data": {
      "text/plain": [
       "'0ElQWopuhQ10wgGouWSVlR'"
      ]
     },
     "execution_count": 246,
     "metadata": {},
     "output_type": "execute_result"
    }
   ],
   "source": [
    "song_id = results[\"tracks\"][\"items\"][0][\"id\"]\n",
    "song_id"
   ]
  },
  {
   "attachments": {},
   "cell_type": "markdown",
   "metadata": {},
   "source": [
    "## Getting the audio features of the Requested Song"
   ]
  },
  {
   "cell_type": "code",
   "execution_count": 247,
   "metadata": {},
   "outputs": [
    {
     "name": "stdout",
     "output_type": "stream",
     "text": [
      "[{'danceability': 0.588, 'energy': 0.869, 'key': 6, 'loudness': -1.998, 'mode': 1, 'speechiness': 0.322, 'acousticness': 0.22, 'instrumentalness': 0, 'liveness': 0.585, 'valence': 0.529, 'tempo': 91.128, 'type': 'audio_features', 'id': '0ElQWopuhQ10wgGouWSVlR', 'uri': 'spotify:track:0ElQWopuhQ10wgGouWSVlR', 'track_href': 'https://api.spotify.com/v1/tracks/0ElQWopuhQ10wgGouWSVlR', 'analysis_url': 'https://api.spotify.com/v1/audio-analysis/0ElQWopuhQ10wgGouWSVlR', 'duration_ms': 286904, 'time_signature': 4}]\n"
     ]
    },
    {
     "data": {
      "text/plain": [
       "[{'danceability': 0.588,\n",
       "  'energy': 0.869,\n",
       "  'key': 6,\n",
       "  'loudness': -1.998,\n",
       "  'mode': 1,\n",
       "  'speechiness': 0.322,\n",
       "  'acousticness': 0.22,\n",
       "  'instrumentalness': 0,\n",
       "  'liveness': 0.585,\n",
       "  'valence': 0.529,\n",
       "  'tempo': 91.128,\n",
       "  'type': 'audio_features',\n",
       "  'id': '0ElQWopuhQ10wgGouWSVlR',\n",
       "  'uri': 'spotify:track:0ElQWopuhQ10wgGouWSVlR',\n",
       "  'track_href': 'https://api.spotify.com/v1/tracks/0ElQWopuhQ10wgGouWSVlR',\n",
       "  'analysis_url': 'https://api.spotify.com/v1/audio-analysis/0ElQWopuhQ10wgGouWSVlR',\n",
       "  'duration_ms': 286904,\n",
       "  'time_signature': 4}]"
      ]
     },
     "execution_count": 247,
     "metadata": {},
     "output_type": "execute_result"
    }
   ],
   "source": [
    "print(sp.audio_features(song_id))\n",
    "sp.audio_features(song_id)"
   ]
  },
  {
   "attachments": {},
   "cell_type": "markdown",
   "metadata": {},
   "source": [
    "## Extract the Audio Features of the Requested Song in a Dataframe"
   ]
  },
  {
   "cell_type": "code",
   "execution_count": 248,
   "metadata": {},
   "outputs": [
    {
     "name": "stdout",
     "output_type": "stream",
     "text": [
      "[{'danceability': 0.588, 'energy': 0.869, 'key': 6, 'loudness': -1.998, 'mode': 1, 'speechiness': 0.322, 'acousticness': 0.22, 'instrumentalness': 0, 'liveness': 0.585, 'valence': 0.529, 'tempo': 91.128, 'type': 'audio_features', 'id': '0ElQWopuhQ10wgGouWSVlR', 'uri': 'spotify:track:0ElQWopuhQ10wgGouWSVlR', 'track_href': 'https://api.spotify.com/v1/tracks/0ElQWopuhQ10wgGouWSVlR', 'analysis_url': 'https://api.spotify.com/v1/audio-analysis/0ElQWopuhQ10wgGouWSVlR', 'duration_ms': 286904, 'time_signature': 4}]\n"
     ]
    }
   ],
   "source": [
    "print(sp.audio_features(results[\"tracks\"][\"items\"][0][\"id\"]))"
   ]
  },
  {
   "cell_type": "code",
   "execution_count": 249,
   "metadata": {},
   "outputs": [
    {
     "data": {
      "text/html": [
       "<div>\n",
       "<style scoped>\n",
       "    .dataframe tbody tr th:only-of-type {\n",
       "        vertical-align: middle;\n",
       "    }\n",
       "\n",
       "    .dataframe tbody tr th {\n",
       "        vertical-align: top;\n",
       "    }\n",
       "\n",
       "    .dataframe thead th {\n",
       "        text-align: right;\n",
       "    }\n",
       "</style>\n",
       "<table border=\"1\" class=\"dataframe\">\n",
       "  <thead>\n",
       "    <tr style=\"text-align: right;\">\n",
       "      <th></th>\n",
       "      <th>danceability</th>\n",
       "      <th>energy</th>\n",
       "      <th>loudness</th>\n",
       "      <th>speechiness</th>\n",
       "      <th>acousticness</th>\n",
       "      <th>instrumentalness</th>\n",
       "      <th>liveness</th>\n",
       "      <th>valence</th>\n",
       "      <th>tempo</th>\n",
       "      <th>id</th>\n",
       "      <th>duration_ms</th>\n",
       "    </tr>\n",
       "  </thead>\n",
       "  <tbody>\n",
       "    <tr>\n",
       "      <th>0</th>\n",
       "      <td>0.588</td>\n",
       "      <td>0.869</td>\n",
       "      <td>-1.998</td>\n",
       "      <td>0.322</td>\n",
       "      <td>0.22</td>\n",
       "      <td>0</td>\n",
       "      <td>0.585</td>\n",
       "      <td>0.529</td>\n",
       "      <td>91.128</td>\n",
       "      <td>0ElQWopuhQ10wgGouWSVlR</td>\n",
       "      <td>286904</td>\n",
       "    </tr>\n",
       "  </tbody>\n",
       "</table>\n",
       "</div>"
      ],
      "text/plain": [
       "   danceability  energy  loudness  speechiness  acousticness  \\\n",
       "0         0.588   0.869    -1.998        0.322          0.22   \n",
       "\n",
       "   instrumentalness  liveness  valence   tempo                      id  \\\n",
       "0                 0     0.585    0.529  91.128  0ElQWopuhQ10wgGouWSVlR   \n",
       "\n",
       "   duration_ms  \n",
       "0       286904  "
      ]
     },
     "execution_count": 249,
     "metadata": {},
     "output_type": "execute_result"
    }
   ],
   "source": [
    "requested_song_audio_features = pd.DataFrame(sp.audio_features(song_id))\n",
    "requested_song_audio_features = requested_song_audio_features[[\"danceability\",\"energy\",\"loudness\",\"speechiness\",\"acousticness\",\"instrumentalness\",\"liveness\",\"valence\",\"tempo\",\"id\",\"duration_ms\"]]\n",
    "\n",
    "requested_song_audio_features"
   ]
  },
  {
   "cell_type": "code",
   "execution_count": 250,
   "metadata": {},
   "outputs": [
    {
     "data": {
      "text/html": [
       "<div>\n",
       "<style scoped>\n",
       "    .dataframe tbody tr th:only-of-type {\n",
       "        vertical-align: middle;\n",
       "    }\n",
       "\n",
       "    .dataframe tbody tr th {\n",
       "        vertical-align: top;\n",
       "    }\n",
       "\n",
       "    .dataframe thead th {\n",
       "        text-align: right;\n",
       "    }\n",
       "</style>\n",
       "<table border=\"1\" class=\"dataframe\">\n",
       "  <thead>\n",
       "    <tr style=\"text-align: right;\">\n",
       "      <th></th>\n",
       "      <th>danceability</th>\n",
       "      <th>energy</th>\n",
       "      <th>loudness</th>\n",
       "      <th>speechiness</th>\n",
       "      <th>acousticness</th>\n",
       "      <th>instrumentalness</th>\n",
       "      <th>liveness</th>\n",
       "      <th>valence</th>\n",
       "      <th>tempo</th>\n",
       "      <th>duration_ms</th>\n",
       "    </tr>\n",
       "  </thead>\n",
       "  <tbody>\n",
       "    <tr>\n",
       "      <th>0</th>\n",
       "      <td>0.588</td>\n",
       "      <td>0.869</td>\n",
       "      <td>-1.998</td>\n",
       "      <td>0.322</td>\n",
       "      <td>0.22</td>\n",
       "      <td>0</td>\n",
       "      <td>0.585</td>\n",
       "      <td>0.529</td>\n",
       "      <td>91.128</td>\n",
       "      <td>286904</td>\n",
       "    </tr>\n",
       "  </tbody>\n",
       "</table>\n",
       "</div>"
      ],
      "text/plain": [
       "   danceability  energy  loudness  speechiness  acousticness  \\\n",
       "0         0.588   0.869    -1.998        0.322          0.22   \n",
       "\n",
       "   instrumentalness  liveness  valence   tempo  duration_ms  \n",
       "0                 0     0.585    0.529  91.128       286904  "
      ]
     },
     "execution_count": 250,
     "metadata": {},
     "output_type": "execute_result"
    }
   ],
   "source": [
    "simple_requested_song_audio_features = requested_song_audio_features[[\"danceability\",\"energy\",\"loudness\",\"speechiness\",\"acousticness\",\"instrumentalness\",\"liveness\",\"valence\",\"tempo\",\"duration_ms\"]]\n",
    "\n",
    "simple_requested_song_audio_features\n"
   ]
  },
  {
   "attachments": {},
   "cell_type": "markdown",
   "metadata": {},
   "source": [
    "### 4- Load the StandardScaler using Pickle and use it to scale the REQUESTED_SONG."
   ]
  },
  {
   "attachments": {},
   "cell_type": "markdown",
   "metadata": {},
   "source": [
    "#### Load"
   ]
  },
  {
   "cell_type": "code",
   "execution_count": 251,
   "metadata": {},
   "outputs": [],
   "source": [
    "# Définir le nom du fichier contenant le scaler\n",
    "nom_fichier_scaler = \"scaler.pkl\"\n",
    "\n",
    "# Charger le scaler à partir du fichier\n",
    "with open(nom_fichier_scaler, 'rb') as fichier:\n",
    "    scaler = pickle.load(fichier)\n"
   ]
  },
  {
   "attachments": {},
   "cell_type": "markdown",
   "metadata": {},
   "source": [
    "#### Scaling the REQUESTED_SONG"
   ]
  },
  {
   "cell_type": "code",
   "execution_count": 252,
   "metadata": {},
   "outputs": [
    {
     "name": "stdout",
     "output_type": "stream",
     "text": [
      "['danceability' 'energy' 'loudness' 'speechiness' 'acousticness'\n",
      " 'instrumentalness' 'liveness' 'valence' 'tempo' 'duration_ms']\n"
     ]
    }
   ],
   "source": [
    "print(scaler.get_feature_names_out())"
   ]
  },
  {
   "cell_type": "code",
   "execution_count": 253,
   "metadata": {},
   "outputs": [
    {
     "data": {
      "text/plain": [
       "array([[-0.7099237 ,  1.34216406,  1.78830678,  1.59270021, -0.18006988,\n",
       "        -0.36789564,  3.27048853,  0.19663901, -1.07336966,  1.15327022]])"
      ]
     },
     "execution_count": 253,
     "metadata": {},
     "output_type": "execute_result"
    }
   ],
   "source": [
    "requested_song_scaled = scaler.transform(simple_requested_song_audio_features)\n",
    "requested_song_scaled"
   ]
  },
  {
   "cell_type": "code",
   "execution_count": 254,
   "metadata": {},
   "outputs": [],
   "source": [
    "# scaler_feature_names = scaler.get_feature_names_out()\n",
    "\n",
    "# # Check if the feature names in REQUESTED_SONG match scaler_feature_names\n",
    "# if set(REQUESTED_SONG.columns) != set(scaler_feature_names):\n",
    "# raise ValueError(\"The feature names in REQUESTED_SONG do not match those used during fit.\")"
   ]
  },
  {
   "attachments": {},
   "cell_type": "markdown",
   "metadata": {},
   "source": [
    "### 5- Use kmeans_model.predict (on the new scaled audio dataset for the REQUESTED_SONG) to predict the cluster (label) for the REQUESTED_SONG."
   ]
  },
  {
   "cell_type": "code",
   "execution_count": 255,
   "metadata": {},
   "outputs": [],
   "source": [
    "# cluster_label = kmeans_final.predict(requested_song_scaled)\n",
    "# cluster_label"
   ]
  },
  {
   "cell_type": "code",
   "execution_count": 256,
   "metadata": {},
   "outputs": [
    {
     "data": {
      "text/plain": [
       "array([0])"
      ]
     },
     "execution_count": 256,
     "metadata": {},
     "output_type": "execute_result"
    }
   ],
   "source": [
    "requested_song_cluster_label = kmeans_final.predict(requested_song_scaled)\n",
    "requested_song_cluster_label"
   ]
  },
  {
   "attachments": {},
   "cell_type": "markdown",
   "metadata": {},
   "source": [
    "## 6- Return a random song from the same cluster that the REQUESTED_SONG belongs to from your data frame and suggest it to the user.\n"
   ]
  },
  {
   "cell_type": "code",
   "execution_count": 275,
   "metadata": {},
   "outputs": [
    {
     "data": {
      "text/html": [
       "<div>\n",
       "<style scoped>\n",
       "    .dataframe tbody tr th:only-of-type {\n",
       "        vertical-align: middle;\n",
       "    }\n",
       "\n",
       "    .dataframe tbody tr th {\n",
       "        vertical-align: top;\n",
       "    }\n",
       "\n",
       "    .dataframe thead th {\n",
       "        text-align: right;\n",
       "    }\n",
       "</style>\n",
       "<table border=\"1\" class=\"dataframe\">\n",
       "  <thead>\n",
       "    <tr style=\"text-align: right;\">\n",
       "      <th></th>\n",
       "      <th>danceability</th>\n",
       "      <th>energy</th>\n",
       "      <th>loudness</th>\n",
       "      <th>speechiness</th>\n",
       "      <th>acousticness</th>\n",
       "      <th>instrumentalness</th>\n",
       "      <th>liveness</th>\n",
       "      <th>valence</th>\n",
       "      <th>tempo</th>\n",
       "      <th>duration_ms</th>\n",
       "      <th>cluster</th>\n",
       "      <th>id</th>\n",
       "    </tr>\n",
       "  </thead>\n",
       "  <tbody>\n",
       "    <tr>\n",
       "      <th>35</th>\n",
       "      <td>1.681924</td>\n",
       "      <td>0.088070</td>\n",
       "      <td>-0.406399</td>\n",
       "      <td>-0.749348</td>\n",
       "      <td>-0.762856</td>\n",
       "      <td>-0.324412</td>\n",
       "      <td>0.713019</td>\n",
       "      <td>1.486690</td>\n",
       "      <td>0.371181</td>\n",
       "      <td>-0.080619</td>\n",
       "      <td>0</td>\n",
       "      <td>66gDy0p06Ev9gk27BFhSLi</td>\n",
       "    </tr>\n",
       "    <tr>\n",
       "      <th>48</th>\n",
       "      <td>1.234783</td>\n",
       "      <td>-0.412417</td>\n",
       "      <td>0.212726</td>\n",
       "      <td>-0.742664</td>\n",
       "      <td>0.037864</td>\n",
       "      <td>-0.367896</td>\n",
       "      <td>-0.585329</td>\n",
       "      <td>1.543733</td>\n",
       "      <td>-0.002055</td>\n",
       "      <td>-0.395571</td>\n",
       "      <td>0</td>\n",
       "      <td>44TzvSZLIkM7Y7MEnrvkIl</td>\n",
       "    </tr>\n",
       "    <tr>\n",
       "      <th>60</th>\n",
       "      <td>-0.355050</td>\n",
       "      <td>1.526251</td>\n",
       "      <td>0.575579</td>\n",
       "      <td>-0.766894</td>\n",
       "      <td>-0.932318</td>\n",
       "      <td>0.013838</td>\n",
       "      <td>-0.724185</td>\n",
       "      <td>2.114164</td>\n",
       "      <td>-1.115369</td>\n",
       "      <td>1.547361</td>\n",
       "      <td>0</td>\n",
       "      <td>2VohZBjF7cVEcy9vSP74RI</td>\n",
       "    </tr>\n",
       "    <tr>\n",
       "      <th>62</th>\n",
       "      <td>-0.000177</td>\n",
       "      <td>1.020012</td>\n",
       "      <td>0.892213</td>\n",
       "      <td>0.389507</td>\n",
       "      <td>0.575184</td>\n",
       "      <td>-0.367887</td>\n",
       "      <td>-0.369591</td>\n",
       "      <td>1.012794</td>\n",
       "      <td>-0.967257</td>\n",
       "      <td>-1.477137</td>\n",
       "      <td>0</td>\n",
       "      <td>4JcfDrtQWE45N1X4MkcbiV</td>\n",
       "    </tr>\n",
       "    <tr>\n",
       "      <th>84</th>\n",
       "      <td>0.957982</td>\n",
       "      <td>0.945226</td>\n",
       "      <td>-0.005261</td>\n",
       "      <td>-0.747677</td>\n",
       "      <td>1.300379</td>\n",
       "      <td>-0.367896</td>\n",
       "      <td>-0.586113</td>\n",
       "      <td>2.127328</td>\n",
       "      <td>0.234442</td>\n",
       "      <td>-0.667882</td>\n",
       "      <td>0</td>\n",
       "      <td>1BLXxFPDL2BT37nHKD7KrA</td>\n",
       "    </tr>\n",
       "    <tr>\n",
       "      <th>...</th>\n",
       "      <td>...</td>\n",
       "      <td>...</td>\n",
       "      <td>...</td>\n",
       "      <td>...</td>\n",
       "      <td>...</td>\n",
       "      <td>...</td>\n",
       "      <td>...</td>\n",
       "      <td>...</td>\n",
       "      <td>...</td>\n",
       "      <td>...</td>\n",
       "      <td>...</td>\n",
       "      <td>...</td>\n",
       "    </tr>\n",
       "    <tr>\n",
       "      <th>2111</th>\n",
       "      <td>1.078639</td>\n",
       "      <td>1.008506</td>\n",
       "      <td>1.358885</td>\n",
       "      <td>-0.681668</td>\n",
       "      <td>-0.206372</td>\n",
       "      <td>-0.367896</td>\n",
       "      <td>0.705174</td>\n",
       "      <td>0.990854</td>\n",
       "      <td>0.929845</td>\n",
       "      <td>-0.494332</td>\n",
       "      <td>0</td>\n",
       "      <td>1N8moY6H0eThviK71VhTzY</td>\n",
       "    </tr>\n",
       "    <tr>\n",
       "      <th>2116</th>\n",
       "      <td>0.021116</td>\n",
       "      <td>0.461997</td>\n",
       "      <td>0.233766</td>\n",
       "      <td>0.514840</td>\n",
       "      <td>-0.537031</td>\n",
       "      <td>-0.367896</td>\n",
       "      <td>1.215099</td>\n",
       "      <td>1.504242</td>\n",
       "      <td>-1.031482</td>\n",
       "      <td>0.569983</td>\n",
       "      <td>0</td>\n",
       "      <td>5rf3KdurcBMEOg2LmEHRd7</td>\n",
       "    </tr>\n",
       "    <tr>\n",
       "      <th>2123</th>\n",
       "      <td>0.546329</td>\n",
       "      <td>0.513772</td>\n",
       "      <td>1.307838</td>\n",
       "      <td>0.088709</td>\n",
       "      <td>-0.989019</td>\n",
       "      <td>-0.367015</td>\n",
       "      <td>-0.110706</td>\n",
       "      <td>0.411648</td>\n",
       "      <td>-1.672695</td>\n",
       "      <td>-1.246494</td>\n",
       "      <td>0</td>\n",
       "      <td>2jRmKc69qzGKzGU9SdH5u7</td>\n",
       "    </tr>\n",
       "    <tr>\n",
       "      <th>2126</th>\n",
       "      <td>0.737960</td>\n",
       "      <td>0.904957</td>\n",
       "      <td>0.344140</td>\n",
       "      <td>-0.395075</td>\n",
       "      <td>-0.679064</td>\n",
       "      <td>-0.367896</td>\n",
       "      <td>0.407064</td>\n",
       "      <td>1.276070</td>\n",
       "      <td>0.112384</td>\n",
       "      <td>-1.070504</td>\n",
       "      <td>0</td>\n",
       "      <td>3w1WjD2zJqjBjDz5fwqQPJ</td>\n",
       "    </tr>\n",
       "    <tr>\n",
       "      <th>2128</th>\n",
       "      <td>1.149613</td>\n",
       "      <td>0.122587</td>\n",
       "      <td>0.036129</td>\n",
       "      <td>0.289241</td>\n",
       "      <td>-0.480669</td>\n",
       "      <td>-0.280746</td>\n",
       "      <td>-0.582191</td>\n",
       "      <td>1.574449</td>\n",
       "      <td>0.667666</td>\n",
       "      <td>0.790900</td>\n",
       "      <td>0</td>\n",
       "      <td>3PqAnW2bB5TQnMoBivyFOb</td>\n",
       "    </tr>\n",
       "  </tbody>\n",
       "</table>\n",
       "<p>341 rows × 12 columns</p>\n",
       "</div>"
      ],
      "text/plain": [
       "      danceability    energy  loudness  speechiness  acousticness  \\\n",
       "35        1.681924  0.088070 -0.406399    -0.749348     -0.762856   \n",
       "48        1.234783 -0.412417  0.212726    -0.742664      0.037864   \n",
       "60       -0.355050  1.526251  0.575579    -0.766894     -0.932318   \n",
       "62       -0.000177  1.020012  0.892213     0.389507      0.575184   \n",
       "84        0.957982  0.945226 -0.005261    -0.747677      1.300379   \n",
       "...            ...       ...       ...          ...           ...   \n",
       "2111      1.078639  1.008506  1.358885    -0.681668     -0.206372   \n",
       "2116      0.021116  0.461997  0.233766     0.514840     -0.537031   \n",
       "2123      0.546329  0.513772  1.307838     0.088709     -0.989019   \n",
       "2126      0.737960  0.904957  0.344140    -0.395075     -0.679064   \n",
       "2128      1.149613  0.122587  0.036129     0.289241     -0.480669   \n",
       "\n",
       "      instrumentalness  liveness   valence     tempo  duration_ms  cluster  \\\n",
       "35           -0.324412  0.713019  1.486690  0.371181    -0.080619        0   \n",
       "48           -0.367896 -0.585329  1.543733 -0.002055    -0.395571        0   \n",
       "60            0.013838 -0.724185  2.114164 -1.115369     1.547361        0   \n",
       "62           -0.367887 -0.369591  1.012794 -0.967257    -1.477137        0   \n",
       "84           -0.367896 -0.586113  2.127328  0.234442    -0.667882        0   \n",
       "...                ...       ...       ...       ...          ...      ...   \n",
       "2111         -0.367896  0.705174  0.990854  0.929845    -0.494332        0   \n",
       "2116         -0.367896  1.215099  1.504242 -1.031482     0.569983        0   \n",
       "2123         -0.367015 -0.110706  0.411648 -1.672695    -1.246494        0   \n",
       "2126         -0.367896  0.407064  1.276070  0.112384    -1.070504        0   \n",
       "2128         -0.280746 -0.582191  1.574449  0.667666     0.790900        0   \n",
       "\n",
       "                          id  \n",
       "35    66gDy0p06Ev9gk27BFhSLi  \n",
       "48    44TzvSZLIkM7Y7MEnrvkIl  \n",
       "60    2VohZBjF7cVEcy9vSP74RI  \n",
       "62    4JcfDrtQWE45N1X4MkcbiV  \n",
       "84    1BLXxFPDL2BT37nHKD7KrA  \n",
       "...                      ...  \n",
       "2111  1N8moY6H0eThviK71VhTzY  \n",
       "2116  5rf3KdurcBMEOg2LmEHRd7  \n",
       "2123  2jRmKc69qzGKzGU9SdH5u7  \n",
       "2126  3w1WjD2zJqjBjDz5fwqQPJ  \n",
       "2128  3PqAnW2bB5TQnMoBivyFOb  \n",
       "\n",
       "[341 rows x 12 columns]"
      ]
     },
     "metadata": {},
     "output_type": "display_data"
    }
   ],
   "source": [
    "# cluster_labels = kmeans_final.predict(X_pca)\n",
    "# data['cluster_label'] = cluster_labels\n",
    "\n",
    "songs_same_cluster = data_normalized[data_normalized['cluster'] == requested_song_cluster_label[0]]\n",
    "display(songs_same_cluster)\n",
    "\n",
    "# import random\n",
    "\n",
    "\n",
    "\n",
    "\n",
    "# random_song = songs_same_cluster.sample(n=1, random_state=42)\n",
    "\n",
    "# suggested_song = random_song['id'].values[0]  # Assuming the song name is in the 'song_name' column\n",
    "# # print(\"Suggested song:\", suggested_song)\n"
   ]
  },
  {
   "cell_type": "code",
   "execution_count": 276,
   "metadata": {},
   "outputs": [
    {
     "data": {
      "text/html": [
       "<div>\n",
       "<style scoped>\n",
       "    .dataframe tbody tr th:only-of-type {\n",
       "        vertical-align: middle;\n",
       "    }\n",
       "\n",
       "    .dataframe tbody tr th {\n",
       "        vertical-align: top;\n",
       "    }\n",
       "\n",
       "    .dataframe thead th {\n",
       "        text-align: right;\n",
       "    }\n",
       "</style>\n",
       "<table border=\"1\" class=\"dataframe\">\n",
       "  <thead>\n",
       "    <tr style=\"text-align: right;\">\n",
       "      <th></th>\n",
       "      <th>danceability</th>\n",
       "      <th>energy</th>\n",
       "      <th>loudness</th>\n",
       "      <th>speechiness</th>\n",
       "      <th>acousticness</th>\n",
       "      <th>instrumentalness</th>\n",
       "      <th>liveness</th>\n",
       "      <th>valence</th>\n",
       "      <th>tempo</th>\n",
       "      <th>duration_ms</th>\n",
       "      <th>cluster</th>\n",
       "      <th>id</th>\n",
       "    </tr>\n",
       "  </thead>\n",
       "  <tbody>\n",
       "    <tr>\n",
       "      <th>1199</th>\n",
       "      <td>1.667729</td>\n",
       "      <td>1.388186</td>\n",
       "      <td>1.002586</td>\n",
       "      <td>1.325324</td>\n",
       "      <td>-0.555818</td>\n",
       "      <td>-0.367896</td>\n",
       "      <td>-0.600234</td>\n",
       "      <td>0.380932</td>\n",
       "      <td>-0.223945</td>\n",
       "      <td>-1.095383</td>\n",
       "      <td>0</td>\n",
       "      <td>4TXFhVqa2FWrDICNJkeVyM</td>\n",
       "    </tr>\n",
       "  </tbody>\n",
       "</table>\n",
       "</div>"
      ],
      "text/plain": [
       "      danceability    energy  loudness  speechiness  acousticness  \\\n",
       "1199      1.667729  1.388186  1.002586     1.325324     -0.555818   \n",
       "\n",
       "      instrumentalness  liveness   valence     tempo  duration_ms  cluster  \\\n",
       "1199         -0.367896 -0.600234  0.380932 -0.223945    -1.095383        0   \n",
       "\n",
       "                          id  \n",
       "1199  4TXFhVqa2FWrDICNJkeVyM  "
      ]
     },
     "metadata": {},
     "output_type": "display_data"
    }
   ],
   "source": [
    "random_song = songs_same_cluster.sample(n=1)\n",
    "display(random_song)"
   ]
  },
  {
   "cell_type": "code",
   "execution_count": 277,
   "metadata": {},
   "outputs": [
    {
     "name": "stdout",
     "output_type": "stream",
     "text": [
      "4TXFhVqa2FWrDICNJkeVyM\n"
     ]
    }
   ],
   "source": [
    "random_song_id = random_song['id'].values[0]\n",
    "print(random_song_id)"
   ]
  },
  {
   "cell_type": "code",
   "execution_count": 278,
   "metadata": {},
   "outputs": [
    {
     "data": {
      "text/html": [
       "\n",
       "        <iframe\n",
       "            width=\"320\"\n",
       "            height=\"80\"\n",
       "            src=\"https://open.spotify.com/embed/track/4TXFhVqa2FWrDICNJkeVyM?autoplay=1?frameborder=0&allowtransparency=true&allow=encrypted-media\"\n",
       "            frameborder=\"0\"\n",
       "            allowfullscreen\n",
       "            \n",
       "        ></iframe>\n",
       "        "
      ],
      "text/plain": [
       "<IPython.lib.display.IFrame at 0x14a9dcc9f40>"
      ]
     },
     "execution_count": 278,
     "metadata": {},
     "output_type": "execute_result"
    }
   ],
   "source": [
    "play_song(random_song_id)"
   ]
  },
  {
   "cell_type": "code",
   "execution_count": null,
   "metadata": {},
   "outputs": [],
   "source": [
    "#  For project clustering steps:\n",
    "# 1- Load the Pandas data frame songs of the audio features (at least 1000 songs as different as possible).🎹 \n",
    "# 2- Standardize the data using Standardscaler\n",
    "# 3- Save the scaler for future use on the new user input song, using Pickle. (tomorrow)\n",
    "# 4- Select the number of clusters k.\n",
    "# 5- Adjust k means cluster.\n",
    "# 6- Build the elbow graph to find the best k. (tomorrow)\n",
    "# 7- Use the model with the best k to assign each observation in your data frame to its cluster number using model.predict (add cluster columns to the pandas data frame).\n",
    "# 8- Save the model with the best k as your final model using pickle. (tomorrow)\n",
    "\n",
    "# 📍 For the final product tasks and the full scenario:\n",
    "# 1- Get the song name from the user as input ---------- DONE\n",
    "# 2- Play the input song in the music embed player. ---------- DONE\n",
    "# 3- Get the audio features for this song from the Spotify API using sp.audio_features(trackid). Be careful to keep only the audio features columns.---------- DONE\n",
    "# 4- Load the StandardScaler using Pickle and use it to scale the REQUESTED_SONG.\n",
    "# 5- Use kmeans_model.predict(new scaled audio dataset for the REQUESTED_SONG) to predict the cluster (label) for the REQUESTED_SONG.\n",
    "# 6- Return a random song from the same cluster that the REQUESTED_SONG belongs to from your data frame and suggest it to the user.\n",
    "# 7- Play it using the built-in music player.\n",
    "# 8*- Try to Streamlit? ☀️ (optional) "
   ]
  }
 ],
 "metadata": {
  "kernelspec": {
   "display_name": "base",
   "language": "python",
   "name": "python3"
  },
  "language_info": {
   "codemirror_mode": {
    "name": "ipython",
    "version": 3
   },
   "file_extension": ".py",
   "mimetype": "text/x-python",
   "name": "python",
   "nbconvert_exporter": "python",
   "pygments_lexer": "ipython3",
   "version": "3.9.16"
  },
  "orig_nbformat": 4
 },
 "nbformat": 4,
 "nbformat_minor": 2
}
