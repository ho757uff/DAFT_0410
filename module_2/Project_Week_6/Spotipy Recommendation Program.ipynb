{
 "cells": [
  {
   "cell_type": "code",
   "execution_count": 304,
   "metadata": {},
   "outputs": [],
   "source": [
    "#  For project clustering steps:\n",
    "# 1- Load the Pandas data frame songs of the audio features (at least 1000 songs as different as possible).🎹 ----DONE\n",
    "# 2- Standardize the data using Standardscaler ----DONE\n",
    "# 3- Save the scaler for future use on the new user input song, using Pickle. (tomorrow)\n",
    "# 4- Select the number of clusters k.\n",
    "# 5- Adjust k means cluster.\n",
    "# 6- Build the elbow graph to find the best k. (tomorrow)\n",
    "# 7- Use the model with the best k to assign each observation in your data frame to its cluster number using model.predict (add cluster columns to the pandas data frame).\n",
    "# 8- Save the model with the best k as your final model using pickle. (tomorrow)\n",
    "\n",
    "# 📍 For the final product tasks and the full scenario:\n",
    "# 1- Get the song name from the user as input ---------- DONE\n",
    "# 2- Play the input song in the music embed player. ---------- DONE\n",
    "# 3- Get the audio features for this song from the Spotify API using sp.audio_features(trackid). Be careful to keep only the audio features columns.---------- DONE\n",
    "# 4- Load the StandardScaler using Pickle and use it to scale the REQUESTED_SONG.(tomorrow)\n",
    "# 5- Use kmeans_model.predict(new scaled audio dataset for the REQUESTED_SONG) to predict the cluster (label) for the REQUESTED_SONG.\n",
    "# 6- Return a random song from the same cluster that the REQUESTED_SONG belongs to from your data frame and suggest it to the user.\n",
    "# 7- Play it using the built-in music player.\n",
    "# 8*- Try to Streamlit? ☀️ (optional) "
   ]
  },
  {
   "cell_type": "code",
   "execution_count": 305,
   "metadata": {},
   "outputs": [],
   "source": [
    "from stackapi import StackAPI\n",
    "from bs4 import BeautifulSoup\n",
    "import requests as re\n",
    "\n",
    "import pandas as pd\n",
    "import numpy as np\n",
    "\n",
    "from random import randint    \n",
    "from datetime import datetime, timedelta\n",
    "from time import sleep\n",
    "\n",
    "import json\n",
    "import os\n",
    "import spotipy\n",
    "from spotipy.oauth2 import SpotifyClientCredentials\n",
    "import pprint\n",
    "\n",
    "client_id = os.environ.get(\"SPOTIPY_CLIENT_ID\")\n",
    "client_secret = os.environ.get(\"SPOTIPY_CLIENT_SECRET\")\n",
    "\n",
    "sp = spotipy.Spotify(client_credentials_manager=SpotifyClientCredentials())\n",
    "\n",
    "from plotly import express as px\n",
    "from sklearn.cluster import KMeans\n",
    "from sklearn.preprocessing import OneHotEncoder\n",
    "from sklearn.decomposition import PCA\n",
    "from sklearn.preprocessing import StandardScaler\n",
    "from matplotlib import pyplot as plt"
   ]
  },
  {
   "attachments": {},
   "cell_type": "markdown",
   "metadata": {},
   "source": [
    "## Creating the JSON"
   ]
  },
  {
   "cell_type": "code",
   "execution_count": 307,
   "metadata": {},
   "outputs": [
    {
     "name": "stdout",
     "output_type": "stream",
     "text": [
      "{\"tracks\": {\"href\": \"https://api.spotify.com/v1/search?query=Hello+Adele&type=track&market=FR&offset=0&limit=1\", \"items\": [{\"album\": {\"album_type\": \"album\", \"artists\": [{\"external_urls\": {\"spotify\": \"https://open.spotify.com/artist/4dpARuHxo51G3z768sgnrY\"}, \"href\": \"https://api.spotify.com/v1/artists/4dpARuHxo51G3z768sgnrY\", \"id\": \"4dpARuHxo51G3z768sgnrY\", \"name\": \"Adele\", \"type\": \"artist\", \"uri\": \"spotify:artist:4dpARuHxo51G3z768sgnrY\"}], \"external_urls\": {\"spotify\": \"https://open.spotify.com/album/6TVfiWmo8KtflUAmkK9gGF\"}, \"href\": \"https://api.spotify.com/v1/albums/6TVfiWmo8KtflUAmkK9gGF\", \"id\": \"6TVfiWmo8KtflUAmkK9gGF\", \"images\": [{\"height\": 640, \"url\": \"https://i.scdn.co/image/ab67616d0000b2737b9888dc365b8f957c63df14\", \"width\": 640}, {\"height\": 300, \"url\": \"https://i.scdn.co/image/ab67616d00001e027b9888dc365b8f957c63df14\", \"width\": 300}, {\"height\": 64, \"url\": \"https://i.scdn.co/image/ab67616d000048517b9888dc365b8f957c63df14\", \"width\": 64}], \"is_playable\": true, \"name\": \"25\", \"release_date\": \"2015-11-20\", \"release_date_precision\": \"day\", \"total_tracks\": 11, \"type\": \"album\", \"uri\": \"spotify:album:6TVfiWmo8KtflUAmkK9gGF\"}, \"artists\": [{\"external_urls\": {\"spotify\": \"https://open.spotify.com/artist/4dpARuHxo51G3z768sgnrY\"}, \"href\": \"https://api.spotify.com/v1/artists/4dpARuHxo51G3z768sgnrY\", \"id\": \"4dpARuHxo51G3z768sgnrY\", \"name\": \"Adele\", \"type\": \"artist\", \"uri\": \"spotify:artist:4dpARuHxo51G3z768sgnrY\"}], \"disc_number\": 1, \"duration_ms\": 295502, \"explicit\": false, \"external_ids\": {\"isrc\": \"GBBKS1500214\"}, \"external_urls\": {\"spotify\": \"https://open.spotify.com/track/1Yk0cQdMLx5RzzFTYwmuld\"}, \"href\": \"https://api.spotify.com/v1/tracks/1Yk0cQdMLx5RzzFTYwmuld\", \"id\": \"1Yk0cQdMLx5RzzFTYwmuld\", \"is_local\": false, \"is_playable\": true, \"name\": \"Hello\", \"popularity\": 77, \"preview_url\": \"https://p.scdn.co/mp3-preview/27069a2e4ff7be549a241052b7e3233ac835e1f6?cid=93af8f8aab0948589602740953dd0ca7\", \"track_number\": 1, \"type\": \"track\", \"uri\": \"spotify:track:1Yk0cQdMLx5RzzFTYwmuld\"}], \"limit\": 1, \"next\": \"https://api.spotify.com/v1/search?query=Hello+Adele&type=track&market=FR&offset=1&limit=1\", \"offset\": 0, \"previous\": null, \"total\": 1000}}\n"
     ]
    }
   ],
   "source": [
    "results = sp.search(q= x, limit=1, market=\"FR\")\n",
    "\n",
    "json_results = json.dumps(results, ensure_ascii=True)\n",
    "print(json_results)"
   ]
  },
  {
   "cell_type": "code",
   "execution_count": 308,
   "metadata": {},
   "outputs": [
    {
     "name": "stdout",
     "output_type": "stream",
     "text": [
      "{'album': {'album_type': 'album',\n",
      "           'artists': [{'external_urls': {'spotify': 'https://open.spotify.com/artist/4dpARuHxo51G3z768sgnrY'},\n",
      "                        'href': 'https://api.spotify.com/v1/artists/4dpARuHxo51G3z768sgnrY',\n",
      "                        'id': '4dpARuHxo51G3z768sgnrY',\n",
      "                        'name': 'Adele',\n",
      "                        'type': 'artist',\n",
      "                        'uri': 'spotify:artist:4dpARuHxo51G3z768sgnrY'}],\n",
      "           'external_urls': {'spotify': 'https://open.spotify.com/album/6TVfiWmo8KtflUAmkK9gGF'},\n",
      "           'href': 'https://api.spotify.com/v1/albums/6TVfiWmo8KtflUAmkK9gGF',\n",
      "           'id': '6TVfiWmo8KtflUAmkK9gGF',\n",
      "           'images': [{'height': 640,\n",
      "                       'url': 'https://i.scdn.co/image/ab67616d0000b2737b9888dc365b8f957c63df14',\n",
      "                       'width': 640},\n",
      "                      {'height': 300,\n",
      "                       'url': 'https://i.scdn.co/image/ab67616d00001e027b9888dc365b8f957c63df14',\n",
      "                       'width': 300},\n",
      "                      {'height': 64,\n",
      "                       'url': 'https://i.scdn.co/image/ab67616d000048517b9888dc365b8f957c63df14',\n",
      "                       'width': 64}],\n",
      "           'is_playable': True,\n",
      "           'name': '25',\n",
      "           'release_date': '2015-11-20',\n",
      "           'release_date_precision': 'day',\n",
      "           'total_tracks': 11,\n",
      "           'type': 'album',\n",
      "           'uri': 'spotify:album:6TVfiWmo8KtflUAmkK9gGF'},\n",
      " 'artists': [{'external_urls': {'spotify': 'https://open.spotify.com/artist/4dpARuHxo51G3z768sgnrY'},\n",
      "              'href': 'https://api.spotify.com/v1/artists/4dpARuHxo51G3z768sgnrY',\n",
      "              'id': '4dpARuHxo51G3z768sgnrY',\n",
      "              'name': 'Adele',\n",
      "              'type': 'artist',\n",
      "              'uri': 'spotify:artist:4dpARuHxo51G3z768sgnrY'}],\n",
      " 'disc_number': 1,\n",
      " 'duration_ms': 295502,\n",
      " 'explicit': False,\n",
      " 'external_ids': {'isrc': 'GBBKS1500214'},\n",
      " 'external_urls': {'spotify': 'https://open.spotify.com/track/1Yk0cQdMLx5RzzFTYwmuld'},\n",
      " 'href': 'https://api.spotify.com/v1/tracks/1Yk0cQdMLx5RzzFTYwmuld',\n",
      " 'id': '1Yk0cQdMLx5RzzFTYwmuld',\n",
      " 'is_local': False,\n",
      " 'is_playable': True,\n",
      " 'name': 'Hello',\n",
      " 'popularity': 77,\n",
      " 'preview_url': 'https://p.scdn.co/mp3-preview/27069a2e4ff7be549a241052b7e3233ac835e1f6?cid=93af8f8aab0948589602740953dd0ca7',\n",
      " 'track_number': 1,\n",
      " 'type': 'track',\n",
      " 'uri': 'spotify:track:1Yk0cQdMLx5RzzFTYwmuld'}\n",
      "The name of song is: 'Hello' and the id is: 1Yk0cQdMLx5RzzFTYwmuld\n"
     ]
    }
   ],
   "source": [
    "results['tracks'][\"items\"][0].keys() # All the dictionary\n",
    "pprint.pprint(results['tracks']['items'][0])\n",
    "\n",
    "results['tracks']['items'][0]['id'] # Getting song ID\n",
    "\n",
    "for item in results['tracks']['items']:\n",
    "    print(\"The name of song is: '{}' and the id is: {}\".format(item['name'],item[\"id\"]))"
   ]
  },
  {
   "attachments": {},
   "cell_type": "markdown",
   "metadata": {},
   "source": [
    "## Understanding the JSON"
   ]
  },
  {
   "cell_type": "code",
   "execution_count": 309,
   "metadata": {},
   "outputs": [
    {
     "name": "stdout",
     "output_type": "stream",
     "text": [
      "The json file has the following keys:  ['tracks']\n",
      "The 'tracks' key has the following child keys:  ['href', 'items', 'limit', 'next', 'offset', 'previous', 'total']\n",
      "The query we made is:  https://api.spotify.com/v1/search?query=Hello+Adele&type=track&market=FR&offset=0&limit=1\n",
      "The song's info is contained in:  [{'album': {'album_type': 'album', 'artists': [{'external_urls': {'spotify': 'https://open.spotify.com/artist/4dpARuHxo51G3z768sgnrY'}, 'href': 'https://api.spotify.com/v1/artists/4dpARuHxo51G3z768sgnrY', 'id': '4dpARuHxo51G3z768sgnrY', 'name': 'Adele', 'type': 'artist', 'uri': 'spotify:artist:4dpARuHxo51G3z768sgnrY'}], 'external_urls': {'spotify': 'https://open.spotify.com/album/6TVfiWmo8KtflUAmkK9gGF'}, 'href': 'https://api.spotify.com/v1/albums/6TVfiWmo8KtflUAmkK9gGF', 'id': '6TVfiWmo8KtflUAmkK9gGF', 'images': [{'height': 640, 'url': 'https://i.scdn.co/image/ab67616d0000b2737b9888dc365b8f957c63df14', 'width': 640}, {'height': 300, 'url': 'https://i.scdn.co/image/ab67616d00001e027b9888dc365b8f957c63df14', 'width': 300}, {'height': 64, 'url': 'https://i.scdn.co/image/ab67616d000048517b9888dc365b8f957c63df14', 'width': 64}], 'is_playable': True, 'name': '25', 'release_date': '2015-11-20', 'release_date_precision': 'day', 'total_tracks': 11, 'type': 'album', 'uri': 'spotify:album:6TVfiWmo8KtflUAmkK9gGF'}, 'artists': [{'external_urls': {'spotify': 'https://open.spotify.com/artist/4dpARuHxo51G3z768sgnrY'}, 'href': 'https://api.spotify.com/v1/artists/4dpARuHxo51G3z768sgnrY', 'id': '4dpARuHxo51G3z768sgnrY', 'name': 'Adele', 'type': 'artist', 'uri': 'spotify:artist:4dpARuHxo51G3z768sgnrY'}], 'disc_number': 1, 'duration_ms': 295502, 'explicit': False, 'external_ids': {'isrc': 'GBBKS1500214'}, 'external_urls': {'spotify': 'https://open.spotify.com/track/1Yk0cQdMLx5RzzFTYwmuld'}, 'href': 'https://api.spotify.com/v1/tracks/1Yk0cQdMLx5RzzFTYwmuld', 'id': '1Yk0cQdMLx5RzzFTYwmuld', 'is_local': False, 'is_playable': True, 'name': 'Hello', 'popularity': 77, 'preview_url': 'https://p.scdn.co/mp3-preview/27069a2e4ff7be549a241052b7e3233ac835e1f6?cid=93af8f8aab0948589602740953dd0ca7', 'track_number': 1, 'type': 'track', 'uri': 'spotify:track:1Yk0cQdMLx5RzzFTYwmuld'}]\n",
      "The limit of the query we've made is:  1\n",
      "The next page if any:  https://api.spotify.com/v1/search?query=Hello+Adele&type=track&market=FR&offset=1&limit=1\n",
      "The starting webpage:  0\n",
      "Starting webpage:  None\n",
      "Total number of results:  1000\n"
     ]
    }
   ],
   "source": [
    "print(\"The json file has the following keys: \", list(results.keys())) # We can see that we only have tracks\n",
    "print(\"The 'tracks' key has the following child keys: \", list(results[\"tracks\"].keys())) # Let's check the values\n",
    "print(\"The query we made is: \", results[\"tracks\"][\"href\"]) # Query we have searched \n",
    "print(\"The song's info is contained in: \", results[\"tracks\"][\"items\"]) # items (actual tracks)\n",
    "print(\"The limit of the query we've made is: \", results[\"tracks\"][\"limit\"]) # Limit we have chosen\n",
    "print(\"The next page if any: \", results[\"tracks\"][\"next\"]) # Link to the next page (next 50 tracks)\n",
    "print(\"The starting webpage: \", results[\"tracks\"][\"offset\"]) # Actual offset (starting point)\n",
    "print(\"Starting webpage: \", results[\"tracks\"][\"previous\"]) # Previous search\n",
    "print(\"Total number of results: \", results[\"tracks\"][\"total\"]) # Number of matches"
   ]
  },
  {
   "attachments": {},
   "cell_type": "markdown",
   "metadata": {},
   "source": [
    "## Other Infos"
   ]
  },
  {
   "cell_type": "code",
   "execution_count": 310,
   "metadata": {},
   "outputs": [
    {
     "name": "stdout",
     "output_type": "stream",
     "text": [
      "Track infos\n",
      "[{'external_urls': {'spotify': 'https://open.spotify.com/artist/4dpARuHxo51G3z768sgnrY'}, 'href': 'https://api.spotify.com/v1/artists/4dpARuHxo51G3z768sgnrY', 'id': '4dpARuHxo51G3z768sgnrY', 'name': 'Adele', 'type': 'artist', 'uri': 'spotify:artist:4dpARuHxo51G3z768sgnrY'}]\n",
      "\n",
      "Track ID\n",
      "1Yk0cQdMLx5RzzFTYwmuld\n",
      "\n",
      "Track name\n",
      "Hello\n",
      "\n",
      "Popularity index\n",
      "77\n",
      "\n",
      "Basically ID\n",
      "spotify:track:1Yk0cQdMLx5RzzFTYwmuld\n"
     ]
    }
   ],
   "source": [
    "print(\"Track infos\")\n",
    "print(results[\"tracks\"][\"items\"][0][\"artists\"]) # Track artists\n",
    "\n",
    "# print(\"Track artists\")\n",
    "# print(results[\"tracks\"][\"items\"][0][\"artists\"][\"0\"][\"name\"]) # Track artists\n",
    "\n",
    "\n",
    "\n",
    "print(\"\\nTrack ID\")\n",
    "print(results[\"tracks\"][\"items\"][0][\"id\"]) # Track ID\n",
    "print(\"\\nTrack name\")\n",
    "print(results[\"tracks\"][\"items\"][0][\"name\"]) # Track name\n",
    "print(\"\\nPopularity index\")\n",
    "print(results[\"tracks\"][\"items\"][0][\"popularity\"]) # Popularity index\n",
    "print(\"\\nBasically ID\")\n",
    "print(results[\"tracks\"][\"items\"][0][\"uri\"]) # Basically ID\n"
   ]
  },
  {
   "attachments": {},
   "cell_type": "markdown",
   "metadata": {},
   "source": [
    "## Playing the requested Song"
   ]
  },
  {
   "cell_type": "code",
   "execution_count": 311,
   "metadata": {},
   "outputs": [],
   "source": [
    "from IPython.display import IFrame\n",
    "\n",
    "track_id = results[\"tracks\"][\"items\"][0][\"id\"]\n",
    "# # track_id= 'spotify:track:3hgl7EQwTutSm6PESsB7gZ'\n",
    "# IFrame(src=\"https://open.spotify.com/embed/track/\"+track_id+\"?utm_source=generator\",\n",
    "#        width=\"320\",\n",
    "#        height=\"80\",\n",
    "#        frameborder=\"0\",\n",
    "#        allowtransparency=\"true\",\n",
    "#        allow=\"encrypted-media\",\n",
    "#       )"
   ]
  },
  {
   "cell_type": "code",
   "execution_count": 312,
   "metadata": {},
   "outputs": [],
   "source": [
    "def play_song(track_id):\n",
    "    return IFrame(src=\"https://open.spotify.com/embed/track/\"+track_id+\"?autoplay=1\",\n",
    "       width=\"320\",\n",
    "       height=\"80\",\n",
    "       frameborder=\"0\",\n",
    "       allowtransparency=\"true\",\n",
    "       allow=\"encrypted-media\",\n",
    "      )"
   ]
  },
  {
   "cell_type": "code",
   "execution_count": 313,
   "metadata": {},
   "outputs": [
    {
     "data": {
      "text/html": [
       "\n",
       "        <iframe\n",
       "            width=\"320\"\n",
       "            height=\"80\"\n",
       "            src=\"https://open.spotify.com/embed/track/1Yk0cQdMLx5RzzFTYwmuld?autoplay=1?frameborder=0&allowtransparency=true&allow=encrypted-media\"\n",
       "            frameborder=\"0\"\n",
       "            allowfullscreen\n",
       "            \n",
       "        ></iframe>\n",
       "        "
      ],
      "text/plain": [
       "<IPython.lib.display.IFrame at 0x1c79fc92ee0>"
      ]
     },
     "execution_count": 313,
     "metadata": {},
     "output_type": "execute_result"
    }
   ],
   "source": [
    "play_song(track_id)"
   ]
  },
  {
   "attachments": {},
   "cell_type": "markdown",
   "metadata": {},
   "source": [
    "## Track ID of the Song"
   ]
  },
  {
   "cell_type": "code",
   "execution_count": 314,
   "metadata": {},
   "outputs": [
    {
     "data": {
      "text/plain": [
       "'1Yk0cQdMLx5RzzFTYwmuld'"
      ]
     },
     "execution_count": 314,
     "metadata": {},
     "output_type": "execute_result"
    }
   ],
   "source": [
    "song_id = results[\"tracks\"][\"items\"][0][\"id\"]\n",
    "song_id"
   ]
  },
  {
   "attachments": {},
   "cell_type": "markdown",
   "metadata": {},
   "source": [
    "## Getting the audio features of the Requested Song"
   ]
  },
  {
   "cell_type": "code",
   "execution_count": 315,
   "metadata": {},
   "outputs": [
    {
     "name": "stdout",
     "output_type": "stream",
     "text": [
      "[{'danceability': 0.578, 'energy': 0.43, 'key': 5, 'loudness': -6.134, 'mode': 0, 'speechiness': 0.0305, 'acousticness': 0.33, 'instrumentalness': 0, 'liveness': 0.0854, 'valence': 0.288, 'tempo': 78.991, 'type': 'audio_features', 'id': '1Yk0cQdMLx5RzzFTYwmuld', 'uri': 'spotify:track:1Yk0cQdMLx5RzzFTYwmuld', 'track_href': 'https://api.spotify.com/v1/tracks/1Yk0cQdMLx5RzzFTYwmuld', 'analysis_url': 'https://api.spotify.com/v1/audio-analysis/1Yk0cQdMLx5RzzFTYwmuld', 'duration_ms': 295502, 'time_signature': 4}]\n"
     ]
    },
    {
     "data": {
      "text/plain": [
       "[{'danceability': 0.578,\n",
       "  'energy': 0.43,\n",
       "  'key': 5,\n",
       "  'loudness': -6.134,\n",
       "  'mode': 0,\n",
       "  'speechiness': 0.0305,\n",
       "  'acousticness': 0.33,\n",
       "  'instrumentalness': 0,\n",
       "  'liveness': 0.0854,\n",
       "  'valence': 0.288,\n",
       "  'tempo': 78.991,\n",
       "  'type': 'audio_features',\n",
       "  'id': '1Yk0cQdMLx5RzzFTYwmuld',\n",
       "  'uri': 'spotify:track:1Yk0cQdMLx5RzzFTYwmuld',\n",
       "  'track_href': 'https://api.spotify.com/v1/tracks/1Yk0cQdMLx5RzzFTYwmuld',\n",
       "  'analysis_url': 'https://api.spotify.com/v1/audio-analysis/1Yk0cQdMLx5RzzFTYwmuld',\n",
       "  'duration_ms': 295502,\n",
       "  'time_signature': 4}]"
      ]
     },
     "execution_count": 315,
     "metadata": {},
     "output_type": "execute_result"
    }
   ],
   "source": [
    "print(sp.audio_features(song_id))\n",
    "sp.audio_features(song_id)"
   ]
  },
  {
   "attachments": {},
   "cell_type": "markdown",
   "metadata": {},
   "source": [
    "## Extract the Audio Features of the Requested Song in a Dataframe"
   ]
  },
  {
   "cell_type": "code",
   "execution_count": 316,
   "metadata": {},
   "outputs": [
    {
     "name": "stdout",
     "output_type": "stream",
     "text": [
      "[{'danceability': 0.578, 'energy': 0.43, 'key': 5, 'loudness': -6.134, 'mode': 0, 'speechiness': 0.0305, 'acousticness': 0.33, 'instrumentalness': 0, 'liveness': 0.0854, 'valence': 0.288, 'tempo': 78.991, 'type': 'audio_features', 'id': '1Yk0cQdMLx5RzzFTYwmuld', 'uri': 'spotify:track:1Yk0cQdMLx5RzzFTYwmuld', 'track_href': 'https://api.spotify.com/v1/tracks/1Yk0cQdMLx5RzzFTYwmuld', 'analysis_url': 'https://api.spotify.com/v1/audio-analysis/1Yk0cQdMLx5RzzFTYwmuld', 'duration_ms': 295502, 'time_signature': 4}]\n"
     ]
    }
   ],
   "source": [
    "print(sp.audio_features(results[\"tracks\"][\"items\"][0][\"id\"]))"
   ]
  },
  {
   "cell_type": "code",
   "execution_count": 317,
   "metadata": {},
   "outputs": [
    {
     "data": {
      "text/html": [
       "<div>\n",
       "<style scoped>\n",
       "    .dataframe tbody tr th:only-of-type {\n",
       "        vertical-align: middle;\n",
       "    }\n",
       "\n",
       "    .dataframe tbody tr th {\n",
       "        vertical-align: top;\n",
       "    }\n",
       "\n",
       "    .dataframe thead th {\n",
       "        text-align: right;\n",
       "    }\n",
       "</style>\n",
       "<table border=\"1\" class=\"dataframe\">\n",
       "  <thead>\n",
       "    <tr style=\"text-align: right;\">\n",
       "      <th></th>\n",
       "      <th>danceability</th>\n",
       "      <th>energy</th>\n",
       "      <th>loudness</th>\n",
       "      <th>speechiness</th>\n",
       "      <th>acousticness</th>\n",
       "      <th>instrumentalness</th>\n",
       "      <th>liveness</th>\n",
       "      <th>valence</th>\n",
       "      <th>tempo</th>\n",
       "      <th>id</th>\n",
       "      <th>duration_ms</th>\n",
       "    </tr>\n",
       "  </thead>\n",
       "  <tbody>\n",
       "    <tr>\n",
       "      <th>0</th>\n",
       "      <td>0.578</td>\n",
       "      <td>0.43</td>\n",
       "      <td>-6.134</td>\n",
       "      <td>0.0305</td>\n",
       "      <td>0.33</td>\n",
       "      <td>0</td>\n",
       "      <td>0.0854</td>\n",
       "      <td>0.288</td>\n",
       "      <td>78.991</td>\n",
       "      <td>1Yk0cQdMLx5RzzFTYwmuld</td>\n",
       "      <td>295502</td>\n",
       "    </tr>\n",
       "  </tbody>\n",
       "</table>\n",
       "</div>"
      ],
      "text/plain": [
       "   danceability  energy  loudness  speechiness  acousticness  \\\n",
       "0         0.578    0.43    -6.134       0.0305          0.33   \n",
       "\n",
       "   instrumentalness  liveness  valence   tempo                      id  \\\n",
       "0                 0    0.0854    0.288  78.991  1Yk0cQdMLx5RzzFTYwmuld   \n",
       "\n",
       "   duration_ms  \n",
       "0       295502  "
      ]
     },
     "execution_count": 317,
     "metadata": {},
     "output_type": "execute_result"
    }
   ],
   "source": [
    "requested_song_audio_features = pd.DataFrame(sp.audio_features(song_id))\n",
    "requested_song_audio_features = requested_song_audio_features[[\"danceability\",\"energy\",\"loudness\",\"speechiness\",\"acousticness\",\"instrumentalness\",\"liveness\",\"valence\",\"tempo\",\"id\",\"duration_ms\"]]\n",
    "\n",
    "requested_song_audio_features"
   ]
  },
  {
   "cell_type": "code",
   "execution_count": 318,
   "metadata": {},
   "outputs": [
    {
     "data": {
      "text/html": [
       "<div>\n",
       "<style scoped>\n",
       "    .dataframe tbody tr th:only-of-type {\n",
       "        vertical-align: middle;\n",
       "    }\n",
       "\n",
       "    .dataframe tbody tr th {\n",
       "        vertical-align: top;\n",
       "    }\n",
       "\n",
       "    .dataframe thead th {\n",
       "        text-align: right;\n",
       "    }\n",
       "</style>\n",
       "<table border=\"1\" class=\"dataframe\">\n",
       "  <thead>\n",
       "    <tr style=\"text-align: right;\">\n",
       "      <th></th>\n",
       "      <th>danceability</th>\n",
       "      <th>energy</th>\n",
       "      <th>loudness</th>\n",
       "      <th>speechiness</th>\n",
       "      <th>acousticness</th>\n",
       "      <th>instrumentalness</th>\n",
       "      <th>liveness</th>\n",
       "      <th>valence</th>\n",
       "      <th>tempo</th>\n",
       "      <th>duration_ms</th>\n",
       "    </tr>\n",
       "  </thead>\n",
       "  <tbody>\n",
       "    <tr>\n",
       "      <th>0</th>\n",
       "      <td>0.578</td>\n",
       "      <td>0.43</td>\n",
       "      <td>-6.134</td>\n",
       "      <td>0.0305</td>\n",
       "      <td>0.33</td>\n",
       "      <td>0</td>\n",
       "      <td>0.0854</td>\n",
       "      <td>0.288</td>\n",
       "      <td>78.991</td>\n",
       "      <td>295502</td>\n",
       "    </tr>\n",
       "  </tbody>\n",
       "</table>\n",
       "</div>"
      ],
      "text/plain": [
       "   danceability  energy  loudness  speechiness  acousticness  \\\n",
       "0         0.578    0.43    -6.134       0.0305          0.33   \n",
       "\n",
       "   instrumentalness  liveness  valence   tempo  duration_ms  \n",
       "0                 0    0.0854    0.288  78.991       295502  "
      ]
     },
     "execution_count": 318,
     "metadata": {},
     "output_type": "execute_result"
    }
   ],
   "source": [
    "simple_requested_song_audio_features = requested_song_audio_features[[\"danceability\",\"energy\",\"loudness\",\"speechiness\",\"acousticness\",\"instrumentalness\",\"liveness\",\"valence\",\"tempo\",\"duration_ms\"]]\n",
    "\n",
    "simple_requested_song_audio_features\n"
   ]
  },
  {
   "attachments": {},
   "cell_type": "markdown",
   "metadata": {},
   "source": [
    "## Loading our Songs Database"
   ]
  },
  {
   "cell_type": "code",
   "execution_count": 319,
   "metadata": {},
   "outputs": [
    {
     "data": {
      "text/html": [
       "<div>\n",
       "<style scoped>\n",
       "    .dataframe tbody tr th:only-of-type {\n",
       "        vertical-align: middle;\n",
       "    }\n",
       "\n",
       "    .dataframe tbody tr th {\n",
       "        vertical-align: top;\n",
       "    }\n",
       "\n",
       "    .dataframe thead th {\n",
       "        text-align: right;\n",
       "    }\n",
       "</style>\n",
       "<table border=\"1\" class=\"dataframe\">\n",
       "  <thead>\n",
       "    <tr style=\"text-align: right;\">\n",
       "      <th></th>\n",
       "      <th>danceability</th>\n",
       "      <th>energy</th>\n",
       "      <th>loudness</th>\n",
       "      <th>speechiness</th>\n",
       "      <th>acousticness</th>\n",
       "      <th>instrumentalness</th>\n",
       "      <th>liveness</th>\n",
       "      <th>valence</th>\n",
       "      <th>tempo</th>\n",
       "      <th>id</th>\n",
       "      <th>duration_ms</th>\n",
       "    </tr>\n",
       "  </thead>\n",
       "  <tbody>\n",
       "    <tr>\n",
       "      <th>0</th>\n",
       "      <td>0.531</td>\n",
       "      <td>0.622</td>\n",
       "      <td>-7.751</td>\n",
       "      <td>0.4470</td>\n",
       "      <td>0.60200</td>\n",
       "      <td>0.000000</td>\n",
       "      <td>0.1180</td>\n",
       "      <td>0.5930</td>\n",
       "      <td>167.758</td>\n",
       "      <td>3SgnYOV9ONL0bIHaAcOYE1</td>\n",
       "      <td>454533</td>\n",
       "    </tr>\n",
       "    <tr>\n",
       "      <th>1</th>\n",
       "      <td>0.634</td>\n",
       "      <td>0.675</td>\n",
       "      <td>-7.351</td>\n",
       "      <td>0.0926</td>\n",
       "      <td>0.09900</td>\n",
       "      <td>0.000314</td>\n",
       "      <td>0.3620</td>\n",
       "      <td>0.6330</td>\n",
       "      <td>82.183</td>\n",
       "      <td>3IM7zXywZ6sRTtkRjRLxJ8</td>\n",
       "      <td>219866</td>\n",
       "    </tr>\n",
       "    <tr>\n",
       "      <th>2</th>\n",
       "      <td>0.826</td>\n",
       "      <td>0.490</td>\n",
       "      <td>-10.477</td>\n",
       "      <td>0.0676</td>\n",
       "      <td>0.00916</td>\n",
       "      <td>0.000004</td>\n",
       "      <td>0.0415</td>\n",
       "      <td>0.6270</td>\n",
       "      <td>74.126</td>\n",
       "      <td>75FYqcxt1YEAtqDLrOeIJn</td>\n",
       "      <td>180267</td>\n",
       "    </tr>\n",
       "    <tr>\n",
       "      <th>3</th>\n",
       "      <td>0.525</td>\n",
       "      <td>0.650</td>\n",
       "      <td>-6.961</td>\n",
       "      <td>0.0683</td>\n",
       "      <td>0.08520</td>\n",
       "      <td>0.133000</td>\n",
       "      <td>0.1330</td>\n",
       "      <td>0.7870</td>\n",
       "      <td>175.913</td>\n",
       "      <td>4p4hyqRFdoiw4EMbEsqBdA</td>\n",
       "      <td>289973</td>\n",
       "    </tr>\n",
       "    <tr>\n",
       "      <th>4</th>\n",
       "      <td>0.731</td>\n",
       "      <td>0.312</td>\n",
       "      <td>-13.899</td>\n",
       "      <td>0.0816</td>\n",
       "      <td>0.68300</td>\n",
       "      <td>0.879000</td>\n",
       "      <td>0.1040</td>\n",
       "      <td>0.4500</td>\n",
       "      <td>78.001</td>\n",
       "      <td>2Kqb9yoRNsSiHZT26dg2zs</td>\n",
       "      <td>223223</td>\n",
       "    </tr>\n",
       "    <tr>\n",
       "      <th>...</th>\n",
       "      <td>...</td>\n",
       "      <td>...</td>\n",
       "      <td>...</td>\n",
       "      <td>...</td>\n",
       "      <td>...</td>\n",
       "      <td>...</td>\n",
       "      <td>...</td>\n",
       "      <td>...</td>\n",
       "      <td>...</td>\n",
       "      <td>...</td>\n",
       "      <td>...</td>\n",
       "    </tr>\n",
       "    <tr>\n",
       "      <th>2124</th>\n",
       "      <td>0.851</td>\n",
       "      <td>0.567</td>\n",
       "      <td>-8.074</td>\n",
       "      <td>0.2310</td>\n",
       "      <td>0.21500</td>\n",
       "      <td>0.000000</td>\n",
       "      <td>0.0998</td>\n",
       "      <td>0.4460</td>\n",
       "      <td>119.969</td>\n",
       "      <td>7jbu9k6w67hWlhSinmGT3c</td>\n",
       "      <td>192213</td>\n",
       "    </tr>\n",
       "    <tr>\n",
       "      <th>2125</th>\n",
       "      <td>0.875</td>\n",
       "      <td>0.600</td>\n",
       "      <td>-6.818</td>\n",
       "      <td>0.0435</td>\n",
       "      <td>0.01890</td>\n",
       "      <td>0.014300</td>\n",
       "      <td>0.1320</td>\n",
       "      <td>0.0906</td>\n",
       "      <td>119.987</td>\n",
       "      <td>2jTujnt0y344ai1rNOywgr</td>\n",
       "      <td>162638</td>\n",
       "    </tr>\n",
       "    <tr>\n",
       "      <th>2126</th>\n",
       "      <td>0.792</td>\n",
       "      <td>0.793</td>\n",
       "      <td>-6.185</td>\n",
       "      <td>0.0841</td>\n",
       "      <td>0.08720</td>\n",
       "      <td>0.000000</td>\n",
       "      <td>0.2200</td>\n",
       "      <td>0.7750</td>\n",
       "      <td>123.031</td>\n",
       "      <td>3w1WjD2zJqjBjDz5fwqQPJ</td>\n",
       "      <td>156578</td>\n",
       "    </tr>\n",
       "    <tr>\n",
       "      <th>2127</th>\n",
       "      <td>0.640</td>\n",
       "      <td>0.553</td>\n",
       "      <td>-6.420</td>\n",
       "      <td>0.0411</td>\n",
       "      <td>0.05790</td>\n",
       "      <td>0.000000</td>\n",
       "      <td>0.0914</td>\n",
       "      <td>0.4860</td>\n",
       "      <td>81.992</td>\n",
       "      <td>6GUiIbJ834FcHewby3PwV0</td>\n",
       "      <td>148471</td>\n",
       "    </tr>\n",
       "    <tr>\n",
       "      <th>2128</th>\n",
       "      <td>0.850</td>\n",
       "      <td>0.657</td>\n",
       "      <td>-7.078</td>\n",
       "      <td>0.1660</td>\n",
       "      <td>0.14000</td>\n",
       "      <td>0.019200</td>\n",
       "      <td>0.0939</td>\n",
       "      <td>0.8430</td>\n",
       "      <td>137.971</td>\n",
       "      <td>3PqAnW2bB5TQnMoBivyFOb</td>\n",
       "      <td>265667</td>\n",
       "    </tr>\n",
       "  </tbody>\n",
       "</table>\n",
       "<p>2129 rows × 11 columns</p>\n",
       "</div>"
      ],
      "text/plain": [
       "      danceability  energy  loudness  speechiness  acousticness  \\\n",
       "0            0.531   0.622    -7.751       0.4470       0.60200   \n",
       "1            0.634   0.675    -7.351       0.0926       0.09900   \n",
       "2            0.826   0.490   -10.477       0.0676       0.00916   \n",
       "3            0.525   0.650    -6.961       0.0683       0.08520   \n",
       "4            0.731   0.312   -13.899       0.0816       0.68300   \n",
       "...            ...     ...       ...          ...           ...   \n",
       "2124         0.851   0.567    -8.074       0.2310       0.21500   \n",
       "2125         0.875   0.600    -6.818       0.0435       0.01890   \n",
       "2126         0.792   0.793    -6.185       0.0841       0.08720   \n",
       "2127         0.640   0.553    -6.420       0.0411       0.05790   \n",
       "2128         0.850   0.657    -7.078       0.1660       0.14000   \n",
       "\n",
       "      instrumentalness  liveness  valence    tempo                      id  \\\n",
       "0             0.000000    0.1180   0.5930  167.758  3SgnYOV9ONL0bIHaAcOYE1   \n",
       "1             0.000314    0.3620   0.6330   82.183  3IM7zXywZ6sRTtkRjRLxJ8   \n",
       "2             0.000004    0.0415   0.6270   74.126  75FYqcxt1YEAtqDLrOeIJn   \n",
       "3             0.133000    0.1330   0.7870  175.913  4p4hyqRFdoiw4EMbEsqBdA   \n",
       "4             0.879000    0.1040   0.4500   78.001  2Kqb9yoRNsSiHZT26dg2zs   \n",
       "...                ...       ...      ...      ...                     ...   \n",
       "2124          0.000000    0.0998   0.4460  119.969  7jbu9k6w67hWlhSinmGT3c   \n",
       "2125          0.014300    0.1320   0.0906  119.987  2jTujnt0y344ai1rNOywgr   \n",
       "2126          0.000000    0.2200   0.7750  123.031  3w1WjD2zJqjBjDz5fwqQPJ   \n",
       "2127          0.000000    0.0914   0.4860   81.992  6GUiIbJ834FcHewby3PwV0   \n",
       "2128          0.019200    0.0939   0.8430  137.971  3PqAnW2bB5TQnMoBivyFOb   \n",
       "\n",
       "      duration_ms  \n",
       "0          454533  \n",
       "1          219866  \n",
       "2          180267  \n",
       "3          289973  \n",
       "4          223223  \n",
       "...           ...  \n",
       "2124       192213  \n",
       "2125       162638  \n",
       "2126       156578  \n",
       "2127       148471  \n",
       "2128       265667  \n",
       "\n",
       "[2129 rows x 11 columns]"
      ]
     },
     "execution_count": 319,
     "metadata": {},
     "output_type": "execute_result"
    }
   ],
   "source": [
    "df = pd.read_csv('Songs_Database.csv', sep=';')\n",
    "# df.dropna(subset=[\"id\"], inplace=True)\n",
    "df"
   ]
  },
  {
   "cell_type": "code",
   "execution_count": 320,
   "metadata": {},
   "outputs": [
    {
     "data": {
      "text/html": [
       "<div>\n",
       "<style scoped>\n",
       "    .dataframe tbody tr th:only-of-type {\n",
       "        vertical-align: middle;\n",
       "    }\n",
       "\n",
       "    .dataframe tbody tr th {\n",
       "        vertical-align: top;\n",
       "    }\n",
       "\n",
       "    .dataframe thead th {\n",
       "        text-align: right;\n",
       "    }\n",
       "</style>\n",
       "<table border=\"1\" class=\"dataframe\">\n",
       "  <thead>\n",
       "    <tr style=\"text-align: right;\">\n",
       "      <th></th>\n",
       "      <th>danceability</th>\n",
       "      <th>energy</th>\n",
       "      <th>loudness</th>\n",
       "      <th>speechiness</th>\n",
       "      <th>acousticness</th>\n",
       "      <th>instrumentalness</th>\n",
       "      <th>liveness</th>\n",
       "      <th>valence</th>\n",
       "      <th>tempo</th>\n",
       "      <th>duration_ms</th>\n",
       "    </tr>\n",
       "  </thead>\n",
       "  <tbody>\n",
       "    <tr>\n",
       "      <th>0</th>\n",
       "      <td>0.531</td>\n",
       "      <td>0.622</td>\n",
       "      <td>-7.751</td>\n",
       "      <td>0.4470</td>\n",
       "      <td>0.60200</td>\n",
       "      <td>0.000000</td>\n",
       "      <td>0.1180</td>\n",
       "      <td>0.593</td>\n",
       "      <td>167.758</td>\n",
       "      <td>454533</td>\n",
       "    </tr>\n",
       "    <tr>\n",
       "      <th>1</th>\n",
       "      <td>0.634</td>\n",
       "      <td>0.675</td>\n",
       "      <td>-7.351</td>\n",
       "      <td>0.0926</td>\n",
       "      <td>0.09900</td>\n",
       "      <td>0.000314</td>\n",
       "      <td>0.3620</td>\n",
       "      <td>0.633</td>\n",
       "      <td>82.183</td>\n",
       "      <td>219866</td>\n",
       "    </tr>\n",
       "    <tr>\n",
       "      <th>2</th>\n",
       "      <td>0.826</td>\n",
       "      <td>0.490</td>\n",
       "      <td>-10.477</td>\n",
       "      <td>0.0676</td>\n",
       "      <td>0.00916</td>\n",
       "      <td>0.000004</td>\n",
       "      <td>0.0415</td>\n",
       "      <td>0.627</td>\n",
       "      <td>74.126</td>\n",
       "      <td>180267</td>\n",
       "    </tr>\n",
       "    <tr>\n",
       "      <th>3</th>\n",
       "      <td>0.525</td>\n",
       "      <td>0.650</td>\n",
       "      <td>-6.961</td>\n",
       "      <td>0.0683</td>\n",
       "      <td>0.08520</td>\n",
       "      <td>0.133000</td>\n",
       "      <td>0.1330</td>\n",
       "      <td>0.787</td>\n",
       "      <td>175.913</td>\n",
       "      <td>289973</td>\n",
       "    </tr>\n",
       "    <tr>\n",
       "      <th>4</th>\n",
       "      <td>0.731</td>\n",
       "      <td>0.312</td>\n",
       "      <td>-13.899</td>\n",
       "      <td>0.0816</td>\n",
       "      <td>0.68300</td>\n",
       "      <td>0.879000</td>\n",
       "      <td>0.1040</td>\n",
       "      <td>0.450</td>\n",
       "      <td>78.001</td>\n",
       "      <td>223223</td>\n",
       "    </tr>\n",
       "  </tbody>\n",
       "</table>\n",
       "</div>"
      ],
      "text/plain": [
       "   danceability  energy  loudness  speechiness  acousticness  \\\n",
       "0         0.531   0.622    -7.751       0.4470       0.60200   \n",
       "1         0.634   0.675    -7.351       0.0926       0.09900   \n",
       "2         0.826   0.490   -10.477       0.0676       0.00916   \n",
       "3         0.525   0.650    -6.961       0.0683       0.08520   \n",
       "4         0.731   0.312   -13.899       0.0816       0.68300   \n",
       "\n",
       "   instrumentalness  liveness  valence    tempo  duration_ms  \n",
       "0          0.000000    0.1180    0.593  167.758       454533  \n",
       "1          0.000314    0.3620    0.633   82.183       219866  \n",
       "2          0.000004    0.0415    0.627   74.126       180267  \n",
       "3          0.133000    0.1330    0.787  175.913       289973  \n",
       "4          0.879000    0.1040    0.450   78.001       223223  "
      ]
     },
     "execution_count": 320,
     "metadata": {},
     "output_type": "execute_result"
    }
   ],
   "source": [
    "data = df.drop([\"id\"], axis=1)\n",
    "data.head()"
   ]
  },
  {
   "attachments": {},
   "cell_type": "markdown",
   "metadata": {},
   "source": [
    "## Performing Scaling on our Songs_Database"
   ]
  },
  {
   "cell_type": "code",
   "execution_count": 321,
   "metadata": {},
   "outputs": [
    {
     "name": "stdout",
     "output_type": "stream",
     "text": [
      "Explained variance ratio:\n",
      "[0.24212436 0.15373646 0.11444238 0.11119032 0.1037865  0.0924138\n",
      " 0.08803761 0.07114155 0.02312703]\n",
      "\n",
      "Cumulative variance ratio:\n",
      "[0.24212436 0.39586082 0.51030319 0.62149351 0.72528001 0.81769381\n",
      " 0.90573142 0.97687297 1.        ]\n"
     ]
    }
   ],
   "source": [
    "# Create an instance of StandardScaler\n",
    "scaler = StandardScaler()\n",
    "\n",
    "# Standardize the data using StandardScaler\n",
    "X_normalized = scaler.fit_transform(data[[\"danceability\", \"energy\", \"loudness\", \"speechiness\", \"instrumentalness\",\"liveness\",\"valence\",\"tempo\",\"duration_ms\"]])\n",
    "\n",
    "# # Print the original data\n",
    "# print(\"Original data:\")\n",
    "# print(data.head())\n",
    "\n",
    "# Create a DataFrame with the normalized data\n",
    "data_normalized = pd.DataFrame(X_normalized, columns=[\"danceability\", \"energy\", \"loudness\", \"speechiness\", \"instrumentalness\",\"liveness\",\"valence\",\"tempo\",\"duration_ms\"])\n",
    "\n",
    "# Perform PCA on the normalized data\n",
    "pca = PCA(n_components=9)\n",
    "pca.fit(X_normalized)\n",
    "\n",
    "# Get the contribution of each principal component to the data variance\n",
    "# En utilisant pca.explained_variance_ratio_, on peut obtenir une idée de la contribution de chaque composante principale à la variance des données.\n",
    "# Cela peut aider à décider combien de composantes principales utiliser pour réduire la dimensionnalité ou pour d'autres analyses.\n",
    "pca.explained_variance_ratio_\n",
    "\n",
    "# Get the contribution of each principal component to the data variance\n",
    "explained_variance_ratio = pca.explained_variance_ratio_\n",
    "\n",
    "# Print the contribution of each principal component\n",
    "print(\"Explained variance ratio:\")\n",
    "print(explained_variance_ratio)\n",
    "\n",
    "# Calculate the cumulative sum of explained variance ratio\n",
    "# Déterminer combien de composantes principales tu souhaites conserver, en fonction du pourcentage de variance que tu souhaites préserver.\n",
    "# Par exemple, si la somme cumulative atteint 0,95, cela signifie que les composantes principales retenues capturent 95 % de la variance totale des données.\n",
    "np.cumsum(pca.explained_variance_ratio_)\n",
    "\n",
    "# Calculate the cumulative sum of explained variance ratio\n",
    "cumulative_variance_ratio = np.cumsum(explained_variance_ratio)\n",
    "\n",
    "# Print the cumulative sum of explained variance ratio\n",
    "print(\"\\nCumulative variance ratio:\")\n",
    "print(cumulative_variance_ratio)"
   ]
  },
  {
   "attachments": {},
   "cell_type": "markdown",
   "metadata": {},
   "source": [
    "## Save SCALER in file with PICKLE"
   ]
  },
  {
   "cell_type": "code",
   "execution_count": 322,
   "metadata": {},
   "outputs": [],
   "source": [
    "#Ici, nous ouvrons un fichier nommé \"scaler.pkl\" en mode d'écriture binaire ('wb'), puis nous utilisons pickle.dump() pour écrire l'objet scaler dans le fichier.\n",
    "with open('scaler.pkl', 'wb') as fichier:\n",
    "    pickle.dump(scaler, fichier)"
   ]
  },
  {
   "cell_type": "code",
   "execution_count": 323,
   "metadata": {},
   "outputs": [],
   "source": [
    "# with open(\"Songs_Database.csv\", \"rb\") as f: #don't forget the correct path\n",
    "#      scaler_new = pickle.load(fichier) "
   ]
  },
  {
   "attachments": {},
   "cell_type": "markdown",
   "metadata": {},
   "source": [
    "## Finding out the best number of Clusters to use"
   ]
  },
  {
   "cell_type": "code",
   "execution_count": 324,
   "metadata": {},
   "outputs": [
    {
     "name": "stdout",
     "output_type": "stream",
     "text": [
      "Training a K-Means model with 5 clusters! \n",
      "\n"
     ]
    },
    {
     "name": "stderr",
     "output_type": "stream",
     "text": [
      "c:\\Users\\theya\\anaconda3\\lib\\site-packages\\sklearn\\cluster\\_kmeans.py:870: FutureWarning: The default value of `n_init` will change from 10 to 'auto' in 1.4. Set the value of `n_init` explicitly to suppress the warning\n",
      "  warnings.warn(\n",
      "c:\\Users\\theya\\anaconda3\\lib\\site-packages\\sklearn\\cluster\\_kmeans.py:1382: UserWarning: KMeans is known to have a memory leak on Windows with MKL, when there are less chunks than available threads. You can avoid it by setting the environment variable OMP_NUM_THREADS=9.\n",
      "  warnings.warn(\n"
     ]
    },
    {
     "name": "stdout",
     "output_type": "stream",
     "text": [
      "Training a K-Means model with 6 clusters! \n",
      "\n"
     ]
    },
    {
     "name": "stderr",
     "output_type": "stream",
     "text": [
      "c:\\Users\\theya\\anaconda3\\lib\\site-packages\\sklearn\\cluster\\_kmeans.py:870: FutureWarning: The default value of `n_init` will change from 10 to 'auto' in 1.4. Set the value of `n_init` explicitly to suppress the warning\n",
      "  warnings.warn(\n",
      "c:\\Users\\theya\\anaconda3\\lib\\site-packages\\sklearn\\cluster\\_kmeans.py:1382: UserWarning: KMeans is known to have a memory leak on Windows with MKL, when there are less chunks than available threads. You can avoid it by setting the environment variable OMP_NUM_THREADS=9.\n",
      "  warnings.warn(\n"
     ]
    },
    {
     "name": "stdout",
     "output_type": "stream",
     "text": [
      "Training a K-Means model with 7 clusters! \n",
      "\n"
     ]
    },
    {
     "name": "stderr",
     "output_type": "stream",
     "text": [
      "c:\\Users\\theya\\anaconda3\\lib\\site-packages\\sklearn\\cluster\\_kmeans.py:870: FutureWarning: The default value of `n_init` will change from 10 to 'auto' in 1.4. Set the value of `n_init` explicitly to suppress the warning\n",
      "  warnings.warn(\n",
      "c:\\Users\\theya\\anaconda3\\lib\\site-packages\\sklearn\\cluster\\_kmeans.py:1382: UserWarning: KMeans is known to have a memory leak on Windows with MKL, when there are less chunks than available threads. You can avoid it by setting the environment variable OMP_NUM_THREADS=9.\n",
      "  warnings.warn(\n"
     ]
    },
    {
     "name": "stdout",
     "output_type": "stream",
     "text": [
      "Training a K-Means model with 8 clusters! \n",
      "\n"
     ]
    },
    {
     "name": "stderr",
     "output_type": "stream",
     "text": [
      "c:\\Users\\theya\\anaconda3\\lib\\site-packages\\sklearn\\cluster\\_kmeans.py:870: FutureWarning: The default value of `n_init` will change from 10 to 'auto' in 1.4. Set the value of `n_init` explicitly to suppress the warning\n",
      "  warnings.warn(\n",
      "c:\\Users\\theya\\anaconda3\\lib\\site-packages\\sklearn\\cluster\\_kmeans.py:1382: UserWarning: KMeans is known to have a memory leak on Windows with MKL, when there are less chunks than available threads. You can avoid it by setting the environment variable OMP_NUM_THREADS=9.\n",
      "  warnings.warn(\n"
     ]
    },
    {
     "name": "stdout",
     "output_type": "stream",
     "text": [
      "Training a K-Means model with 9 clusters! \n",
      "\n"
     ]
    },
    {
     "name": "stderr",
     "output_type": "stream",
     "text": [
      "c:\\Users\\theya\\anaconda3\\lib\\site-packages\\sklearn\\cluster\\_kmeans.py:870: FutureWarning: The default value of `n_init` will change from 10 to 'auto' in 1.4. Set the value of `n_init` explicitly to suppress the warning\n",
      "  warnings.warn(\n",
      "c:\\Users\\theya\\anaconda3\\lib\\site-packages\\sklearn\\cluster\\_kmeans.py:1382: UserWarning: KMeans is known to have a memory leak on Windows with MKL, when there are less chunks than available threads. You can avoid it by setting the environment variable OMP_NUM_THREADS=9.\n",
      "  warnings.warn(\n"
     ]
    },
    {
     "name": "stdout",
     "output_type": "stream",
     "text": [
      "Training a K-Means model with 10 clusters! \n",
      "\n"
     ]
    },
    {
     "name": "stderr",
     "output_type": "stream",
     "text": [
      "c:\\Users\\theya\\anaconda3\\lib\\site-packages\\sklearn\\cluster\\_kmeans.py:870: FutureWarning: The default value of `n_init` will change from 10 to 'auto' in 1.4. Set the value of `n_init` explicitly to suppress the warning\n",
      "  warnings.warn(\n",
      "c:\\Users\\theya\\anaconda3\\lib\\site-packages\\sklearn\\cluster\\_kmeans.py:1382: UserWarning: KMeans is known to have a memory leak on Windows with MKL, when there are less chunks than available threads. You can avoid it by setting the environment variable OMP_NUM_THREADS=9.\n",
      "  warnings.warn(\n"
     ]
    },
    {
     "name": "stdout",
     "output_type": "stream",
     "text": [
      "Training a K-Means model with 11 clusters! \n",
      "\n"
     ]
    },
    {
     "name": "stderr",
     "output_type": "stream",
     "text": [
      "c:\\Users\\theya\\anaconda3\\lib\\site-packages\\sklearn\\cluster\\_kmeans.py:870: FutureWarning: The default value of `n_init` will change from 10 to 'auto' in 1.4. Set the value of `n_init` explicitly to suppress the warning\n",
      "  warnings.warn(\n",
      "c:\\Users\\theya\\anaconda3\\lib\\site-packages\\sklearn\\cluster\\_kmeans.py:1382: UserWarning: KMeans is known to have a memory leak on Windows with MKL, when there are less chunks than available threads. You can avoid it by setting the environment variable OMP_NUM_THREADS=9.\n",
      "  warnings.warn(\n"
     ]
    },
    {
     "name": "stdout",
     "output_type": "stream",
     "text": [
      "Training a K-Means model with 12 clusters! \n",
      "\n"
     ]
    },
    {
     "name": "stderr",
     "output_type": "stream",
     "text": [
      "c:\\Users\\theya\\anaconda3\\lib\\site-packages\\sklearn\\cluster\\_kmeans.py:870: FutureWarning: The default value of `n_init` will change from 10 to 'auto' in 1.4. Set the value of `n_init` explicitly to suppress the warning\n",
      "  warnings.warn(\n",
      "c:\\Users\\theya\\anaconda3\\lib\\site-packages\\sklearn\\cluster\\_kmeans.py:1382: UserWarning: KMeans is known to have a memory leak on Windows with MKL, when there are less chunks than available threads. You can avoid it by setting the environment variable OMP_NUM_THREADS=9.\n",
      "  warnings.warn(\n"
     ]
    },
    {
     "name": "stdout",
     "output_type": "stream",
     "text": [
      "Training a K-Means model with 13 clusters! \n",
      "\n"
     ]
    },
    {
     "name": "stderr",
     "output_type": "stream",
     "text": [
      "c:\\Users\\theya\\anaconda3\\lib\\site-packages\\sklearn\\cluster\\_kmeans.py:870: FutureWarning: The default value of `n_init` will change from 10 to 'auto' in 1.4. Set the value of `n_init` explicitly to suppress the warning\n",
      "  warnings.warn(\n",
      "c:\\Users\\theya\\anaconda3\\lib\\site-packages\\sklearn\\cluster\\_kmeans.py:1382: UserWarning: KMeans is known to have a memory leak on Windows with MKL, when there are less chunks than available threads. You can avoid it by setting the environment variable OMP_NUM_THREADS=9.\n",
      "  warnings.warn(\n"
     ]
    },
    {
     "name": "stdout",
     "output_type": "stream",
     "text": [
      "Training a K-Means model with 14 clusters! \n",
      "\n"
     ]
    },
    {
     "name": "stderr",
     "output_type": "stream",
     "text": [
      "c:\\Users\\theya\\anaconda3\\lib\\site-packages\\sklearn\\cluster\\_kmeans.py:870: FutureWarning: The default value of `n_init` will change from 10 to 'auto' in 1.4. Set the value of `n_init` explicitly to suppress the warning\n",
      "  warnings.warn(\n",
      "c:\\Users\\theya\\anaconda3\\lib\\site-packages\\sklearn\\cluster\\_kmeans.py:1382: UserWarning: KMeans is known to have a memory leak on Windows with MKL, when there are less chunks than available threads. You can avoid it by setting the environment variable OMP_NUM_THREADS=9.\n",
      "  warnings.warn(\n"
     ]
    },
    {
     "name": "stdout",
     "output_type": "stream",
     "text": [
      "Training a K-Means model with 15 clusters! \n",
      "\n"
     ]
    },
    {
     "name": "stderr",
     "output_type": "stream",
     "text": [
      "c:\\Users\\theya\\anaconda3\\lib\\site-packages\\sklearn\\cluster\\_kmeans.py:870: FutureWarning: The default value of `n_init` will change from 10 to 'auto' in 1.4. Set the value of `n_init` explicitly to suppress the warning\n",
      "  warnings.warn(\n",
      "c:\\Users\\theya\\anaconda3\\lib\\site-packages\\sklearn\\cluster\\_kmeans.py:1382: UserWarning: KMeans is known to have a memory leak on Windows with MKL, when there are less chunks than available threads. You can avoid it by setting the environment variable OMP_NUM_THREADS=9.\n",
      "  warnings.warn(\n"
     ]
    },
    {
     "name": "stdout",
     "output_type": "stream",
     "text": [
      "Training a K-Means model with 16 clusters! \n",
      "\n"
     ]
    },
    {
     "name": "stderr",
     "output_type": "stream",
     "text": [
      "c:\\Users\\theya\\anaconda3\\lib\\site-packages\\sklearn\\cluster\\_kmeans.py:870: FutureWarning: The default value of `n_init` will change from 10 to 'auto' in 1.4. Set the value of `n_init` explicitly to suppress the warning\n",
      "  warnings.warn(\n",
      "c:\\Users\\theya\\anaconda3\\lib\\site-packages\\sklearn\\cluster\\_kmeans.py:1382: UserWarning: KMeans is known to have a memory leak on Windows with MKL, when there are less chunks than available threads. You can avoid it by setting the environment variable OMP_NUM_THREADS=9.\n",
      "  warnings.warn(\n"
     ]
    },
    {
     "name": "stdout",
     "output_type": "stream",
     "text": [
      "Training a K-Means model with 17 clusters! \n",
      "\n"
     ]
    },
    {
     "name": "stderr",
     "output_type": "stream",
     "text": [
      "c:\\Users\\theya\\anaconda3\\lib\\site-packages\\sklearn\\cluster\\_kmeans.py:870: FutureWarning: The default value of `n_init` will change from 10 to 'auto' in 1.4. Set the value of `n_init` explicitly to suppress the warning\n",
      "  warnings.warn(\n",
      "c:\\Users\\theya\\anaconda3\\lib\\site-packages\\sklearn\\cluster\\_kmeans.py:1382: UserWarning: KMeans is known to have a memory leak on Windows with MKL, when there are less chunks than available threads. You can avoid it by setting the environment variable OMP_NUM_THREADS=9.\n",
      "  warnings.warn(\n"
     ]
    },
    {
     "name": "stdout",
     "output_type": "stream",
     "text": [
      "Training a K-Means model with 18 clusters! \n",
      "\n"
     ]
    },
    {
     "name": "stderr",
     "output_type": "stream",
     "text": [
      "c:\\Users\\theya\\anaconda3\\lib\\site-packages\\sklearn\\cluster\\_kmeans.py:870: FutureWarning: The default value of `n_init` will change from 10 to 'auto' in 1.4. Set the value of `n_init` explicitly to suppress the warning\n",
      "  warnings.warn(\n",
      "c:\\Users\\theya\\anaconda3\\lib\\site-packages\\sklearn\\cluster\\_kmeans.py:1382: UserWarning: KMeans is known to have a memory leak on Windows with MKL, when there are less chunks than available threads. You can avoid it by setting the environment variable OMP_NUM_THREADS=9.\n",
      "  warnings.warn(\n"
     ]
    },
    {
     "name": "stdout",
     "output_type": "stream",
     "text": [
      "Training a K-Means model with 19 clusters! \n",
      "\n"
     ]
    },
    {
     "name": "stderr",
     "output_type": "stream",
     "text": [
      "c:\\Users\\theya\\anaconda3\\lib\\site-packages\\sklearn\\cluster\\_kmeans.py:870: FutureWarning: The default value of `n_init` will change from 10 to 'auto' in 1.4. Set the value of `n_init` explicitly to suppress the warning\n",
      "  warnings.warn(\n",
      "c:\\Users\\theya\\anaconda3\\lib\\site-packages\\sklearn\\cluster\\_kmeans.py:1382: UserWarning: KMeans is known to have a memory leak on Windows with MKL, when there are less chunks than available threads. You can avoid it by setting the environment variable OMP_NUM_THREADS=9.\n",
      "  warnings.warn(\n"
     ]
    },
    {
     "name": "stdout",
     "output_type": "stream",
     "text": [
      "Training a K-Means model with 20 clusters! \n",
      "\n"
     ]
    },
    {
     "name": "stderr",
     "output_type": "stream",
     "text": [
      "c:\\Users\\theya\\anaconda3\\lib\\site-packages\\sklearn\\cluster\\_kmeans.py:870: FutureWarning: The default value of `n_init` will change from 10 to 'auto' in 1.4. Set the value of `n_init` explicitly to suppress the warning\n",
      "  warnings.warn(\n",
      "c:\\Users\\theya\\anaconda3\\lib\\site-packages\\sklearn\\cluster\\_kmeans.py:1382: UserWarning: KMeans is known to have a memory leak on Windows with MKL, when there are less chunks than available threads. You can avoid it by setting the environment variable OMP_NUM_THREADS=9.\n",
      "  warnings.warn(\n"
     ]
    },
    {
     "name": "stdout",
     "output_type": "stream",
     "text": [
      "Training a K-Means model with 21 clusters! \n",
      "\n"
     ]
    },
    {
     "name": "stderr",
     "output_type": "stream",
     "text": [
      "c:\\Users\\theya\\anaconda3\\lib\\site-packages\\sklearn\\cluster\\_kmeans.py:870: FutureWarning: The default value of `n_init` will change from 10 to 'auto' in 1.4. Set the value of `n_init` explicitly to suppress the warning\n",
      "  warnings.warn(\n",
      "c:\\Users\\theya\\anaconda3\\lib\\site-packages\\sklearn\\cluster\\_kmeans.py:1382: UserWarning: KMeans is known to have a memory leak on Windows with MKL, when there are less chunks than available threads. You can avoid it by setting the environment variable OMP_NUM_THREADS=9.\n",
      "  warnings.warn(\n"
     ]
    },
    {
     "name": "stdout",
     "output_type": "stream",
     "text": [
      "Training a K-Means model with 22 clusters! \n",
      "\n"
     ]
    },
    {
     "name": "stderr",
     "output_type": "stream",
     "text": [
      "c:\\Users\\theya\\anaconda3\\lib\\site-packages\\sklearn\\cluster\\_kmeans.py:870: FutureWarning: The default value of `n_init` will change from 10 to 'auto' in 1.4. Set the value of `n_init` explicitly to suppress the warning\n",
      "  warnings.warn(\n",
      "c:\\Users\\theya\\anaconda3\\lib\\site-packages\\sklearn\\cluster\\_kmeans.py:1382: UserWarning: KMeans is known to have a memory leak on Windows with MKL, when there are less chunks than available threads. You can avoid it by setting the environment variable OMP_NUM_THREADS=9.\n",
      "  warnings.warn(\n"
     ]
    },
    {
     "name": "stdout",
     "output_type": "stream",
     "text": [
      "Training a K-Means model with 23 clusters! \n",
      "\n"
     ]
    },
    {
     "name": "stderr",
     "output_type": "stream",
     "text": [
      "c:\\Users\\theya\\anaconda3\\lib\\site-packages\\sklearn\\cluster\\_kmeans.py:870: FutureWarning: The default value of `n_init` will change from 10 to 'auto' in 1.4. Set the value of `n_init` explicitly to suppress the warning\n",
      "  warnings.warn(\n",
      "c:\\Users\\theya\\anaconda3\\lib\\site-packages\\sklearn\\cluster\\_kmeans.py:1382: UserWarning: KMeans is known to have a memory leak on Windows with MKL, when there are less chunks than available threads. You can avoid it by setting the environment variable OMP_NUM_THREADS=9.\n",
      "  warnings.warn(\n"
     ]
    },
    {
     "name": "stdout",
     "output_type": "stream",
     "text": [
      "Training a K-Means model with 24 clusters! \n",
      "\n"
     ]
    },
    {
     "name": "stderr",
     "output_type": "stream",
     "text": [
      "c:\\Users\\theya\\anaconda3\\lib\\site-packages\\sklearn\\cluster\\_kmeans.py:870: FutureWarning: The default value of `n_init` will change from 10 to 'auto' in 1.4. Set the value of `n_init` explicitly to suppress the warning\n",
      "  warnings.warn(\n",
      "c:\\Users\\theya\\anaconda3\\lib\\site-packages\\sklearn\\cluster\\_kmeans.py:1382: UserWarning: KMeans is known to have a memory leak on Windows with MKL, when there are less chunks than available threads. You can avoid it by setting the environment variable OMP_NUM_THREADS=9.\n",
      "  warnings.warn(\n"
     ]
    },
    {
     "name": "stdout",
     "output_type": "stream",
     "text": [
      "Training a K-Means model with 25 clusters! \n",
      "\n"
     ]
    },
    {
     "name": "stderr",
     "output_type": "stream",
     "text": [
      "c:\\Users\\theya\\anaconda3\\lib\\site-packages\\sklearn\\cluster\\_kmeans.py:870: FutureWarning: The default value of `n_init` will change from 10 to 'auto' in 1.4. Set the value of `n_init` explicitly to suppress the warning\n",
      "  warnings.warn(\n",
      "c:\\Users\\theya\\anaconda3\\lib\\site-packages\\sklearn\\cluster\\_kmeans.py:1382: UserWarning: KMeans is known to have a memory leak on Windows with MKL, when there are less chunks than available threads. You can avoid it by setting the environment variable OMP_NUM_THREADS=9.\n",
      "  warnings.warn(\n"
     ]
    },
    {
     "name": "stdout",
     "output_type": "stream",
     "text": [
      "Training a K-Means model with 26 clusters! \n",
      "\n"
     ]
    },
    {
     "name": "stderr",
     "output_type": "stream",
     "text": [
      "c:\\Users\\theya\\anaconda3\\lib\\site-packages\\sklearn\\cluster\\_kmeans.py:870: FutureWarning: The default value of `n_init` will change from 10 to 'auto' in 1.4. Set the value of `n_init` explicitly to suppress the warning\n",
      "  warnings.warn(\n",
      "c:\\Users\\theya\\anaconda3\\lib\\site-packages\\sklearn\\cluster\\_kmeans.py:1382: UserWarning: KMeans is known to have a memory leak on Windows with MKL, when there are less chunks than available threads. You can avoid it by setting the environment variable OMP_NUM_THREADS=9.\n",
      "  warnings.warn(\n"
     ]
    },
    {
     "name": "stdout",
     "output_type": "stream",
     "text": [
      "Training a K-Means model with 27 clusters! \n",
      "\n"
     ]
    },
    {
     "name": "stderr",
     "output_type": "stream",
     "text": [
      "c:\\Users\\theya\\anaconda3\\lib\\site-packages\\sklearn\\cluster\\_kmeans.py:870: FutureWarning: The default value of `n_init` will change from 10 to 'auto' in 1.4. Set the value of `n_init` explicitly to suppress the warning\n",
      "  warnings.warn(\n",
      "c:\\Users\\theya\\anaconda3\\lib\\site-packages\\sklearn\\cluster\\_kmeans.py:1382: UserWarning: KMeans is known to have a memory leak on Windows with MKL, when there are less chunks than available threads. You can avoid it by setting the environment variable OMP_NUM_THREADS=9.\n",
      "  warnings.warn(\n"
     ]
    },
    {
     "name": "stdout",
     "output_type": "stream",
     "text": [
      "Training a K-Means model with 28 clusters! \n",
      "\n"
     ]
    },
    {
     "name": "stderr",
     "output_type": "stream",
     "text": [
      "c:\\Users\\theya\\anaconda3\\lib\\site-packages\\sklearn\\cluster\\_kmeans.py:870: FutureWarning: The default value of `n_init` will change from 10 to 'auto' in 1.4. Set the value of `n_init` explicitly to suppress the warning\n",
      "  warnings.warn(\n",
      "c:\\Users\\theya\\anaconda3\\lib\\site-packages\\sklearn\\cluster\\_kmeans.py:1382: UserWarning: KMeans is known to have a memory leak on Windows with MKL, when there are less chunks than available threads. You can avoid it by setting the environment variable OMP_NUM_THREADS=9.\n",
      "  warnings.warn(\n"
     ]
    },
    {
     "name": "stdout",
     "output_type": "stream",
     "text": [
      "Training a K-Means model with 29 clusters! \n",
      "\n"
     ]
    },
    {
     "name": "stderr",
     "output_type": "stream",
     "text": [
      "c:\\Users\\theya\\anaconda3\\lib\\site-packages\\sklearn\\cluster\\_kmeans.py:870: FutureWarning: The default value of `n_init` will change from 10 to 'auto' in 1.4. Set the value of `n_init` explicitly to suppress the warning\n",
      "  warnings.warn(\n",
      "c:\\Users\\theya\\anaconda3\\lib\\site-packages\\sklearn\\cluster\\_kmeans.py:1382: UserWarning: KMeans is known to have a memory leak on Windows with MKL, when there are less chunks than available threads. You can avoid it by setting the environment variable OMP_NUM_THREADS=9.\n",
      "  warnings.warn(\n"
     ]
    },
    {
     "data": {
      "text/plain": [
       "Text(0.5, 1.0, 'Elbow Method showing the optimal k')"
      ]
     },
     "execution_count": 324,
     "metadata": {},
     "output_type": "execute_result"
    },
    {
     "data": {
      "image/png": "[encoded data removed]",
      "text/plain": [
       "<Figure size 1600x800 with 1 Axes>"
      ]
     },
     "metadata": {},
     "output_type": "display_data"
    }
   ],
   "source": [
    "K = range(5, 30) #range of the clusters\n",
    "inertia = []\n",
    "\n",
    "for k in K: #for every data in set build a inertia\n",
    "    print(\"Training a K-Means model with {} clusters! \".format(k))\n",
    "    print()\n",
    "    kmeans = KMeans(n_clusters=k,\n",
    "                    random_state=1234)\n",
    "    kmeans.fit(data)\n",
    "    inertia.append(kmeans.inertia_)\n",
    "\n",
    "import numpy as np\n",
    "import matplotlib.pyplot as plt\n",
    "%matplotlib inline\n",
    "\n",
    "plt.figure(figsize=(16,8))\n",
    "plt.plot(K, inertia, 'bx-')\n",
    "plt.xlabel('k')\n",
    "plt.ylabel('inertia')\n",
    "plt.xticks(np.arange(min(K), max(K)+1, 1.0)) #changing the scale\n",
    "plt.title('Elbow Method showing the optimal k') "
   ]
  },
  {
   "attachments": {},
   "cell_type": "markdown",
   "metadata": {},
   "source": [
    "## PCA and KMeans"
   ]
  },
  {
   "cell_type": "code",
   "execution_count": 329,
   "metadata": {},
   "outputs": [
    {
     "name": "stderr",
     "output_type": "stream",
     "text": [
      "c:\\Users\\theya\\anaconda3\\lib\\site-packages\\sklearn\\cluster\\_kmeans.py:1382: UserWarning: KMeans is known to have a memory leak on Windows with MKL, when there are less chunks than available threads. You can avoid it by setting the environment variable OMP_NUM_THREADS=9.\n",
      "  warnings.warn(\n"
     ]
    },
    {
     "name": "stdout",
     "output_type": "stream",
     "text": [
      "\n",
      "Cluster IDs:\n",
      "[ 6 12  7 ...  2  7  5]\n",
      "\n",
      "Cluster distances:\n",
      "[[5.19485838 6.26825824 5.89966449 ... 6.60456398 5.92461826 5.74181272]\n",
      " [2.73595479 3.81935111 2.55160423 ... 2.91868471 1.6963922  2.61244612]\n",
      " [3.71045823 3.05917551 3.06833956 ... 5.78243409 3.88892221 3.33502942]\n",
      " ...\n",
      " [3.21386874 4.67699738 1.53837596 ... 4.01799893 1.74908258 3.8027088 ]\n",
      " [3.09356147 3.26441966 2.38410925 ... 5.07035023 3.08701736 2.17849187]\n",
      " [3.3802462  4.49300909 2.14726522 ... 4.96125694 2.89937735 4.01142465]]\n"
     ]
    }
   ],
   "source": [
    "# Transform the normalized data using the principal components\n",
    "X_pca = pca.transform(X_normalized)\n",
    "\n",
    "# Apply K-means clustering to the transformed data\n",
    "kmeans = KMeans(n_clusters=14, n_init=12)\n",
    "kmeans.fit(X_pca)\n",
    "cluster_ids = kmeans.predict(X_pca)\n",
    "cluster_distances = kmeans.transform(X_pca)\n",
    "\n",
    "# Print the cluster IDs and distances\n",
    "print(\"\\nCluster IDs:\")\n",
    "print(cluster_ids)\n",
    "print(\"\\nCluster distances:\")\n",
    "print(cluster_distances)"
   ]
  },
  {
   "attachments": {},
   "cell_type": "markdown",
   "metadata": {},
   "source": [
    "## Assigning a cluster to each song"
   ]
  },
  {
   "cell_type": "code",
   "execution_count": 331,
   "metadata": {},
   "outputs": [
    {
     "data": {
      "text/html": [
       "<div>\n",
       "<style scoped>\n",
       "    .dataframe tbody tr th:only-of-type {\n",
       "        vertical-align: middle;\n",
       "    }\n",
       "\n",
       "    .dataframe tbody tr th {\n",
       "        vertical-align: top;\n",
       "    }\n",
       "\n",
       "    .dataframe thead th {\n",
       "        text-align: right;\n",
       "    }\n",
       "</style>\n",
       "<table border=\"1\" class=\"dataframe\">\n",
       "  <thead>\n",
       "    <tr style=\"text-align: right;\">\n",
       "      <th></th>\n",
       "      <th>danceability</th>\n",
       "      <th>energy</th>\n",
       "      <th>loudness</th>\n",
       "      <th>speechiness</th>\n",
       "      <th>instrumentalness</th>\n",
       "      <th>liveness</th>\n",
       "      <th>valence</th>\n",
       "      <th>tempo</th>\n",
       "      <th>duration_ms</th>\n",
       "      <th>cluster</th>\n",
       "    </tr>\n",
       "  </thead>\n",
       "  <tbody>\n",
       "    <tr>\n",
       "      <th>0</th>\n",
       "      <td>-1.114479</td>\n",
       "      <td>-0.078759</td>\n",
       "      <td>-0.196000</td>\n",
       "      <td>2.637138</td>\n",
       "      <td>-0.367896</td>\n",
       "      <td>-0.393126</td>\n",
       "      <td>0.477466</td>\n",
       "      <td>1.774773</td>\n",
       "      <td>4.013552</td>\n",
       "      <td>6</td>\n",
       "    </tr>\n",
       "    <tr>\n",
       "      <th>1</th>\n",
       "      <td>-0.383440</td>\n",
       "      <td>0.226136</td>\n",
       "      <td>-0.058033</td>\n",
       "      <td>-0.324053</td>\n",
       "      <td>-0.366470</td>\n",
       "      <td>1.521054</td>\n",
       "      <td>0.652984</td>\n",
       "      <td>-1.405833</td>\n",
       "      <td>0.009389</td>\n",
       "      <td>12</td>\n",
       "    </tr>\n",
       "    <tr>\n",
       "      <th>2</th>\n",
       "      <td>0.979274</td>\n",
       "      <td>-0.838118</td>\n",
       "      <td>-1.136244</td>\n",
       "      <td>-0.532940</td>\n",
       "      <td>-0.367876</td>\n",
       "      <td>-0.993269</td>\n",
       "      <td>0.626656</td>\n",
       "      <td>-1.705291</td>\n",
       "      <td>-0.666295</td>\n",
       "      <td>7</td>\n",
       "    </tr>\n",
       "    <tr>\n",
       "      <th>3</th>\n",
       "      <td>-1.157064</td>\n",
       "      <td>0.082317</td>\n",
       "      <td>0.076484</td>\n",
       "      <td>-0.527091</td>\n",
       "      <td>0.235798</td>\n",
       "      <td>-0.275451</td>\n",
       "      <td>1.328725</td>\n",
       "      <td>2.077873</td>\n",
       "      <td>1.205637</td>\n",
       "      <td>3</td>\n",
       "    </tr>\n",
       "    <tr>\n",
       "      <th>4</th>\n",
       "      <td>0.305015</td>\n",
       "      <td>-1.862103</td>\n",
       "      <td>-2.316549</td>\n",
       "      <td>-0.415963</td>\n",
       "      <td>3.621927</td>\n",
       "      <td>-0.502956</td>\n",
       "      <td>-0.150007</td>\n",
       "      <td>-1.561267</td>\n",
       "      <td>0.066671</td>\n",
       "      <td>4</td>\n",
       "    </tr>\n",
       "    <tr>\n",
       "      <th>...</th>\n",
       "      <td>...</td>\n",
       "      <td>...</td>\n",
       "      <td>...</td>\n",
       "      <td>...</td>\n",
       "      <td>...</td>\n",
       "      <td>...</td>\n",
       "      <td>...</td>\n",
       "      <td>...</td>\n",
       "      <td>...</td>\n",
       "      <td>...</td>\n",
       "    </tr>\n",
       "    <tr>\n",
       "      <th>2124</th>\n",
       "      <td>1.156711</td>\n",
       "      <td>-0.395159</td>\n",
       "      <td>-0.307408</td>\n",
       "      <td>0.832349</td>\n",
       "      <td>-0.367896</td>\n",
       "      <td>-0.535905</td>\n",
       "      <td>-0.167559</td>\n",
       "      <td>-0.001423</td>\n",
       "      <td>-0.462458</td>\n",
       "      <td>8</td>\n",
       "    </tr>\n",
       "    <tr>\n",
       "      <th>2125</th>\n",
       "      <td>1.327050</td>\n",
       "      <td>-0.205319</td>\n",
       "      <td>0.125807</td>\n",
       "      <td>-0.734308</td>\n",
       "      <td>-0.302987</td>\n",
       "      <td>-0.283296</td>\n",
       "      <td>-1.727029</td>\n",
       "      <td>-0.000754</td>\n",
       "      <td>-0.967102</td>\n",
       "      <td>9</td>\n",
       "    </tr>\n",
       "    <tr>\n",
       "      <th>2126</th>\n",
       "      <td>0.737960</td>\n",
       "      <td>0.904957</td>\n",
       "      <td>0.344140</td>\n",
       "      <td>-0.395075</td>\n",
       "      <td>-0.367896</td>\n",
       "      <td>0.407064</td>\n",
       "      <td>1.276070</td>\n",
       "      <td>0.112384</td>\n",
       "      <td>-1.070504</td>\n",
       "      <td>2</td>\n",
       "    </tr>\n",
       "    <tr>\n",
       "      <th>2127</th>\n",
       "      <td>-0.340855</td>\n",
       "      <td>-0.475697</td>\n",
       "      <td>0.263084</td>\n",
       "      <td>-0.754361</td>\n",
       "      <td>-0.367896</td>\n",
       "      <td>-0.601803</td>\n",
       "      <td>0.007958</td>\n",
       "      <td>-1.412932</td>\n",
       "      <td>-1.208836</td>\n",
       "      <td>7</td>\n",
       "    </tr>\n",
       "    <tr>\n",
       "      <th>2128</th>\n",
       "      <td>1.149613</td>\n",
       "      <td>0.122587</td>\n",
       "      <td>0.036129</td>\n",
       "      <td>0.289241</td>\n",
       "      <td>-0.280746</td>\n",
       "      <td>-0.582191</td>\n",
       "      <td>1.574449</td>\n",
       "      <td>0.667666</td>\n",
       "      <td>0.790900</td>\n",
       "      <td>5</td>\n",
       "    </tr>\n",
       "  </tbody>\n",
       "</table>\n",
       "<p>2129 rows × 10 columns</p>\n",
       "</div>"
      ],
      "text/plain": [
       "      danceability    energy  loudness  speechiness  instrumentalness  \\\n",
       "0        -1.114479 -0.078759 -0.196000     2.637138         -0.367896   \n",
       "1        -0.383440  0.226136 -0.058033    -0.324053         -0.366470   \n",
       "2         0.979274 -0.838118 -1.136244    -0.532940         -0.367876   \n",
       "3        -1.157064  0.082317  0.076484    -0.527091          0.235798   \n",
       "4         0.305015 -1.862103 -2.316549    -0.415963          3.621927   \n",
       "...            ...       ...       ...          ...               ...   \n",
       "2124      1.156711 -0.395159 -0.307408     0.832349         -0.367896   \n",
       "2125      1.327050 -0.205319  0.125807    -0.734308         -0.302987   \n",
       "2126      0.737960  0.904957  0.344140    -0.395075         -0.367896   \n",
       "2127     -0.340855 -0.475697  0.263084    -0.754361         -0.367896   \n",
       "2128      1.149613  0.122587  0.036129     0.289241         -0.280746   \n",
       "\n",
       "      liveness   valence     tempo  duration_ms  cluster  \n",
       "0    -0.393126  0.477466  1.774773     4.013552        6  \n",
       "1     1.521054  0.652984 -1.405833     0.009389       12  \n",
       "2    -0.993269  0.626656 -1.705291    -0.666295        7  \n",
       "3    -0.275451  1.328725  2.077873     1.205637        3  \n",
       "4    -0.502956 -0.150007 -1.561267     0.066671        4  \n",
       "...        ...       ...       ...          ...      ...  \n",
       "2124 -0.535905 -0.167559 -0.001423    -0.462458        8  \n",
       "2125 -0.283296 -1.727029 -0.000754    -0.967102        9  \n",
       "2126  0.407064  1.276070  0.112384    -1.070504        2  \n",
       "2127 -0.601803  0.007958 -1.412932    -1.208836        7  \n",
       "2128 -0.582191  1.574449  0.667666     0.790900        5  \n",
       "\n",
       "[2129 rows x 10 columns]"
      ]
     },
     "execution_count": 331,
     "metadata": {},
     "output_type": "execute_result"
    }
   ],
   "source": [
    "data_normalized['cluster'] = cluster_ids\n",
    "data_normalized"
   ]
  },
  {
   "cell_type": "code",
   "execution_count": 336,
   "metadata": {},
   "outputs": [
    {
     "data": {
      "text/html": [
       "<div>\n",
       "<style scoped>\n",
       "    .dataframe tbody tr th:only-of-type {\n",
       "        vertical-align: middle;\n",
       "    }\n",
       "\n",
       "    .dataframe tbody tr th {\n",
       "        vertical-align: top;\n",
       "    }\n",
       "\n",
       "    .dataframe thead th {\n",
       "        text-align: right;\n",
       "    }\n",
       "</style>\n",
       "<table border=\"1\" class=\"dataframe\">\n",
       "  <thead>\n",
       "    <tr style=\"text-align: right;\">\n",
       "      <th></th>\n",
       "      <th>danceability</th>\n",
       "      <th>energy</th>\n",
       "      <th>loudness</th>\n",
       "      <th>speechiness</th>\n",
       "      <th>acousticness</th>\n",
       "      <th>instrumentalness</th>\n",
       "      <th>liveness</th>\n",
       "      <th>valence</th>\n",
       "      <th>tempo</th>\n",
       "      <th>duration_ms</th>\n",
       "    </tr>\n",
       "  </thead>\n",
       "  <tbody>\n",
       "    <tr>\n",
       "      <th>0</th>\n",
       "      <td>0.531</td>\n",
       "      <td>0.622</td>\n",
       "      <td>-7.751</td>\n",
       "      <td>0.4470</td>\n",
       "      <td>0.60200</td>\n",
       "      <td>0.000000</td>\n",
       "      <td>0.1180</td>\n",
       "      <td>0.593</td>\n",
       "      <td>167.758</td>\n",
       "      <td>454533</td>\n",
       "    </tr>\n",
       "    <tr>\n",
       "      <th>1</th>\n",
       "      <td>0.634</td>\n",
       "      <td>0.675</td>\n",
       "      <td>-7.351</td>\n",
       "      <td>0.0926</td>\n",
       "      <td>0.09900</td>\n",
       "      <td>0.000314</td>\n",
       "      <td>0.3620</td>\n",
       "      <td>0.633</td>\n",
       "      <td>82.183</td>\n",
       "      <td>219866</td>\n",
       "    </tr>\n",
       "    <tr>\n",
       "      <th>2</th>\n",
       "      <td>0.826</td>\n",
       "      <td>0.490</td>\n",
       "      <td>-10.477</td>\n",
       "      <td>0.0676</td>\n",
       "      <td>0.00916</td>\n",
       "      <td>0.000004</td>\n",
       "      <td>0.0415</td>\n",
       "      <td>0.627</td>\n",
       "      <td>74.126</td>\n",
       "      <td>180267</td>\n",
       "    </tr>\n",
       "    <tr>\n",
       "      <th>3</th>\n",
       "      <td>0.525</td>\n",
       "      <td>0.650</td>\n",
       "      <td>-6.961</td>\n",
       "      <td>0.0683</td>\n",
       "      <td>0.08520</td>\n",
       "      <td>0.133000</td>\n",
       "      <td>0.1330</td>\n",
       "      <td>0.787</td>\n",
       "      <td>175.913</td>\n",
       "      <td>289973</td>\n",
       "    </tr>\n",
       "    <tr>\n",
       "      <th>4</th>\n",
       "      <td>0.731</td>\n",
       "      <td>0.312</td>\n",
       "      <td>-13.899</td>\n",
       "      <td>0.0816</td>\n",
       "      <td>0.68300</td>\n",
       "      <td>0.879000</td>\n",
       "      <td>0.1040</td>\n",
       "      <td>0.450</td>\n",
       "      <td>78.001</td>\n",
       "      <td>223223</td>\n",
       "    </tr>\n",
       "  </tbody>\n",
       "</table>\n",
       "</div>"
      ],
      "text/plain": [
       "   danceability  energy  loudness  speechiness  acousticness  \\\n",
       "0         0.531   0.622    -7.751       0.4470       0.60200   \n",
       "1         0.634   0.675    -7.351       0.0926       0.09900   \n",
       "2         0.826   0.490   -10.477       0.0676       0.00916   \n",
       "3         0.525   0.650    -6.961       0.0683       0.08520   \n",
       "4         0.731   0.312   -13.899       0.0816       0.68300   \n",
       "\n",
       "   instrumentalness  liveness  valence    tempo  duration_ms  \n",
       "0          0.000000    0.1180    0.593  167.758       454533  \n",
       "1          0.000314    0.3620    0.633   82.183       219866  \n",
       "2          0.000004    0.0415    0.627   74.126       180267  \n",
       "3          0.133000    0.1330    0.787  175.913       289973  \n",
       "4          0.879000    0.1040    0.450   78.001       223223  "
      ]
     },
     "execution_count": 336,
     "metadata": {},
     "output_type": "execute_result"
    }
   ],
   "source": [
    "data.head()"
   ]
  },
  {
   "cell_type": "code",
   "execution_count": 338,
   "metadata": {},
   "outputs": [
    {
     "data": {
      "text/html": [
       "<div>\n",
       "<style scoped>\n",
       "    .dataframe tbody tr th:only-of-type {\n",
       "        vertical-align: middle;\n",
       "    }\n",
       "\n",
       "    .dataframe tbody tr th {\n",
       "        vertical-align: top;\n",
       "    }\n",
       "\n",
       "    .dataframe thead th {\n",
       "        text-align: right;\n",
       "    }\n",
       "</style>\n",
       "<table border=\"1\" class=\"dataframe\">\n",
       "  <thead>\n",
       "    <tr style=\"text-align: right;\">\n",
       "      <th></th>\n",
       "      <th>danceability</th>\n",
       "      <th>energy</th>\n",
       "      <th>loudness</th>\n",
       "      <th>speechiness</th>\n",
       "      <th>instrumentalness</th>\n",
       "      <th>liveness</th>\n",
       "      <th>valence</th>\n",
       "      <th>tempo</th>\n",
       "      <th>duration_ms</th>\n",
       "      <th>cluster</th>\n",
       "      <th>id</th>\n",
       "    </tr>\n",
       "  </thead>\n",
       "  <tbody>\n",
       "    <tr>\n",
       "      <th>0</th>\n",
       "      <td>-1.114479</td>\n",
       "      <td>-0.078759</td>\n",
       "      <td>-0.196000</td>\n",
       "      <td>2.637138</td>\n",
       "      <td>-0.367896</td>\n",
       "      <td>-0.393126</td>\n",
       "      <td>0.477466</td>\n",
       "      <td>1.774773</td>\n",
       "      <td>4.013552</td>\n",
       "      <td>6</td>\n",
       "      <td>3SgnYOV9ONL0bIHaAcOYE1</td>\n",
       "    </tr>\n",
       "    <tr>\n",
       "      <th>1</th>\n",
       "      <td>-0.383440</td>\n",
       "      <td>0.226136</td>\n",
       "      <td>-0.058033</td>\n",
       "      <td>-0.324053</td>\n",
       "      <td>-0.366470</td>\n",
       "      <td>1.521054</td>\n",
       "      <td>0.652984</td>\n",
       "      <td>-1.405833</td>\n",
       "      <td>0.009389</td>\n",
       "      <td>12</td>\n",
       "      <td>3IM7zXywZ6sRTtkRjRLxJ8</td>\n",
       "    </tr>\n",
       "    <tr>\n",
       "      <th>2</th>\n",
       "      <td>0.979274</td>\n",
       "      <td>-0.838118</td>\n",
       "      <td>-1.136244</td>\n",
       "      <td>-0.532940</td>\n",
       "      <td>-0.367876</td>\n",
       "      <td>-0.993269</td>\n",
       "      <td>0.626656</td>\n",
       "      <td>-1.705291</td>\n",
       "      <td>-0.666295</td>\n",
       "      <td>7</td>\n",
       "      <td>75FYqcxt1YEAtqDLrOeIJn</td>\n",
       "    </tr>\n",
       "    <tr>\n",
       "      <th>3</th>\n",
       "      <td>-1.157064</td>\n",
       "      <td>0.082317</td>\n",
       "      <td>0.076484</td>\n",
       "      <td>-0.527091</td>\n",
       "      <td>0.235798</td>\n",
       "      <td>-0.275451</td>\n",
       "      <td>1.328725</td>\n",
       "      <td>2.077873</td>\n",
       "      <td>1.205637</td>\n",
       "      <td>3</td>\n",
       "      <td>4p4hyqRFdoiw4EMbEsqBdA</td>\n",
       "    </tr>\n",
       "    <tr>\n",
       "      <th>4</th>\n",
       "      <td>0.305015</td>\n",
       "      <td>-1.862103</td>\n",
       "      <td>-2.316549</td>\n",
       "      <td>-0.415963</td>\n",
       "      <td>3.621927</td>\n",
       "      <td>-0.502956</td>\n",
       "      <td>-0.150007</td>\n",
       "      <td>-1.561267</td>\n",
       "      <td>0.066671</td>\n",
       "      <td>4</td>\n",
       "      <td>2Kqb9yoRNsSiHZT26dg2zs</td>\n",
       "    </tr>\n",
       "    <tr>\n",
       "      <th>...</th>\n",
       "      <td>...</td>\n",
       "      <td>...</td>\n",
       "      <td>...</td>\n",
       "      <td>...</td>\n",
       "      <td>...</td>\n",
       "      <td>...</td>\n",
       "      <td>...</td>\n",
       "      <td>...</td>\n",
       "      <td>...</td>\n",
       "      <td>...</td>\n",
       "      <td>...</td>\n",
       "    </tr>\n",
       "    <tr>\n",
       "      <th>2124</th>\n",
       "      <td>1.156711</td>\n",
       "      <td>-0.395159</td>\n",
       "      <td>-0.307408</td>\n",
       "      <td>0.832349</td>\n",
       "      <td>-0.367896</td>\n",
       "      <td>-0.535905</td>\n",
       "      <td>-0.167559</td>\n",
       "      <td>-0.001423</td>\n",
       "      <td>-0.462458</td>\n",
       "      <td>8</td>\n",
       "      <td>7jbu9k6w67hWlhSinmGT3c</td>\n",
       "    </tr>\n",
       "    <tr>\n",
       "      <th>2125</th>\n",
       "      <td>1.327050</td>\n",
       "      <td>-0.205319</td>\n",
       "      <td>0.125807</td>\n",
       "      <td>-0.734308</td>\n",
       "      <td>-0.302987</td>\n",
       "      <td>-0.283296</td>\n",
       "      <td>-1.727029</td>\n",
       "      <td>-0.000754</td>\n",
       "      <td>-0.967102</td>\n",
       "      <td>9</td>\n",
       "      <td>2jTujnt0y344ai1rNOywgr</td>\n",
       "    </tr>\n",
       "    <tr>\n",
       "      <th>2126</th>\n",
       "      <td>0.737960</td>\n",
       "      <td>0.904957</td>\n",
       "      <td>0.344140</td>\n",
       "      <td>-0.395075</td>\n",
       "      <td>-0.367896</td>\n",
       "      <td>0.407064</td>\n",
       "      <td>1.276070</td>\n",
       "      <td>0.112384</td>\n",
       "      <td>-1.070504</td>\n",
       "      <td>2</td>\n",
       "      <td>3w1WjD2zJqjBjDz5fwqQPJ</td>\n",
       "    </tr>\n",
       "    <tr>\n",
       "      <th>2127</th>\n",
       "      <td>-0.340855</td>\n",
       "      <td>-0.475697</td>\n",
       "      <td>0.263084</td>\n",
       "      <td>-0.754361</td>\n",
       "      <td>-0.367896</td>\n",
       "      <td>-0.601803</td>\n",
       "      <td>0.007958</td>\n",
       "      <td>-1.412932</td>\n",
       "      <td>-1.208836</td>\n",
       "      <td>7</td>\n",
       "      <td>6GUiIbJ834FcHewby3PwV0</td>\n",
       "    </tr>\n",
       "    <tr>\n",
       "      <th>2128</th>\n",
       "      <td>1.149613</td>\n",
       "      <td>0.122587</td>\n",
       "      <td>0.036129</td>\n",
       "      <td>0.289241</td>\n",
       "      <td>-0.280746</td>\n",
       "      <td>-0.582191</td>\n",
       "      <td>1.574449</td>\n",
       "      <td>0.667666</td>\n",
       "      <td>0.790900</td>\n",
       "      <td>5</td>\n",
       "      <td>3PqAnW2bB5TQnMoBivyFOb</td>\n",
       "    </tr>\n",
       "  </tbody>\n",
       "</table>\n",
       "<p>2129 rows × 11 columns</p>\n",
       "</div>"
      ],
      "text/plain": [
       "      danceability    energy  loudness  speechiness  instrumentalness  \\\n",
       "0        -1.114479 -0.078759 -0.196000     2.637138         -0.367896   \n",
       "1        -0.383440  0.226136 -0.058033    -0.324053         -0.366470   \n",
       "2         0.979274 -0.838118 -1.136244    -0.532940         -0.367876   \n",
       "3        -1.157064  0.082317  0.076484    -0.527091          0.235798   \n",
       "4         0.305015 -1.862103 -2.316549    -0.415963          3.621927   \n",
       "...            ...       ...       ...          ...               ...   \n",
       "2124      1.156711 -0.395159 -0.307408     0.832349         -0.367896   \n",
       "2125      1.327050 -0.205319  0.125807    -0.734308         -0.302987   \n",
       "2126      0.737960  0.904957  0.344140    -0.395075         -0.367896   \n",
       "2127     -0.340855 -0.475697  0.263084    -0.754361         -0.367896   \n",
       "2128      1.149613  0.122587  0.036129     0.289241         -0.280746   \n",
       "\n",
       "      liveness   valence     tempo  duration_ms  cluster  \\\n",
       "0    -0.393126  0.477466  1.774773     4.013552        6   \n",
       "1     1.521054  0.652984 -1.405833     0.009389       12   \n",
       "2    -0.993269  0.626656 -1.705291    -0.666295        7   \n",
       "3    -0.275451  1.328725  2.077873     1.205637        3   \n",
       "4    -0.502956 -0.150007 -1.561267     0.066671        4   \n",
       "...        ...       ...       ...          ...      ...   \n",
       "2124 -0.535905 -0.167559 -0.001423    -0.462458        8   \n",
       "2125 -0.283296 -1.727029 -0.000754    -0.967102        9   \n",
       "2126  0.407064  1.276070  0.112384    -1.070504        2   \n",
       "2127 -0.601803  0.007958 -1.412932    -1.208836        7   \n",
       "2128 -0.582191  1.574449  0.667666     0.790900        5   \n",
       "\n",
       "                          id  \n",
       "0     3SgnYOV9ONL0bIHaAcOYE1  \n",
       "1     3IM7zXywZ6sRTtkRjRLxJ8  \n",
       "2     75FYqcxt1YEAtqDLrOeIJn  \n",
       "3     4p4hyqRFdoiw4EMbEsqBdA  \n",
       "4     2Kqb9yoRNsSiHZT26dg2zs  \n",
       "...                      ...  \n",
       "2124  7jbu9k6w67hWlhSinmGT3c  \n",
       "2125  2jTujnt0y344ai1rNOywgr  \n",
       "2126  3w1WjD2zJqjBjDz5fwqQPJ  \n",
       "2127  6GUiIbJ834FcHewby3PwV0  \n",
       "2128  3PqAnW2bB5TQnMoBivyFOb  \n",
       "\n",
       "[2129 rows x 11 columns]"
      ]
     },
     "execution_count": 338,
     "metadata": {},
     "output_type": "execute_result"
    }
   ],
   "source": [
    "data_normalized.reset_index(drop=True, inplace=True)  # Restaurer l'index d'origine\n",
    "column = df.loc[:, \"id\"]\n",
    "data_normalized[\"id\"] = column\n",
    "\n",
    "data_normalized\n"
   ]
  },
  {
   "attachments": {},
   "cell_type": "markdown",
   "metadata": {},
   "source": [
    "## 8- Saving model with best K as final model using pickle"
   ]
  },
  {
   "cell_type": "code",
   "execution_count": 341,
   "metadata": {},
   "outputs": [
    {
     "name": "stderr",
     "output_type": "stream",
     "text": [
      "c:\\Users\\theya\\anaconda3\\lib\\site-packages\\sklearn\\cluster\\_kmeans.py:870: FutureWarning: The default value of `n_init` will change from 10 to 'auto' in 1.4. Set the value of `n_init` explicitly to suppress the warning\n",
      "  warnings.warn(\n",
      "c:\\Users\\theya\\anaconda3\\lib\\site-packages\\sklearn\\cluster\\_kmeans.py:1382: UserWarning: KMeans is known to have a memory leak on Windows with MKL, when there are less chunks than available threads. You can avoid it by setting the environment variable OMP_NUM_THREADS=9.\n",
      "  warnings.warn(\n"
     ]
    }
   ],
   "source": [
    "meilleur_k = 14  # Remplacez par le meilleur k que vous avez sélectionné\n",
    "kmeans_final = KMeans(n_clusters=meilleur_k)\n",
    "\n",
    "kmeans_final.fit(X_pca)  # Remplacez X_pca par vos données normalisées\n",
    "\n",
    "# Définir le nom du fichier pour sauvegarder le modèle\n",
    "nom_fichier_modele = \"k_means_final_model.pkl\"\n",
    "\n",
    "# Sauvegarder le modèle avec Pickle\n",
    "with open(nom_fichier_modele, 'wb') as fichier:\n",
    "    pickle.dump(kmeans_final, fichier)"
   ]
  },
  {
   "cell_type": "code",
   "execution_count": 326,
   "metadata": {},
   "outputs": [
    {
     "data": {
      "image/png": "[encoded data removed]",
      "text/plain": [
       "<Figure size 640x480 with 1 Axes>"
      ]
     },
     "metadata": {},
     "output_type": "display_data"
    }
   ],
   "source": [
    "for c in np.unique(cluster_ids):\n",
    "    plt.scatter(X_pca[cluster_ids == c, 0], X_pca[cluster_ids == c, 1], marker='.', s=50)"
   ]
  },
  {
   "attachments": {},
   "cell_type": "markdown",
   "metadata": {},
   "source": [
    "# PART II"
   ]
  },
  {
   "cell_type": "code",
   "execution_count": null,
   "metadata": {},
   "outputs": [],
   "source": [
    "x = str(input(\"Please enter the name of a song you'd like to listen to: \"))"
   ]
  },
  {
   "cell_type": "code",
   "execution_count": null,
   "metadata": {},
   "outputs": [],
   "source": []
  },
  {
   "cell_type": "code",
   "execution_count": 327,
   "metadata": {},
   "outputs": [],
   "source": [
    "#  For project clustering steps:\n",
    "# 1- Load the Pandas data frame songs of the audio features (at least 1000 songs as different as possible).🎹 \n",
    "# 2- Standardize the data using Standardscaler\n",
    "# 3- Save the scaler for future use on the new user input song, using Pickle. (tomorrow)\n",
    "# 4- Select the number of clusters k.\n",
    "# 5- Adjust k means cluster.\n",
    "# 6- Build the elbow graph to find the best k. (tomorrow)\n",
    "# 7- Use the model with the best k to assign each observation in your data frame to its cluster number using model.predict (add cluster columns to the pandas data frame).\n",
    "# 8- Save the model with the best k as your final model using pickle. (tomorrow)\n",
    "\n",
    "# 📍 For the final product tasks and the full scenario:\n",
    "# 1- Get the song name from the user as input ---------- DONE\n",
    "# 2- Play the input song in the music embed player. ---------- DONE\n",
    "# 3- Get the audio features for this song from the Spotify API using sp.audio_features(trackid). Be careful to keep only the audio features columns.---------- DONE\n",
    "# 4- Load the StandardScaler using Pickle and use it to scale the REQUESTED_SONG.\n",
    "# 5- Use kmeans_model.predict(new scaled audio dataset for the REQUESTED_SONG) to predict the cluster (label) for the REQUESTED_SONG.\n",
    "# 6- Return a random song from the same cluster that the REQUESTED_SONG belongs to from your data frame and suggest it to the user.\n",
    "# 7- Play it using the built-in music player.\n",
    "# 8*- Try to Streamlit? ☀️ (optional) "
   ]
  }
 ],
 "metadata": {
  "kernelspec": {
   "display_name": "base",
   "language": "python",
   "name": "python3"
  },
  "language_info": {
   "codemirror_mode": {
    "name": "ipython",
    "version": 3
   },
   "file_extension": ".py",
   "mimetype": "text/x-python",
   "name": "python",
   "nbconvert_exporter": "python",
   "pygments_lexer": "ipython3",
   "version": "3.9.16"
  },
  "orig_nbformat": 4
 },
 "nbformat": 4,
 "nbformat_minor": 2
}
