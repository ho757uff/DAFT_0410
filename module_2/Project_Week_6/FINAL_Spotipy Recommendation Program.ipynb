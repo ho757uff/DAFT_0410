{
 "cells": [
  {
   "cell_type": "code",
   "execution_count": null,
   "metadata": {},
   "outputs": [],
   "source": [
    "#  For project clustering steps:\n",
    "# 1- Load the Pandas data frame songs of the audio features (at least 1000 songs as different as possible).🎹 ----DONE\n",
    "# 2- Standardize the data using Standardscaler ----DONE\n",
    "# 3- Save the scaler for future use on the new user input song, using Pickle. (tomorrow)\n",
    "# 4- Select the number of clusters k.\n",
    "# 5- Adjust k means cluster.\n",
    "# 6- Build the elbow graph to find the best k. (tomorrow)\n",
    "# 7- Use the model with the best k to assign each observation in your data frame to its cluster number using model.predict (add cluster columns to the pandas data frame).\n",
    "# 8- Save the model with the best k as your final model using pickle. (tomorrow)\n",
    "\n",
    "# 📍 For the final product tasks and the full scenario:\n",
    "# 1- Get the song name from the user as input ---------- DONE\n",
    "# 2- Play the input song in the music embed player. ---------- DONE\n",
    "# 3- Get the audio features for this song from the Spotify API using sp.audio_features(trackid). Be careful to keep only the audio features columns.---------- DONE\n",
    "# 4- Load the StandardScaler using Pickle and use it to scale the REQUESTED_SONG.(tomorrow)\n",
    "# 5- Use kmeans_model.predict(new scaled audio dataset for the REQUESTED_SONG) to predict the cluster (label) for the REQUESTED_SONG.\n",
    "# 6- Return a random song from the same cluster that the REQUESTED_SONG belongs to from your data frame and suggest it to the user.\n",
    "# 7- Play it using the built-in music player.\n",
    "# 8*- Try to Streamlit? ☀️ (optional) "
   ]
  },
  {
   "cell_type": "code",
   "execution_count": null,
   "metadata": {},
   "outputs": [],
   "source": [
    "from stackapi import StackAPI\n",
    "from bs4 import BeautifulSoup\n",
    "import requests as re\n",
    "\n",
    "import pandas as pd\n",
    "import numpy as np\n",
    "\n",
    "from random import randint    \n",
    "from datetime import datetime, timedelta\n",
    "from time import sleep\n",
    "\n",
    "import json\n",
    "import os\n",
    "import spotipy\n",
    "from spotipy.oauth2 import SpotifyClientCredentials\n",
    "import pprint\n",
    "\n",
    "client_id = os.environ.get(\"SPOTIPY_CLIENT_ID\")\n",
    "client_secret = os.environ.get(\"SPOTIPY_CLIENT_SECRET\")\n",
    "\n",
    "sp = spotipy.Spotify(client_credentials_manager=SpotifyClientCredentials())\n",
    "\n",
    "from plotly import express as px\n",
    "from sklearn.cluster import KMeans\n",
    "from sklearn.preprocessing import OneHotEncoder\n",
    "from sklearn.decomposition import PCA\n",
    "from sklearn.preprocessing import StandardScaler\n",
    "from matplotlib import pyplot as plt"
   ]
  },
  {
   "attachments": {},
   "cell_type": "markdown",
   "metadata": {},
   "source": [
    "# ***************************** PART I *****************************"
   ]
  },
  {
   "attachments": {},
   "cell_type": "markdown",
   "metadata": {},
   "source": [
    "## Loading our Songs Database"
   ]
  },
  {
   "cell_type": "code",
   "execution_count": null,
   "metadata": {},
   "outputs": [],
   "source": [
    "df = pd.read_csv('Songs_Database.csv', sep=';')\n",
    "# df.dropna(subset=[\"id\"], inplace=True)\n",
    "df"
   ]
  },
  {
   "cell_type": "code",
   "execution_count": null,
   "metadata": {},
   "outputs": [],
   "source": [
    "data = df.drop([\"id\"], axis=1)\n",
    "data.head()"
   ]
  },
  {
   "attachments": {},
   "cell_type": "markdown",
   "metadata": {},
   "source": [
    "## Performing Scaling on our Songs_Database"
   ]
  },
  {
   "cell_type": "code",
   "execution_count": null,
   "metadata": {},
   "outputs": [],
   "source": [
    "# Create an instance of StandardScaler\n",
    "scaler = StandardScaler()\n",
    "\n",
    "# Standardize the data using StandardScaler\n",
    "X_normalized = scaler.fit_transform(data[[\"danceability\", \"energy\", \"loudness\", \"speechiness\", \"acousticness\", \"instrumentalness\",\"liveness\",\"valence\",\"tempo\",\"duration_ms\"]])\n",
    "\n",
    "# Print the original data\n",
    "print(\"Original data:\")\n",
    "# print(data.head().to_frame())\n",
    "display(data.head())\n",
    "\n",
    "# Create a DataFrame with the normalized data\n",
    "data_normalized = pd.DataFrame(X_normalized, columns=[\"danceability\", \"energy\", \"loudness\", \"speechiness\", \"acousticness\", \"instrumentalness\",\"liveness\",\"valence\",\"tempo\",\"duration_ms\"])\n",
    "\n",
    "# Print the scaled data\n",
    "print(\"\\nScaled data:\")\n",
    "data_normalized.head()"
   ]
  },
  {
   "cell_type": "code",
   "execution_count": null,
   "metadata": {},
   "outputs": [],
   "source": [
    "# Perform PCA on the normalized data\n",
    "pca = PCA(n_components=10)\n",
    "pca.fit(X_normalized)\n",
    "\n",
    "# Get the contribution of each principal component to the data variance\n",
    "# En utilisant pca.explained_variance_ratio_, on peut obtenir une idée de la contribution de chaque composante principale à la variance des données.\n",
    "# Cela peut aider à décider combien de composantes principales utiliser pour réduire la dimensionnalité ou pour d'autres analyses.\n",
    "pca.explained_variance_ratio_\n",
    "\n",
    "# Get the contribution of each principal component to the data variance\n",
    "explained_variance_ratio = pca.explained_variance_ratio_\n",
    "\n",
    "# Print the contribution of each principal component\n",
    "print(\"Explained variance ratio:\")\n",
    "print(explained_variance_ratio)\n",
    "\n",
    "# Calculate the cumulative sum of explained variance ratio\n",
    "# Déterminer combien de composantes principales tu souhaites conserver, en fonction du pourcentage de variance que tu souhaites préserver.\n",
    "# Par exemple, si la somme cumulative atteint 0,95, cela signifie que les composantes principales retenues capturent 95 % de la variance totale des données.\n",
    "np.cumsum(pca.explained_variance_ratio_)\n",
    "\n",
    "# Calculate the cumulative sum of explained variance ratio\n",
    "cumulative_variance_ratio = np.cumsum(explained_variance_ratio)\n",
    "\n",
    "# Print the cumulative sum of explained variance ratio\n",
    "print(\"\\nCumulative variance ratio:\")\n",
    "print(cumulative_variance_ratio)"
   ]
  },
  {
   "attachments": {},
   "cell_type": "markdown",
   "metadata": {},
   "source": [
    "## Save SCALER in file with PICKLE"
   ]
  },
  {
   "cell_type": "code",
   "execution_count": null,
   "metadata": {},
   "outputs": [],
   "source": [
    "import pickle\n",
    "\n",
    "#Ici, nous ouvrons un fichier nommé \"scaler.pkl\" en mode d'écriture binaire ('wb'), puis nous utilisons pickle.dump() pour écrire l'objet scaler dans le fichier.\n",
    "with open('scaler.pkl', 'wb') as fichier:\n",
    "    pickle.dump(scaler, fichier)"
   ]
  },
  {
   "cell_type": "code",
   "execution_count": null,
   "metadata": {},
   "outputs": [],
   "source": [
    "# with open(\"Songs_Database.csv\", \"rb\") as f: #don't forget the correct path\n",
    "#      scaler_new = pickle.load(fichier) "
   ]
  },
  {
   "attachments": {},
   "cell_type": "markdown",
   "metadata": {},
   "source": [
    "## Finding out the best number of Clusters to use"
   ]
  },
  {
   "cell_type": "code",
   "execution_count": null,
   "metadata": {},
   "outputs": [],
   "source": [
    "K = range(5, 30) #range of the clusters\n",
    "inertia = []\n",
    "\n",
    "for k in K: #for every data in set build a inertia\n",
    "    print(\"Training a K-Means model with {} clusters! \".format(k))\n",
    "    print()\n",
    "    kmeans = KMeans(n_clusters=k,\n",
    "                    random_state=1234)\n",
    "    kmeans.fit(data)\n",
    "    inertia.append(kmeans.inertia_)\n",
    "\n",
    "import numpy as np\n",
    "import matplotlib.pyplot as plt\n",
    "%matplotlib inline\n",
    "\n",
    "plt.figure(figsize=(16,8))\n",
    "plt.plot(K, inertia, 'bx-')\n",
    "plt.xlabel('k')\n",
    "plt.ylabel('inertia')\n",
    "plt.xticks(np.arange(min(K), max(K)+1, 1.0)) #changing the scale\n",
    "plt.title('Elbow Method showing the optimal k') "
   ]
  },
  {
   "attachments": {},
   "cell_type": "markdown",
   "metadata": {},
   "source": [
    "## PCA and KMeans"
   ]
  },
  {
   "cell_type": "code",
   "execution_count": null,
   "metadata": {},
   "outputs": [],
   "source": [
    "# Transform the normalized data using the principal components\n",
    "X_pca = pca.transform(X_normalized)\n",
    "\n",
    "# Apply K-means clustering to the transformed data\n",
    "kmeans = KMeans(n_clusters=14, n_init=12)\n",
    "kmeans.fit(X_pca)\n",
    "cluster_ids = kmeans.predict(X_pca)\n",
    "cluster_distances = kmeans.transform(X_pca)\n",
    "\n",
    "# Print the cluster IDs and distances\n",
    "print(\"\\nCluster IDs:\")\n",
    "print(cluster_ids)\n",
    "print(\"\\nCluster distances:\")\n",
    "print(cluster_distances)"
   ]
  },
  {
   "attachments": {},
   "cell_type": "markdown",
   "metadata": {},
   "source": [
    "## Assigning a cluster to each song"
   ]
  },
  {
   "cell_type": "code",
   "execution_count": null,
   "metadata": {},
   "outputs": [],
   "source": [
    "data_normalized['cluster'] = cluster_ids\n",
    "data_normalized"
   ]
  },
  {
   "cell_type": "code",
   "execution_count": null,
   "metadata": {},
   "outputs": [],
   "source": [
    "data.head()"
   ]
  },
  {
   "cell_type": "code",
   "execution_count": null,
   "metadata": {},
   "outputs": [],
   "source": [
    "data_normalized.reset_index(drop=True, inplace=True)  # Restaurer l'index d'origine\n",
    "column = df.loc[:, \"id\"]\n",
    "data_normalized[\"id\"] = column\n",
    "\n",
    "data_normalized"
   ]
  },
  {
   "attachments": {},
   "cell_type": "markdown",
   "metadata": {},
   "source": [
    "## 8- Saving model with best K as final model using Pickle"
   ]
  },
  {
   "cell_type": "code",
   "execution_count": null,
   "metadata": {},
   "outputs": [],
   "source": [
    "meilleur_k = 14  # Remplacez par le meilleur k que vous avez sélectionné\n",
    "kmeans_final = KMeans(n_clusters=meilleur_k)\n",
    "\n",
    "kmeans_final.fit(X_pca)  # Remplacez X_pca par vos données normalisées\n",
    "\n",
    "# Définir le nom du fichier pour sauvegarder le modèle\n",
    "nom_fichier_modele = \"k_means_final_model.pkl\"\n",
    "\n",
    "# Sauvegarder le modèle avec Pickle\n",
    "with open(nom_fichier_modele, 'wb') as fichier:\n",
    "    pickle.dump(kmeans_final, fichier)"
   ]
  },
  {
   "cell_type": "code",
   "execution_count": null,
   "metadata": {},
   "outputs": [],
   "source": [
    "#Obtenir les identifiants uniques de cluster dans cluster_ids,\n",
    "#puis il itère sur ces identifiants pour tracer un nuage de points pour chaque cluster.\n",
    "\n",
    "for c in np.unique(cluster_ids):\n",
    "    plt.scatter(X_pca[cluster_ids == c, 0], X_pca[cluster_ids == c, 1], marker='.', s=50)"
   ]
  },
  {
   "cell_type": "code",
   "execution_count": null,
   "metadata": {},
   "outputs": [],
   "source": [
    "#Utilisation de fit_predict de KMeans pour effectuer à la fois l'ajustement du modèle K-means \n",
    "# et la prédiction des clusters pour les données normalisées X_normalized.\n",
    "cluster_ids = KMeans(n_clusters=9, n_init=100).fit_predict(X_normalized)\n",
    "\n",
    "for c in np.unique(cluster_ids):\n",
    "    plt.scatter(X_normalized[cluster_ids == c, 0], X_normalized[cluster_ids == c, 1], marker='.', s=50)\n",
    "\n",
    "plt.show()"
   ]
  },
  {
   "cell_type": "code",
   "execution_count": null,
   "metadata": {},
   "outputs": [],
   "source": [
    "#Utilisation de fit_predict de KMeans pour effectuer à la fois l'ajustement du modèle K-means \n",
    "# et la prédiction des clusters pour les données normalisées X_normalized.\n",
    "\n",
    "cluster_ids = KMeans(n_clusters=14, n_init=100).fit_predict(X_normalized)\n",
    "\n",
    "for c in np.unique(cluster_ids):\n",
    "    plt.scatter(X_normalized[cluster_ids == c, 0], X_normalized[cluster_ids == c, 1], marker='.', s=50)\n",
    "\n",
    "plt.show()"
   ]
  },
  {
   "attachments": {},
   "cell_type": "markdown",
   "metadata": {},
   "source": [
    "# ***************************** PART II *****************************"
   ]
  },
  {
   "attachments": {},
   "cell_type": "markdown",
   "metadata": {},
   "source": [
    "## Getting the song from user"
   ]
  },
  {
   "cell_type": "code",
   "execution_count": 279,
   "metadata": {},
   "outputs": [],
   "source": [
    "x = str(input(\"Please enter the name of a song you'd like to listen to: \"))"
   ]
  },
  {
   "attachments": {},
   "cell_type": "markdown",
   "metadata": {},
   "source": [
    "## Creating the JSON"
   ]
  },
  {
   "cell_type": "code",
   "execution_count": 280,
   "metadata": {},
   "outputs": [
    {
     "name": "stdout",
     "output_type": "stream",
     "text": [
      "{\"tracks\": {\"href\": \"https://api.spotify.com/v1/search?query=Blackpink&type=track&market=FR&offset=0&limit=1\", \"items\": [{\"album\": {\"album_type\": \"album\", \"artists\": [{\"external_urls\": {\"spotify\": \"https://open.spotify.com/artist/41MozSoPIsD1dJM0CLPjZF\"}, \"href\": \"https://api.spotify.com/v1/artists/41MozSoPIsD1dJM0CLPjZF\", \"id\": \"41MozSoPIsD1dJM0CLPjZF\", \"name\": \"BLACKPINK\", \"type\": \"artist\", \"uri\": \"spotify:artist:41MozSoPIsD1dJM0CLPjZF\"}], \"external_urls\": {\"spotify\": \"https://open.spotify.com/album/7jaSNQUBJbvfbZHLNFrV7P\"}, \"href\": \"https://api.spotify.com/v1/albums/7jaSNQUBJbvfbZHLNFrV7P\", \"id\": \"7jaSNQUBJbvfbZHLNFrV7P\", \"images\": [{\"height\": 640, \"url\": \"https://i.scdn.co/image/ab67616d0000b2734aeaaeeb0755f1d8a8b51738\", \"width\": 640}, {\"height\": 300, \"url\": \"https://i.scdn.co/image/ab67616d00001e024aeaaeeb0755f1d8a8b51738\", \"width\": 300}, {\"height\": 64, \"url\": \"https://i.scdn.co/image/ab67616d000048514aeaaeeb0755f1d8a8b51738\", \"width\": 64}], \"is_playable\": true, \"name\": \"BORN PINK\", \"release_date\": \"2022-09-16\", \"release_date_precision\": \"day\", \"total_tracks\": 8, \"type\": \"album\", \"uri\": \"spotify:album:7jaSNQUBJbvfbZHLNFrV7P\"}, \"artists\": [{\"external_urls\": {\"spotify\": \"https://open.spotify.com/artist/41MozSoPIsD1dJM0CLPjZF\"}, \"href\": \"https://api.spotify.com/v1/artists/41MozSoPIsD1dJM0CLPjZF\", \"id\": \"41MozSoPIsD1dJM0CLPjZF\", \"name\": \"BLACKPINK\", \"type\": \"artist\", \"uri\": \"spotify:artist:41MozSoPIsD1dJM0CLPjZF\"}], \"disc_number\": 1, \"duration_ms\": 179172, \"explicit\": true, \"external_ids\": {\"isrc\": \"KRA402200021\"}, \"external_urls\": {\"spotify\": \"https://open.spotify.com/track/0L8LOav65XwLjCLS11gNPD\"}, \"href\": \"https://api.spotify.com/v1/tracks/0L8LOav65XwLjCLS11gNPD\", \"id\": \"0L8LOav65XwLjCLS11gNPD\", \"is_local\": false, \"is_playable\": true, \"name\": \"Typa Girl\", \"popularity\": 80, \"preview_url\": \"https://p.scdn.co/mp3-preview/da0c66e479ad388c8fb842595baca3fbb1892eeb?cid=93af8f8aab0948589602740953dd0ca7\", \"track_number\": 3, \"type\": \"track\", \"uri\": \"spotify:track:0L8LOav65XwLjCLS11gNPD\"}], \"limit\": 1, \"next\": \"https://api.spotify.com/v1/search?query=Blackpink&type=track&market=FR&offset=1&limit=1\", \"offset\": 0, \"previous\": null, \"total\": 1000}}\n"
     ]
    }
   ],
   "source": [
    "results = sp.search(q= x, limit=1, market=\"FR\")\n",
    "\n",
    "json_results = json.dumps(results, ensure_ascii=True)\n",
    "print(json_results)"
   ]
  },
  {
   "attachments": {},
   "cell_type": "markdown",
   "metadata": {},
   "source": [
    "## Displaying JSON"
   ]
  },
  {
   "cell_type": "code",
   "execution_count": 281,
   "metadata": {},
   "outputs": [
    {
     "name": "stdout",
     "output_type": "stream",
     "text": [
      "{'album': {'album_type': 'album',\n",
      "           'artists': [{'external_urls': {'spotify': 'https://open.spotify.com/artist/41MozSoPIsD1dJM0CLPjZF'},\n",
      "                        'href': 'https://api.spotify.com/v1/artists/41MozSoPIsD1dJM0CLPjZF',\n",
      "                        'id': '41MozSoPIsD1dJM0CLPjZF',\n",
      "                        'name': 'BLACKPINK',\n",
      "                        'type': 'artist',\n",
      "                        'uri': 'spotify:artist:41MozSoPIsD1dJM0CLPjZF'}],\n",
      "           'external_urls': {'spotify': 'https://open.spotify.com/album/7jaSNQUBJbvfbZHLNFrV7P'},\n",
      "           'href': 'https://api.spotify.com/v1/albums/7jaSNQUBJbvfbZHLNFrV7P',\n",
      "           'id': '7jaSNQUBJbvfbZHLNFrV7P',\n",
      "           'images': [{'height': 640,\n",
      "                       'url': 'https://i.scdn.co/image/ab67616d0000b2734aeaaeeb0755f1d8a8b51738',\n",
      "                       'width': 640},\n",
      "                      {'height': 300,\n",
      "                       'url': 'https://i.scdn.co/image/ab67616d00001e024aeaaeeb0755f1d8a8b51738',\n",
      "                       'width': 300},\n",
      "                      {'height': 64,\n",
      "                       'url': 'https://i.scdn.co/image/ab67616d000048514aeaaeeb0755f1d8a8b51738',\n",
      "                       'width': 64}],\n",
      "           'is_playable': True,\n",
      "           'name': 'BORN PINK',\n",
      "           'release_date': '2022-09-16',\n",
      "           'release_date_precision': 'day',\n",
      "           'total_tracks': 8,\n",
      "           'type': 'album',\n",
      "           'uri': 'spotify:album:7jaSNQUBJbvfbZHLNFrV7P'},\n",
      " 'artists': [{'external_urls': {'spotify': 'https://open.spotify.com/artist/41MozSoPIsD1dJM0CLPjZF'},\n",
      "              'href': 'https://api.spotify.com/v1/artists/41MozSoPIsD1dJM0CLPjZF',\n",
      "              'id': '41MozSoPIsD1dJM0CLPjZF',\n",
      "              'name': 'BLACKPINK',\n",
      "              'type': 'artist',\n",
      "              'uri': 'spotify:artist:41MozSoPIsD1dJM0CLPjZF'}],\n",
      " 'disc_number': 1,\n",
      " 'duration_ms': 179172,\n",
      " 'explicit': True,\n",
      " 'external_ids': {'isrc': 'KRA402200021'},\n",
      " 'external_urls': {'spotify': 'https://open.spotify.com/track/0L8LOav65XwLjCLS11gNPD'},\n",
      " 'href': 'https://api.spotify.com/v1/tracks/0L8LOav65XwLjCLS11gNPD',\n",
      " 'id': '0L8LOav65XwLjCLS11gNPD',\n",
      " 'is_local': False,\n",
      " 'is_playable': True,\n",
      " 'name': 'Typa Girl',\n",
      " 'popularity': 80,\n",
      " 'preview_url': 'https://p.scdn.co/mp3-preview/da0c66e479ad388c8fb842595baca3fbb1892eeb?cid=93af8f8aab0948589602740953dd0ca7',\n",
      " 'track_number': 3,\n",
      " 'type': 'track',\n",
      " 'uri': 'spotify:track:0L8LOav65XwLjCLS11gNPD'}\n",
      "The name of song is: 'Typa Girl' and the id is: 0L8LOav65XwLjCLS11gNPD\n"
     ]
    }
   ],
   "source": [
    "results['tracks'][\"items\"][0].keys() # All the dictionary\n",
    "pprint.pprint(results['tracks']['items'][0])\n",
    "\n",
    "results['tracks']['items'][0]['id'] # Getting song ID\n",
    "\n",
    "for item in results['tracks']['items']:\n",
    "    print(\"The name of song is: '{}' and the id is: {}\".format(item['name'],item[\"id\"]))"
   ]
  },
  {
   "attachments": {},
   "cell_type": "markdown",
   "metadata": {},
   "source": [
    "## Understanding the JSON"
   ]
  },
  {
   "cell_type": "code",
   "execution_count": 282,
   "metadata": {},
   "outputs": [
    {
     "name": "stdout",
     "output_type": "stream",
     "text": [
      "The json file has the following keys:  ['tracks']\n",
      "The 'tracks' key has the following child keys:  ['href', 'items', 'limit', 'next', 'offset', 'previous', 'total']\n",
      "The query we made is:  https://api.spotify.com/v1/search?query=Blackpink&type=track&market=FR&offset=0&limit=1\n",
      "The song's info is contained in:  [{'album': {'album_type': 'album', 'artists': [{'external_urls': {'spotify': 'https://open.spotify.com/artist/41MozSoPIsD1dJM0CLPjZF'}, 'href': 'https://api.spotify.com/v1/artists/41MozSoPIsD1dJM0CLPjZF', 'id': '41MozSoPIsD1dJM0CLPjZF', 'name': 'BLACKPINK', 'type': 'artist', 'uri': 'spotify:artist:41MozSoPIsD1dJM0CLPjZF'}], 'external_urls': {'spotify': 'https://open.spotify.com/album/7jaSNQUBJbvfbZHLNFrV7P'}, 'href': 'https://api.spotify.com/v1/albums/7jaSNQUBJbvfbZHLNFrV7P', 'id': '7jaSNQUBJbvfbZHLNFrV7P', 'images': [{'height': 640, 'url': 'https://i.scdn.co/image/ab67616d0000b2734aeaaeeb0755f1d8a8b51738', 'width': 640}, {'height': 300, 'url': 'https://i.scdn.co/image/ab67616d00001e024aeaaeeb0755f1d8a8b51738', 'width': 300}, {'height': 64, 'url': 'https://i.scdn.co/image/ab67616d000048514aeaaeeb0755f1d8a8b51738', 'width': 64}], 'is_playable': True, 'name': 'BORN PINK', 'release_date': '2022-09-16', 'release_date_precision': 'day', 'total_tracks': 8, 'type': 'album', 'uri': 'spotify:album:7jaSNQUBJbvfbZHLNFrV7P'}, 'artists': [{'external_urls': {'spotify': 'https://open.spotify.com/artist/41MozSoPIsD1dJM0CLPjZF'}, 'href': 'https://api.spotify.com/v1/artists/41MozSoPIsD1dJM0CLPjZF', 'id': '41MozSoPIsD1dJM0CLPjZF', 'name': 'BLACKPINK', 'type': 'artist', 'uri': 'spotify:artist:41MozSoPIsD1dJM0CLPjZF'}], 'disc_number': 1, 'duration_ms': 179172, 'explicit': True, 'external_ids': {'isrc': 'KRA402200021'}, 'external_urls': {'spotify': 'https://open.spotify.com/track/0L8LOav65XwLjCLS11gNPD'}, 'href': 'https://api.spotify.com/v1/tracks/0L8LOav65XwLjCLS11gNPD', 'id': '0L8LOav65XwLjCLS11gNPD', 'is_local': False, 'is_playable': True, 'name': 'Typa Girl', 'popularity': 80, 'preview_url': 'https://p.scdn.co/mp3-preview/da0c66e479ad388c8fb842595baca3fbb1892eeb?cid=93af8f8aab0948589602740953dd0ca7', 'track_number': 3, 'type': 'track', 'uri': 'spotify:track:0L8LOav65XwLjCLS11gNPD'}]\n",
      "The limit of the query we've made is:  1\n",
      "The next page if any:  https://api.spotify.com/v1/search?query=Blackpink&type=track&market=FR&offset=1&limit=1\n",
      "The starting webpage:  0\n",
      "Starting webpage:  None\n",
      "Total number of results:  1000\n"
     ]
    }
   ],
   "source": [
    "print(\"The json file has the following keys: \", list(results.keys())) # We can see that we only have tracks\n",
    "print(\"The 'tracks' key has the following child keys: \", list(results[\"tracks\"].keys())) # Let's check the values\n",
    "print(\"The query we made is: \", results[\"tracks\"][\"href\"]) # Query we have searched \n",
    "print(\"The song's info is contained in: \", results[\"tracks\"][\"items\"]) # items (actual tracks)\n",
    "print(\"The limit of the query we've made is: \", results[\"tracks\"][\"limit\"]) # Limit we have chosen\n",
    "print(\"The next page if any: \", results[\"tracks\"][\"next\"]) # Link to the next page (next 50 tracks)\n",
    "print(\"The starting webpage: \", results[\"tracks\"][\"offset\"]) # Actual offset (starting point)\n",
    "print(\"Starting webpage: \", results[\"tracks\"][\"previous\"]) # Previous search\n",
    "print(\"Total number of results: \", results[\"tracks\"][\"total\"]) # Number of matches"
   ]
  },
  {
   "attachments": {},
   "cell_type": "markdown",
   "metadata": {},
   "source": [
    "## Other Infos"
   ]
  },
  {
   "cell_type": "code",
   "execution_count": 283,
   "metadata": {},
   "outputs": [
    {
     "name": "stdout",
     "output_type": "stream",
     "text": [
      "Track infos\n",
      "[{'external_urls': {'spotify': 'https://open.spotify.com/artist/41MozSoPIsD1dJM0CLPjZF'}, 'href': 'https://api.spotify.com/v1/artists/41MozSoPIsD1dJM0CLPjZF', 'id': '41MozSoPIsD1dJM0CLPjZF', 'name': 'BLACKPINK', 'type': 'artist', 'uri': 'spotify:artist:41MozSoPIsD1dJM0CLPjZF'}]\n",
      "\n",
      "Track ID\n",
      "0L8LOav65XwLjCLS11gNPD\n",
      "\n",
      "Track name\n",
      "Typa Girl\n",
      "\n",
      "Popularity index\n",
      "80\n",
      "\n",
      "Basically ID\n",
      "spotify:track:0L8LOav65XwLjCLS11gNPD\n"
     ]
    }
   ],
   "source": [
    "print(\"Track infos\")\n",
    "print(results[\"tracks\"][\"items\"][0][\"artists\"]) # Track artists\n",
    "\n",
    "# print(\"Track artists\")\n",
    "# print(results[\"tracks\"][\"items\"][0][\"artists\"][\"0\"][\"name\"]) # Track artists\n",
    "\n",
    "\n",
    "\n",
    "print(\"\\nTrack ID\")\n",
    "print(results[\"tracks\"][\"items\"][0][\"id\"]) # Track ID\n",
    "print(\"\\nTrack name\")\n",
    "print(results[\"tracks\"][\"items\"][0][\"name\"]) # Track name\n",
    "print(\"\\nPopularity index\")\n",
    "print(results[\"tracks\"][\"items\"][0][\"popularity\"]) # Popularity index\n",
    "print(\"\\nBasically ID\")\n",
    "print(results[\"tracks\"][\"items\"][0][\"uri\"]) # Basically ID\n"
   ]
  },
  {
   "attachments": {},
   "cell_type": "markdown",
   "metadata": {},
   "source": [
    "## Playing the requested Song"
   ]
  },
  {
   "cell_type": "code",
   "execution_count": 284,
   "metadata": {},
   "outputs": [],
   "source": [
    "from IPython.display import IFrame\n",
    "\n",
    "track_id = results[\"tracks\"][\"items\"][0][\"id\"]\n",
    "\n",
    "def play_song(track_id):\n",
    "    return IFrame(src=\"https://open.spotify.com/embed/track/\"+track_id+\"?autoplay=1\",\n",
    "       width=\"320\",\n",
    "       height=\"80\",\n",
    "       frameborder=\"0\",\n",
    "       allowtransparency=\"true\",\n",
    "       allow=\"encrypted-media\",\n",
    "      )"
   ]
  },
  {
   "cell_type": "code",
   "execution_count": 285,
   "metadata": {},
   "outputs": [
    {
     "data": {
      "text/html": [
       "\n",
       "        <iframe\n",
       "            width=\"320\"\n",
       "            height=\"80\"\n",
       "            src=\"https://open.spotify.com/embed/track/0L8LOav65XwLjCLS11gNPD?autoplay=1?frameborder=0&allowtransparency=true&allow=encrypted-media\"\n",
       "            frameborder=\"0\"\n",
       "            allowfullscreen\n",
       "            \n",
       "        ></iframe>\n",
       "        "
      ],
      "text/plain": [
       "<IPython.lib.display.IFrame at 0x14a9dcc94f0>"
      ]
     },
     "execution_count": 285,
     "metadata": {},
     "output_type": "execute_result"
    }
   ],
   "source": [
    "play_song(track_id)"
   ]
  },
  {
   "attachments": {},
   "cell_type": "markdown",
   "metadata": {},
   "source": [
    "## Track ID of the Song"
   ]
  },
  {
   "cell_type": "code",
   "execution_count": 286,
   "metadata": {},
   "outputs": [
    {
     "data": {
      "text/plain": [
       "'0L8LOav65XwLjCLS11gNPD'"
      ]
     },
     "execution_count": 286,
     "metadata": {},
     "output_type": "execute_result"
    }
   ],
   "source": [
    "song_id = results[\"tracks\"][\"items\"][0][\"id\"]\n",
    "song_id"
   ]
  },
  {
   "attachments": {},
   "cell_type": "markdown",
   "metadata": {},
   "source": [
    "## Getting the audio features of the Requested Song"
   ]
  },
  {
   "cell_type": "code",
   "execution_count": 287,
   "metadata": {},
   "outputs": [
    {
     "name": "stdout",
     "output_type": "stream",
     "text": [
      "[{'danceability': 0.915, 'energy': 0.621, 'key': 7, 'loudness': -6.519, 'mode': 1, 'speechiness': 0.1, 'acousticness': 0.0745, 'instrumentalness': 0, 'liveness': 0.628, 'valence': 0.527, 'tempo': 131.984, 'type': 'audio_features', 'id': '0L8LOav65XwLjCLS11gNPD', 'uri': 'spotify:track:0L8LOav65XwLjCLS11gNPD', 'track_href': 'https://api.spotify.com/v1/tracks/0L8LOav65XwLjCLS11gNPD', 'analysis_url': 'https://api.spotify.com/v1/audio-analysis/0L8LOav65XwLjCLS11gNPD', 'duration_ms': 179173, 'time_signature': 4}]\n"
     ]
    },
    {
     "data": {
      "text/plain": [
       "[{'danceability': 0.915,\n",
       "  'energy': 0.621,\n",
       "  'key': 7,\n",
       "  'loudness': -6.519,\n",
       "  'mode': 1,\n",
       "  'speechiness': 0.1,\n",
       "  'acousticness': 0.0745,\n",
       "  'instrumentalness': 0,\n",
       "  'liveness': 0.628,\n",
       "  'valence': 0.527,\n",
       "  'tempo': 131.984,\n",
       "  'type': 'audio_features',\n",
       "  'id': '0L8LOav65XwLjCLS11gNPD',\n",
       "  'uri': 'spotify:track:0L8LOav65XwLjCLS11gNPD',\n",
       "  'track_href': 'https://api.spotify.com/v1/tracks/0L8LOav65XwLjCLS11gNPD',\n",
       "  'analysis_url': 'https://api.spotify.com/v1/audio-analysis/0L8LOav65XwLjCLS11gNPD',\n",
       "  'duration_ms': 179173,\n",
       "  'time_signature': 4}]"
      ]
     },
     "execution_count": 287,
     "metadata": {},
     "output_type": "execute_result"
    }
   ],
   "source": [
    "print(sp.audio_features(song_id))\n",
    "sp.audio_features(song_id)"
   ]
  },
  {
   "attachments": {},
   "cell_type": "markdown",
   "metadata": {},
   "source": [
    "## Extract the Audio Features of the Requested Song in a Dataframe"
   ]
  },
  {
   "cell_type": "code",
   "execution_count": 288,
   "metadata": {},
   "outputs": [
    {
     "name": "stdout",
     "output_type": "stream",
     "text": [
      "[{'danceability': 0.915, 'energy': 0.621, 'key': 7, 'loudness': -6.519, 'mode': 1, 'speechiness': 0.1, 'acousticness': 0.0745, 'instrumentalness': 0, 'liveness': 0.628, 'valence': 0.527, 'tempo': 131.984, 'type': 'audio_features', 'id': '0L8LOav65XwLjCLS11gNPD', 'uri': 'spotify:track:0L8LOav65XwLjCLS11gNPD', 'track_href': 'https://api.spotify.com/v1/tracks/0L8LOav65XwLjCLS11gNPD', 'analysis_url': 'https://api.spotify.com/v1/audio-analysis/0L8LOav65XwLjCLS11gNPD', 'duration_ms': 179173, 'time_signature': 4}]\n"
     ]
    }
   ],
   "source": [
    "print(sp.audio_features(results[\"tracks\"][\"items\"][0][\"id\"]))"
   ]
  },
  {
   "cell_type": "code",
   "execution_count": 289,
   "metadata": {},
   "outputs": [
    {
     "data": {
      "text/html": [
       "<div>\n",
       "<style scoped>\n",
       "    .dataframe tbody tr th:only-of-type {\n",
       "        vertical-align: middle;\n",
       "    }\n",
       "\n",
       "    .dataframe tbody tr th {\n",
       "        vertical-align: top;\n",
       "    }\n",
       "\n",
       "    .dataframe thead th {\n",
       "        text-align: right;\n",
       "    }\n",
       "</style>\n",
       "<table border=\"1\" class=\"dataframe\">\n",
       "  <thead>\n",
       "    <tr style=\"text-align: right;\">\n",
       "      <th></th>\n",
       "      <th>danceability</th>\n",
       "      <th>energy</th>\n",
       "      <th>loudness</th>\n",
       "      <th>speechiness</th>\n",
       "      <th>acousticness</th>\n",
       "      <th>instrumentalness</th>\n",
       "      <th>liveness</th>\n",
       "      <th>valence</th>\n",
       "      <th>tempo</th>\n",
       "      <th>id</th>\n",
       "      <th>duration_ms</th>\n",
       "    </tr>\n",
       "  </thead>\n",
       "  <tbody>\n",
       "    <tr>\n",
       "      <th>0</th>\n",
       "      <td>0.915</td>\n",
       "      <td>0.621</td>\n",
       "      <td>-6.519</td>\n",
       "      <td>0.1</td>\n",
       "      <td>0.0745</td>\n",
       "      <td>0</td>\n",
       "      <td>0.628</td>\n",
       "      <td>0.527</td>\n",
       "      <td>131.984</td>\n",
       "      <td>0L8LOav65XwLjCLS11gNPD</td>\n",
       "      <td>179173</td>\n",
       "    </tr>\n",
       "  </tbody>\n",
       "</table>\n",
       "</div>"
      ],
      "text/plain": [
       "   danceability  energy  loudness  speechiness  acousticness  \\\n",
       "0         0.915   0.621    -6.519          0.1        0.0745   \n",
       "\n",
       "   instrumentalness  liveness  valence    tempo                      id  \\\n",
       "0                 0     0.628    0.527  131.984  0L8LOav65XwLjCLS11gNPD   \n",
       "\n",
       "   duration_ms  \n",
       "0       179173  "
      ]
     },
     "execution_count": 289,
     "metadata": {},
     "output_type": "execute_result"
    }
   ],
   "source": [
    "requested_song_audio_features = pd.DataFrame(sp.audio_features(song_id))\n",
    "requested_song_audio_features = requested_song_audio_features[[\"danceability\",\"energy\",\"loudness\",\"speechiness\",\"acousticness\",\"instrumentalness\",\"liveness\",\"valence\",\"tempo\",\"id\",\"duration_ms\"]]\n",
    "\n",
    "requested_song_audio_features"
   ]
  },
  {
   "cell_type": "code",
   "execution_count": 290,
   "metadata": {},
   "outputs": [
    {
     "data": {
      "text/html": [
       "<div>\n",
       "<style scoped>\n",
       "    .dataframe tbody tr th:only-of-type {\n",
       "        vertical-align: middle;\n",
       "    }\n",
       "\n",
       "    .dataframe tbody tr th {\n",
       "        vertical-align: top;\n",
       "    }\n",
       "\n",
       "    .dataframe thead th {\n",
       "        text-align: right;\n",
       "    }\n",
       "</style>\n",
       "<table border=\"1\" class=\"dataframe\">\n",
       "  <thead>\n",
       "    <tr style=\"text-align: right;\">\n",
       "      <th></th>\n",
       "      <th>danceability</th>\n",
       "      <th>energy</th>\n",
       "      <th>loudness</th>\n",
       "      <th>speechiness</th>\n",
       "      <th>acousticness</th>\n",
       "      <th>instrumentalness</th>\n",
       "      <th>liveness</th>\n",
       "      <th>valence</th>\n",
       "      <th>tempo</th>\n",
       "      <th>duration_ms</th>\n",
       "    </tr>\n",
       "  </thead>\n",
       "  <tbody>\n",
       "    <tr>\n",
       "      <th>0</th>\n",
       "      <td>0.915</td>\n",
       "      <td>0.621</td>\n",
       "      <td>-6.519</td>\n",
       "      <td>0.1</td>\n",
       "      <td>0.0745</td>\n",
       "      <td>0</td>\n",
       "      <td>0.628</td>\n",
       "      <td>0.527</td>\n",
       "      <td>131.984</td>\n",
       "      <td>179173</td>\n",
       "    </tr>\n",
       "  </tbody>\n",
       "</table>\n",
       "</div>"
      ],
      "text/plain": [
       "   danceability  energy  loudness  speechiness  acousticness  \\\n",
       "0         0.915   0.621    -6.519          0.1        0.0745   \n",
       "\n",
       "   instrumentalness  liveness  valence    tempo  duration_ms  \n",
       "0                 0     0.628    0.527  131.984       179173  "
      ]
     },
     "execution_count": 290,
     "metadata": {},
     "output_type": "execute_result"
    }
   ],
   "source": [
    "simple_requested_song_audio_features = requested_song_audio_features[[\"danceability\",\"energy\",\"loudness\",\"speechiness\",\"acousticness\",\"instrumentalness\",\"liveness\",\"valence\",\"tempo\",\"duration_ms\"]]\n",
    "\n",
    "simple_requested_song_audio_features"
   ]
  },
  {
   "attachments": {},
   "cell_type": "markdown",
   "metadata": {},
   "source": [
    "### 4- Load the StandardScaler using Pickle and use it to scale the REQUESTED_SONG."
   ]
  },
  {
   "attachments": {},
   "cell_type": "markdown",
   "metadata": {},
   "source": [
    "#### Load"
   ]
  },
  {
   "cell_type": "code",
   "execution_count": 291,
   "metadata": {},
   "outputs": [],
   "source": [
    "# Définir le nom du fichier contenant le scaler\n",
    "nom_fichier_scaler = \"scaler.pkl\"\n",
    "\n",
    "# Charger le scaler à partir du fichier\n",
    "with open(nom_fichier_scaler, 'rb') as fichier:\n",
    "    scaler = pickle.load(fichier)\n"
   ]
  },
  {
   "attachments": {},
   "cell_type": "markdown",
   "metadata": {},
   "source": [
    "#### Scaling the REQUESTED_SONG"
   ]
  },
  {
   "cell_type": "code",
   "execution_count": 292,
   "metadata": {},
   "outputs": [
    {
     "name": "stdout",
     "output_type": "stream",
     "text": [
      "['danceability' 'energy' 'loudness' 'speechiness' 'acousticness'\n",
      " 'instrumentalness' 'liveness' 'valence' 'tempo' 'duration_ms']\n"
     ]
    }
   ],
   "source": [
    "print(scaler.get_feature_names_out())"
   ]
  },
  {
   "cell_type": "code",
   "execution_count": 293,
   "metadata": {},
   "outputs": [
    {
     "data": {
      "text/plain": [
       "array([[ 1.61094903, -0.08451154,  0.2289375 , -0.26222197, -0.72678385,\n",
       "        -0.36789564,  3.60782351,  0.18786315,  0.44514399, -0.68496209]])"
      ]
     },
     "execution_count": 293,
     "metadata": {},
     "output_type": "execute_result"
    }
   ],
   "source": [
    "requested_song_scaled = scaler.transform(simple_requested_song_audio_features)\n",
    "requested_song_scaled"
   ]
  },
  {
   "attachments": {},
   "cell_type": "markdown",
   "metadata": {},
   "source": [
    "### 5- Use kmeans_model.predict (on the new scaled audio dataset for the REQUESTED_SONG) to predict the cluster (label) for the REQUESTED_SONG."
   ]
  },
  {
   "cell_type": "code",
   "execution_count": 296,
   "metadata": {},
   "outputs": [
    {
     "data": {
      "text/plain": [
       "array([8])"
      ]
     },
     "execution_count": 296,
     "metadata": {},
     "output_type": "execute_result"
    }
   ],
   "source": [
    "requested_song_cluster_label = kmeans_final.predict(requested_song_scaled)\n",
    "requested_song_cluster_label"
   ]
  },
  {
   "attachments": {},
   "cell_type": "markdown",
   "metadata": {},
   "source": [
    "### 6- Return a random song from the same cluster that the REQUESTED_SONG belongs to from your data frame and suggest it to the user.\n"
   ]
  },
  {
   "attachments": {},
   "cell_type": "markdown",
   "metadata": {},
   "source": [
    "#### Return all the songs of the corresponding cluster"
   ]
  },
  {
   "cell_type": "code",
   "execution_count": 297,
   "metadata": {},
   "outputs": [
    {
     "data": {
      "text/html": [
       "<div>\n",
       "<style scoped>\n",
       "    .dataframe tbody tr th:only-of-type {\n",
       "        vertical-align: middle;\n",
       "    }\n",
       "\n",
       "    .dataframe tbody tr th {\n",
       "        vertical-align: top;\n",
       "    }\n",
       "\n",
       "    .dataframe thead th {\n",
       "        text-align: right;\n",
       "    }\n",
       "</style>\n",
       "<table border=\"1\" class=\"dataframe\">\n",
       "  <thead>\n",
       "    <tr style=\"text-align: right;\">\n",
       "      <th></th>\n",
       "      <th>danceability</th>\n",
       "      <th>energy</th>\n",
       "      <th>loudness</th>\n",
       "      <th>speechiness</th>\n",
       "      <th>acousticness</th>\n",
       "      <th>instrumentalness</th>\n",
       "      <th>liveness</th>\n",
       "      <th>valence</th>\n",
       "      <th>tempo</th>\n",
       "      <th>duration_ms</th>\n",
       "      <th>cluster</th>\n",
       "      <th>id</th>\n",
       "    </tr>\n",
       "  </thead>\n",
       "  <tbody>\n",
       "    <tr>\n",
       "      <th>44</th>\n",
       "      <td>0.517939</td>\n",
       "      <td>-1.108496</td>\n",
       "      <td>-0.814436</td>\n",
       "      <td>1.091370</td>\n",
       "      <td>0.274586</td>\n",
       "      <td>-0.364628</td>\n",
       "      <td>-0.440196</td>\n",
       "      <td>0.841665</td>\n",
       "      <td>-1.374761</td>\n",
       "      <td>-1.133638</td>\n",
       "      <td>8</td>\n",
       "      <td>6ScHuFHv4QemKuuy6T6oUz</td>\n",
       "    </tr>\n",
       "    <tr>\n",
       "      <th>52</th>\n",
       "      <td>0.170163</td>\n",
       "      <td>-1.114249</td>\n",
       "      <td>-0.660258</td>\n",
       "      <td>4.575616</td>\n",
       "      <td>0.022834</td>\n",
       "      <td>-0.367896</td>\n",
       "      <td>-0.579053</td>\n",
       "      <td>-1.352300</td>\n",
       "      <td>0.871343</td>\n",
       "      <td>-2.700993</td>\n",
       "      <td>8</td>\n",
       "      <td>0Zf6XBkEVhs8TRaMaOpo8v</td>\n",
       "    </tr>\n",
       "    <tr>\n",
       "      <th>53</th>\n",
       "      <td>0.340502</td>\n",
       "      <td>-1.073980</td>\n",
       "      <td>-1.475987</td>\n",
       "      <td>2.453317</td>\n",
       "      <td>0.233253</td>\n",
       "      <td>-0.367160</td>\n",
       "      <td>-0.614355</td>\n",
       "      <td>-0.694111</td>\n",
       "      <td>-1.482286</td>\n",
       "      <td>-0.004022</td>\n",
       "      <td>8</td>\n",
       "      <td>152lZdxL1OR0ZMW6KquMif</td>\n",
       "    </tr>\n",
       "    <tr>\n",
       "      <th>58</th>\n",
       "      <td>-0.007274</td>\n",
       "      <td>-0.654031</td>\n",
       "      <td>-0.942055</td>\n",
       "      <td>1.968698</td>\n",
       "      <td>2.480229</td>\n",
       "      <td>-0.252150</td>\n",
       "      <td>-0.393126</td>\n",
       "      <td>-0.351852</td>\n",
       "      <td>1.856690</td>\n",
       "      <td>-0.995614</td>\n",
       "      <td>8</td>\n",
       "      <td>4DaXff4O24VWggRbnX2D7h</td>\n",
       "    </tr>\n",
       "    <tr>\n",
       "      <th>69</th>\n",
       "      <td>1.248978</td>\n",
       "      <td>0.266405</td>\n",
       "      <td>0.156160</td>\n",
       "      <td>2.127453</td>\n",
       "      <td>-0.225160</td>\n",
       "      <td>-0.367872</td>\n",
       "      <td>-0.534336</td>\n",
       "      <td>-0.948611</td>\n",
       "      <td>-0.185662</td>\n",
       "      <td>0.832193</td>\n",
       "      <td>8</td>\n",
       "      <td>38spM0LahLUfQhOMAqA7AI</td>\n",
       "    </tr>\n",
       "    <tr>\n",
       "      <th>...</th>\n",
       "      <td>...</td>\n",
       "      <td>...</td>\n",
       "      <td>...</td>\n",
       "      <td>...</td>\n",
       "      <td>...</td>\n",
       "      <td>...</td>\n",
       "      <td>...</td>\n",
       "      <td>...</td>\n",
       "      <td>...</td>\n",
       "      <td>...</td>\n",
       "      <td>...</td>\n",
       "      <td>...</td>\n",
       "    </tr>\n",
       "    <tr>\n",
       "      <th>2096</th>\n",
       "      <td>0.879910</td>\n",
       "      <td>-0.090264</td>\n",
       "      <td>-0.042512</td>\n",
       "      <td>2.152519</td>\n",
       "      <td>1.108747</td>\n",
       "      <td>-0.367896</td>\n",
       "      <td>-0.173466</td>\n",
       "      <td>0.907484</td>\n",
       "      <td>0.360774</td>\n",
       "      <td>-2.027441</td>\n",
       "      <td>8</td>\n",
       "      <td>5qkZJKTLBjzGyk2GnNSmCB</td>\n",
       "    </tr>\n",
       "    <tr>\n",
       "      <th>2099</th>\n",
       "      <td>0.972177</td>\n",
       "      <td>-0.584999</td>\n",
       "      <td>0.082348</td>\n",
       "      <td>1.041237</td>\n",
       "      <td>1.394316</td>\n",
       "      <td>-0.367896</td>\n",
       "      <td>-0.621416</td>\n",
       "      <td>-0.215826</td>\n",
       "      <td>-0.372875</td>\n",
       "      <td>-2.206024</td>\n",
       "      <td>8</td>\n",
       "      <td>0ZWzd4bD0dzdOzXnZIWQth</td>\n",
       "    </tr>\n",
       "    <tr>\n",
       "      <th>2106</th>\n",
       "      <td>0.496646</td>\n",
       "      <td>-0.556235</td>\n",
       "      <td>0.309648</td>\n",
       "      <td>1.818299</td>\n",
       "      <td>1.800124</td>\n",
       "      <td>-0.367896</td>\n",
       "      <td>-0.502956</td>\n",
       "      <td>0.319501</td>\n",
       "      <td>0.667108</td>\n",
       "      <td>-1.016670</td>\n",
       "      <td>8</td>\n",
       "      <td>3ekihSUQzDswLXm5w9UtPw</td>\n",
       "    </tr>\n",
       "    <tr>\n",
       "      <th>2108</th>\n",
       "      <td>-1.135772</td>\n",
       "      <td>-0.878387</td>\n",
       "      <td>-1.249376</td>\n",
       "      <td>1.567634</td>\n",
       "      <td>-0.089890</td>\n",
       "      <td>-0.354415</td>\n",
       "      <td>-0.495111</td>\n",
       "      <td>-1.339136</td>\n",
       "      <td>-0.873186</td>\n",
       "      <td>-1.107071</td>\n",
       "      <td>8</td>\n",
       "      <td>0V3up5IYUXpkOsbJxUFQ8x</td>\n",
       "    </tr>\n",
       "    <tr>\n",
       "      <th>2114</th>\n",
       "      <td>1.582559</td>\n",
       "      <td>-0.044242</td>\n",
       "      <td>-0.005606</td>\n",
       "      <td>1.626122</td>\n",
       "      <td>-0.958996</td>\n",
       "      <td>-0.367896</td>\n",
       "      <td>-0.903051</td>\n",
       "      <td>-0.097352</td>\n",
       "      <td>-0.187297</td>\n",
       "      <td>-1.721481</td>\n",
       "      <td>8</td>\n",
       "      <td>5alWqrt6ykgqzBEBqIKdRM</td>\n",
       "    </tr>\n",
       "  </tbody>\n",
       "</table>\n",
       "<p>129 rows × 12 columns</p>\n",
       "</div>"
      ],
      "text/plain": [
       "      danceability    energy  loudness  speechiness  acousticness  \\\n",
       "44        0.517939 -1.108496 -0.814436     1.091370      0.274586   \n",
       "52        0.170163 -1.114249 -0.660258     4.575616      0.022834   \n",
       "53        0.340502 -1.073980 -1.475987     2.453317      0.233253   \n",
       "58       -0.007274 -0.654031 -0.942055     1.968698      2.480229   \n",
       "69        1.248978  0.266405  0.156160     2.127453     -0.225160   \n",
       "...            ...       ...       ...          ...           ...   \n",
       "2096      0.879910 -0.090264 -0.042512     2.152519      1.108747   \n",
       "2099      0.972177 -0.584999  0.082348     1.041237      1.394316   \n",
       "2106      0.496646 -0.556235  0.309648     1.818299      1.800124   \n",
       "2108     -1.135772 -0.878387 -1.249376     1.567634     -0.089890   \n",
       "2114      1.582559 -0.044242 -0.005606     1.626122     -0.958996   \n",
       "\n",
       "      instrumentalness  liveness   valence     tempo  duration_ms  cluster  \\\n",
       "44           -0.364628 -0.440196  0.841665 -1.374761    -1.133638        8   \n",
       "52           -0.367896 -0.579053 -1.352300  0.871343    -2.700993        8   \n",
       "53           -0.367160 -0.614355 -0.694111 -1.482286    -0.004022        8   \n",
       "58           -0.252150 -0.393126 -0.351852  1.856690    -0.995614        8   \n",
       "69           -0.367872 -0.534336 -0.948611 -0.185662     0.832193        8   \n",
       "...                ...       ...       ...       ...          ...      ...   \n",
       "2096         -0.367896 -0.173466  0.907484  0.360774    -2.027441        8   \n",
       "2099         -0.367896 -0.621416 -0.215826 -0.372875    -2.206024        8   \n",
       "2106         -0.367896 -0.502956  0.319501  0.667108    -1.016670        8   \n",
       "2108         -0.354415 -0.495111 -1.339136 -0.873186    -1.107071        8   \n",
       "2114         -0.367896 -0.903051 -0.097352 -0.187297    -1.721481        8   \n",
       "\n",
       "                          id  \n",
       "44    6ScHuFHv4QemKuuy6T6oUz  \n",
       "52    0Zf6XBkEVhs8TRaMaOpo8v  \n",
       "53    152lZdxL1OR0ZMW6KquMif  \n",
       "58    4DaXff4O24VWggRbnX2D7h  \n",
       "69    38spM0LahLUfQhOMAqA7AI  \n",
       "...                      ...  \n",
       "2096  5qkZJKTLBjzGyk2GnNSmCB  \n",
       "2099  0ZWzd4bD0dzdOzXnZIWQth  \n",
       "2106  3ekihSUQzDswLXm5w9UtPw  \n",
       "2108  0V3up5IYUXpkOsbJxUFQ8x  \n",
       "2114  5alWqrt6ykgqzBEBqIKdRM  \n",
       "\n",
       "[129 rows x 12 columns]"
      ]
     },
     "metadata": {},
     "output_type": "display_data"
    }
   ],
   "source": [
    "songs_same_cluster = data_normalized[data_normalized['cluster'] == requested_song_cluster_label[0]]\n",
    "display(songs_same_cluster)"
   ]
  },
  {
   "attachments": {},
   "cell_type": "markdown",
   "metadata": {},
   "source": [
    "#### Pick a random song in the list"
   ]
  },
  {
   "cell_type": "code",
   "execution_count": 302,
   "metadata": {},
   "outputs": [
    {
     "data": {
      "text/html": [
       "<div>\n",
       "<style scoped>\n",
       "    .dataframe tbody tr th:only-of-type {\n",
       "        vertical-align: middle;\n",
       "    }\n",
       "\n",
       "    .dataframe tbody tr th {\n",
       "        vertical-align: top;\n",
       "    }\n",
       "\n",
       "    .dataframe thead th {\n",
       "        text-align: right;\n",
       "    }\n",
       "</style>\n",
       "<table border=\"1\" class=\"dataframe\">\n",
       "  <thead>\n",
       "    <tr style=\"text-align: right;\">\n",
       "      <th></th>\n",
       "      <th>danceability</th>\n",
       "      <th>energy</th>\n",
       "      <th>loudness</th>\n",
       "      <th>speechiness</th>\n",
       "      <th>acousticness</th>\n",
       "      <th>instrumentalness</th>\n",
       "      <th>liveness</th>\n",
       "      <th>valence</th>\n",
       "      <th>tempo</th>\n",
       "      <th>duration_ms</th>\n",
       "      <th>cluster</th>\n",
       "      <th>id</th>\n",
       "    </tr>\n",
       "  </thead>\n",
       "  <tbody>\n",
       "    <tr>\n",
       "      <th>659</th>\n",
       "      <td>0.461159</td>\n",
       "      <td>-0.751828</td>\n",
       "      <td>-0.151161</td>\n",
       "      <td>1.032881</td>\n",
       "      <td>0.99978</td>\n",
       "      <td>-0.367884</td>\n",
       "      <td>-0.502956</td>\n",
       "      <td>-0.286033</td>\n",
       "      <td>-1.042</td>\n",
       "      <td>-0.37332</td>\n",
       "      <td>8</td>\n",
       "      <td>0EcQcdcbQeVJn9fknj44Be</td>\n",
       "    </tr>\n",
       "  </tbody>\n",
       "</table>\n",
       "</div>"
      ],
      "text/plain": [
       "     danceability    energy  loudness  speechiness  acousticness  \\\n",
       "659      0.461159 -0.751828 -0.151161     1.032881       0.99978   \n",
       "\n",
       "     instrumentalness  liveness   valence  tempo  duration_ms  cluster  \\\n",
       "659         -0.367884 -0.502956 -0.286033 -1.042     -0.37332        8   \n",
       "\n",
       "                         id  \n",
       "659  0EcQcdcbQeVJn9fknj44Be  "
      ]
     },
     "metadata": {},
     "output_type": "display_data"
    }
   ],
   "source": [
    "random_song = songs_same_cluster.sample(n=1)\n",
    "display(random_song)"
   ]
  },
  {
   "cell_type": "code",
   "execution_count": 299,
   "metadata": {},
   "outputs": [
    {
     "name": "stdout",
     "output_type": "stream",
     "text": [
      "5Evht83kIur1NX0crj1b3N\n"
     ]
    }
   ],
   "source": [
    "random_song_id = random_song['id'].values[0]\n",
    "print(random_song_id)"
   ]
  },
  {
   "cell_type": "code",
   "execution_count": 300,
   "metadata": {},
   "outputs": [
    {
     "data": {
      "text/html": [
       "\n",
       "        <iframe\n",
       "            width=\"320\"\n",
       "            height=\"80\"\n",
       "            src=\"https://open.spotify.com/embed/track/5Evht83kIur1NX0crj1b3N?autoplay=1?frameborder=0&allowtransparency=true&allow=encrypted-media\"\n",
       "            frameborder=\"0\"\n",
       "            allowfullscreen\n",
       "            \n",
       "        ></iframe>\n",
       "        "
      ],
      "text/plain": [
       "<IPython.lib.display.IFrame at 0x14a9dcc9e80>"
      ]
     },
     "execution_count": 300,
     "metadata": {},
     "output_type": "execute_result"
    }
   ],
   "source": [
    "play_song(random_song_id)"
   ]
  },
  {
   "cell_type": "code",
   "execution_count": 301,
   "metadata": {},
   "outputs": [],
   "source": [
    "#  For project clustering steps:\n",
    "# 1- Load the Pandas data frame songs of the audio features (at least 1000 songs as different as possible).🎹 \n",
    "# 2- Standardize the data using Standardscaler\n",
    "# 3- Save the scaler for future use on the new user input song, using Pickle. (tomorrow)\n",
    "# 4- Select the number of clusters k.\n",
    "# 5- Adjust k means cluster.\n",
    "# 6- Build the elbow graph to find the best k. (tomorrow)\n",
    "# 7- Use the model with the best k to assign each observation in your data frame to its cluster number using model.predict (add cluster columns to the pandas data frame).\n",
    "# 8- Save the model with the best k as your final model using pickle. (tomorrow)\n",
    "\n",
    "# 📍 For the final product tasks and the full scenario:\n",
    "# 1- Get the song name from the user as input ---------- DONE\n",
    "# 2- Play the input song in the music embed player. ---------- DONE\n",
    "# 3- Get the audio features for this song from the Spotify API using sp.audio_features(trackid). Be careful to keep only the audio features columns.---------- DONE\n",
    "# 4- Load the StandardScaler using Pickle and use it to scale the REQUESTED_SONG.\n",
    "# 5- Use kmeans_model.predict(new scaled audio dataset for the REQUESTED_SONG) to predict the cluster (label) for the REQUESTED_SONG.\n",
    "# 6- Return a random song from the same cluster that the REQUESTED_SONG belongs to from your data frame and suggest it to the user.\n",
    "# 7- Play it using the built-in music player.\n",
    "# 8*- Try to Streamlit? ☀️ (optional) "
   ]
  }
 ],
 "metadata": {
  "kernelspec": {
   "display_name": "base",
   "language": "python",
   "name": "python3"
  },
  "language_info": {
   "codemirror_mode": {
    "name": "ipython",
    "version": 3
   },
   "file_extension": ".py",
   "mimetype": "text/x-python",
   "name": "python",
   "nbconvert_exporter": "python",
   "pygments_lexer": "ipython3",
   "version": "3.9.16"
  },
  "orig_nbformat": 4
 },
 "nbformat": 4,
 "nbformat_minor": 2
}
