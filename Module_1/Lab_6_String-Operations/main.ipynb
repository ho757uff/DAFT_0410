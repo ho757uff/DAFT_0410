{
 "cells": [
  {
   "cell_type": "markdown",
   "metadata": {},
   "source": [
    "# Before your start:\n",
    "- Read the README.md file\n",
    "- Comment as much as you can and use the resources in the README.md file\n",
    "- Happy learning!"
   ]
  },
  {
   "cell_type": "markdown",
   "metadata": {},
   "source": [
    "# Challenge 1 - Combining Strings\n",
    "\n",
    "Combining strings is an important skill to acquire. There are multiple ways of combining strings in Python, as well as combining strings with variables. We will explore this in the first challenge. In the cell below, combine the strings in the list and add spaces between the strings (do not add a space after the last string). Insert a period after the last string."
   ]
  },
  {
   "cell_type": "code",
   "execution_count": 62,
   "metadata": {},
   "outputs": [
    {
     "name": "stdout",
     "output_type": "stream",
     "text": [
      "Durante un tiempo no estuvo segura de si su marido era su marido.\n"
     ]
    }
   ],
   "source": [
    "str_list = ['Durante', 'un', 'tiempo', 'no', 'estuvo', 'segura', 'de', 'si', 'su', 'marido', 'era', 'su', 'marido']\n",
    "# Your code here:\n",
    "\n",
    "extended_list = []\n",
    "\n",
    "extended_list = \" \".join(str_list) + \".\"\n",
    "print(extended_list)\n"
   ]
  },
  {
   "cell_type": "markdown",
   "metadata": {},
   "source": [
    "In the cell below, use the list of strings to create a grocery list. Start the list with the string `Grocery list: ` and include a comma and a space between each item except for the last one. Include a period at the end. Only include foods in the list that start with the letter 'b' and ensure all foods are lower case."
   ]
  },
  {
   "cell_type": "code",
   "execution_count": 63,
   "metadata": {},
   "outputs": [
    {
     "name": "stdout",
     "output_type": "stream",
     "text": [
      "['Bananas', 'bread', 'Brownie Mix', 'broccoli']\n",
      "Grocery list: bananas, bread, brownie mix, broccoli.\n"
     ]
    }
   ],
   "source": [
    "food_list = ['Bananas', 'Chocolate', 'bread', 'diapers', 'Ice Cream', 'Brownie Mix', 'broccoli']\n",
    "\n",
    "my_list = []\n",
    "temp_list = []\n",
    "\n",
    "for food in food_list:  \n",
    "    if (food.startswith('b')) == True or (food.startswith('B')) == True:\n",
    "        temp_list.append(food)\n",
    "print(temp_list)\n",
    "        \n",
    "my_list = ', '.join(temp_list)\n",
    "my_list = my_list.lower()\n",
    "print(\"Grocery list: \" + my_list + '.')"
   ]
  },
  {
   "cell_type": "markdown",
   "metadata": {},
   "source": [
    "In the cell below, write a function that computes the area of a circle using its radius. Compute the area of the circle and insert the radius and the area between the two strings. Make sure to include spaces between the variable and the strings. \n",
    "\n",
    "Note: You can use the techniques we have learned so far or use f-strings. F-strings allow us to embed code inside strings. You can read more about f-strings [here](https://www.python.org/dev/peps/pep-0498/)."
   ]
  },
  {
   "cell_type": "code",
   "execution_count": 64,
   "metadata": {},
   "outputs": [
    {
     "name": "stdout",
     "output_type": "stream",
     "text": [
      "The area of the circle with radius: 4.5 is: 63.61725123519331\n"
     ]
    }
   ],
   "source": [
    "import math\n",
    "\n",
    "string1 = \"The area of the circle with radius:\"\n",
    "string2  = \"is:\"\n",
    "radius = 4.5\n",
    "\n",
    "def area(x, pi = math.pi):\n",
    "    \"\"\"\n",
    "    This function takes a radius and returns the area of a circle. \n",
    "    We also pass a default value for pi.\n",
    "    \n",
    "    Input: Float (and default value for pi)\n",
    "    Output: Float\n",
    "    \n",
    "    Sample input: 5.0\n",
    "    Sample Output: 78.53981633\n",
    "    \"\"\"\n",
    "    # Your code here\n",
    "    circle_area = x**2*pi\n",
    "    return circle_area\n",
    "\n",
    "wanted = area(radius,)\n",
    "# print(wanted)\n",
    "\n",
    "# Your output string here:\n",
    "print(f\"{string1} {radius} {string2} {wanted}\")\n"
   ]
  },
  {
   "cell_type": "raw",
   "metadata": {},
   "source": [
    "# Challenge 2 - Splitting Strings\n",
    "\n",
    "We have first looked at combining strings into one long string. There are times where we need to do the opposite and split the string into smaller components for further analysis. \n",
    "\n",
    "In the cell below, split the string into a list of strings using the space delimiter. Count the frequency of each word in the string in a dictionary. Strip the periods, line breaks and commas from the text. Make sure to remove empty strings from your dictionary."
   ]
  },
  {
   "cell_type": "code",
   "execution_count": 65,
   "metadata": {},
   "outputs": [
    {
     "name": "stdout",
     "output_type": "stream",
     "text": [
      "['Some', 'say', 'the', 'world', 'will', 'end', 'in', 'fire,', 'Some', 'say', 'in', 'ice.', 'From', 'what', 'I’ve', 'tasted', 'of', 'desire', 'I', 'hold', 'with', 'those', 'who', 'favor', 'fire.', 'But', 'if', 'it', 'had', 'to', 'perish', 'twice,', 'I', 'think', 'I', 'know', 'enough', 'of', 'hate', 'To', 'say', 'that', 'for', 'destruction', 'ice', 'Is', 'also', 'great', 'And', 'would', 'suffice.']\n"
     ]
    }
   ],
   "source": [
    "poem = \"\"\"Some say the world will end in fire,\n",
    "Some say in ice.\n",
    "From what I’ve tasted of desire\n",
    "I hold with those who favor fire.\n",
    "But if it had to perish twice,\n",
    "I think I know enough of hate\n",
    "To say that for destruction ice\n",
    "Is also great\n",
    "And would suffice.\"\"\"\n",
    "\n",
    "# Your code here:\n",
    "\n",
    "temp_list = []\n",
    "temp_list = poem.split()\n",
    "\n",
    "print(temp_list)"
   ]
  },
  {
   "cell_type": "code",
   "execution_count": 66,
   "metadata": {},
   "outputs": [
    {
     "name": "stdout",
     "output_type": "stream",
     "text": [
      "['Some', 'say', 'the', 'world', 'will', 'end', 'in', 'fire', 'Some', 'say', 'in', 'ice', 'From', 'what', 'I’ve', 'tasted', 'of', 'desire', 'I', 'hold', 'with', 'those', 'who', 'favor', 'fire', 'But', 'if', 'it', 'had', 'to', 'perish', 'twice', 'I', 'think', 'I', 'know', 'enough', 'of', 'hate', 'To', 'say', 'that', 'for', 'destruction', 'ice', 'Is', 'also', 'great', 'And', 'would', 'suffice']\n"
     ]
    }
   ],
   "source": [
    "clean_list = []\n",
    "\n",
    "for word in temp_list:\n",
    "    clean_word = word.strip(\".,\")\n",
    "    clean_list.append(clean_word)\n",
    "\n",
    "print(clean_list)\n"
   ]
  },
  {
   "cell_type": "code",
   "execution_count": 67,
   "metadata": {},
   "outputs": [
    {
     "name": "stdout",
     "output_type": "stream",
     "text": [
      "{'Some': 2, 'say': 3, 'the': 1, 'world': 1, 'will': 1, 'end': 1, 'in': 2, 'fire': 2, 'ice': 2, 'From': 1, 'what': 1, 'I’ve': 1, 'tasted': 1, 'of': 2, 'desire': 1, 'I': 3, 'hold': 1, 'with': 1, 'those': 1, 'who': 1, 'favor': 1, 'But': 1, 'if': 1, 'it': 1, 'had': 1, 'to': 1, 'perish': 1, 'twice': 1, 'think': 1, 'know': 1, 'enough': 1, 'hate': 1, 'To': 1, 'that': 1, 'for': 1, 'destruction': 1, 'Is': 1, 'also': 1, 'great': 1, 'And': 1, 'would': 1, 'suffice': 1}\n"
     ]
    }
   ],
   "source": [
    "dict1 = {}\n",
    "\n",
    "for word in clean_list:\n",
    "    if word in dict1:\n",
    "        dict1[word] += 1\n",
    "    else:\n",
    "        dict1[word] = 1\n",
    "\n",
    "print(dict1)\n"
   ]
  },
  {
   "cell_type": "markdown",
   "metadata": {},
   "source": [
    "In the cell below, find all the words that appear in the text and do not appear in the blacklist. You must parse the string but can choose any data structure you wish for the words that do not appear in the blacklist. Remove all non letter characters and convert all words to lower case."
   ]
  },
  {
   "cell_type": "code",
   "execution_count": 73,
   "metadata": {},
   "outputs": [
    {
     "name": "stdout",
     "output_type": "stream",
     "text": [
      "i was angry with my friend; \n",
      "i told my wrath, my wrath did end.\n",
      "i was angry with my foe: \n",
      "i told it not, my wrath did grow. \n",
      "\n",
      "and i waterd it in fears,\n",
      "night & morning with my tears: \n",
      "and i sunned it with smiles,\n",
      "and with soft deceitful wiles. \n",
      "\n",
      "and it grew both day and night. \n",
      "till it bore an apple bright. \n",
      "and my foe beheld it shine,\n",
      "and he knew that it was mine. \n",
      "\n",
      "and into my garden stole, \n",
      "when the night had veild the pole; \n",
      "in the morning glad i see; \n",
      "my foe outstretched beneath the tree.\n",
      "['i', 'was', 'angry', 'with', 'my', 'friend;', 'i', 'told', 'my', 'wrath,', 'my', 'wrath', 'did', 'end.', 'i', 'was', 'angry', 'with', 'my', 'foe:', 'i', 'told', 'it', 'not,', 'my', 'wrath', 'did', 'grow.', 'and', 'i', 'waterd', 'it', 'in', 'fears,', 'night', '&', 'morning', 'with', 'my', 'tears:', 'and', 'i', 'sunned', 'it', 'with', 'smiles,', 'and', 'with', 'soft', 'deceitful', 'wiles.', 'and', 'it', 'grew', 'both', 'day', 'and', 'night.', 'till', 'it', 'bore', 'an', 'apple', 'bright.', 'and', 'my', 'foe', 'beheld', 'it', 'shine,', 'and', 'he', 'knew', 'that', 'it', 'was', 'mine.', 'and', 'into', 'my', 'garden', 'stole,', 'when', 'the', 'night', 'had', 'veild', 'the', 'pole;', 'in', 'the', 'morning', 'glad', 'i', 'see;', 'my', 'foe', 'outstretched', 'beneath', 'the', 'tree.']\n",
      "['i', 'was', 'angry', 'with', 'my', 'friend', 'i', 'told', 'my', 'wrath', 'my', 'wrath', 'did', 'end', 'i', 'was', 'angry', 'with', 'my', 'foe', 'i', 'told', 'it', 'not', 'my', 'wrath', 'did', 'grow', 'and', 'i', 'waterd', 'it', 'in', 'fears', 'night', '', 'morning', 'with', 'my', 'tears', 'and', 'i', 'sunned', 'it', 'with', 'smiles', 'and', 'with', 'soft', 'deceitful', 'wiles', 'and', 'it', 'grew', 'both', 'day', 'and', 'night', 'till', 'it', 'bore', 'an', 'apple', 'bright', 'and', 'my', 'foe', 'beheld', 'it', 'shine', 'and', 'he', 'knew', 'that', 'it', 'was', 'mine', 'and', 'into', 'my', 'garden', 'stole', 'when', 'the', 'night', 'had', 'veild', 'the', 'pole', 'in', 'the', 'morning', 'glad', 'i', 'see', 'my', 'foe', 'outstretched', 'beneath', 'the', 'tree']\n",
      "\n",
      " {'', 'tears', 'pole', 'with', 'not', 'grow', 'and', 'deceitful', 'bright', 'told', 'till', 'wrath', 'wiles', 'i', 'did', 'when', 'glad', 'apple', 'beneath', 'friend', 'both', 'day', 'my', 'that', 'stole', 'had', 'shine', 'was', 'into', 'end', 'fears', 'garden', 'see', 'the', 'beheld', 'an', 'angry', 'night', 'knew', 'sunned', 'outstretched', 'morning', 'he', 'it', 'waterd', 'foe', 'tree', 'soft', 'mine', 'in', 'bore', 'grew', 'smiles', 'veild'}\n",
      "{'an', 'it', 'as', 'and', 'in', 'the', 'a'}\n",
      "\n",
      " {'', 'tears', 'pole', 'with', 'not', 'grow', 'deceitful', 'bright', 'told', 'till', 'wrath', 'wiles', 'i', 'did', 'when', 'glad', 'apple', 'beneath', 'friend', 'both', 'day', 'my', 'that', 'stole', 'had', 'shine', 'was', 'into', 'end', 'fears', 'garden', 'see', 'beheld', 'angry', 'night', 'knew', 'sunned', 'outstretched', 'morning', 'he', 'waterd', 'foe', 'tree', 'soft', 'mine', 'bore', 'grew', 'smiles', 'veild'}\n"
     ]
    }
   ],
   "source": [
    "blacklist = [\"and\", \"as\", \"an\", \"a\", \"the\", \"in\", \"it\"]\n",
    "\n",
    "poem = \"\"\"I was angry with my friend; \n",
    "I told my wrath, my wrath did end.\n",
    "I was angry with my foe: \n",
    "I told it not, my wrath did grow. \n",
    "\n",
    "And I waterd it in fears,\n",
    "Night & morning with my tears: \n",
    "And I sunned it with smiles,\n",
    "And with soft deceitful wiles. \n",
    "\n",
    "And it grew both day and night. \n",
    "Till it bore an apple bright. \n",
    "And my foe beheld it shine,\n",
    "And he knew that it was mine. \n",
    "\n",
    "And into my garden stole, \n",
    "When the night had veild the pole; \n",
    "In the morning glad I see; \n",
    "My foe outstretched beneath the tree.\"\"\"\n",
    "\n",
    "# Your code here:\n",
    "import re\n",
    "\n",
    "black_list = [\"and\", \"as\", \"an\", \"a\", \"the\", \"in\", \"it\"]\n",
    "poem_list = []\n",
    "\n",
    "#Make it lower:\n",
    "poem_lower = poem.lower()\n",
    "print(poem_lower)\n",
    "#Splitting it:\n",
    "poem_split = poem_lower.split()\n",
    "print(poem_split)\n",
    "#Clean it from any punctuation:\n",
    "poem_clean = [re.sub(\"[^a-zA-Z]\", '', word) for word in poem_split]\n",
    "print(poem_clean)\n",
    "\n",
    "# Create 2 sets:\n",
    "poem_set = set(poem_clean)\n",
    "black_list_set = set(black_list)\n",
    "\n",
    "# Print the 2 sets:\n",
    "print(\"\\n\", poem_set)\n",
    "print(black_list_set)\n",
    "\n",
    "# Print the final set after taking away the blacklisted words:\n",
    "final_set = poem_set - black_list_set\n",
    "print(\"\\n\", final_set)"
   ]
  },
  {
   "cell_type": "code",
   "execution_count": null,
   "metadata": {},
   "outputs": [],
   "source": []
  }
 ],
 "metadata": {
  "kernelspec": {
   "display_name": "Python 3 (ipykernel)",
   "language": "python",
   "name": "python3"
  },
  "language_info": {
   "codemirror_mode": {
    "name": "ipython",
    "version": 3
   },
   "file_extension": ".py",
   "mimetype": "text/x-python",
   "name": "python",
   "nbconvert_exporter": "python",
   "pygments_lexer": "ipython3",
   "version": "3.9.13"
  },
  "varInspector": {
   "cols": {
    "lenName": 16,
    "lenType": 16,
    "lenVar": 40
   },
   "kernels_config": {
    "python": {
     "delete_cmd_postfix": "",
     "delete_cmd_prefix": "del ",
     "library": "var_list.py",
     "varRefreshCmd": "print(var_dic_list())"
    },
    "r": {
     "delete_cmd_postfix": ") ",
     "delete_cmd_prefix": "rm(",
     "library": "var_list.r",
     "varRefreshCmd": "cat(var_dic_list()) "
    }
   },
   "types_to_exclude": [
    "module",
    "function",
    "builtin_function_or_method",
    "instance",
    "_Feature"
   ],
   "window_display": false
  }
 },
 "nbformat": 4,
 "nbformat_minor": 2
}
