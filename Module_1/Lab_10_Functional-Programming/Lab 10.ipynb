{
 "cells": [
  {
   "attachments": {},
   "cell_type": "markdown",
   "metadata": {},
   "source": [
    "## COUNTING SHEEPS"
   ]
  },
  {
   "cell_type": "code",
   "execution_count": null,
   "metadata": {},
   "outputs": [],
   "source": [
    "sheep_list = [True, True, True, False,\n",
    "              True, True, True, True,\n",
    "              True, False, True, False,\n",
    "              True, False, False, True,\n",
    "              True, True, True, True,\n",
    "              False, False, True, True]\n",
    "\n",
    "\n",
    "def count_sheeps(sheep):\n",
    "    \n",
    "    present = 0\n",
    "    sheep_count = 0\n",
    "    \n",
    "    for present in sheep:\n",
    "        if present == True:\n",
    "            sheep_count += 1\n",
    "        else:\n",
    "            continue\n",
    "    return sheep_count\n",
    "\n",
    "\n",
    "#ANDY'S SOLUTION\n",
    "sum(sheep_list)\n",
    "\n",
    "\n",
    "# CALLING FUNCTION MAKING SURE IT WORKS\n",
    "count_sheeps(sheep_list)\n"
   ]
  },
  {
   "attachments": {},
   "cell_type": "markdown",
   "metadata": {},
   "source": [
    "## REMOVE EVERY OTHER"
   ]
  },
  {
   "cell_type": "code",
   "execution_count": null,
   "metadata": {},
   "outputs": [],
   "source": [
    "# MY FIRST SOLUTION:\n",
    "def remove_every_other(my_list):\n",
    "       \n",
    "    new_list = []   \n",
    "    \n",
    "    for element in my_list:\n",
    "        for i in range(len(my_list)):\n",
    "            if i % 2 == 0:\n",
    "                new_list.append(my_list[i])\n",
    "            else:\n",
    "                continue\n",
    "        \n",
    "    return(new_list)\n",
    "\n",
    "\n",
    "# A MUCH BETTER ONE I FORGOT ABOUT:\n",
    "def remove_every_other(my_list):\n",
    "\n",
    "    new_list = []\n",
    "    new_list = my_list[::2]\n",
    "    \n",
    "    return(new_list)\n"
   ]
  },
  {
   "attachments": {},
   "cell_type": "markdown",
   "metadata": {},
   "source": [
    "## Convert number to reversed array of digits"
   ]
  },
  {
   "cell_type": "code",
   "execution_count": 3,
   "metadata": {},
   "outputs": [
    {
     "data": {
      "text/plain": [
       "[8, 8, 4, 5]"
      ]
     },
     "execution_count": 3,
     "metadata": {},
     "output_type": "execute_result"
    }
   ],
   "source": [
    "def number_to_reversed_list(num):\n",
    "    \n",
    "    num_str = str(num)\n",
    "    reversed_str = num_str[::-1]\n",
    "    reversed_list = [int(char) for char in reversed_str]  # Convert each character back to an integer and store in an array\n",
    "    return reversed_list\n",
    "\n",
    "\n",
    "number_to_reversed_list(5488)"
   ]
  },
  {
   "attachments": {},
   "cell_type": "markdown",
   "metadata": {},
   "source": [
    "## Digit*Digit"
   ]
  },
  {
   "cell_type": "code",
   "execution_count": 24,
   "metadata": {},
   "outputs": [],
   "source": [
    "def square_digits(num):\n",
    "    # Your code here\n",
    "    \n",
    "    string = \"\"\n",
    "    final_list = []\n",
    "    \n",
    "    string_num = str(num)\n",
    "    for char in string_num:\n",
    "        int_char = int(char)\n",
    "        sq_int_char = int_char*int_char\n",
    "        string += str(sq_int_char)\n",
    "        \n",
    "    return int(string)"
   ]
  },
  {
   "cell_type": "code",
   "execution_count": 25,
   "metadata": {},
   "outputs": [
    {
     "data": {
      "text/plain": [
       "'6464'"
      ]
     },
     "execution_count": 25,
     "metadata": {},
     "output_type": "execute_result"
    }
   ],
   "source": [
    "square_digits(88)\n"
   ]
  },
  {
   "cell_type": "code",
   "execution_count": 26,
   "metadata": {},
   "outputs": [
    {
     "data": {
      "text/plain": [
       "'4444'"
      ]
     },
     "execution_count": 26,
     "metadata": {},
     "output_type": "execute_result"
    }
   ],
   "source": [
    "square_digits(2222)"
   ]
  },
  {
   "cell_type": "code",
   "execution_count": null,
   "metadata": {},
   "outputs": [],
   "source": [
    "\n"
   ]
  }
 ],
 "metadata": {
  "kernelspec": {
   "display_name": "base",
   "language": "python",
   "name": "python3"
  },
  "language_info": {
   "codemirror_mode": {
    "name": "ipython",
    "version": 3
   },
   "file_extension": ".py",
   "mimetype": "text/x-python",
   "name": "python",
   "nbconvert_exporter": "python",
   "pygments_lexer": "ipython3",
   "version": "3.9.16"
  },
  "orig_nbformat": 4
 },
 "nbformat": 4,
 "nbformat_minor": 2
}
