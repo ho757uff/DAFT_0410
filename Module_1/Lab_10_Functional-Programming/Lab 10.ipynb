{
 "cells": [
  {
   "attachments": {},
   "cell_type": "markdown",
   "metadata": {},
   "source": [
    "## COUNTING SHEEPS"
   ]
  },
  {
   "cell_type": "code",
   "execution_count": null,
   "metadata": {},
   "outputs": [],
   "source": [
    "sheep_list = [True, True, True, False,\n",
    "              True, True, True, True,\n",
    "              True, False, True, False,\n",
    "              True, False, False, True,\n",
    "              True, True, True, True,\n",
    "              False, False, True, True]\n",
    "\n",
    "\n",
    "def count_sheeps(sheep):\n",
    "    \n",
    "    present = 0\n",
    "    sheep_count = 0\n",
    "    \n",
    "    for present in sheep:\n",
    "        if present == True:\n",
    "            sheep_count += 1\n",
    "        else:\n",
    "            continue\n",
    "    return sheep_count\n",
    "\n",
    "\n",
    "#ANDY'S SOLUTION\n",
    "sum(sheep_list)\n",
    "\n",
    "\n",
    "# CALLING FUNCTION MAKING SURE IT WORKS\n",
    "count_sheeps(sheep_list)\n"
   ]
  },
  {
   "attachments": {},
   "cell_type": "markdown",
   "metadata": {},
   "source": [
    "## REMOVE EVERY OTHER"
   ]
  },
  {
   "cell_type": "code",
   "execution_count": null,
   "metadata": {},
   "outputs": [],
   "source": [
    "# MY FIRST SOLUTION:\n",
    "def remove_every_other(my_list):\n",
    "       \n",
    "    new_list = []   \n",
    "    \n",
    "    for element in my_list:\n",
    "        for i in range(len(my_list)):\n",
    "            if i % 2 == 0:\n",
    "                new_list.append(my_list[i])\n",
    "            else:\n",
    "                continue\n",
    "        \n",
    "    return(new_list)\n",
    "\n",
    "\n",
    "# A MUCH BETTER ONE I FORGOT ABOUT:\n",
    "def remove_every_other(my_list):\n",
    "\n",
    "    new_list = []\n",
    "    new_list = my_list[::2]\n",
    "    \n",
    "    return(new_list)\n"
   ]
  },
  {
   "cell_type": "code",
   "execution_count": null,
   "metadata": {},
   "outputs": [],
   "source": []
  }
 ],
 "metadata": {
  "kernelspec": {
   "display_name": "base",
   "language": "python",
   "name": "python3"
  },
  "language_info": {
   "codemirror_mode": {
    "name": "ipython",
    "version": 3
   },
   "file_extension": ".py",
   "mimetype": "text/x-python",
   "name": "python",
   "nbconvert_exporter": "python",
   "pygments_lexer": "ipython3",
   "version": "3.9.16"
  },
  "orig_nbformat": 4
 },
 "nbformat": 4,
 "nbformat_minor": 2
}
