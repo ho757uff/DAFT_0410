{
 "cells": [
  {
   "attachments": {},
   "cell_type": "markdown",
   "metadata": {},
   "source": [
    "## Remove All The Marked Elements of a List"
   ]
  },
  {
   "cell_type": "code",
   "execution_count": 13,
   "metadata": {},
   "outputs": [],
   "source": [
    "def remove(integer_list, values_list):\n",
    "    final_list=[]\n",
    "    for i in integer_list:\n",
    "        if i not in values_list:\n",
    "            final_list.append(i)\n",
    "    return final_list"
   ]
  },
  {
   "cell_type": "code",
   "execution_count": 18,
   "metadata": {},
   "outputs": [
    {
     "data": {
      "text/plain": [
       "[8, 9]"
      ]
     },
     "execution_count": 18,
     "metadata": {},
     "output_type": "execute_result"
    }
   ],
   "source": [
    "remove([1,1,2,12,8,9,1,1,1,1,1],[1,4,4,5,2,12,12,12,12,1,21,])"
   ]
  },
  {
   "attachments": {},
   "cell_type": "markdown",
   "metadata": {},
   "source": [
    "## Method For Counting Total Occurence Of Specific Digits"
   ]
  },
  {
   "cell_type": "code",
   "execution_count": 47,
   "metadata": {},
   "outputs": [],
   "source": [
    "class List():\n",
    "    def count_spec_digits(self, integers_list, digits_list):\n",
    "        \n",
    "        result = []\n",
    "        \n",
    "        for digit in digits_list:\n",
    "            total = integers_list.count(digit)\n",
    "            result.append(digit)\n",
    "            result.append(total)\n",
    "            for digit in range(0, len(result)-1):\n",
    "                tup = ()\n",
    "                tup = (result[digit], result[digit+1])\n",
    "            print(tup)"
   ]
  },
  {
   "cell_type": "code",
   "execution_count": 48,
   "metadata": {},
   "outputs": [
    {
     "name": "stdout",
     "output_type": "stream",
     "text": [
      "(1, 3)\n",
      "(3, 2)\n"
     ]
    }
   ],
   "source": [
    "integers_list =  [1, 1, 2 ,3 ,1 ,2 ,3 ,4]\n",
    "digits_list = [1, 3]\n",
    "\n",
    "l = List()\n",
    "l.count_spec_digits(integers_list, digits_list)"
   ]
  },
  {
   "attachments": {},
   "cell_type": "markdown",
   "metadata": {},
   "source": [
    "## Ordered Count of Characters"
   ]
  },
  {
   "cell_type": "code",
   "execution_count": 30,
   "metadata": {},
   "outputs": [],
   "source": [
    "from collections import OrderedDict\n",
    "\n",
    "def ordered_count(string):\n",
    "\n",
    "    counting = {}\n",
    "\n",
    "    for char in string:\n",
    "        if char in counting:\n",
    "            counting[char] += 1\n",
    "        else:\n",
    "            counting[char] = 1\n",
    "            \n",
    "    print(counting)\n",
    "    return list(counting.items())\n"
   ]
  },
  {
   "cell_type": "code",
   "execution_count": 31,
   "metadata": {},
   "outputs": [
    {
     "name": "stdout",
     "output_type": "stream",
     "text": [
      "{'h': 3, 'e': 3, 'l': 6, 'o': 3, ' ': 2}\n"
     ]
    },
    {
     "data": {
      "text/plain": [
       "[('h', 3), ('e', 3), ('l', 6), ('o', 3), (' ', 2)]"
      ]
     },
     "execution_count": 31,
     "metadata": {},
     "output_type": "execute_result"
    }
   ],
   "source": [
    "ordered_count(\"hello hello hello\")"
   ]
  },
  {
   "cell_type": "code",
   "execution_count": null,
   "metadata": {},
   "outputs": [],
   "source": []
  }
 ],
 "metadata": {
  "kernelspec": {
   "display_name": "base",
   "language": "python",
   "name": "python3"
  },
  "language_info": {
   "codemirror_mode": {
    "name": "ipython",
    "version": 3
   },
   "file_extension": ".py",
   "mimetype": "text/x-python",
   "name": "python",
   "nbconvert_exporter": "python",
   "pygments_lexer": "ipython3",
   "version": "3.9.16"
  },
  "orig_nbformat": 4
 },
 "nbformat": 4,
 "nbformat_minor": 2
}
