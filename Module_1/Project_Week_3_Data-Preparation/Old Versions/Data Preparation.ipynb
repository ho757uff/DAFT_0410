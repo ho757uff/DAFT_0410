{
 "cells": [
  {
   "cell_type": "code",
   "execution_count": 19,
   "metadata": {},
   "outputs": [],
   "source": [
    "# IMPORT DES LIBRAIRIES\n",
    "import pandas as pd\n",
    "import numpy as np\n",
    "import matplotlib.pyplot as plt\n",
    "import seaborn as sns\n",
    "import datetime as dt\n",
    "import scipy.stats as st\n",
    "import re"
   ]
  },
  {
   "attachments": {},
   "cell_type": "markdown",
   "metadata": {},
   "source": [
    "### READ FILE"
   ]
  },
  {
   "cell_type": "code",
   "execution_count": 20,
   "metadata": {},
   "outputs": [],
   "source": [
    "df = pd.read_excel(\"./4 - Salaries_Data.xlsx\")"
   ]
  },
  {
   "attachments": {},
   "cell_type": "markdown",
   "metadata": {},
   "source": [
    "### CLONING DATA"
   ]
  },
  {
   "cell_type": "code",
   "execution_count": null,
   "metadata": {},
   "outputs": [],
   "source": [
    "data = df"
   ]
  },
  {
   "attachments": {},
   "cell_type": "markdown",
   "metadata": {},
   "source": [
    "### DATA TYPES"
   ]
  },
  {
   "cell_type": "code",
   "execution_count": null,
   "metadata": {},
   "outputs": [],
   "source": [
    "# WHAT ARE THE DIFFERENT TYPES OF DATA IN OUR DATAFRAME :\n",
    "display(data.dtypes.to_frame())"
   ]
  },
  {
   "attachments": {},
   "cell_type": "markdown",
   "metadata": {},
   "source": [
    "### NEW COLUMNS TO WORK WITH\n"
   ]
  },
  {
   "cell_type": "code",
   "execution_count": null,
   "metadata": {},
   "outputs": [],
   "source": [
    "# CREATING NEW COMPANY & TITLE COLUMN : to add new company column and delete the existing one\n",
    "\n",
    "data['company_name'] = data['company'].str.upper()\n",
    "data['title_new'] = data[\"title\"].str.replace(r'Soft Engineer', 'Software Engineer', regex=True)\n",
    "\n",
    "data.head(2)"
   ]
  },
  {
   "attachments": {},
   "cell_type": "markdown",
   "metadata": {},
   "source": [
    "### DROPPING"
   ]
  },
  {
   "cell_type": "code",
   "execution_count": null,
   "metadata": {},
   "outputs": [],
   "source": [
    "# DROPPING IRRELEVANT COLUMNS OR COLUMNS WE ARE NOT USING :\n",
    "\n",
    "dropped_data = data.drop([\"title\", \"timestamp\", \"company\", \"Race_Asian\", \"Race_White\", \"Race_Two_Or_More\",\"Race_Black\",\"Race_Hispanic\",\n",
    "                          \"Masters_Degree\", \"Bachelors_Degree\", \"Doctorate_Degree\", \"Highschool\", \"Some_College\", \"level\"], axis=1)\n",
    "\n",
    "dropped_data.head(2)"
   ]
  },
  {
   "attachments": {},
   "cell_type": "markdown",
   "metadata": {},
   "source": [
    "### RENAMING COLUMNS"
   ]
  },
  {
   "cell_type": "code",
   "execution_count": null,
   "metadata": {},
   "outputs": [],
   "source": [
    "# RENAMING COLUMN NAMES FOR MORE CLARITY :\n",
    "\n",
    "dropped_data.rename(columns = {'totalyearlycompensation': 'total_yearly_compensation', 'yearsofexperience': 'years_of_experience', 'yearsatcompany': 'years_at_company',\n",
    "                       'basesalary': 'base_salary', 'stockgrantvalue': 'stock_grant_value', 'cityid': 'city_id','rowNumber': 'row_number', 'dmaid' : 'dma_id', 'Race' : 'race', 'Education' : 'education', 'title_new' : 'title'}, inplace=True)\n"
   ]
  },
  {
   "attachments": {},
   "cell_type": "markdown",
   "metadata": {},
   "source": [
    "### REORDERING COLUMNS"
   ]
  },
  {
   "cell_type": "code",
   "execution_count": null,
   "metadata": {},
   "outputs": [],
   "source": [
    "# REORDERING OUR DATA FRAME COLUMNS TO MAKE IT MORE READABLE/EXPLOITABLE :\n",
    "\n",
    "new_columns_order = [\"row_number\", \"company_name\", \"location\", \"city_id\", \"dma_id\", \"years_of_experience\", \"years_at_company\", \"title\", \"tag\", \"total_yearly_compensation\", \"base_salary\", \"stock_grant_value\", \"bonus\",\n",
    "                     \"gender\", \"race\", \"education\", \"otherdetails\"]\n",
    "reordered_data = dropped_data[new_columns_order]\n",
    "\n",
    "reordered_data.head(2)\n"
   ]
  },
  {
   "attachments": {},
   "cell_type": "markdown",
   "metadata": {},
   "source": [
    "### LOCATING MISSING DATA"
   ]
  },
  {
   "cell_type": "code",
   "execution_count": null,
   "metadata": {},
   "outputs": [],
   "source": [
    "# # OÙ SONT LOCALISEES LES DONNEES MANQUANTES DANS NOTRE DATAFRAME ?\n",
    "\n",
    "reordered_data.isnull().sum()\n",
    "\n",
    "# salary_is_null = data.loc[data['base_salary'].isnull(),:]\n",
    "# salary_is_null.head(10)\n"
   ]
  },
  {
   "attachments": {},
   "cell_type": "markdown",
   "metadata": {},
   "source": [
    "### DROPPING MISSING DATA"
   ]
  },
  {
   "cell_type": "code",
   "execution_count": null,
   "metadata": {},
   "outputs": [],
   "source": [
    "# MISSING VALUES ARE LESS THAN 2% OF THE REMAINING RELEVANT DATA\n",
    "# SO WE ARE DROPPING THE CORRESPONDING ROWS\n",
    "\n",
    "cleaned_data1 = reordered_data.dropna(subset=['company_name'])\n",
    "cleaned_data2 = cleaned_data1.dropna(subset=['location'])\n",
    "cleaned_data3 = cleaned_data2.dropna(subset=['dma_id'])\n",
    "cleaned_data4 = cleaned_data3.dropna(subset=['title'])\n",
    "cleaned_data5 = cleaned_data4.dropna(subset=['tag'])\n",
    "cleaned_data6 = cleaned_data5.dropna(subset=['total_yearly_compensation'])\n",
    "cleaned_data7 = cleaned_data6.dropna(subset=['base_salary'])\n",
    "cleaned_data8 = cleaned_data7.dropna(subset=['stock_grant_value'])\n",
    "cleaned_data9 = cleaned_data8.dropna(subset=['bonus'])\n",
    "\n",
    "cleaned_data9.isnull().sum()\n",
    "\n",
    "\n",
    "cleaned_data9.head(2)"
   ]
  },
  {
   "cell_type": "code",
   "execution_count": null,
   "metadata": {},
   "outputs": [],
   "source": [
    "\n",
    "# # COMBIEN DE DONNEES MANQUENT PAR TYPE? => print(data.isnull().sum())\n",
    "# # + pour afficher uniquement les variables qui ont des valeurs manquantes\n",
    "# #nb_na = data.isnull().sum()\n",
    "# #print(nb_na[nb_na>0])\n",
    "# print(\"Il manque le nombre de données des types suivants dans les différentes colonnes:\\n\")\n",
    "# print(data.isnull().sum())\n",
    "# print(\"\\n\")\n"
   ]
  },
  {
   "cell_type": "code",
   "execution_count": null,
   "metadata": {},
   "outputs": [],
   "source": [
    "\n",
    "# # + CORRECTION DES TYPES ERRONES :\n",
    "# data['date_operation'] = pd.to_datetime(data['date_operation'], errors=\"coerce\")\n",
    "# print(\"\\n\")\n",
    "# print(\"Après correction, les différents types de données actuels de ce dataframe sont les suivants:\\n\")\n",
    "# print(data.dtypes)\n",
    "# print(\"\\n\")\n",
    "\n"
   ]
  },
  {
   "cell_type": "code",
   "execution_count": null,
   "metadata": {},
   "outputs": [],
   "source": [
    "#Average_salaries\n",
    "\n",
    "Business_Analyst = 103505.08\n",
    "Data_Scientist= 138054.69\n",
    "Hardware_Engineer = 39628.18\n",
    "Human Resources = 128590.66\n",
    "Management_Consultant = 136195.7 \n",
    "Marketing = 140957.75\n",
    "Mechanical_Engineer = 118455.1\n",
    "Product_Designer =137163.59\n",
    "Product_Manager = 148672.27\n",
    "Recruiter = 117496.67\n",
    "Sales = 118470.72\n",
    "Soft Engineer =118500.0\n",
    "Software Engineer = 132418.75 \n",
    "Software Engineering Manager = 174204.47 \n",
    "Solution Architect = 140173.51\n",
    "Technical Program Manager = 156454.74"
   ]
  },
  {
   "cell_type": "code",
   "execution_count": null,
   "metadata": {},
   "outputs": [],
   "source": [
    "pd."
   ]
  }
 ],
 "metadata": {
  "kernelspec": {
   "display_name": "Python 3",
   "language": "python",
   "name": "python3"
  },
  "language_info": {
   "codemirror_mode": {
    "name": "ipython",
    "version": 3
   },
   "file_extension": ".py",
   "mimetype": "text/x-python",
   "name": "python",
   "nbconvert_exporter": "python",
   "pygments_lexer": "ipython3",
   "version": "3.9.16"
  },
  "orig_nbformat": 4
 },
 "nbformat": 4,
 "nbformat_minor": 2
}
