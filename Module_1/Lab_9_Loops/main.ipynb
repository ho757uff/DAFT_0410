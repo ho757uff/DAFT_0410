{
 "cells": [
  {
   "attachments": {},
   "cell_type": "markdown",
   "metadata": {},
   "source": [
    "# Loops\n",
    "\n",
    "Complete the following set of exercises to solidify your knowledge for Loops."
   ]
  },
  {
   "attachments": {},
   "cell_type": "markdown",
   "metadata": {},
   "source": [
    "#### 1. Print first 10 natural numbers using while loop"
   ]
  },
  {
   "cell_type": "code",
   "execution_count": 1,
   "metadata": {},
   "outputs": [
    {
     "name": "stdout",
     "output_type": "stream",
     "text": [
      "1\n",
      "2\n",
      "3\n",
      "4\n",
      "5\n",
      "6\n",
      "7\n",
      "8\n",
      "9\n",
      "10\n"
     ]
    }
   ],
   "source": [
    "z = 1\n",
    "while z != 11:\n",
    "    print(z)\n",
    "    z += 1"
   ]
  },
  {
   "attachments": {},
   "cell_type": "markdown",
   "metadata": {},
   "source": [
    "#### 2. Display numbers from a list using loop\n",
    "Write a program to display only those numbers from a list that satisfy the following conditions\n",
    "\n",
    "The number must be divisible by five\n",
    "\n",
    "If the number is greater than 150, then skip it and move to the next number\n",
    "\n",
    "If the number is greater than 500, then stop the loop\n",
    "\n",
    "numbers = [12, 75, 150, 180, 145, 525, 50]"
   ]
  },
  {
   "cell_type": "code",
   "execution_count": 2,
   "metadata": {},
   "outputs": [
    {
     "name": "stdout",
     "output_type": "stream",
     "text": [
      "75\n",
      "150\n",
      "145\n"
     ]
    }
   ],
   "source": [
    "numbers = [12, 75, 150, 180, 145, 525, 50]\n",
    "\n",
    "for z in numbers:\n",
    "    if z > 500:\n",
    "        break\n",
    "    if z > 150:\n",
    "        continue\n",
    "    if z % 5 == 0:\n",
    "        print(z)"
   ]
  },
  {
   "attachments": {},
   "cell_type": "markdown",
   "metadata": {},
   "source": [
    "#### 3.Write a Python program to check the validity of a password (input from users).\n",
    "\n",
    "Validation :\n",
    "\n",
    "At least 1 letter between [a-z] and 1 letter between [A-Z].\n",
    "\n",
    "At least 1 number between [0-9].\n",
    "\n",
    "At least 1 character from [$#@].\n",
    "\n",
    "Minimum length 6 characters.\n",
    "\n",
    "Maximum length 16 characters."
   ]
  },
  {
   "cell_type": "code",
   "execution_count": null,
   "metadata": {},
   "outputs": [],
   "source": [
    "import re\n",
    "\n",
    "conditions_met = False\n",
    "\n",
    "while not conditions_met:\n",
    "    password = input(\"Please enter a password: \")\n",
    "\n",
    "    if len(password) < 6:\n",
    "        print(\"Too short!\")\n",
    "    elif len(password) > 16:\n",
    "        print(\"Too long!\")\n",
    "    elif not re.search('[a-z]', password): #At least 1 letter between [a-z]\n",
    "        print(\"Must have at least 1 lowercase letter!\") \n",
    "    elif not re.search('[A-Z]', password): #At least 1 letter between [A-Z]\n",
    "        print(\"Must have at least 1 uppercase letter!\")\n",
    "    elif not re.search('[0-9]', password): #At least 1 number between [0-9].\n",
    "        print(\"Must have at least 1 number!\")\n",
    "    elif not re.search('[$#@]', password): #At least 1 character from [\\$\\#\\@].\n",
    "        print(\"Must have at least 1 special character from [$#@]!\")\n",
    "    else:\n",
    "        conditions_met = True\n",
    "\n",
    "if conditions_met == True:\n",
    "    print(\"Password is valid!\")\n"
   ]
  },
  {
   "attachments": {},
   "cell_type": "markdown",
   "metadata": {},
   "source": [
    "#### 4. Break the loop when x is 6, and see what happens with the else block"
   ]
  },
  {
   "cell_type": "code",
   "execution_count": 9,
   "metadata": {},
   "outputs": [],
   "source": [
    "import re\n",
    "\n",
    "conditions_met = False\n",
    "\n",
    "while not conditions_met:\n",
    "    password = input(\"Please enter a password: \")\n",
    "\n",
    "    if len(password) < 6:\n",
    "        print(\"Too short!\")\n",
    "    elif len(password) == 6:\n",
    "        break\n",
    "    elif len(password) > 16:\n",
    "        print(\"Too long!\")\n",
    "    elif not re.search('[a-z]', password): #At least 1 letter between [a-z]\n",
    "        print(\"Must have at least 1 lowercase letter!\") \n",
    "    elif not re.search('[A-Z]', password): #At least 1 letter between [A-Z]\n",
    "        print(\"Must have at least 1 uppercase letter!\")\n",
    "    elif not re.search('[0-9]', password): #At least 1 number between [0-9].\n",
    "        print(\"Must have at least 1 number!\")\n",
    "    elif not re.search('[$#@]', password): #At least 1 character from [\\$\\#\\@].\n",
    "        print(\"Must have at least 1 special character from [$#@]!\")\n",
    "    else:\n",
    "        conditions_met = True\n",
    "\n",
    "if conditions_met == True:\n",
    "    print(\"Password is valid!\")\n"
   ]
  },
  {
   "attachments": {},
   "cell_type": "markdown",
   "metadata": {},
   "source": [
    "#### 5. Write a Python program to calculate the sum and average of n integer numbers (input from the user). Input 0 to finish.\n"
   ]
  },
  {
   "cell_type": "code",
   "execution_count": 10,
   "metadata": {},
   "outputs": [
    {
     "name": "stdout",
     "output_type": "stream",
     "text": [
      "Sum: 309\n",
      "Average: 12.875\n"
     ]
    }
   ],
   "source": [
    "numbers = []\n",
    "while True:\n",
    "    num = int(input(\"Enter an integer number (enter 0 to finish): \"))\n",
    "    if num == 0:\n",
    "        break\n",
    "    numbers.append(num)\n",
    "\n",
    "if len(numbers) == 0:\n",
    "    print(\"No numbers entered.\")\n",
    "else:\n",
    "    total = sum(numbers)\n",
    "    average = total / len(numbers)\n",
    "    print(\"Sum:\", total)\n",
    "    print(\"Average:\", average)"
   ]
  }
 ],
 "metadata": {
  "kernelspec": {
   "display_name": "Python 3 (ipykernel)",
   "language": "python",
   "name": "python3"
  },
  "language_info": {
   "codemirror_mode": {
    "name": "ipython",
    "version": 3
   },
   "file_extension": ".py",
   "mimetype": "text/x-python",
   "name": "python",
   "nbconvert_exporter": "python",
   "pygments_lexer": "ipython3",
   "version": "3.9.16"
  }
 },
 "nbformat": 4,
 "nbformat_minor": 2
}
