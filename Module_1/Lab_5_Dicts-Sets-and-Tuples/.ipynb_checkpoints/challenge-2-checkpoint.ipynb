{
 "cells": [
  {
   "cell_type": "markdown",
   "metadata": {},
   "source": [
    "## Challenge 2: Sets\n",
    "\n",
    "There are a lot to learn about Python Sets and the information presented in the lesson is limited due to its length. To learn Python Sets in depth you are strongly encouraged to review the W3Schools tutorial on [Python Sets Examples and Methods](https://www.w3schools.com/python/python_sets.asp) before you work on this lab. Some difficult questions in this lab have their solutions in the W3Schools tutorial.\n",
    "\n",
    "#### First, import the Python `random` library."
   ]
  },
  {
   "cell_type": "code",
   "execution_count": 1,
   "metadata": {},
   "outputs": [],
   "source": [
    "import random"
   ]
  },
  {
   "cell_type": "markdown",
   "metadata": {},
   "source": [
    "#### In the cell below, create a list named `sample_list_1` with 80 random values. \n",
    "\n",
    "Requirements:\n",
    "\n",
    "* Each value is an integer falling between 0 and 100.\n",
    "* Each value in the list is unique.\n",
    "\n",
    "Print `sample_list_1` to review its values\n",
    "\n",
    "*Hint: use `random.sample` ([reference](https://docs.python.org/3/library/random.html#random.sample)).*"
   ]
  },
  {
   "cell_type": "code",
   "execution_count": 2,
   "metadata": {},
   "outputs": [
    {
     "name": "stdout",
     "output_type": "stream",
     "text": [
      "[23, 33, 54, 39, 24, 47, 30, 44, 74, 91, 51, 82, 41, 35, 80, 27, 21, 2, 66, 97, 63, 42, 20, 31, 69, 38, 3, 7, 76, 90, 100, 43, 81, 64, 45, 10, 79, 70, 75, 8, 85, 57, 73, 92, 22, 55, 36, 15, 52, 60, 6, 56, 89, 95, 65, 71, 67, 68, 84, 19, 4, 61, 14, 86, 37, 13, 96, 94, 88, 62, 59, 53, 83, 77, 25, 98, 9, 48, 99, 18]\n",
      "\n",
      "Lenght of the sample is 80\n"
     ]
    }
   ],
   "source": [
    "# Your code here\n",
    "sample_list_1 = random.sample(range(1, 101), 80)\n",
    "\n",
    "print(sample_list_1)\n",
    "print(\"\\nLenght of the sample is\", len(sample_list_1))"
   ]
  },
  {
   "cell_type": "markdown",
   "metadata": {},
   "source": [
    "#### Convert `sample_list_1` to a set called `set1`. Print the length of the set. Is its length still 80?"
   ]
  },
  {
   "cell_type": "code",
   "execution_count": 3,
   "metadata": {},
   "outputs": [
    {
     "name": "stdout",
     "output_type": "stream",
     "text": [
      "{2, 3, 4, 6, 7, 8, 9, 10, 13, 14, 15, 18, 19, 20, 21, 22, 23, 24, 25, 27, 30, 31, 33, 35, 36, 37, 38, 39, 41, 42, 43, 44, 45, 47, 48, 51, 52, 53, 54, 55, 56, 57, 59, 60, 61, 62, 63, 64, 65, 66, 67, 68, 69, 70, 71, 73, 74, 75, 76, 77, 79, 80, 81, 82, 83, 84, 85, 86, 88, 89, 90, 91, 92, 94, 95, 96, 97, 98, 99, 100}\n",
      "\n",
      "Lenght of the set is 80\n",
      "Yes, it's still the same length!\n"
     ]
    }
   ],
   "source": [
    "# Your code here\n",
    "set1 = set(sample_list_1)\n",
    "\n",
    "print(set1)\n",
    "print(\"\\nLenght of the set is\", len(set1))\n",
    "print(\"Yes, it's still the same length!\")"
   ]
  },
  {
   "cell_type": "markdown",
   "metadata": {},
   "source": [
    "#### Create another list named `sample_list_2` with 80 random values.\n",
    "\n",
    "Requirements:\n",
    "\n",
    "* Each value is an integer falling between 0 and 100.\n",
    "* The values in the list don't have to be unique.\n",
    "\n",
    "*Hint: Use a FOR loop.*"
   ]
  },
  {
   "cell_type": "code",
   "execution_count": 4,
   "metadata": {},
   "outputs": [
    {
     "name": "stdout",
     "output_type": "stream",
     "text": [
      "[77, 92, 80, 7, 39, 85, 74, 53, 43, 66, 57, 34, 7, 1, 34, 8, 16, 3, 3, 4, 78, 30, 45, 45, 5, 88, 22, 38, 27, 1, 96, 94, 16, 58, 26, 24, 13, 79, 96, 56, 20, 32, 80, 81, 52, 3, 63, 41, 99, 97, 41, 82, 69, 30, 20, 78, 4, 37, 34, 71, 72, 78, 10, 78, 78, 50, 90, 33, 95, 10, 3, 18, 87, 32, 80, 46, 91, 88, 5, 6]\n",
      "\n",
      "Lenght of the list is : 80\n"
     ]
    }
   ],
   "source": [
    "# Your code here\n",
    "sample_list_2 = []\n",
    "rnd = 0\n",
    "\n",
    "for z in range(0, 80):\n",
    "    rnd = random.randint(1,100)\n",
    "    sample_list_2.append(rnd)\n",
    "\n",
    "print(sample_list_2)\n",
    "print(\"\\nLenght of the list is :\", len(sample_list_2))"
   ]
  },
  {
   "cell_type": "markdown",
   "metadata": {},
   "source": [
    "#### Convert `sample_list_2` to a set called `set2`. Print the length of the set. Is its length still 80?"
   ]
  },
  {
   "cell_type": "code",
   "execution_count": 5,
   "metadata": {},
   "outputs": [
    {
     "name": "stdout",
     "output_type": "stream",
     "text": [
      "{1, 3, 4, 5, 6, 7, 8, 10, 13, 16, 18, 20, 22, 24, 26, 27, 30, 32, 33, 34, 37, 38, 39, 41, 43, 45, 46, 50, 52, 53, 56, 57, 58, 63, 66, 69, 71, 72, 74, 77, 78, 79, 80, 81, 82, 85, 87, 88, 90, 91, 92, 94, 95, 96, 97, 99}\n",
      "\n",
      "Lenght of the sample is : 56 \n",
      "\n",
      "No, the length is different!\n"
     ]
    }
   ],
   "source": [
    "# Your code here\n",
    "set2 = set(sample_list_2)\n",
    "\n",
    "print(set2)\n",
    "print(\"\\nLenght of the sample is :\", len(set2), \"\\n\")\n",
    "\n",
    "if len(set2) == len(sample_list_2):\n",
    "    print(\"Yes, it's still the same length!\")\n",
    "else:\n",
    "    print(\"No, the length is different!\")"
   ]
  },
  {
   "cell_type": "markdown",
   "metadata": {},
   "source": [
    "#### Identify the elements present in `set1` but not in `set2`. Assign the elements to a new set named `set3`."
   ]
  },
  {
   "cell_type": "code",
   "execution_count": 6,
   "metadata": {},
   "outputs": [
    {
     "name": "stdout",
     "output_type": "stream",
     "text": [
      "{2, 9, 14, 15, 19, 21, 23, 25, 31, 35, 36, 42, 44, 47, 48, 51, 54, 55, 59, 60, 61, 62, 64, 65, 67, 68, 70, 73, 75, 76, 83, 84, 86, 89, 98, 100}\n",
      "\n",
      "Lenght of the sample is : 36 \n",
      "\n"
     ]
    }
   ],
   "source": [
    "# Your code here\n",
    "set3 = set1-set2\n",
    "print(set3)\n",
    "print(\"\\nLenght of the sample is :\", len(set3), \"\\n\")\n"
   ]
  },
  {
   "cell_type": "markdown",
   "metadata": {},
   "source": [
    "#### Identify the elements present in `set2` but not in `set1`. Assign the elements to a new set named `set4`."
   ]
  },
  {
   "cell_type": "code",
   "execution_count": 7,
   "metadata": {},
   "outputs": [
    {
     "name": "stdout",
     "output_type": "stream",
     "text": [
      "{32, 1, 34, 58, 5, 72, 46, 78, 16, 50, 87, 26}\n",
      "\n",
      "Lenght of the sample is : 12 \n",
      "\n"
     ]
    }
   ],
   "source": [
    "# Your code here\n",
    "set4 = set2-set1\n",
    "print(set4)\n",
    "print(\"\\nLenght of the sample is :\", len(set4), \"\\n\")\n"
   ]
  },
  {
   "cell_type": "markdown",
   "metadata": {},
   "source": [
    "#### Now Identify the elements shared between `set1` and `set2`. Assign the elements to a new set named `set5`."
   ]
  },
  {
   "cell_type": "code",
   "execution_count": 8,
   "metadata": {},
   "outputs": [
    {
     "name": "stdout",
     "output_type": "stream",
     "text": [
      "{3, 4, 6, 7, 8, 10, 13, 18, 20, 22, 24, 27, 30, 33, 37, 38, 39, 41, 43, 45, 52, 53, 56, 57, 63, 66, 69, 71, 74, 77, 79, 80, 81, 82, 85, 88, 90, 91, 92, 94, 95, 96, 97, 99}\n",
      "\n",
      "Lenght of the sample is : 44 \n",
      "\n"
     ]
    }
   ],
   "source": [
    "# Your code here\n",
    "set5 = set1.intersection(set2)\n",
    "\n",
    "print(set5)\n",
    "print(\"\\nLenght of the sample is :\", len(set5), \"\\n\")\n"
   ]
  },
  {
   "cell_type": "markdown",
   "metadata": {},
   "source": [
    "#### What is the relationship among the following values:\n",
    "\n",
    "* len(set1)\n",
    "* len(set2)\n",
    "* len(set3)\n",
    "* len(set4)\n",
    "* len(set5)\n",
    "\n",
    "Use a math formular to represent that relationship. Test your formular with Python code."
   ]
  },
  {
   "cell_type": "code",
   "execution_count": 9,
   "metadata": {},
   "outputs": [
    {
     "name": "stdout",
     "output_type": "stream",
     "text": [
      "set1 is 80 long\n",
      "set2 is 56 long\n",
      "set3 is 36 long\n",
      "set4 is 12 long\n",
      "set5 is 44 long\n",
      "\n",
      "We can see that 36 > 80 > 56 > 44 > 12\n",
      "Where len(set3) = len(set2) + len(set5) and set(3) = len(set4) + len(set5)\n"
     ]
    }
   ],
   "source": [
    "# Your code here\n",
    "print(\"set1 is\", len(set1), \"long\")\n",
    "print(\"set2 is\", len(set2), \"long\")\n",
    "print(\"set3 is\", len(set3), \"long\")\n",
    "print(\"set4 is\", len(set4), \"long\")\n",
    "print(\"set5 is\", len(set5), \"long\")\n",
    "\n",
    "print(\"\\nWe can see that\",len(set3), \">\", len(set1),  \">\", len(set2),  \">\", len(set5),  \">\", len(set4))\n",
    "print(\"Where len(set3) = len(set2) + len(set5) and set(3) = len(set4) + len(set5)\")\n",
    "\n",
    "\n"
   ]
  },
  {
   "cell_type": "markdown",
   "metadata": {},
   "source": [
    "#### Create an empty set called `set6`."
   ]
  },
  {
   "cell_type": "code",
   "execution_count": 10,
   "metadata": {},
   "outputs": [],
   "source": [
    "# Your code here\n",
    "set6 = set()"
   ]
  },
  {
   "cell_type": "markdown",
   "metadata": {},
   "source": [
    "#### Add `set3` and `set5` to `set6` using the Python Set `update` method."
   ]
  },
  {
   "cell_type": "code",
   "execution_count": 11,
   "metadata": {},
   "outputs": [
    {
     "name": "stdout",
     "output_type": "stream",
     "text": [
      "{2, 3, 4, 6, 7, 8, 9, 10, 13, 14, 15, 18, 19, 20, 21, 22, 23, 24, 25, 27, 30, 31, 33, 35, 36, 37, 38, 39, 41, 42, 43, 44, 45, 47, 48, 51, 52, 53, 54, 55, 56, 57, 59, 60, 61, 62, 63, 64, 65, 66, 67, 68, 69, 70, 71, 73, 74, 75, 76, 77, 79, 80, 81, 82, 83, 84, 85, 86, 88, 89, 90, 91, 92, 94, 95, 96, 97, 98, 99, 100}\n"
     ]
    }
   ],
   "source": [
    "# Your code here\n",
    "set6.update(set3, set5)\n",
    "\n",
    "print(set6)"
   ]
  },
  {
   "cell_type": "markdown",
   "metadata": {},
   "source": [
    "#### Check if `set1` and `set6` are equal."
   ]
  },
  {
   "cell_type": "code",
   "execution_count": 12,
   "metadata": {},
   "outputs": [
    {
     "name": "stdout",
     "output_type": "stream",
     "text": [
      "Yes, the sets are equal.\n"
     ]
    }
   ],
   "source": [
    "# Your code here\n",
    "if set1 == set6:\n",
    "    print(\"Yes, the sets are equal.\")\n",
    "else:\n",
    "    print(\"No, the sets are not equal.\")"
   ]
  },
  {
   "cell_type": "markdown",
   "metadata": {},
   "source": [
    "#### Check if `set1` contains `set2` using the Python Set `issubset` method. Then check if `set1` contains `set3`.*"
   ]
  },
  {
   "cell_type": "code",
   "execution_count": 13,
   "metadata": {},
   "outputs": [
    {
     "name": "stdout",
     "output_type": "stream",
     "text": [
      "No, set2 is not within set1 and therefore NOT a subset.\n"
     ]
    }
   ],
   "source": [
    "# Your code here\n",
    "if set2.issubset(set1) == True:\n",
    "    print(\"Yes, set2 is within set1 and therefore a subset.\")\n",
    "else:\n",
    "    print(\"No, set2 is not within set1 and therefore NOT a subset.\")"
   ]
  },
  {
   "cell_type": "code",
   "execution_count": 14,
   "metadata": {},
   "outputs": [
    {
     "name": "stdout",
     "output_type": "stream",
     "text": [
      "Yes, set3 is within set1 and therefore a subset.\n"
     ]
    }
   ],
   "source": [
    "if set3.issubset(set1) == True:\n",
    "    print(\"Yes, set3 is within set1 and therefore a subset.\")\n",
    "else:\n",
    "    print(\"No, set3 is not within set1 and therefore NOT a subset.\")"
   ]
  },
  {
   "cell_type": "markdown",
   "metadata": {},
   "source": [
    "#### Using the Python Set `union` method, aggregate `set3`, `set4`, and `set5`. Then aggregate `set1` and `set2`. \n",
    "\n",
    "#### Check if the aggregated values are equal."
   ]
  },
  {
   "cell_type": "code",
   "execution_count": 15,
   "metadata": {},
   "outputs": [
    {
     "name": "stdout",
     "output_type": "stream",
     "text": [
      "{1, 2, 3, 4, 5, 6, 7, 8, 9, 10, 13, 14, 15, 16, 18, 19, 20, 21, 22, 23, 24, 25, 26, 27, 30, 31, 32, 33, 34, 35, 36, 37, 38, 39, 41, 42, 43, 44, 45, 46, 47, 48, 50, 51, 52, 53, 54, 55, 56, 57, 58, 59, 60, 61, 62, 63, 64, 65, 66, 67, 68, 69, 70, 71, 72, 73, 74, 75, 76, 77, 78, 79, 80, 81, 82, 83, 84, 85, 86, 87, 88, 89, 90, 91, 92, 94, 95, 96, 97, 98, 99, 100}\n",
      "\n",
      " {1, 2, 3, 4, 5, 6, 7, 8, 9, 10, 13, 14, 15, 16, 18, 19, 20, 21, 22, 23, 24, 25, 26, 27, 30, 31, 32, 33, 34, 35, 36, 37, 38, 39, 41, 42, 43, 44, 45, 46, 47, 48, 50, 51, 52, 53, 54, 55, 56, 57, 58, 59, 60, 61, 62, 63, 64, 65, 66, 67, 68, 69, 70, 71, 72, 73, 74, 75, 76, 77, 78, 79, 80, 81, 82, 83, 84, 85, 86, 87, 88, 89, 90, 91, 92, 94, 95, 96, 97, 98, 99, 100} \n",
      "\n",
      "Yes, set3 is within set1 and therefore a subset.\n"
     ]
    }
   ],
   "source": [
    "# Your code here\n",
    "set_A = set()\n",
    "\n",
    "set_A = set3.union(set4)\n",
    "set_A = set_A.union(set5)\n",
    "print(set_A)\n",
    "\n",
    "set_B = set()\n",
    "\n",
    "set_B = set1.union(set2)\n",
    "print(\"\\n\", set_B,\"\\n\")\n",
    "\n",
    "set_A == set_B\n",
    "if set3.issubset(set1) == True:\n",
    "    print(\"Yes, set3 is within set1 and therefore a subset.\")\n",
    "else:\n",
    "    print(\"No, set3 is not within set1 and therefore NOT a subset.\")"
   ]
  },
  {
   "cell_type": "markdown",
   "metadata": {},
   "source": [
    "#### Using the `pop` method, remove the first element from `set1`."
   ]
  },
  {
   "cell_type": "code",
   "execution_count": 16,
   "metadata": {},
   "outputs": [
    {
     "name": "stdout",
     "output_type": "stream",
     "text": [
      "{2, 3, 4, 6, 7, 8, 9, 10, 13, 14, 15, 18, 19, 20, 21, 22, 23, 24, 25, 27, 30, 31, 33, 35, 36, 37, 38, 39, 41, 42, 43, 44, 45, 47, 48, 51, 52, 53, 54, 55, 56, 57, 59, 60, 61, 62, 63, 64, 65, 66, 67, 68, 69, 70, 71, 73, 74, 75, 76, 77, 79, 80, 81, 82, 83, 84, 85, 86, 88, 89, 90, 91, 92, 94, 95, 96, 97, 98, 99, 100}\n",
      "\n",
      " {3, 4, 6, 7, 8, 9, 10, 13, 14, 15, 18, 19, 20, 21, 22, 23, 24, 25, 27, 30, 31, 33, 35, 36, 37, 38, 39, 41, 42, 43, 44, 45, 47, 48, 51, 52, 53, 54, 55, 56, 57, 59, 60, 61, 62, 63, 64, 65, 66, 67, 68, 69, 70, 71, 73, 74, 75, 76, 77, 79, 80, 81, 82, 83, 84, 85, 86, 88, 89, 90, 91, 92, 94, 95, 96, 97, 98, 99, 100}\n"
     ]
    }
   ],
   "source": [
    "# Your code here\n",
    "print(set1)\n",
    "\n",
    "set1.pop()\n",
    "\n",
    "print(\"\\n\", set1)"
   ]
  },
  {
   "cell_type": "markdown",
   "metadata": {},
   "source": [
    "#### Remove every element in the following list from `set1` if they are present in the set. Print the remaining elements.\n",
    "\n",
    "```\n",
    "list_to_remove = [1, 9, 11, 19, 21, 29, 31, 39, 41, 49, 51, 59, 61, 69, 71, 79, 81, 89, 91, 99]\n",
    "```"
   ]
  },
  {
   "cell_type": "code",
   "execution_count": 18,
   "metadata": {},
   "outputs": [
    {
     "name": "stdout",
     "output_type": "stream",
     "text": [
      "{1, 9, 11, 19, 21, 29, 31, 39, 41, 49, 51, 59, 61, 69, 71, 79, 81, 89, 91, 99} \n",
      "\n",
      "{3, 4, 6, 7, 8, 10, 13, 14, 15, 18, 20, 22, 23, 24, 25, 27, 30, 33, 35, 36, 37, 38, 42, 43, 44, 45, 47, 48, 52, 53, 54, 55, 56, 57, 60, 62, 63, 64, 65, 66, 67, 68, 70, 73, 74, 75, 76, 77, 80, 82, 83, 84, 85, 86, 88, 90, 92, 94, 95, 96, 97, 98, 100}\n"
     ]
    }
   ],
   "source": [
    "# Your code here\n",
    "list_to_remove = [1, 9, 11, 19, 21, 29, 31, 39, 41, 49, 51, 59, 61, 69, 71, 79, 81, 89, 91, 99]\n",
    "\n",
    "set_C = set(list_to_remove)\n",
    "print(set_C,\"\\n\")\n",
    "\n",
    "set_D = set1 - set_C\n",
    "\n",
    "print(set_D)"
   ]
  },
  {
   "cell_type": "code",
   "execution_count": null,
   "metadata": {},
   "outputs": [],
   "source": []
  }
 ],
 "metadata": {
  "kernelspec": {
   "display_name": "Python 3 (ipykernel)",
   "language": "python",
   "name": "python3"
  },
  "language_info": {
   "codemirror_mode": {
    "name": "ipython",
    "version": 3
   },
   "file_extension": ".py",
   "mimetype": "text/x-python",
   "name": "python",
   "nbconvert_exporter": "python",
   "pygments_lexer": "ipython3",
   "version": "3.9.13"
  }
 },
 "nbformat": 4,
 "nbformat_minor": 2
}
